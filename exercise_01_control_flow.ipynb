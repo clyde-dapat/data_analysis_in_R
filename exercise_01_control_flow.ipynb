{
 "cells": [
  {
   "cell_type": "markdown",
   "metadata": {},
   "source": [
    "# Exercise: Control Flow"
   ]
  },
  {
   "cell_type": "markdown",
   "metadata": {},
   "source": [
    "When you finish this exercise, you will learn how to:\n",
    "\n",
    "1. use relational and logical operators\n",
    "2. write conditional statements\n",
    "3. call functions in R"
   ]
  },
  {
   "cell_type": "markdown",
   "metadata": {},
   "source": [
    "## Relational and logical operators"
   ]
  },
  {
   "cell_type": "markdown",
   "metadata": {},
   "source": [
    "Another kind of variable in R is the **logical** variable. Possible values of a logical variable can either be **TRUE**, **FALSE**, or **NA**. Not available (**NA**) is a logical value for missing value. When working with real-life datasets, it is common to have missing values due to a variety of reasons that a particular piece of information is not available.   "
   ]
  },
  {
   "cell_type": "code",
   "execution_count": 1,
   "metadata": {},
   "outputs": [
    {
     "data": {
      "text/html": [
       "'logical'"
      ],
      "text/latex": [
       "'logical'"
      ],
      "text/markdown": [
       "'logical'"
      ],
      "text/plain": [
       "[1] \"logical\""
      ]
     },
     "metadata": {},
     "output_type": "display_data"
    }
   ],
   "source": [
    "# Complete the code to determine the type of variable\n",
    "typeof(NA)"
   ]
  },
  {
   "cell_type": "code",
   "execution_count": 2,
   "metadata": {},
   "outputs": [
    {
     "ename": "ERROR",
     "evalue": "Error in typeof(False): object 'False' not found\n",
     "output_type": "error",
     "traceback": [
      "Error in typeof(False): object 'False' not found\nTraceback:\n",
      "1. typeof(False)"
     ]
    }
   ],
   "source": [
    "# Complete the code to determine the type of variable\n",
    "typeof(False)"
   ]
  },
  {
   "cell_type": "markdown",
   "metadata": {},
   "source": [
    "What do you think is the reason why R is complaining to you in the *cell* above?"
   ]
  },
  {
   "cell_type": "code",
   "execution_count": 3,
   "metadata": {},
   "outputs": [],
   "source": [
    "# Answer: R only recognizes the all caps \"FALSE\" as logical the FALSE, while R recognize \"False\" as an object."
   ]
  },
  {
   "cell_type": "markdown",
   "metadata": {},
   "source": [
    "Run the code below to create a data frame containing the top 10 countries with the highest number of COVID-19 related cases including information on deaths due to COVID-19 and case-fatality ratio (CFR)."
   ]
  },
  {
   "cell_type": "code",
   "execution_count": 4,
   "metadata": {},
   "outputs": [
    {
     "name": "stdout",
     "output_type": "stream",
     "text": [
      "   countries    cases deaths       cfr\n",
      "1         US 17206647 310699 1.8056917\n",
      "2      India  9979447 144789 1.4508720\n",
      "3     Brazil  7110434 184827 2.5993772\n",
      "4     Russia  2736727  48568 1.7746746\n",
      "5     France  2483524  59733 2.4051710\n",
      "6     Turkey  1955680  17364 0.8878753\n",
      "7         UK  1954268  66150 3.3848991\n",
      "8      Italy  1906377  67220 3.5260602\n",
      "9      Spain  1785421  48777 2.7319607\n",
      "10 Argentina  1524372  41534 2.7246630\n"
     ]
    }
   ],
   "source": [
    "countries <- c(\"US\", \"India\", \"Brazil\", \"Russia\", \"France\", \"Turkey\", \"UK\", \"Italy\", \"Spain\", \"Argentina\")\n",
    "cases  <- c(17206647, 9979447, 7110434, 2736727, 2483524, 1955680, 1954268, 1906377, 1785421, 1524372)\n",
    "deaths <- c(310699, 144789, 184827, 48568, 59733, 17364, 66150, 67220, 48777, 41534)\n",
    "cfr <- (deaths/cases)*100\n",
    "covid_df <- data.frame(countries, cases, deaths, cfr)\n",
    "print(covid_df)"
   ]
  },
  {
   "cell_type": "markdown",
   "metadata": {},
   "source": [
    "In R, values in a column of data frame can be accessed using the dollar sign **$** followed the name of column.\n",
    "Complete the code below to print the names of countries in the data frame. "
   ]
  },
  {
   "cell_type": "code",
   "execution_count": 5,
   "metadata": {},
   "outputs": [
    {
     "name": "stdout",
     "output_type": "stream",
     "text": [
      " [1] \"US\"        \"India\"     \"Brazil\"    \"Russia\"    \"France\"    \"Turkey\"   \n",
      " [7] \"UK\"        \"Italy\"     \"Spain\"     \"Argentina\"\n"
     ]
    }
   ],
   "source": [
    "print(covid_df$countries)"
   ]
  },
  {
   "cell_type": "markdown",
   "metadata": {},
   "source": [
    "Column and row values in a data frame can be accessed also using the bracket **[rows, columns]** operator. "
   ]
  },
  {
   "cell_type": "code",
   "execution_count": 6,
   "metadata": {},
   "outputs": [
    {
     "data": {
      "text/html": [
       "144789"
      ],
      "text/latex": [
       "144789"
      ],
      "text/markdown": [
       "144789"
      ],
      "text/plain": [
       "[1] 144789"
      ]
     },
     "metadata": {},
     "output_type": "display_data"
    }
   ],
   "source": [
    "# Run the code below to access the number of COVID-19-related deaths in India, which is located in the 2nd row and 3rd column\n",
    "covid_df[2,3]"
   ]
  },
  {
   "cell_type": "markdown",
   "metadata": {},
   "source": [
    "To print all values in the \"countries\" column, you can use the name of column."
   ]
  },
  {
   "cell_type": "code",
   "execution_count": 7,
   "metadata": {},
   "outputs": [
    {
     "name": "stdout",
     "output_type": "stream",
     "text": [
      " [1] \"US\"        \"India\"     \"Brazil\"    \"Russia\"    \"France\"    \"Turkey\"   \n",
      " [7] \"UK\"        \"Italy\"     \"Spain\"     \"Argentina\"\n"
     ]
    }
   ],
   "source": [
    "print(covid_df[ , \"countries\"])"
   ]
  },
  {
   "cell_type": "markdown",
   "metadata": {},
   "source": [
    "An alternative is to use column number of interest."
   ]
  },
  {
   "cell_type": "code",
   "execution_count": 8,
   "metadata": {},
   "outputs": [
    {
     "name": "stdout",
     "output_type": "stream",
     "text": [
      " [1] \"US\"        \"India\"     \"Brazil\"    \"Russia\"    \"France\"    \"Turkey\"   \n",
      " [7] \"UK\"        \"Italy\"     \"Spain\"     \"Argentina\"\n"
     ]
    }
   ],
   "source": [
    "print(covid_df[ , 1])"
   ]
  },
  {
   "cell_type": "markdown",
   "metadata": {},
   "source": [
    "For each of the countries above, evaluate which CFR values are less the 1%? "
   ]
  },
  {
   "cell_type": "code",
   "execution_count": 9,
   "metadata": {},
   "outputs": [
    {
     "name": "stdout",
     "output_type": "stream",
     "text": [
      " [1] FALSE FALSE FALSE FALSE FALSE  TRUE FALSE FALSE FALSE FALSE\n"
     ]
    }
   ],
   "source": [
    "print(covid_df$cfr < 1)"
   ]
  },
  {
   "cell_type": "markdown",
   "metadata": {},
   "source": [
    "Evaluate CFR values that are 3% or more."
   ]
  },
  {
   "cell_type": "code",
   "execution_count": 10,
   "metadata": {},
   "outputs": [
    {
     "name": "stdout",
     "output_type": "stream",
     "text": [
      " [1] FALSE FALSE FALSE FALSE FALSE FALSE  TRUE  TRUE FALSE FALSE\n"
     ]
    }
   ],
   "source": [
    "print(covid_df$cfr >= 3)"
   ]
  },
  {
   "cell_type": "markdown",
   "metadata": {},
   "source": [
    "How many countries above that have CRF values of 3% or more? Hint: use the **sum( )** function. Recall in the lecture that in R, TRUE is coded as 1 while FALSE is coded as zero. "
   ]
  },
  {
   "cell_type": "code",
   "execution_count": 11,
   "metadata": {},
   "outputs": [
    {
     "data": {
      "text/html": [
       "2"
      ],
      "text/latex": [
       "2"
      ],
      "text/markdown": [
       "2"
      ],
      "text/plain": [
       "[1] 2"
      ]
     },
     "metadata": {},
     "output_type": "display_data"
    }
   ],
   "source": [
    "sum(covid_df$cfr >= 3)"
   ]
  },
  {
   "cell_type": "markdown",
   "metadata": {},
   "source": [
    "What are names of these countries with CFR of 3% or more?"
   ]
  },
  {
   "cell_type": "code",
   "execution_count": 12,
   "metadata": {},
   "outputs": [
    {
     "name": "stdout",
     "output_type": "stream",
     "text": [
      "[1] \"UK\"    \"Italy\"\n"
     ]
    }
   ],
   "source": [
    "print(covid_df[cfr >= 3, \"countries\"])"
   ]
  },
  {
   "cell_type": "markdown",
   "metadata": {},
   "source": [
    "To access rows in a data frame, you can use the name of the rows or the row number.\n",
    "Complete the code below to print all column values of the 10th row."
   ]
  },
  {
   "cell_type": "code",
   "execution_count": 13,
   "metadata": {},
   "outputs": [
    {
     "name": "stdout",
     "output_type": "stream",
     "text": [
      "   countries   cases deaths      cfr\n",
      "10 Argentina 1524372  41534 2.724663\n"
     ]
    }
   ],
   "source": [
    "print(covid_df[10, ])"
   ]
  },
  {
   "cell_type": "markdown",
   "metadata": {},
   "source": [
    "Complete the code below to print all values of the 10th row. Use the equality operator **==** to identify the name of the country that matched to \"Argentina\"."
   ]
  },
  {
   "cell_type": "code",
   "execution_count": 14,
   "metadata": {},
   "outputs": [
    {
     "name": "stdout",
     "output_type": "stream",
     "text": [
      "   countries   cases deaths      cfr\n",
      "10 Argentina 1524372  41534 2.724663\n"
     ]
    }
   ],
   "source": [
    "print(covid_df[countries == \"Argentina\", ])"
   ]
  },
  {
   "cell_type": "markdown",
   "metadata": {},
   "source": [
    "You can use to inequality operator **!=** to access all info except the one you specified. Print all rows except \"Argentina\"."
   ]
  },
  {
   "cell_type": "code",
   "execution_count": 15,
   "metadata": {},
   "outputs": [
    {
     "name": "stdout",
     "output_type": "stream",
     "text": [
      "  countries    cases deaths       cfr\n",
      "1        US 17206647 310699 1.8056917\n",
      "2     India  9979447 144789 1.4508720\n",
      "3    Brazil  7110434 184827 2.5993772\n",
      "4    Russia  2736727  48568 1.7746746\n",
      "5    France  2483524  59733 2.4051710\n",
      "6    Turkey  1955680  17364 0.8878753\n",
      "7        UK  1954268  66150 3.3848991\n",
      "8     Italy  1906377  67220 3.5260602\n",
      "9     Spain  1785421  48777 2.7319607\n"
     ]
    }
   ],
   "source": [
    "print(covid_df[countries != \"Argentina\", ])"
   ]
  },
  {
   "cell_type": "markdown",
   "metadata": {},
   "source": [
    "Which countries that have more than 5 million COVID-19 cases **and** COVID-19-related deaths of more than a hundred thousand. "
   ]
  },
  {
   "cell_type": "code",
   "execution_count": 16,
   "metadata": {},
   "outputs": [
    {
     "name": "stdout",
     "output_type": "stream",
     "text": [
      "[1] \"US\"     \"India\"  \"Brazil\"\n"
     ]
    }
   ],
   "source": [
    "print(covid_df[cases > 5000000 & deaths > 100000, \"countries\"])"
   ]
  },
  {
   "cell_type": "markdown",
   "metadata": {},
   "source": [
    "Which countries that have more than three hundred thousand COVID-19-related deaths **or** a CFR of more than 3%?"
   ]
  },
  {
   "cell_type": "code",
   "execution_count": 17,
   "metadata": {},
   "outputs": [
    {
     "name": "stdout",
     "output_type": "stream",
     "text": [
      "[1] \"US\"    \"UK\"    \"Italy\"\n"
     ]
    }
   ],
   "source": [
    "print(covid_df[deaths > 300000 | cfr > 3, 1])"
   ]
  },
  {
   "cell_type": "markdown",
   "metadata": {},
   "source": [
    "# Conditional statements"
   ]
  },
  {
   "cell_type": "markdown",
   "metadata": {},
   "source": [
    "Conditional statements contain line of codes that tells R to perform different actions or calculations depending on whether a particular condition is TRUE or FALSE. There are several conditional statements in R, but in this exercise you will get to know two commonly used conditionals: **if-else** and **for loop**."
   ]
  },
  {
   "cell_type": "markdown",
   "metadata": {},
   "source": [
    "## if-else statement"
   ]
  },
  {
   "cell_type": "markdown",
   "metadata": {},
   "source": [
    "Below is the pseudocode for an if-else statement:\n",
    "\n",
    "**if (condition) {**\n",
    "\n",
    "  \\# when condition is TRUE, do this\n",
    "  \n",
    "**} else {**\n",
    "\n",
    "  \\# when condition is FALSE, do this instead\n",
    "  \n",
    "**}**"
   ]
  },
  {
   "cell_type": "markdown",
   "metadata": {},
   "source": [
    "For example, you can arbitrarily assign a country with ***high CFR*** if its value CFR value is more than 3% and ***low CFR*** if less than 3%. Complete the code below using the **ifelse( )** function. "
   ]
  },
  {
   "cell_type": "code",
   "execution_count": 18,
   "metadata": {},
   "outputs": [
    {
     "data": {
      "text/html": [
       "<style>\n",
       ".list-inline {list-style: none; margin:0; padding: 0}\n",
       ".list-inline>li {display: inline-block}\n",
       ".list-inline>li:not(:last-child)::after {content: \"\\00b7\"; padding: 0 .5ex}\n",
       "</style>\n",
       "<ol class=list-inline><li>'low CFR'</li><li>'low CFR'</li><li>'low CFR'</li><li>'low CFR'</li><li>'low CFR'</li><li>'low CFR'</li><li>'high CFR'</li><li>'high CFR'</li><li>'low CFR'</li><li>'low CFR'</li></ol>\n"
      ],
      "text/latex": [
       "\\begin{enumerate*}\n",
       "\\item 'low CFR'\n",
       "\\item 'low CFR'\n",
       "\\item 'low CFR'\n",
       "\\item 'low CFR'\n",
       "\\item 'low CFR'\n",
       "\\item 'low CFR'\n",
       "\\item 'high CFR'\n",
       "\\item 'high CFR'\n",
       "\\item 'low CFR'\n",
       "\\item 'low CFR'\n",
       "\\end{enumerate*}\n"
      ],
      "text/markdown": [
       "1. 'low CFR'\n",
       "2. 'low CFR'\n",
       "3. 'low CFR'\n",
       "4. 'low CFR'\n",
       "5. 'low CFR'\n",
       "6. 'low CFR'\n",
       "7. 'high CFR'\n",
       "8. 'high CFR'\n",
       "9. 'low CFR'\n",
       "10. 'low CFR'\n",
       "\n",
       "\n"
      ],
      "text/plain": [
       " [1] \"low CFR\"  \"low CFR\"  \"low CFR\"  \"low CFR\"  \"low CFR\"  \"low CFR\" \n",
       " [7] \"high CFR\" \"high CFR\" \"low CFR\"  \"low CFR\" "
      ]
     },
     "metadata": {},
     "output_type": "display_data"
    }
   ],
   "source": [
    "ifelse(cfr > 3, \"high CFR\", \"low CFR\") "
   ]
  },
  {
   "cell_type": "markdown",
   "metadata": {},
   "source": [
    "## for loop"
   ]
  },
  {
   "cell_type": "markdown",
   "metadata": {},
   "source": [
    "A **for loop** is useful when you are doing the same action or calculation several times. "
   ]
  },
  {
   "cell_type": "markdown",
   "metadata": {},
   "source": [
    "Below is an example pseudocode using a for loop:\n",
    "\n",
    "**output <− vector(mode, length(x))          \n",
    "for (i in seq_along(x)) {                  \n",
    "    output(i)  <− function(x(i))             \n",
    "}\\\n",
    "output**"
   ]
  },
  {
   "cell_type": "markdown",
   "metadata": {},
   "source": [
    "Complete the code below to compute for the median of COVID-19 cases, deaths, and CFR. "
   ]
  },
  {
   "cell_type": "code",
   "execution_count": 19,
   "metadata": {},
   "outputs": [
    {
     "name": "stderr",
     "output_type": "stream",
     "text": [
      "Warning message in mean.default(sort(x, partial = half + 0L:1L)[half + 0L:1L]):\n",
      "“argument is not numeric or logical: returning NA”\n"
     ]
    },
    {
     "name": "stdout",
     "output_type": "stream",
     "text": [
      "[1] \"       NA\" \"2219602.0\" \"  62941.5\" \"      2.5\"\n"
     ]
    }
   ],
   "source": [
    "output <- vector(mode = \"double\", length = ncol(covid_df))  # 1. output\n",
    "for (i in seq_along(covid_df)) {                            # 2. sequence\n",
    "  output[[i]] <- median(covid_df[[i]])                      # 3. body\n",
    "}\n",
    "print(format(output, scientific = FALSE, digits = 2))"
   ]
  },
  {
   "cell_type": "markdown",
   "metadata": {},
   "source": [
    "In the output above, you received a warning from R. What is the reason for the warning?"
   ]
  },
  {
   "cell_type": "code",
   "execution_count": 20,
   "metadata": {},
   "outputs": [],
   "source": [
    "# Answer: The median() expects each column must be a double precision real number but the first column \"countries\" is a character vector"
   ]
  },
  {
   "cell_type": "markdown",
   "metadata": {},
   "source": [
    "# Functions"
   ]
  },
  {
   "cell_type": "markdown",
   "metadata": {},
   "source": [
    "The arithmetic mean can calculated by taking the sum of the numbers in a vector divided by the number of items or length of that numveric vector. "
   ]
  },
  {
   "cell_type": "code",
   "execution_count": 21,
   "metadata": {},
   "outputs": [
    {
     "name": "stdout",
     "output_type": "stream",
     "text": [
      "[1] 2.329124\n"
     ]
    }
   ],
   "source": [
    "# Complete the code to compute the average CFR (long method)\n",
    "print(sum(covid_df$cfr/length(covid_df$cfr)))"
   ]
  },
  {
   "cell_type": "markdown",
   "metadata": {},
   "source": [
    "A lazy method is to use the **mean( )** function to calculate for the average value of a numeric vector."
   ]
  },
  {
   "cell_type": "code",
   "execution_count": 22,
   "metadata": {},
   "outputs": [
    {
     "name": "stdout",
     "output_type": "stream",
     "text": [
      "[1] 2.329124\n"
     ]
    }
   ],
   "source": [
    "# Complete the code compute the average CFR (short method)\n",
    "print(mean(covid_df$cfr))"
   ]
  },
  {
   "cell_type": "markdown",
   "metadata": {},
   "source": [
    "To compute the average number of deaths, you can copy-paste the code above and just change the name of the column. However, the moment you copy-paste several lines of codes repeatedly, then there is a chance that errors will creep it. Thus, it is better to use functions for such tasks. You can also write your own functions if it is not available as a base R function."
   ]
  },
  {
   "cell_type": "markdown",
   "metadata": {},
   "source": [
    "An alternative to writing a **for loop** in the above example for calculating the mean values in each column is to use the **lapply( )** function."
   ]
  },
  {
   "cell_type": "code",
   "execution_count": 23,
   "metadata": {},
   "outputs": [],
   "source": [
    "# Check the documentation of lappply. A documentation window will appear. \n",
    "# You can close it after reading the arguments and examples. \n",
    "?lapply"
   ]
  },
  {
   "cell_type": "code",
   "execution_count": 24,
   "metadata": {},
   "outputs": [
    {
     "name": "stderr",
     "output_type": "stream",
     "text": [
      "Warning message in mean.default(X[[i]], ...):\n",
      "“argument is not numeric or logical: returning NA”\n"
     ]
    },
    {
     "name": "stdout",
     "output_type": "stream",
     "text": [
      "$countries\n",
      "[1] NA\n",
      "\n",
      "$cases\n",
      "[1] 4864290\n",
      "\n",
      "$deaths\n",
      "[1] 98966.1\n",
      "\n",
      "$cfr\n",
      "[1] 2.329124\n",
      "\n"
     ]
    }
   ],
   "source": [
    "# Complete the code below to compute the mean in each column\n",
    "print(lapply(covid_df, mean))"
   ]
  },
  {
   "cell_type": "code",
   "execution_count": 25,
   "metadata": {},
   "outputs": [
    {
     "name": "stderr",
     "output_type": "stream",
     "text": [
      "Warning message in var(if (is.vector(x) || is.factor(x)) x else as.double(x), na.rm = na.rm):\n",
      "“NAs introduced by coercion”\n"
     ]
    },
    {
     "name": "stdout",
     "output_type": "stream",
     "text": [
      "$countries\n",
      "[1] NA\n",
      "\n",
      "$cases\n",
      "[1] 5164519\n",
      "\n",
      "$deaths\n",
      "[1] 90026.46\n",
      "\n",
      "$cfr\n",
      "[1] 0.8416113\n",
      "\n"
     ]
    }
   ],
   "source": [
    "# Complete the code below to compute the standard deviation in each column\n",
    "print(lapply(covid_df, sd))"
   ]
  },
  {
   "cell_type": "markdown",
   "metadata": {},
   "source": [
    "To end this exercise, run the code below to create a bar plot of the CFR values. Notice that the bar figures are oriented horizontally."
   ]
  },
  {
   "cell_type": "code",
   "execution_count": 26,
   "metadata": {},
   "outputs": [
    {
     "data": {
      "image/png": "[encoded data removed]",
      "text/plain": [
       "plot without title"
      ]
     },
     "metadata": {
      "image/png": {
       "height": 420,
       "width": 420
      }
     },
     "output_type": "display_data"
    }
   ],
   "source": [
    "df  <- covid_df[order(covid_df$cfr, decreasing = FALSE), ]\n",
    "par(mar = c(4, 8, 4, 2) + 0.1)\n",
    "barplot(df$cfr, \n",
    "        names.arg = df$countries,\n",
    "        horiz = TRUE, \n",
    "        cex.names = 0.7,\n",
    "        col = \"light blue\",\n",
    "        ylab = \"Countries\",\n",
    "        xlab = \"Case-fatality ratio (%)\") "
   ]
  }
 ],
 "metadata": {
  "kernelspec": {
   "display_name": "R",
   "language": "R",
   "name": "ir"
  },
  "language_info": {
   "codemirror_mode": "r",
   "file_extension": ".r",
   "mimetype": "text/x-r-source",
   "name": "R",
   "pygments_lexer": "r",
   "version": "4.0.3"
  }
 },
 "nbformat": 4,
 "nbformat_minor": 4
}
