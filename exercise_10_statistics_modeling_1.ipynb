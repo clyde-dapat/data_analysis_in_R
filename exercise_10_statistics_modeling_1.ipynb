{
 "cells": [
  {
   "cell_type": "markdown",
   "metadata": {},
   "source": [
    "# Exercise: Statistical Analysis - 1"
   ]
  },
  {
   "cell_type": "markdown",
   "metadata": {},
   "source": [
    "Statistical analysis is important if you want to know that the estimate you obtained from your data (e.g. mean, difference in proportions, confidence interval, etc.) is close to that of the target population of interest. For example, if you were to conduct a clinical trial of a new locally manufactured COVID-19 vaccine in your country and if you were to prove that it is better than imported vaccines, then you need some statistical analysis to support your claim. If you are living a fantasy world, where you are almighty, all-powerful, and ultra-rich so that when you conduct this study, everyone in your country participated in the trial. That would be the perfect scenario. You can pinch yourself now and welcome back to reality. So, you pushed through with your clinical trial and enrolled 150 subjects, who were randomly assigned in each group and followed the protocol to the dot. Results showed that the efficacy of your local vaccine is higher (95% vs 50%) when compared to the imported vaccine. Given the results and samples size, can you claim that your local vaccine is better in protecting your fellow citizens compared to the imported vaccine? Thus, to answer this question, you need to do statistical inference."
   ]
  },
  {
   "cell_type": "markdown",
   "metadata": {},
   "source": [
    "When you finish this exercise, you learn how to:\n",
    "1. perform hypothesis testing\n",
    "2. deploy linear regression model"
   ]
  },
  {
   "cell_type": "markdown",
   "metadata": {},
   "source": [
    "Load the **tidyverse** package."
   ]
  },
  {
   "cell_type": "code",
   "execution_count": null,
   "metadata": {},
   "outputs": [],
   "source": [
    "# Load tidyverse\n",
    "____"
   ]
  },
  {
   "cell_type": "markdown",
   "metadata": {},
   "source": [
    "## COVID-19 case-fatality rate and smoking"
   ]
  },
  {
   "cell_type": "markdown",
   "metadata": {},
   "source": [
    "In this exercise, you will explore to see if there is a relationship between smoking and COVID-19 case-fatality rate. The COVID-19 data is available from the [Our World in Data](https://ourworldindata.org/) website, which contains a rich collection of global data and figures from the University of Oxford. Import this data from their [GitHub site](https://github.com/owid/covid-19-data/tree/master/public/data). Check the [codebook](https://github.com/owid/covid-19-data/blob/master/public/data/owid-covid-codebook.csv) for the description of the different variables in this dataset."
   ]
  },
  {
   "cell_type": "code",
   "execution_count": null,
   "metadata": {},
   "outputs": [],
   "source": [
    "# Import the COVID-19 data\n",
    "link <- \"https://covid.ourworldindata.org/data/owid-covid-data.csv\"\n",
    "cfr  <- ____(link)"
   ]
  },
  {
   "cell_type": "code",
   "execution_count": null,
   "metadata": {},
   "outputs": [],
   "source": [
    "# Check data structure\n",
    "____"
   ]
  },
  {
   "cell_type": "code",
   "execution_count": null,
   "metadata": {},
   "outputs": [],
   "source": [
    "# Check the top and bottom rows\n",
    "____(cfr)\n",
    "____(cfr)"
   ]
  },
  {
   "cell_type": "code",
   "execution_count": null,
   "metadata": {},
   "outputs": [],
   "source": [
    "# Is the data tidy? Why or why not?\n",
    "# Answer: _____"
   ]
  },
  {
   "cell_type": "markdown",
   "metadata": {},
   "source": [
    "### COVID-19 case-fatality ratio"
   ]
  },
  {
   "cell_type": "markdown",
   "metadata": {},
   "source": [
    "Create a column containing the outcome variable, COVID-19 case-fatality rate. But before that, you need to do some data cleaning."
   ]
  },
  {
   "cell_type": "code",
   "execution_count": null,
   "metadata": {},
   "outputs": [],
   "source": [
    "# Subset latest data\n",
    "cfr <- cfr %>%\n",
    "    ____(date == max(date))\n",
    "head(cfr)"
   ]
  },
  {
   "cell_type": "markdown",
   "metadata": {},
   "source": [
    "Note that there are rows with OWID_* in the first column, which contain aggregated data. Remove these rows since these are not needed during statistical analysis."
   ]
  },
  {
   "cell_type": "code",
   "execution_count": null,
   "metadata": {},
   "outputs": [],
   "source": [
    "# Remove rows containing NAs in continent column \n",
    "cfr <- cfr %>% \n",
    "    ____(continent)\n",
    "head(cfr)"
   ]
  },
  {
   "cell_type": "markdown",
   "metadata": {},
   "source": [
    "Recall from previous exercise, the case-fatality rate (CFR) of COVID-19 is calculated as the total number of deaths attributed to COVID-19 divided by the total number of confirmed COVID-19 cases, then multiplied by 100. "
   ]
  },
  {
   "cell_type": "code",
   "execution_count": null,
   "metadata": {},
   "outputs": [],
   "source": [
    "# Create the outcome variable, CFR\n",
    "cfr <- cfr %>% \n",
    "    ____(cfr = (____/____)*100\n",
    "    )\n",
    "\n",
    "head(cfr)"
   ]
  },
  {
   "cell_type": "code",
   "execution_count": null,
   "metadata": {},
   "outputs": [],
   "source": [
    "# Check the summary statistics of CFR\n",
    "____"
   ]
  },
  {
   "cell_type": "code",
   "execution_count": null,
   "metadata": {},
   "outputs": [],
   "source": [
    "# Visualize histogram of CFR\n",
    "cfr %>% ggplot(aes(cfr)) +\n",
    "    ____"
   ]
  },
  {
   "cell_type": "markdown",
   "metadata": {},
   "source": [
    "Our explanatory variable is smoking and in this dataset, there are two columns: `male_smokers` and `female_smokers`. These numbers represent proportion of male and female smokers in each country, respectively. Explore first the male smokers variable."
   ]
  },
  {
   "cell_type": "code",
   "execution_count": null,
   "metadata": {},
   "outputs": [],
   "source": [
    "# Check the summary statistics of male smokers\n",
    "____"
   ]
  },
  {
   "cell_type": "code",
   "execution_count": null,
   "metadata": {},
   "outputs": [],
   "source": [
    "# Visualize histogram of male smokers\n",
    "cfr %>% ggplot(aes(male_smokers)) +\n",
    "    ____"
   ]
  },
  {
   "cell_type": "markdown",
   "metadata": {},
   "source": [
    "Visualize the relationship between two variables, CFR and proportion of male smokers, using a scatter plot."
   ]
  },
  {
   "cell_type": "code",
   "execution_count": null,
   "metadata": {},
   "outputs": [],
   "source": [
    "# Load ggreepl and ggthemes packages\n",
    "library(____)\n",
    "library(____)"
   ]
  },
  {
   "cell_type": "code",
   "execution_count": null,
   "metadata": {},
   "outputs": [],
   "source": [
    "cfr %>% ggplot(aes(x = male_smokers, y = cfr, label = location)) +\n",
    "        ____(size = 3, alpha = 0.5) +\n",
    "        geom_text_repel(size = 4) +\n",
    "        xlab(\"Proportion of male smokers\") +\n",
    "        ylab(\"COVID-19 case-fatality rate\") +\n",
    "        theme_clean() "
   ]
  },
  {
   "cell_type": "markdown",
   "metadata": {},
   "source": [
    "Notice that the data points are crowded at the bottom of the graph. Transform the y-axis to logarithmic scale."
   ]
  },
  {
   "cell_type": "code",
   "execution_count": null,
   "metadata": {},
   "outputs": [],
   "source": [
    "cfr %>% ggplot(aes(x = male_smokers, y = cfr, label = location)) +\n",
    "        ____(size = 3, alpha = 0.5) +\n",
    "        geom_text_repel(size = 4) +\n",
    "        xlab(\"Proportion of male smokers\") +\n",
    "        ylab(\"COVID-19 case-fatality rate (log scale)\") +\n",
    "        theme_clean() +\n",
    "        ____(breaks = trans_breaks(\"log10\", function(x) 10^x),\n",
    "            labels = trans_format(\"log10\", math_format(10^.x))) "
   ]
  },
  {
   "cell_type": "markdown",
   "metadata": {},
   "source": [
    "Countries located on the right side of the graph have higher proportion of male smokers while countries found on the top side of the graph have higher COVID-19 mortality rate."
   ]
  },
  {
   "cell_type": "code",
   "execution_count": null,
   "metadata": {},
   "outputs": [],
   "source": [
    "# What is the proportion of male smokers in your country?\n",
    "# Answer: ____"
   ]
  },
  {
   "cell_type": "markdown",
   "metadata": {},
   "source": [
    "## Inference for linear regression"
   ]
  },
  {
   "cell_type": "code",
   "execution_count": null,
   "metadata": {},
   "outputs": [],
   "source": [
    "# What is statement of the problem?\n",
    "# Answer: Is there a relationship between CFR and proportion of male smokers?"
   ]
  },
  {
   "cell_type": "code",
   "execution_count": null,
   "metadata": {},
   "outputs": [],
   "source": [
    "# What is the null hypothesis?\n",
    "# Answer: The true coefficient of the proportion of male smokers is equal to zero."
   ]
  },
  {
   "cell_type": "code",
   "execution_count": null,
   "metadata": {},
   "outputs": [],
   "source": [
    "# What is the alternative hypothesis?\n",
    "# Answer: The true coefficient of the proportion of male smokers is NOT equal to zero."
   ]
  },
  {
   "cell_type": "markdown",
   "metadata": {},
   "source": [
    "Generate the linear regression model using the **`lm( )`** function. The **`lm( )`** function can also be used for analysis of variance. The `formula` argument specifies the variables to be used for fitting the model. A typical model has the term `response ~ explanatory`, where `response` is the outcome or response variable and `explanatory` is the explanatory or predictor variable for the outcome. "
   ]
  },
  {
   "cell_type": "code",
   "execution_count": null,
   "metadata": {},
   "outputs": [],
   "source": [
    "model <- cfr %>%\n",
    "    ____(formula = ____ ~ ____)"
   ]
  },
  {
   "cell_type": "markdown",
   "metadata": {},
   "source": [
    "Use the **`summary()`** function to access the result summaries of the linear regression model."
   ]
  },
  {
   "cell_type": "code",
   "execution_count": null,
   "metadata": {},
   "outputs": [],
   "source": [
    "result <- model %>% \n",
    "    ____\n",
    "\n",
    "result"
   ]
  },
  {
   "cell_type": "markdown",
   "metadata": {},
   "source": [
    "Use the **`coefficients`** accessor to obtain the coefficients of the variables in this model, which is located in the first column."
   ]
  },
  {
   "cell_type": "code",
   "execution_count": null,
   "metadata": {},
   "outputs": [],
   "source": [
    "result$____"
   ]
  },
  {
   "cell_type": "code",
   "execution_count": null,
   "metadata": {},
   "outputs": [],
   "source": [
    "# What is the linear equation of the regression model? outcome = intercept + slope(explanatory) \n",
    "# Answer: cfr = 2.31 - 0.005(male_smokers) "
   ]
  },
  {
   "cell_type": "markdown",
   "metadata": {},
   "source": [
    "If you are interested in accessing the residuals, use the **`resid( )`** function."
   ]
  },
  {
   "cell_type": "code",
   "execution_count": null,
   "metadata": {},
   "outputs": [],
   "source": [
    "result %>% ____"
   ]
  },
  {
   "cell_type": "code",
   "execution_count": null,
   "metadata": {},
   "outputs": [],
   "source": [
    "# What is the interpretation of this linear equation?\n",
    "# The model predicts a 0.005 decrease in CFR for each additional percentage point of male smokers."
   ]
  },
  {
   "cell_type": "markdown",
   "metadata": {},
   "source": [
    "Use the **`coefficients`** accessor to obtain the p-values of interest, which is located in the fourth column."
   ]
  },
  {
   "cell_type": "code",
   "execution_count": null,
   "metadata": {},
   "outputs": [],
   "source": [
    "result$____"
   ]
  },
  {
   "cell_type": "code",
   "execution_count": null,
   "metadata": {},
   "outputs": [],
   "source": [
    "# Based on the p-value, what is the statistical decision? Do you accept or reject the null?\n",
    "# Answer: Accept the null hypothesis since the p-value is large (p-value = 0.7446)"
   ]
  },
  {
   "cell_type": "markdown",
   "metadata": {},
   "source": [
    "Use the **`r.squared`** accessor to obtain the R-squared value of the model. "
   ]
  },
  {
   "cell_type": "code",
   "execution_count": null,
   "metadata": {},
   "outputs": [],
   "source": [
    "result$____"
   ]
  },
  {
   "cell_type": "code",
   "execution_count": null,
   "metadata": {},
   "outputs": [],
   "source": [
    "# What is the interpretation of R-squared value?\n",
    "# Answer: _____"
   ]
  },
  {
   "cell_type": "markdown",
   "metadata": {},
   "source": [
    "Calculate the correlation coefficient by computing the square root of the coefficient of determination value."
   ]
  },
  {
   "cell_type": "code",
   "execution_count": null,
   "metadata": {},
   "outputs": [],
   "source": [
    "sqrt(result$_____)"
   ]
  },
  {
   "cell_type": "code",
   "execution_count": null,
   "metadata": {},
   "outputs": [],
   "source": [
    "# Based on the value of the correlation coefficient, what is the relationship between CFR and proportion of male smokers?\n",
    "# There is no correlation between CFR and proportion of male smokers."
   ]
  },
  {
   "cell_type": "markdown",
   "metadata": {},
   "source": [
    "Add a trendline using the **`geom_smooth( )`** function to visualize the relationship between the two variables. Use the `method` argument to specify `lm `for linear regression and the `se` argument set to `TRUE` to display the confidence interval of the fitted line."
   ]
  },
  {
   "cell_type": "code",
   "execution_count": null,
   "metadata": {},
   "outputs": [],
   "source": [
    "cfr %>% ggplot(aes(x = male_smokers, y = log(cfr), label = location)) +\n",
    "        ____(size = 3, alpha = 0.5) +\n",
    "        xlab(\"Proportion of male smokers\") +\n",
    "        ylab(\"COVID-19 case-fatality rate (log scale)\") +\n",
    "        theme_clean() +\n",
    "        ____(method = ____, se = ____, fill = \"lightblue\")"
   ]
  },
  {
   "cell_type": "markdown",
   "metadata": {},
   "source": [
    "The linear regression curve (blue line) is almost a horizontal line indicating that there is no relationship between CFR and proportion of male smokers."
   ]
  },
  {
   "cell_type": "markdown",
   "metadata": {},
   "source": [
    "Next, you are going to evaluate the relationship betwen COVID-19 CFR and the proportion of female smokers."
   ]
  },
  {
   "cell_type": "code",
   "execution_count": null,
   "metadata": {},
   "outputs": [],
   "source": [
    "# Write your code below\n"
   ]
  },
  {
   "cell_type": "code",
   "execution_count": null,
   "metadata": {},
   "outputs": [],
   "source": [
    "# What is the relationship betwen COVID-19 CFR and the proportion of female smokers?\n",
    "# Answer: ____"
   ]
  }
 ],
 "metadata": {
  "kernelspec": {
   "display_name": "R",
   "language": "R",
   "name": "ir"
  },
  "language_info": {
   "codemirror_mode": "r",
   "file_extension": ".r",
   "mimetype": "text/x-r-source",
   "name": "R",
   "pygments_lexer": "r",
   "version": "4.0.3"
  }
 },
 "nbformat": 4,
 "nbformat_minor": 5
}
