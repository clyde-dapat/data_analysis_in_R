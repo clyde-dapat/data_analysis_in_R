{
 "cells": [
  {
   "cell_type": "markdown",
   "metadata": {},
   "source": [
    "# Exercise: Merging Data"
   ]
  },
  {
   "cell_type": "markdown",
   "metadata": {},
   "source": [
    "Usually, data analysis involves several tables of data that you must combine to answer your research question."
   ]
  },
  {
   "cell_type": "markdown",
   "metadata": {},
   "source": [
    "When you finish this exercise, you will learn how to merge data frames."
   ]
  },
  {
   "cell_type": "markdown",
   "metadata": {},
   "source": [
    "Load packages in **tidyverse**."
   ]
  },
  {
   "cell_type": "code",
   "execution_count": 1,
   "metadata": {},
   "outputs": [
    {
     "name": "stderr",
     "output_type": "stream",
     "text": [
      "── \u001b[1mAttaching packages\u001b[22m ──────────────────────────────────── tidyverse 1.3.0 ──\n",
      "\n",
      "\u001b[32m✔\u001b[39m \u001b[34mggplot2\u001b[39m 3.3.2     \u001b[32m✔\u001b[39m \u001b[34mpurrr  \u001b[39m 0.3.4\n",
      "\u001b[32m✔\u001b[39m \u001b[34mtibble \u001b[39m 3.0.4     \u001b[32m✔\u001b[39m \u001b[34mdplyr  \u001b[39m 1.0.2\n",
      "\u001b[32m✔\u001b[39m \u001b[34mtidyr  \u001b[39m 1.1.2     \u001b[32m✔\u001b[39m \u001b[34mstringr\u001b[39m 1.4.0\n",
      "\u001b[32m✔\u001b[39m \u001b[34mreadr  \u001b[39m 1.4.0     \u001b[32m✔\u001b[39m \u001b[34mforcats\u001b[39m 0.5.0\n",
      "\n",
      "── \u001b[1mConflicts\u001b[22m ─────────────────────────────────────── tidyverse_conflicts() ──\n",
      "\u001b[31m✖\u001b[39m \u001b[34mdplyr\u001b[39m::\u001b[32mfilter()\u001b[39m masks \u001b[34mstats\u001b[39m::filter()\n",
      "\u001b[31m✖\u001b[39m \u001b[34mdplyr\u001b[39m::\u001b[32mlag()\u001b[39m    masks \u001b[34mstats\u001b[39m::lag()\n",
      "\n"
     ]
    }
   ],
   "source": [
    "# Load tidyverse\n",
    "library(tidyverse)"
   ]
  },
  {
   "cell_type": "markdown",
   "metadata": {},
   "source": [
    "## Mutating joins"
   ]
  },
  {
   "cell_type": "markdown",
   "metadata": {},
   "source": [
    "There are four kinds of mutating joins and the resulting table would differ depending on how the observations are matched from the original tables. To illustrate, complete the code below to create two tables that will be used for merging. Use the **`tribble( )`** function to create a data frame, which is similar to the **`tibble( )`** function, but instead of creating a table by columns, it will create a table by rows. "
   ]
  },
  {
   "cell_type": "code",
   "execution_count": 2,
   "metadata": {},
   "outputs": [
    {
     "data": {
      "text/html": [
       "<table>\n",
       "<caption>A tibble: 3 × 3</caption>\n",
       "<thead>\n",
       "\t<tr><th scope=col>Country</th><th scope=col>Year</th><th scope=col>Population</th></tr>\n",
       "\t<tr><th scope=col>&lt;chr&gt;</th><th scope=col>&lt;dbl&gt;</th><th scope=col>&lt;dbl&gt;</th></tr>\n",
       "</thead>\n",
       "<tbody>\n",
       "\t<tr><td>Afghanistan</td><td>2020</td><td> 38928000</td></tr>\n",
       "\t<tr><td>Bangladesh </td><td>2020</td><td>164689000</td></tr>\n",
       "\t<tr><td>Cambodia   </td><td>2020</td><td> 16719000</td></tr>\n",
       "</tbody>\n",
       "</table>\n"
      ],
      "text/latex": [
       "A tibble: 3 × 3\n",
       "\\begin{tabular}{lll}\n",
       " Country & Year & Population\\\\\n",
       " <chr> & <dbl> & <dbl>\\\\\n",
       "\\hline\n",
       "\t Afghanistan & 2020 &  38928000\\\\\n",
       "\t Bangladesh  & 2020 & 164689000\\\\\n",
       "\t Cambodia    & 2020 &  16719000\\\\\n",
       "\\end{tabular}\n"
      ],
      "text/markdown": [
       "\n",
       "A tibble: 3 × 3\n",
       "\n",
       "| Country &lt;chr&gt; | Year &lt;dbl&gt; | Population &lt;dbl&gt; |\n",
       "|---|---|---|\n",
       "| Afghanistan | 2020 |  38928000 |\n",
       "| Bangladesh  | 2020 | 164689000 |\n",
       "| Cambodia    | 2020 |  16719000 |\n",
       "\n"
      ],
      "text/plain": [
       "  Country     Year Population\n",
       "1 Afghanistan 2020  38928000 \n",
       "2 Bangladesh  2020 164689000 \n",
       "3 Cambodia    2020  16719000 "
      ]
     },
     "metadata": {},
     "output_type": "display_data"
    },
    {
     "data": {
      "text/html": [
       "<table>\n",
       "<caption>A tibble: 3 × 3</caption>\n",
       "<thead>\n",
       "\t<tr><th scope=col>Country</th><th scope=col>Year</th><th scope=col>GDP</th></tr>\n",
       "\t<tr><th scope=col>&lt;chr&gt;</th><th scope=col>&lt;dbl&gt;</th><th scope=col>&lt;dbl&gt;</th></tr>\n",
       "</thead>\n",
       "<tbody>\n",
       "\t<tr><td>Afghanistan</td><td>2020</td><td>192910000</td></tr>\n",
       "\t<tr><td>Bangladesh </td><td>2020</td><td>164689000</td></tr>\n",
       "\t<tr><td>Indonesia  </td><td>2021</td><td>111900000</td></tr>\n",
       "</tbody>\n",
       "</table>\n"
      ],
      "text/latex": [
       "A tibble: 3 × 3\n",
       "\\begin{tabular}{lll}\n",
       " Country & Year & GDP\\\\\n",
       " <chr> & <dbl> & <dbl>\\\\\n",
       "\\hline\n",
       "\t Afghanistan & 2020 & 192910000\\\\\n",
       "\t Bangladesh  & 2020 & 164689000\\\\\n",
       "\t Indonesia   & 2021 & 111900000\\\\\n",
       "\\end{tabular}\n"
      ],
      "text/markdown": [
       "\n",
       "A tibble: 3 × 3\n",
       "\n",
       "| Country &lt;chr&gt; | Year &lt;dbl&gt; | GDP &lt;dbl&gt; |\n",
       "|---|---|---|\n",
       "| Afghanistan | 2020 | 192910000 |\n",
       "| Bangladesh  | 2020 | 164689000 |\n",
       "| Indonesia   | 2021 | 111900000 |\n",
       "\n"
      ],
      "text/plain": [
       "  Country     Year GDP      \n",
       "1 Afghanistan 2020 192910000\n",
       "2 Bangladesh  2020 164689000\n",
       "3 Indonesia   2021 111900000"
      ]
     },
     "metadata": {},
     "output_type": "display_data"
    }
   ],
   "source": [
    "df1  <- tribble(\n",
    "    ~Country, ~Year, ~Population,\n",
    "    \"Afghanistan\", 2020, 38928000,\n",
    "    \"Bangladesh\", 2020, 164689000,\n",
    "    \"Cambodia\", 2020, 16719000\n",
    ")\n",
    "\n",
    "df2  <- tribble(\n",
    "    ~Country, ~Year, ~GDP,\n",
    "    \"Afghanistan\", 2020, 192910000,\n",
    "    \"Bangladesh\", 2020, 164689000,\n",
    "    \"Indonesia\", 2021, 111900000\n",
    ")\n",
    "\n",
    "df1\n",
    "df2"
   ]
  },
  {
   "cell_type": "markdown",
   "metadata": {},
   "source": [
    "Simply joining the tables is challenging because the list of countries is not the same. The join functions describe below will be useful in solving this problem. The \"Combine Tables\" section of the [dplyr cheatsheet](https://raw.githubusercontent.com/rstudio/cheatsheets/master/data-transformation.pdf) will be handy if you don't remember the functions."
   ]
  },
  {
   "cell_type": "markdown",
   "metadata": {},
   "source": [
    "### Inner join"
   ]
  },
  {
   "cell_type": "markdown",
   "metadata": {},
   "source": [
    "The **`inner_join(x, y)`** function will return observations that match in both x and y."
   ]
  },
  {
   "cell_type": "code",
   "execution_count": 3,
   "metadata": {},
   "outputs": [
    {
     "name": "stderr",
     "output_type": "stream",
     "text": [
      "Joining, by = c(\"Country\", \"Year\")\n",
      "\n"
     ]
    },
    {
     "data": {
      "text/html": [
       "<table>\n",
       "<caption>A tibble: 2 × 4</caption>\n",
       "<thead>\n",
       "\t<tr><th scope=col>Country</th><th scope=col>Year</th><th scope=col>Population</th><th scope=col>GDP</th></tr>\n",
       "\t<tr><th scope=col>&lt;chr&gt;</th><th scope=col>&lt;dbl&gt;</th><th scope=col>&lt;dbl&gt;</th><th scope=col>&lt;dbl&gt;</th></tr>\n",
       "</thead>\n",
       "<tbody>\n",
       "\t<tr><td>Afghanistan</td><td>2020</td><td> 38928000</td><td>192910000</td></tr>\n",
       "\t<tr><td>Bangladesh </td><td>2020</td><td>164689000</td><td>164689000</td></tr>\n",
       "</tbody>\n",
       "</table>\n"
      ],
      "text/latex": [
       "A tibble: 2 × 4\n",
       "\\begin{tabular}{llll}\n",
       " Country & Year & Population & GDP\\\\\n",
       " <chr> & <dbl> & <dbl> & <dbl>\\\\\n",
       "\\hline\n",
       "\t Afghanistan & 2020 &  38928000 & 192910000\\\\\n",
       "\t Bangladesh  & 2020 & 164689000 & 164689000\\\\\n",
       "\\end{tabular}\n"
      ],
      "text/markdown": [
       "\n",
       "A tibble: 2 × 4\n",
       "\n",
       "| Country &lt;chr&gt; | Year &lt;dbl&gt; | Population &lt;dbl&gt; | GDP &lt;dbl&gt; |\n",
       "|---|---|---|---|\n",
       "| Afghanistan | 2020 |  38928000 | 192910000 |\n",
       "| Bangladesh  | 2020 | 164689000 | 164689000 |\n",
       "\n"
      ],
      "text/plain": [
       "  Country     Year Population GDP      \n",
       "1 Afghanistan 2020  38928000  192910000\n",
       "2 Bangladesh  2020 164689000  164689000"
      ]
     },
     "metadata": {},
     "output_type": "display_data"
    }
   ],
   "source": [
    "inner_join(df1, df2)"
   ]
  },
  {
   "cell_type": "markdown",
   "metadata": {},
   "source": [
    "Alternatively, you can use the pipe operator **`%>%`**."
   ]
  },
  {
   "cell_type": "code",
   "execution_count": 4,
   "metadata": {},
   "outputs": [
    {
     "name": "stderr",
     "output_type": "stream",
     "text": [
      "Joining, by = c(\"Country\", \"Year\")\n",
      "\n"
     ]
    },
    {
     "data": {
      "text/html": [
       "<table>\n",
       "<caption>A tibble: 2 × 4</caption>\n",
       "<thead>\n",
       "\t<tr><th scope=col>Country</th><th scope=col>Year</th><th scope=col>Population</th><th scope=col>GDP</th></tr>\n",
       "\t<tr><th scope=col>&lt;chr&gt;</th><th scope=col>&lt;dbl&gt;</th><th scope=col>&lt;dbl&gt;</th><th scope=col>&lt;dbl&gt;</th></tr>\n",
       "</thead>\n",
       "<tbody>\n",
       "\t<tr><td>Afghanistan</td><td>2020</td><td> 38928000</td><td>192910000</td></tr>\n",
       "\t<tr><td>Bangladesh </td><td>2020</td><td>164689000</td><td>164689000</td></tr>\n",
       "</tbody>\n",
       "</table>\n"
      ],
      "text/latex": [
       "A tibble: 2 × 4\n",
       "\\begin{tabular}{llll}\n",
       " Country & Year & Population & GDP\\\\\n",
       " <chr> & <dbl> & <dbl> & <dbl>\\\\\n",
       "\\hline\n",
       "\t Afghanistan & 2020 &  38928000 & 192910000\\\\\n",
       "\t Bangladesh  & 2020 & 164689000 & 164689000\\\\\n",
       "\\end{tabular}\n"
      ],
      "text/markdown": [
       "\n",
       "A tibble: 2 × 4\n",
       "\n",
       "| Country &lt;chr&gt; | Year &lt;dbl&gt; | Population &lt;dbl&gt; | GDP &lt;dbl&gt; |\n",
       "|---|---|---|---|\n",
       "| Afghanistan | 2020 |  38928000 | 192910000 |\n",
       "| Bangladesh  | 2020 | 164689000 | 164689000 |\n",
       "\n"
      ],
      "text/plain": [
       "  Country     Year Population GDP      \n",
       "1 Afghanistan 2020  38928000  192910000\n",
       "2 Bangladesh  2020 164689000  164689000"
      ]
     },
     "metadata": {},
     "output_type": "display_data"
    }
   ],
   "source": [
    "df1 %>% inner_join(df2)"
   ]
  },
  {
   "cell_type": "markdown",
   "metadata": {},
   "source": [
    "### Left join"
   ]
  },
  {
   "cell_type": "markdown",
   "metadata": {},
   "source": [
    "The **`left_join(x, y)`** function will return all observations in x, regardless of whether there is a match or not. This is the most commonly used join because it ensures that you will not loose observations from the primary table. Note that when a row does not match in a join, the new variables are filled in with missing values."
   ]
  },
  {
   "cell_type": "code",
   "execution_count": 5,
   "metadata": {},
   "outputs": [
    {
     "name": "stderr",
     "output_type": "stream",
     "text": [
      "Joining, by = c(\"Country\", \"Year\")\n",
      "\n"
     ]
    },
    {
     "data": {
      "text/html": [
       "<table>\n",
       "<caption>A tibble: 3 × 4</caption>\n",
       "<thead>\n",
       "\t<tr><th scope=col>Country</th><th scope=col>Year</th><th scope=col>Population</th><th scope=col>GDP</th></tr>\n",
       "\t<tr><th scope=col>&lt;chr&gt;</th><th scope=col>&lt;dbl&gt;</th><th scope=col>&lt;dbl&gt;</th><th scope=col>&lt;dbl&gt;</th></tr>\n",
       "</thead>\n",
       "<tbody>\n",
       "\t<tr><td>Afghanistan</td><td>2020</td><td> 38928000</td><td>192910000</td></tr>\n",
       "\t<tr><td>Bangladesh </td><td>2020</td><td>164689000</td><td>164689000</td></tr>\n",
       "\t<tr><td>Cambodia   </td><td>2020</td><td> 16719000</td><td>       NA</td></tr>\n",
       "</tbody>\n",
       "</table>\n"
      ],
      "text/latex": [
       "A tibble: 3 × 4\n",
       "\\begin{tabular}{llll}\n",
       " Country & Year & Population & GDP\\\\\n",
       " <chr> & <dbl> & <dbl> & <dbl>\\\\\n",
       "\\hline\n",
       "\t Afghanistan & 2020 &  38928000 & 192910000\\\\\n",
       "\t Bangladesh  & 2020 & 164689000 & 164689000\\\\\n",
       "\t Cambodia    & 2020 &  16719000 &        NA\\\\\n",
       "\\end{tabular}\n"
      ],
      "text/markdown": [
       "\n",
       "A tibble: 3 × 4\n",
       "\n",
       "| Country &lt;chr&gt; | Year &lt;dbl&gt; | Population &lt;dbl&gt; | GDP &lt;dbl&gt; |\n",
       "|---|---|---|---|\n",
       "| Afghanistan | 2020 |  38928000 | 192910000 |\n",
       "| Bangladesh  | 2020 | 164689000 | 164689000 |\n",
       "| Cambodia    | 2020 |  16719000 |        NA |\n",
       "\n"
      ],
      "text/plain": [
       "  Country     Year Population GDP      \n",
       "1 Afghanistan 2020  38928000  192910000\n",
       "2 Bangladesh  2020 164689000  164689000\n",
       "3 Cambodia    2020  16719000         NA"
      ]
     },
     "metadata": {},
     "output_type": "display_data"
    }
   ],
   "source": [
    "left_join(df1, df2)"
   ]
  },
  {
   "cell_type": "markdown",
   "metadata": {},
   "source": [
    "### Right join"
   ]
  },
  {
   "cell_type": "markdown",
   "metadata": {},
   "source": [
    "The **`right_join(x, y)`** function will merge all observations in y, regardless of whether there is a match or not."
   ]
  },
  {
   "cell_type": "code",
   "execution_count": 6,
   "metadata": {},
   "outputs": [
    {
     "name": "stderr",
     "output_type": "stream",
     "text": [
      "Joining, by = c(\"Country\", \"Year\")\n",
      "\n"
     ]
    },
    {
     "data": {
      "text/html": [
       "<table>\n",
       "<caption>A tibble: 3 × 4</caption>\n",
       "<thead>\n",
       "\t<tr><th scope=col>Country</th><th scope=col>Year</th><th scope=col>Population</th><th scope=col>GDP</th></tr>\n",
       "\t<tr><th scope=col>&lt;chr&gt;</th><th scope=col>&lt;dbl&gt;</th><th scope=col>&lt;dbl&gt;</th><th scope=col>&lt;dbl&gt;</th></tr>\n",
       "</thead>\n",
       "<tbody>\n",
       "\t<tr><td>Afghanistan</td><td>2020</td><td> 38928000</td><td>192910000</td></tr>\n",
       "\t<tr><td>Bangladesh </td><td>2020</td><td>164689000</td><td>164689000</td></tr>\n",
       "\t<tr><td>Indonesia  </td><td>2021</td><td>       NA</td><td>111900000</td></tr>\n",
       "</tbody>\n",
       "</table>\n"
      ],
      "text/latex": [
       "A tibble: 3 × 4\n",
       "\\begin{tabular}{llll}\n",
       " Country & Year & Population & GDP\\\\\n",
       " <chr> & <dbl> & <dbl> & <dbl>\\\\\n",
       "\\hline\n",
       "\t Afghanistan & 2020 &  38928000 & 192910000\\\\\n",
       "\t Bangladesh  & 2020 & 164689000 & 164689000\\\\\n",
       "\t Indonesia   & 2021 &        NA & 111900000\\\\\n",
       "\\end{tabular}\n"
      ],
      "text/markdown": [
       "\n",
       "A tibble: 3 × 4\n",
       "\n",
       "| Country &lt;chr&gt; | Year &lt;dbl&gt; | Population &lt;dbl&gt; | GDP &lt;dbl&gt; |\n",
       "|---|---|---|---|\n",
       "| Afghanistan | 2020 |  38928000 | 192910000 |\n",
       "| Bangladesh  | 2020 | 164689000 | 164689000 |\n",
       "| Indonesia   | 2021 |        NA | 111900000 |\n",
       "\n"
      ],
      "text/plain": [
       "  Country     Year Population GDP      \n",
       "1 Afghanistan 2020  38928000  192910000\n",
       "2 Bangladesh  2020 164689000  164689000\n",
       "3 Indonesia   2021        NA  111900000"
      ]
     },
     "metadata": {},
     "output_type": "display_data"
    }
   ],
   "source": [
    "right_join(df1, df2)"
   ]
  },
  {
   "cell_type": "markdown",
   "metadata": {},
   "source": [
    "It is similar to the **`left_join(y, x)`** function, but the columns will be ordered differently. "
   ]
  },
  {
   "cell_type": "code",
   "execution_count": 7,
   "metadata": {},
   "outputs": [
    {
     "name": "stderr",
     "output_type": "stream",
     "text": [
      "Joining, by = c(\"Country\", \"Year\")\n",
      "\n"
     ]
    },
    {
     "data": {
      "text/html": [
       "<table>\n",
       "<caption>A tibble: 3 × 4</caption>\n",
       "<thead>\n",
       "\t<tr><th scope=col>Country</th><th scope=col>Year</th><th scope=col>GDP</th><th scope=col>Population</th></tr>\n",
       "\t<tr><th scope=col>&lt;chr&gt;</th><th scope=col>&lt;dbl&gt;</th><th scope=col>&lt;dbl&gt;</th><th scope=col>&lt;dbl&gt;</th></tr>\n",
       "</thead>\n",
       "<tbody>\n",
       "\t<tr><td>Afghanistan</td><td>2020</td><td>192910000</td><td> 38928000</td></tr>\n",
       "\t<tr><td>Bangladesh </td><td>2020</td><td>164689000</td><td>164689000</td></tr>\n",
       "\t<tr><td>Indonesia  </td><td>2021</td><td>111900000</td><td>       NA</td></tr>\n",
       "</tbody>\n",
       "</table>\n"
      ],
      "text/latex": [
       "A tibble: 3 × 4\n",
       "\\begin{tabular}{llll}\n",
       " Country & Year & GDP & Population\\\\\n",
       " <chr> & <dbl> & <dbl> & <dbl>\\\\\n",
       "\\hline\n",
       "\t Afghanistan & 2020 & 192910000 &  38928000\\\\\n",
       "\t Bangladesh  & 2020 & 164689000 & 164689000\\\\\n",
       "\t Indonesia   & 2021 & 111900000 &        NA\\\\\n",
       "\\end{tabular}\n"
      ],
      "text/markdown": [
       "\n",
       "A tibble: 3 × 4\n",
       "\n",
       "| Country &lt;chr&gt; | Year &lt;dbl&gt; | GDP &lt;dbl&gt; | Population &lt;dbl&gt; |\n",
       "|---|---|---|---|\n",
       "| Afghanistan | 2020 | 192910000 |  38928000 |\n",
       "| Bangladesh  | 2020 | 164689000 | 164689000 |\n",
       "| Indonesia   | 2021 | 111900000 |        NA |\n",
       "\n"
      ],
      "text/plain": [
       "  Country     Year GDP       Population\n",
       "1 Afghanistan 2020 192910000  38928000 \n",
       "2 Bangladesh  2020 164689000 164689000 \n",
       "3 Indonesia   2021 111900000        NA "
      ]
     },
     "metadata": {},
     "output_type": "display_data"
    }
   ],
   "source": [
    "left_join(df2, df1)"
   ]
  },
  {
   "cell_type": "markdown",
   "metadata": {},
   "source": [
    "### Full join"
   ]
  },
  {
   "cell_type": "markdown",
   "metadata": {},
   "source": [
    "The **`full_join( )`** function will merge all observations from both x and y."
   ]
  },
  {
   "cell_type": "code",
   "execution_count": 8,
   "metadata": {},
   "outputs": [
    {
     "name": "stderr",
     "output_type": "stream",
     "text": [
      "Joining, by = c(\"Country\", \"Year\")\n",
      "\n"
     ]
    },
    {
     "data": {
      "text/html": [
       "<table>\n",
       "<caption>A tibble: 4 × 4</caption>\n",
       "<thead>\n",
       "\t<tr><th scope=col>Country</th><th scope=col>Year</th><th scope=col>Population</th><th scope=col>GDP</th></tr>\n",
       "\t<tr><th scope=col>&lt;chr&gt;</th><th scope=col>&lt;dbl&gt;</th><th scope=col>&lt;dbl&gt;</th><th scope=col>&lt;dbl&gt;</th></tr>\n",
       "</thead>\n",
       "<tbody>\n",
       "\t<tr><td>Afghanistan</td><td>2020</td><td> 38928000</td><td>192910000</td></tr>\n",
       "\t<tr><td>Bangladesh </td><td>2020</td><td>164689000</td><td>164689000</td></tr>\n",
       "\t<tr><td>Cambodia   </td><td>2020</td><td> 16719000</td><td>       NA</td></tr>\n",
       "\t<tr><td>Indonesia  </td><td>2021</td><td>       NA</td><td>111900000</td></tr>\n",
       "</tbody>\n",
       "</table>\n"
      ],
      "text/latex": [
       "A tibble: 4 × 4\n",
       "\\begin{tabular}{llll}\n",
       " Country & Year & Population & GDP\\\\\n",
       " <chr> & <dbl> & <dbl> & <dbl>\\\\\n",
       "\\hline\n",
       "\t Afghanistan & 2020 &  38928000 & 192910000\\\\\n",
       "\t Bangladesh  & 2020 & 164689000 & 164689000\\\\\n",
       "\t Cambodia    & 2020 &  16719000 &        NA\\\\\n",
       "\t Indonesia   & 2021 &        NA & 111900000\\\\\n",
       "\\end{tabular}\n"
      ],
      "text/markdown": [
       "\n",
       "A tibble: 4 × 4\n",
       "\n",
       "| Country &lt;chr&gt; | Year &lt;dbl&gt; | Population &lt;dbl&gt; | GDP &lt;dbl&gt; |\n",
       "|---|---|---|---|\n",
       "| Afghanistan | 2020 |  38928000 | 192910000 |\n",
       "| Bangladesh  | 2020 | 164689000 | 164689000 |\n",
       "| Cambodia    | 2020 |  16719000 |        NA |\n",
       "| Indonesia   | 2021 |        NA | 111900000 |\n",
       "\n"
      ],
      "text/plain": [
       "  Country     Year Population GDP      \n",
       "1 Afghanistan 2020  38928000  192910000\n",
       "2 Bangladesh  2020 164689000  164689000\n",
       "3 Cambodia    2020  16719000         NA\n",
       "4 Indonesia   2021        NA  111900000"
      ]
     },
     "metadata": {},
     "output_type": "display_data"
    }
   ],
   "source": [
    "df1 %>% full_join(df2)"
   ]
  },
  {
   "cell_type": "markdown",
   "metadata": {},
   "source": [
    "## Filtering joins"
   ]
  },
  {
   "cell_type": "markdown",
   "metadata": {},
   "source": [
    "Filtering joins match observations in the same way as mutating joins, except that filtering joins affect the observations, not the variables. There are two kinds of filtering joins, namely the **`semi_join( )`** and **`anti_join( )`** functions."
   ]
  },
  {
   "cell_type": "markdown",
   "metadata": {},
   "source": [
    "### Semi join"
   ]
  },
  {
   "cell_type": "markdown",
   "metadata": {},
   "source": [
    "The **`semi_join(x, y)`** function keeps all observations in x that have a match in y."
   ]
  },
  {
   "cell_type": "code",
   "execution_count": 9,
   "metadata": {},
   "outputs": [
    {
     "name": "stderr",
     "output_type": "stream",
     "text": [
      "Joining, by = c(\"Country\", \"Year\")\n",
      "\n"
     ]
    },
    {
     "data": {
      "text/html": [
       "<table>\n",
       "<caption>A tibble: 2 × 3</caption>\n",
       "<thead>\n",
       "\t<tr><th scope=col>Country</th><th scope=col>Year</th><th scope=col>Population</th></tr>\n",
       "\t<tr><th scope=col>&lt;chr&gt;</th><th scope=col>&lt;dbl&gt;</th><th scope=col>&lt;dbl&gt;</th></tr>\n",
       "</thead>\n",
       "<tbody>\n",
       "\t<tr><td>Afghanistan</td><td>2020</td><td> 38928000</td></tr>\n",
       "\t<tr><td>Bangladesh </td><td>2020</td><td>164689000</td></tr>\n",
       "</tbody>\n",
       "</table>\n"
      ],
      "text/latex": [
       "A tibble: 2 × 3\n",
       "\\begin{tabular}{lll}\n",
       " Country & Year & Population\\\\\n",
       " <chr> & <dbl> & <dbl>\\\\\n",
       "\\hline\n",
       "\t Afghanistan & 2020 &  38928000\\\\\n",
       "\t Bangladesh  & 2020 & 164689000\\\\\n",
       "\\end{tabular}\n"
      ],
      "text/markdown": [
       "\n",
       "A tibble: 2 × 3\n",
       "\n",
       "| Country &lt;chr&gt; | Year &lt;dbl&gt; | Population &lt;dbl&gt; |\n",
       "|---|---|---|\n",
       "| Afghanistan | 2020 |  38928000 |\n",
       "| Bangladesh  | 2020 | 164689000 |\n",
       "\n"
      ],
      "text/plain": [
       "  Country     Year Population\n",
       "1 Afghanistan 2020  38928000 \n",
       "2 Bangladesh  2020 164689000 "
      ]
     },
     "metadata": {},
     "output_type": "display_data"
    }
   ],
   "source": [
    "df1 %>% semi_join(df2)"
   ]
  },
  {
   "cell_type": "markdown",
   "metadata": {},
   "source": [
    "### Anti join"
   ]
  },
  {
   "cell_type": "markdown",
   "metadata": {},
   "source": [
    "The **`anti_join(x, y)`** drops all observations in x that have a match in y. This function is useful when diagnosing join mismatches. For example, if you want to know which countries in **`df1`** has no entries in **`df2`**."
   ]
  },
  {
   "cell_type": "code",
   "execution_count": 10,
   "metadata": {},
   "outputs": [
    {
     "name": "stderr",
     "output_type": "stream",
     "text": [
      "Joining, by = c(\"Country\", \"Year\")\n",
      "\n"
     ]
    },
    {
     "data": {
      "text/html": [
       "<table>\n",
       "<caption>A tibble: 1 × 3</caption>\n",
       "<thead>\n",
       "\t<tr><th scope=col>Country</th><th scope=col>Year</th><th scope=col>Population</th></tr>\n",
       "\t<tr><th scope=col>&lt;chr&gt;</th><th scope=col>&lt;dbl&gt;</th><th scope=col>&lt;dbl&gt;</th></tr>\n",
       "</thead>\n",
       "<tbody>\n",
       "\t<tr><td>Cambodia</td><td>2020</td><td>16719000</td></tr>\n",
       "</tbody>\n",
       "</table>\n"
      ],
      "text/latex": [
       "A tibble: 1 × 3\n",
       "\\begin{tabular}{lll}\n",
       " Country & Year & Population\\\\\n",
       " <chr> & <dbl> & <dbl>\\\\\n",
       "\\hline\n",
       "\t Cambodia & 2020 & 16719000\\\\\n",
       "\\end{tabular}\n"
      ],
      "text/markdown": [
       "\n",
       "A tibble: 1 × 3\n",
       "\n",
       "| Country &lt;chr&gt; | Year &lt;dbl&gt; | Population &lt;dbl&gt; |\n",
       "|---|---|---|\n",
       "| Cambodia | 2020 | 16719000 |\n",
       "\n"
      ],
      "text/plain": [
       "  Country  Year Population\n",
       "1 Cambodia 2020 16719000  "
      ]
     },
     "metadata": {},
     "output_type": "display_data"
    }
   ],
   "source": [
    "df1 %>% anti_join(df2)"
   ]
  },
  {
   "cell_type": "markdown",
   "metadata": {},
   "source": [
    "## Set operations"
   ]
  },
  {
   "cell_type": "markdown",
   "metadata": {},
   "source": [
    "Set operations are usefult when you are combining rows or observations. When doing set operations, R expects that both x and y tables have the same variables, and treat the observations like sets, hence the name. Complete the cell below to create two tibbles."
   ]
  },
  {
   "cell_type": "code",
   "execution_count": 11,
   "metadata": {},
   "outputs": [
    {
     "data": {
      "text/html": [
       "<table>\n",
       "<caption>A tibble: 3 × 3</caption>\n",
       "<thead>\n",
       "\t<tr><th scope=col>Country</th><th scope=col>Year</th><th scope=col>Population</th></tr>\n",
       "\t<tr><th scope=col>&lt;chr&gt;</th><th scope=col>&lt;dbl&gt;</th><th scope=col>&lt;dbl&gt;</th></tr>\n",
       "</thead>\n",
       "<tbody>\n",
       "\t<tr><td>Afghanistan</td><td>2020</td><td> 38928000</td></tr>\n",
       "\t<tr><td>Bangladesh </td><td>2020</td><td>164689000</td></tr>\n",
       "\t<tr><td>Cambodia   </td><td>2020</td><td> 16719000</td></tr>\n",
       "</tbody>\n",
       "</table>\n"
      ],
      "text/latex": [
       "A tibble: 3 × 3\n",
       "\\begin{tabular}{lll}\n",
       " Country & Year & Population\\\\\n",
       " <chr> & <dbl> & <dbl>\\\\\n",
       "\\hline\n",
       "\t Afghanistan & 2020 &  38928000\\\\\n",
       "\t Bangladesh  & 2020 & 164689000\\\\\n",
       "\t Cambodia    & 2020 &  16719000\\\\\n",
       "\\end{tabular}\n"
      ],
      "text/markdown": [
       "\n",
       "A tibble: 3 × 3\n",
       "\n",
       "| Country &lt;chr&gt; | Year &lt;dbl&gt; | Population &lt;dbl&gt; |\n",
       "|---|---|---|\n",
       "| Afghanistan | 2020 |  38928000 |\n",
       "| Bangladesh  | 2020 | 164689000 |\n",
       "| Cambodia    | 2020 |  16719000 |\n",
       "\n"
      ],
      "text/plain": [
       "  Country     Year Population\n",
       "1 Afghanistan 2020  38928000 \n",
       "2 Bangladesh  2020 164689000 \n",
       "3 Cambodia    2020  16719000 "
      ]
     },
     "metadata": {},
     "output_type": "display_data"
    },
    {
     "data": {
      "text/html": [
       "<table>\n",
       "<caption>A tibble: 2 × 3</caption>\n",
       "<thead>\n",
       "\t<tr><th scope=col>Country</th><th scope=col>Year</th><th scope=col>Population</th></tr>\n",
       "\t<tr><th scope=col>&lt;chr&gt;</th><th scope=col>&lt;dbl&gt;</th><th scope=col>&lt;dbl&gt;</th></tr>\n",
       "</thead>\n",
       "<tbody>\n",
       "\t<tr><td>Cambodia </td><td>2020</td><td> 16719000</td></tr>\n",
       "\t<tr><td>Indonesia</td><td>2021</td><td>111900000</td></tr>\n",
       "</tbody>\n",
       "</table>\n"
      ],
      "text/latex": [
       "A tibble: 2 × 3\n",
       "\\begin{tabular}{lll}\n",
       " Country & Year & Population\\\\\n",
       " <chr> & <dbl> & <dbl>\\\\\n",
       "\\hline\n",
       "\t Cambodia  & 2020 &  16719000\\\\\n",
       "\t Indonesia & 2021 & 111900000\\\\\n",
       "\\end{tabular}\n"
      ],
      "text/markdown": [
       "\n",
       "A tibble: 2 × 3\n",
       "\n",
       "| Country &lt;chr&gt; | Year &lt;dbl&gt; | Population &lt;dbl&gt; |\n",
       "|---|---|---|\n",
       "| Cambodia  | 2020 |  16719000 |\n",
       "| Indonesia | 2021 | 111900000 |\n",
       "\n"
      ],
      "text/plain": [
       "  Country   Year Population\n",
       "1 Cambodia  2020  16719000 \n",
       "2 Indonesia 2021 111900000 "
      ]
     },
     "metadata": {},
     "output_type": "display_data"
    }
   ],
   "source": [
    "table1  <- tribble(\n",
    "    ~Country, ~Year, ~Population,\n",
    "    \"Afghanistan\", 2020, 38928000,\n",
    "    \"Bangladesh\", 2020, 164689000,\n",
    "    \"Cambodia\", 2020, 16719000\n",
    ")\n",
    "\n",
    "table2  <- tribble(\n",
    "    ~Country, ~Year, ~Population,\n",
    "    \"Cambodia\", 2020, 16719000,\n",
    "    \"Indonesia\", 2021, 111900000\n",
    ")\n",
    "\n",
    "table1\n",
    "table2"
   ]
  },
  {
   "cell_type": "markdown",
   "metadata": {},
   "source": [
    "### Intersect"
   ]
  },
  {
   "cell_type": "markdown",
   "metadata": {},
   "source": [
    "The **`intersect(x, y)`** will return only observations in that are common in both x and y."
   ]
  },
  {
   "cell_type": "code",
   "execution_count": 12,
   "metadata": {},
   "outputs": [
    {
     "data": {
      "text/html": [
       "<table>\n",
       "<caption>A tibble: 1 × 3</caption>\n",
       "<thead>\n",
       "\t<tr><th scope=col>Country</th><th scope=col>Year</th><th scope=col>Population</th></tr>\n",
       "\t<tr><th scope=col>&lt;chr&gt;</th><th scope=col>&lt;dbl&gt;</th><th scope=col>&lt;dbl&gt;</th></tr>\n",
       "</thead>\n",
       "<tbody>\n",
       "\t<tr><td>Cambodia</td><td>2020</td><td>16719000</td></tr>\n",
       "</tbody>\n",
       "</table>\n"
      ],
      "text/latex": [
       "A tibble: 1 × 3\n",
       "\\begin{tabular}{lll}\n",
       " Country & Year & Population\\\\\n",
       " <chr> & <dbl> & <dbl>\\\\\n",
       "\\hline\n",
       "\t Cambodia & 2020 & 16719000\\\\\n",
       "\\end{tabular}\n"
      ],
      "text/markdown": [
       "\n",
       "A tibble: 1 × 3\n",
       "\n",
       "| Country &lt;chr&gt; | Year &lt;dbl&gt; | Population &lt;dbl&gt; |\n",
       "|---|---|---|\n",
       "| Cambodia | 2020 | 16719000 |\n",
       "\n"
      ],
      "text/plain": [
       "  Country  Year Population\n",
       "1 Cambodia 2020 16719000  "
      ]
     },
     "metadata": {},
     "output_type": "display_data"
    }
   ],
   "source": [
    "intersect(table1, table2)"
   ]
  },
  {
   "cell_type": "markdown",
   "metadata": {},
   "source": [
    "### Union"
   ]
  },
  {
   "cell_type": "markdown",
   "metadata": {},
   "source": [
    "The **`union(x, y)`** function will return unique observations in x and y."
   ]
  },
  {
   "cell_type": "code",
   "execution_count": 13,
   "metadata": {},
   "outputs": [
    {
     "data": {
      "text/html": [
       "<table>\n",
       "<caption>A tibble: 4 × 3</caption>\n",
       "<thead>\n",
       "\t<tr><th scope=col>Country</th><th scope=col>Year</th><th scope=col>Population</th></tr>\n",
       "\t<tr><th scope=col>&lt;chr&gt;</th><th scope=col>&lt;dbl&gt;</th><th scope=col>&lt;dbl&gt;</th></tr>\n",
       "</thead>\n",
       "<tbody>\n",
       "\t<tr><td>Afghanistan</td><td>2020</td><td> 38928000</td></tr>\n",
       "\t<tr><td>Bangladesh </td><td>2020</td><td>164689000</td></tr>\n",
       "\t<tr><td>Cambodia   </td><td>2020</td><td> 16719000</td></tr>\n",
       "\t<tr><td>Indonesia  </td><td>2021</td><td>111900000</td></tr>\n",
       "</tbody>\n",
       "</table>\n"
      ],
      "text/latex": [
       "A tibble: 4 × 3\n",
       "\\begin{tabular}{lll}\n",
       " Country & Year & Population\\\\\n",
       " <chr> & <dbl> & <dbl>\\\\\n",
       "\\hline\n",
       "\t Afghanistan & 2020 &  38928000\\\\\n",
       "\t Bangladesh  & 2020 & 164689000\\\\\n",
       "\t Cambodia    & 2020 &  16719000\\\\\n",
       "\t Indonesia   & 2021 & 111900000\\\\\n",
       "\\end{tabular}\n"
      ],
      "text/markdown": [
       "\n",
       "A tibble: 4 × 3\n",
       "\n",
       "| Country &lt;chr&gt; | Year &lt;dbl&gt; | Population &lt;dbl&gt; |\n",
       "|---|---|---|\n",
       "| Afghanistan | 2020 |  38928000 |\n",
       "| Bangladesh  | 2020 | 164689000 |\n",
       "| Cambodia    | 2020 |  16719000 |\n",
       "| Indonesia   | 2021 | 111900000 |\n",
       "\n"
      ],
      "text/plain": [
       "  Country     Year Population\n",
       "1 Afghanistan 2020  38928000 \n",
       "2 Bangladesh  2020 164689000 \n",
       "3 Cambodia    2020  16719000 \n",
       "4 Indonesia   2021 111900000 "
      ]
     },
     "metadata": {},
     "output_type": "display_data"
    }
   ],
   "source": [
    "table1 %>% union(table2)"
   ]
  },
  {
   "cell_type": "markdown",
   "metadata": {},
   "source": [
    "### Setdiff"
   ]
  },
  {
   "cell_type": "markdown",
   "metadata": {},
   "source": [
    "The **`setdiff(x, y)`** function will return observations in x, but not in y."
   ]
  },
  {
   "cell_type": "code",
   "execution_count": 14,
   "metadata": {},
   "outputs": [
    {
     "data": {
      "text/html": [
       "<table>\n",
       "<caption>A tibble: 2 × 3</caption>\n",
       "<thead>\n",
       "\t<tr><th scope=col>Country</th><th scope=col>Year</th><th scope=col>Population</th></tr>\n",
       "\t<tr><th scope=col>&lt;chr&gt;</th><th scope=col>&lt;dbl&gt;</th><th scope=col>&lt;dbl&gt;</th></tr>\n",
       "</thead>\n",
       "<tbody>\n",
       "\t<tr><td>Afghanistan</td><td>2020</td><td> 38928000</td></tr>\n",
       "\t<tr><td>Bangladesh </td><td>2020</td><td>164689000</td></tr>\n",
       "</tbody>\n",
       "</table>\n"
      ],
      "text/latex": [
       "A tibble: 2 × 3\n",
       "\\begin{tabular}{lll}\n",
       " Country & Year & Population\\\\\n",
       " <chr> & <dbl> & <dbl>\\\\\n",
       "\\hline\n",
       "\t Afghanistan & 2020 &  38928000\\\\\n",
       "\t Bangladesh  & 2020 & 164689000\\\\\n",
       "\\end{tabular}\n"
      ],
      "text/markdown": [
       "\n",
       "A tibble: 2 × 3\n",
       "\n",
       "| Country &lt;chr&gt; | Year &lt;dbl&gt; | Population &lt;dbl&gt; |\n",
       "|---|---|---|\n",
       "| Afghanistan | 2020 |  38928000 |\n",
       "| Bangladesh  | 2020 | 164689000 |\n",
       "\n"
      ],
      "text/plain": [
       "  Country     Year Population\n",
       "1 Afghanistan 2020  38928000 \n",
       "2 Bangladesh  2020 164689000 "
      ]
     },
     "metadata": {},
     "output_type": "display_data"
    }
   ],
   "source": [
    "table1 %>% setdiff(table2)"
   ]
  },
  {
   "cell_type": "markdown",
   "metadata": {},
   "source": [
    "The other scenario is that you want to return observations in y, but not in x."
   ]
  },
  {
   "cell_type": "code",
   "execution_count": 15,
   "metadata": {},
   "outputs": [
    {
     "data": {
      "text/html": [
       "<table>\n",
       "<caption>A tibble: 1 × 3</caption>\n",
       "<thead>\n",
       "\t<tr><th scope=col>Country</th><th scope=col>Year</th><th scope=col>Population</th></tr>\n",
       "\t<tr><th scope=col>&lt;chr&gt;</th><th scope=col>&lt;dbl&gt;</th><th scope=col>&lt;dbl&gt;</th></tr>\n",
       "</thead>\n",
       "<tbody>\n",
       "\t<tr><td>Indonesia</td><td>2021</td><td>111900000</td></tr>\n",
       "</tbody>\n",
       "</table>\n"
      ],
      "text/latex": [
       "A tibble: 1 × 3\n",
       "\\begin{tabular}{lll}\n",
       " Country & Year & Population\\\\\n",
       " <chr> & <dbl> & <dbl>\\\\\n",
       "\\hline\n",
       "\t Indonesia & 2021 & 111900000\\\\\n",
       "\\end{tabular}\n"
      ],
      "text/markdown": [
       "\n",
       "A tibble: 1 × 3\n",
       "\n",
       "| Country &lt;chr&gt; | Year &lt;dbl&gt; | Population &lt;dbl&gt; |\n",
       "|---|---|---|\n",
       "| Indonesia | 2021 | 111900000 |\n",
       "\n"
      ],
      "text/plain": [
       "  Country   Year Population\n",
       "1 Indonesia 2021 111900000 "
      ]
     },
     "metadata": {},
     "output_type": "display_data"
    }
   ],
   "source": [
    "table2 %>% setdiff(table1)"
   ]
  },
  {
   "cell_type": "markdown",
   "metadata": {},
   "source": [
    "# Joining tables"
   ]
  },
  {
   "cell_type": "markdown",
   "metadata": {},
   "source": [
    "In this notebook, you will continue exploring the [COVID-19 dataset](https://github.com/CSSEGISandData/COVID-19/tree/master/csse_covid_19_data/csse_covid_19_time_series) to answer the question, how is the COVID-19 situation in your country? In the previous exercise, you analyzed the total number of COVID-19 cases over time to see how the pandemic is expanding in your country and in other countries. However, since the population among countries varies, it is better to compare COVID-19 cases per unit population rather than comparing absolute numbers. Thus, the population data from [World Bank](https://datacatalog.worldbank.org/dataset/population-estimates-and-projections) is needed in this analysis, which would require merging the two datasets to answer the question."
   ]
  },
  {
   "cell_type": "markdown",
   "metadata": {},
   "source": [
    "### COVID-19 dataset"
   ]
  },
  {
   "cell_type": "markdown",
   "metadata": {},
   "source": [
    "Load the tidy confirmed COVID-19 dataset that you worked in the previous notebook. Use the **`col_types`** argument to explicitly tell R the type of vector for each column."
   ]
  },
  {
   "cell_type": "code",
   "execution_count": 16,
   "metadata": {},
   "outputs": [
    {
     "data": {
      "text/html": [
       "<table>\n",
       "<caption>A tibble: 6 × 3</caption>\n",
       "<thead>\n",
       "\t<tr><th scope=col>Country/Region</th><th scope=col>date</th><th scope=col>cases</th></tr>\n",
       "\t<tr><th scope=col>&lt;chr&gt;</th><th scope=col>&lt;date&gt;</th><th scope=col>&lt;dbl&gt;</th></tr>\n",
       "</thead>\n",
       "<tbody>\n",
       "\t<tr><td>Afghanistan</td><td>2020-01-22</td><td>0</td></tr>\n",
       "\t<tr><td>Afghanistan</td><td>2020-01-23</td><td>0</td></tr>\n",
       "\t<tr><td>Afghanistan</td><td>2020-01-24</td><td>0</td></tr>\n",
       "\t<tr><td>Afghanistan</td><td>2020-01-25</td><td>0</td></tr>\n",
       "\t<tr><td>Afghanistan</td><td>2020-01-26</td><td>0</td></tr>\n",
       "\t<tr><td>Afghanistan</td><td>2020-01-27</td><td>0</td></tr>\n",
       "</tbody>\n",
       "</table>\n"
      ],
      "text/latex": [
       "A tibble: 6 × 3\n",
       "\\begin{tabular}{lll}\n",
       " Country/Region & date & cases\\\\\n",
       " <chr> & <date> & <dbl>\\\\\n",
       "\\hline\n",
       "\t Afghanistan & 2020-01-22 & 0\\\\\n",
       "\t Afghanistan & 2020-01-23 & 0\\\\\n",
       "\t Afghanistan & 2020-01-24 & 0\\\\\n",
       "\t Afghanistan & 2020-01-25 & 0\\\\\n",
       "\t Afghanistan & 2020-01-26 & 0\\\\\n",
       "\t Afghanistan & 2020-01-27 & 0\\\\\n",
       "\\end{tabular}\n"
      ],
      "text/markdown": [
       "\n",
       "A tibble: 6 × 3\n",
       "\n",
       "| Country/Region &lt;chr&gt; | date &lt;date&gt; | cases &lt;dbl&gt; |\n",
       "|---|---|---|\n",
       "| Afghanistan | 2020-01-22 | 0 |\n",
       "| Afghanistan | 2020-01-23 | 0 |\n",
       "| Afghanistan | 2020-01-24 | 0 |\n",
       "| Afghanistan | 2020-01-25 | 0 |\n",
       "| Afghanistan | 2020-01-26 | 0 |\n",
       "| Afghanistan | 2020-01-27 | 0 |\n",
       "\n"
      ],
      "text/plain": [
       "  Country/Region date       cases\n",
       "1 Afghanistan    2020-01-22 0    \n",
       "2 Afghanistan    2020-01-23 0    \n",
       "3 Afghanistan    2020-01-24 0    \n",
       "4 Afghanistan    2020-01-25 0    \n",
       "5 Afghanistan    2020-01-26 0    \n",
       "6 Afghanistan    2020-01-27 0    "
      ]
     },
     "metadata": {},
     "output_type": "display_data"
    }
   ],
   "source": [
    "confirmed_covid  <- read_csv(\"confirmed_covid_tidy.csv\",\n",
    "                             col_types = cols(\n",
    "                                 `Country/Region` = col_character(),\n",
    "                                 date = col_date(format = \"%m/%d/%y\"),\n",
    "                                 cases = col_double()\n",
    "                             )\n",
    "                            )\n",
    "\n",
    "head(confirmed_covid)"
   ]
  },
  {
   "cell_type": "markdown",
   "metadata": {},
   "source": [
    "### Population dataset"
   ]
  },
  {
   "cell_type": "markdown",
   "metadata": {},
   "source": [
    "Load the tidy population dataset that you did in the previous notebook. "
   ]
  },
  {
   "cell_type": "code",
   "execution_count": 17,
   "metadata": {},
   "outputs": [
    {
     "name": "stderr",
     "output_type": "stream",
     "text": [
      "\n",
      "\u001b[36m──\u001b[39m \u001b[1m\u001b[1mColumn specification\u001b[1m\u001b[22m \u001b[36m─────────────────────────────────────────────────────\u001b[39m\n",
      "cols(\n",
      "  `Country Name` = \u001b[31mcol_character()\u001b[39m,\n",
      "  year = \u001b[32mcol_double()\u001b[39m,\n",
      "  population = \u001b[32mcol_double()\u001b[39m\n",
      ")\n",
      "\n",
      "\n"
     ]
    },
    {
     "data": {
      "text/html": [
       "<table>\n",
       "<caption>A tibble: 6 × 3</caption>\n",
       "<thead>\n",
       "\t<tr><th scope=col>Country Name</th><th scope=col>year</th><th scope=col>population</th></tr>\n",
       "\t<tr><th scope=col>&lt;chr&gt;</th><th scope=col>&lt;dbl&gt;</th><th scope=col>&lt;dbl&gt;</th></tr>\n",
       "</thead>\n",
       "<tbody>\n",
       "\t<tr><td>Afghanistan</td><td>1960</td><td>8996973</td></tr>\n",
       "\t<tr><td>Afghanistan</td><td>1961</td><td>9169410</td></tr>\n",
       "\t<tr><td>Afghanistan</td><td>1962</td><td>9351441</td></tr>\n",
       "\t<tr><td>Afghanistan</td><td>1963</td><td>9543205</td></tr>\n",
       "\t<tr><td>Afghanistan</td><td>1964</td><td>9744781</td></tr>\n",
       "\t<tr><td>Afghanistan</td><td>1965</td><td>9956320</td></tr>\n",
       "</tbody>\n",
       "</table>\n"
      ],
      "text/latex": [
       "A tibble: 6 × 3\n",
       "\\begin{tabular}{lll}\n",
       " Country Name & year & population\\\\\n",
       " <chr> & <dbl> & <dbl>\\\\\n",
       "\\hline\n",
       "\t Afghanistan & 1960 & 8996973\\\\\n",
       "\t Afghanistan & 1961 & 9169410\\\\\n",
       "\t Afghanistan & 1962 & 9351441\\\\\n",
       "\t Afghanistan & 1963 & 9543205\\\\\n",
       "\t Afghanistan & 1964 & 9744781\\\\\n",
       "\t Afghanistan & 1965 & 9956320\\\\\n",
       "\\end{tabular}\n"
      ],
      "text/markdown": [
       "\n",
       "A tibble: 6 × 3\n",
       "\n",
       "| Country Name &lt;chr&gt; | year &lt;dbl&gt; | population &lt;dbl&gt; |\n",
       "|---|---|---|\n",
       "| Afghanistan | 1960 | 8996973 |\n",
       "| Afghanistan | 1961 | 9169410 |\n",
       "| Afghanistan | 1962 | 9351441 |\n",
       "| Afghanistan | 1963 | 9543205 |\n",
       "| Afghanistan | 1964 | 9744781 |\n",
       "| Afghanistan | 1965 | 9956320 |\n",
       "\n"
      ],
      "text/plain": [
       "  Country Name year population\n",
       "1 Afghanistan  1960 8996973   \n",
       "2 Afghanistan  1961 9169410   \n",
       "3 Afghanistan  1962 9351441   \n",
       "4 Afghanistan  1963 9543205   \n",
       "5 Afghanistan  1964 9744781   \n",
       "6 Afghanistan  1965 9956320   "
      ]
     },
     "metadata": {},
     "output_type": "display_data"
    }
   ],
   "source": [
    "population  <- read_csv(\"population_tidy.csv\")\n",
    "head(population)"
   ]
  },
  {
   "cell_type": "markdown",
   "metadata": {},
   "source": [
    "Next, subset the population data for 2020 and then select only the columns containing country names and population, which will be needed for the analysis."
   ]
  },
  {
   "cell_type": "code",
   "execution_count": 18,
   "metadata": {},
   "outputs": [
    {
     "data": {
      "text/html": [
       "<table>\n",
       "<caption>A tibble: 6 × 2</caption>\n",
       "<thead>\n",
       "\t<tr><th scope=col>Country Name</th><th scope=col>population</th></tr>\n",
       "\t<tr><th scope=col>&lt;chr&gt;</th><th scope=col>&lt;dbl&gt;</th></tr>\n",
       "</thead>\n",
       "<tbody>\n",
       "\t<tr><td>Afghanistan   </td><td>38928000</td></tr>\n",
       "\t<tr><td>Albania       </td><td> 2850000</td></tr>\n",
       "\t<tr><td>Algeria       </td><td>43851000</td></tr>\n",
       "\t<tr><td>American Samoa</td><td>   55000</td></tr>\n",
       "\t<tr><td>Andorra       </td><td>   77000</td></tr>\n",
       "\t<tr><td>Angola        </td><td>32866000</td></tr>\n",
       "</tbody>\n",
       "</table>\n"
      ],
      "text/latex": [
       "A tibble: 6 × 2\n",
       "\\begin{tabular}{ll}\n",
       " Country Name & population\\\\\n",
       " <chr> & <dbl>\\\\\n",
       "\\hline\n",
       "\t Afghanistan    & 38928000\\\\\n",
       "\t Albania        &  2850000\\\\\n",
       "\t Algeria        & 43851000\\\\\n",
       "\t American Samoa &    55000\\\\\n",
       "\t Andorra        &    77000\\\\\n",
       "\t Angola         & 32866000\\\\\n",
       "\\end{tabular}\n"
      ],
      "text/markdown": [
       "\n",
       "A tibble: 6 × 2\n",
       "\n",
       "| Country Name &lt;chr&gt; | population &lt;dbl&gt; |\n",
       "|---|---|\n",
       "| Afghanistan    | 38928000 |\n",
       "| Albania        |  2850000 |\n",
       "| Algeria        | 43851000 |\n",
       "| American Samoa |    55000 |\n",
       "| Andorra        |    77000 |\n",
       "| Angola         | 32866000 |\n",
       "\n"
      ],
      "text/plain": [
       "  Country Name   population\n",
       "1 Afghanistan    38928000  \n",
       "2 Albania         2850000  \n",
       "3 Algeria        43851000  \n",
       "4 American Samoa    55000  \n",
       "5 Andorra           77000  \n",
       "6 Angola         32866000  "
      ]
     },
     "metadata": {},
     "output_type": "display_data"
    }
   ],
   "source": [
    "population_2020  <- population %>% \n",
    "                        filter(year == 2020) %>%\n",
    "                        select(`Country Name`, population)\n",
    "head(population_2020)"
   ]
  },
  {
   "cell_type": "markdown",
   "metadata": {},
   "source": [
    "Then, merge the confirmed COVID-19 and the population datasets."
   ]
  },
  {
   "cell_type": "code",
   "execution_count": 19,
   "metadata": {},
   "outputs": [],
   "source": [
    "merge  <- confirmed_covid %>% \n",
    "            left_join(population_2020,\n",
    "                     by = c(\"Country/Region\" = \"Country Name\")\n",
    "                     )"
   ]
  },
  {
   "cell_type": "markdown",
   "metadata": {},
   "source": [
    "Now, that you have combined the two tables, you can now create a new column containing the number of confirmed COVID-19 cases per 100,000 population."
   ]
  },
  {
   "cell_type": "code",
   "execution_count": 20,
   "metadata": {},
   "outputs": [],
   "source": [
    "merge  <- merge %>%\n",
    "            mutate(rate = (cases/population) * 100000)"
   ]
  },
  {
   "cell_type": "markdown",
   "metadata": {},
   "source": [
    "So, you can now generate a plot the to answer the question, how is the COVID-19 situation in your country, and compare it with other countries. You may modify the list countries to be included in the graph."
   ]
  },
  {
   "cell_type": "code",
   "execution_count": 21,
   "metadata": {},
   "outputs": [
    {
     "data": {
      "image/png": "[encoded data removed]",
      "text/plain": [
       "plot without title"
      ]
     },
     "metadata": {
      "image/png": {
       "height": 420,
       "width": 420
      }
     },
     "output_type": "display_data"
    }
   ],
   "source": [
    "merge %>% \n",
    "    filter(`Country/Region` %in% c(\"China\", \"Japan\", \"India\", \"Indonesia\", \"Philippines\")) %>% \n",
    "    ggplot(aes(date, rate, color = `Country/Region`)) +\n",
    "    geom_line() +\n",
    "    labs(\n",
    "        x = \"\",\n",
    "        y = \"Confirmed COVID-19 cases (per 100,000 population)\"\n",
    "        )"
   ]
  },
  {
   "cell_type": "markdown",
   "metadata": {},
   "source": [
    "Generate the same plot but in logarithmic scale, which will help you visualize early, middle (log phase), or late exponential growth."
   ]
  },
  {
   "cell_type": "code",
   "execution_count": 22,
   "metadata": {},
   "outputs": [
    {
     "data": {
      "image/png": "[encoded data removed]",
      "text/plain": [
       "plot without title"
      ]
     },
     "metadata": {
      "image/png": {
       "height": 420,
       "width": 420
      }
     },
     "output_type": "display_data"
    }
   ],
   "source": [
    "merge %>% \n",
    "    filter(`Country/Region` %in% c(\"China\", \"Japan\", \"India\", \"Indonesia\", \"Philippines\")) %>% \n",
    "    ggplot(aes(date, log(rate), color = `Country/Region`)) +\n",
    "    geom_line() +\n",
    "    labs(\n",
    "        x = \"\",\n",
    "        y = \"Confirmed COVID-19 cases (per 100,000 population)\"\n",
    "        )"
   ]
  },
  {
   "cell_type": "markdown",
   "metadata": {},
   "source": [
    "## Saving your data"
   ]
  },
  {
   "cell_type": "markdown",
   "metadata": {},
   "source": [
    "Before you end this exercise, save the merged data in either csv or RDS format."
   ]
  },
  {
   "cell_type": "code",
   "execution_count": 23,
   "metadata": {},
   "outputs": [],
   "source": [
    "# Save the merged data on population and confirmed COVID-19 cases\n",
    "write_csv(merge,\n",
    "         file = \"merged_data.csv\")"
   ]
  }
 ],
 "metadata": {
  "kernelspec": {
   "display_name": "R",
   "language": "R",
   "name": "ir"
  },
  "language_info": {
   "codemirror_mode": "r",
   "file_extension": ".r",
   "mimetype": "text/x-r-source",
   "name": "R",
   "pygments_lexer": "r",
   "version": "4.0.3"
  }
 },
 "nbformat": 4,
 "nbformat_minor": 4
}
