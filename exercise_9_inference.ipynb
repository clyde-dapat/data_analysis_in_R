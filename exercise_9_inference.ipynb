{
 "cells": [
  {
   "cell_type": "markdown",
   "id": "eligible-buffer",
   "metadata": {},
   "source": [
    "# Exercise: Statistical Inference"
   ]
  },
  {
   "cell_type": "markdown",
   "id": "refined-sympathy",
   "metadata": {},
   "source": [
    "Statistical inference is important if you want to know that the variable estimate in your dataset (e.g. mean, difference in proportions, confidence interval, etc.) is close to that in the target population of interest. For example, if you were to conduct a clinical trial of your new locally manufactured COVID-19 vaccine in your country to prove that it is better than imported vaccines. The fantasy scenario in this case would be that you are almighty and all-powerful and when you do this study, everyone in your country participated in the trial. You can pinch yourself now and welcome back to reality. So, you performed the clinical trial and enrolled 15,000 subjects in each group and followed the protocol to the dot. Results showed that the efficacy of your local vaccine is 99% vs 50% when compared to imported vaccine. Here, you will perform statistical inference to show that your local vaccine is better in protecting your fellow citizens than the imported one. "
   ]
  },
  {
   "cell_type": "markdown",
   "id": "incoming-palestine",
   "metadata": {},
   "source": [
    "When you finish this exercise, you learn how to:\n",
    "1. perform hypothesis testing\n",
    "2. use the **tidymodels** package for statistical analysis"
   ]
  },
  {
   "cell_type": "markdown",
   "id": "artificial-algorithm",
   "metadata": {},
   "source": [
    "Load the **tidyverse** package."
   ]
  },
  {
   "cell_type": "code",
   "execution_count": 6,
   "id": "premier-athletics",
   "metadata": {},
   "outputs": [
    {
     "name": "stderr",
     "output_type": "stream",
     "text": [
      "── \u001b[1mAttaching packages\u001b[22m ─────────────────────────────────────── tidyverse 1.3.0 ──\n",
      "\n",
      "\u001b[32m✔\u001b[39m \u001b[34mreadr  \u001b[39m 1.4.0     \u001b[32m✔\u001b[39m \u001b[34mforcats\u001b[39m 0.5.0\n",
      "\u001b[32m✔\u001b[39m \u001b[34mstringr\u001b[39m 1.4.0     \n",
      "\n",
      "── \u001b[1mConflicts\u001b[22m ────────────────────────────────────────── tidyverse_conflicts() ──\n",
      "\u001b[31m✖\u001b[39m \u001b[34mreadr\u001b[39m::\u001b[32mcol_factor()\u001b[39m masks \u001b[34mscales\u001b[39m::col_factor()\n",
      "\u001b[31m✖\u001b[39m \u001b[34mpurrr\u001b[39m::\u001b[32mdiscard()\u001b[39m    masks \u001b[34mscales\u001b[39m::discard()\n",
      "\u001b[31m✖\u001b[39m \u001b[34mdplyr\u001b[39m::\u001b[32mfilter()\u001b[39m     masks \u001b[34mstats\u001b[39m::filter()\n",
      "\u001b[31m✖\u001b[39m \u001b[34mstringr\u001b[39m::\u001b[32mfixed()\u001b[39m    masks \u001b[34mrecipes\u001b[39m::fixed()\n",
      "\u001b[31m✖\u001b[39m \u001b[34mdplyr\u001b[39m::\u001b[32mlag()\u001b[39m        masks \u001b[34mstats\u001b[39m::lag()\n",
      "\u001b[31m✖\u001b[39m \u001b[34mreadr\u001b[39m::\u001b[32mspec()\u001b[39m       masks \u001b[34myardstick\u001b[39m::spec()\n",
      "\n"
     ]
    }
   ],
   "source": [
    "# Load tidyverse\n",
    "library(tidyverse)"
   ]
  },
  {
   "cell_type": "markdown",
   "id": "transsexual-fraction",
   "metadata": {},
   "source": [
    "Install and load the **tidymodels** package."
   ]
  },
  {
   "cell_type": "code",
   "execution_count": 1,
   "id": "deluxe-contamination",
   "metadata": {},
   "outputs": [
    {
     "name": "stderr",
     "output_type": "stream",
     "text": [
      "Installing package into ‘/Users/claudius/Rlibs’\n",
      "(as ‘lib’ is unspecified)\n",
      "\n"
     ]
    },
    {
     "name": "stdout",
     "output_type": "stream",
     "text": [
      "\n",
      "The downloaded binary packages are in\n",
      "\t/var/folders/m3/f7k_g43n5fv7hmfnmvx4njhh0000gn/T//RtmpQHOmMm/downloaded_packages\n"
     ]
    }
   ],
   "source": [
    "# Install tidymodels\n",
    "install.packages(\"tidymodels\")"
   ]
  },
  {
   "cell_type": "code",
   "execution_count": 2,
   "id": "opening-cooking",
   "metadata": {},
   "outputs": [
    {
     "name": "stderr",
     "output_type": "stream",
     "text": [
      "── \u001b[1mAttaching packages\u001b[22m ────────────────────────────────────── tidymodels 0.1.2 ──\n",
      "\n",
      "\u001b[32m✔\u001b[39m \u001b[34mbroom    \u001b[39m 0.7.2      \u001b[32m✔\u001b[39m \u001b[34mrecipes  \u001b[39m 0.1.15\n",
      "\u001b[32m✔\u001b[39m \u001b[34mdials    \u001b[39m 0.0.9      \u001b[32m✔\u001b[39m \u001b[34mrsample  \u001b[39m 0.0.9 \n",
      "\u001b[32m✔\u001b[39m \u001b[34mdplyr    \u001b[39m 1.0.2      \u001b[32m✔\u001b[39m \u001b[34mtibble   \u001b[39m 3.0.4 \n",
      "\u001b[32m✔\u001b[39m \u001b[34mggplot2  \u001b[39m 3.3.2      \u001b[32m✔\u001b[39m \u001b[34mtidyr    \u001b[39m 1.1.2 \n",
      "\u001b[32m✔\u001b[39m \u001b[34minfer    \u001b[39m 0.5.3      \u001b[32m✔\u001b[39m \u001b[34mtune     \u001b[39m 0.1.2 \n",
      "\u001b[32m✔\u001b[39m \u001b[34mmodeldata\u001b[39m 0.1.0      \u001b[32m✔\u001b[39m \u001b[34mworkflows\u001b[39m 0.2.1 \n",
      "\u001b[32m✔\u001b[39m \u001b[34mparsnip  \u001b[39m 0.1.5      \u001b[32m✔\u001b[39m \u001b[34myardstick\u001b[39m 0.0.7 \n",
      "\u001b[32m✔\u001b[39m \u001b[34mpurrr    \u001b[39m 0.3.4      \n",
      "\n",
      "── \u001b[1mConflicts\u001b[22m ───────────────────────────────────────── tidymodels_conflicts() ──\n",
      "\u001b[31m✖\u001b[39m \u001b[34mpurrr\u001b[39m::\u001b[32mdiscard()\u001b[39m masks \u001b[34mscales\u001b[39m::discard()\n",
      "\u001b[31m✖\u001b[39m \u001b[34mdplyr\u001b[39m::\u001b[32mfilter()\u001b[39m  masks \u001b[34mstats\u001b[39m::filter()\n",
      "\u001b[31m✖\u001b[39m \u001b[34mdplyr\u001b[39m::\u001b[32mlag()\u001b[39m     masks \u001b[34mstats\u001b[39m::lag()\n",
      "\u001b[31m✖\u001b[39m \u001b[34mrecipes\u001b[39m::\u001b[32mstep()\u001b[39m  masks \u001b[34mstats\u001b[39m::step()\n",
      "\n"
     ]
    }
   ],
   "source": [
    "# Load tidymodels\n",
    "library(tidymodels)"
   ]
  },
  {
   "cell_type": "code",
   "execution_count": 3,
   "id": "automatic-installation",
   "metadata": {},
   "outputs": [
    {
     "data": {
      "text/html": [
       "\n",
       "<table width=\"100%\" summary=\"page for tidymodels-package {tidymodels}\"><tr><td>tidymodels-package {tidymodels}</td><td style=\"text-align: right;\">R Documentation</td></tr></table>\n",
       "\n",
       "<h2>tidymodels: Easily Install and Load the 'Tidymodels' Packages</h2>\n",
       "\n",
       "<h3>Description</h3>\n",
       "\n",
       "<p>The tidy modeling &quot;verse&quot; is a collection of packages for \n",
       "modeling and statistical analysis that share the underlying design\n",
       "philosophy, grammar, and data structures of the tidyverse.\n",
       "</p>\n",
       "\n",
       "\n",
       "<h3>Author(s)</h3>\n",
       "\n",
       "<p><strong>Maintainer</strong>: Max Kuhn <a href=\"mailto:max@rstudio.com\">max@rstudio.com</a>\n",
       "</p>\n",
       "<p>Authors:\n",
       "</p>\n",
       "\n",
       "<ul>\n",
       "<li><p> Hadley Wickham <a href=\"mailto:hadley@rstudio.com\">hadley@rstudio.com</a>\n",
       "</p>\n",
       "</li></ul>\n",
       "\n",
       "<p>Other contributors:\n",
       "</p>\n",
       "\n",
       "<ul>\n",
       "<li><p> RStudio [copyright holder, funder]\n",
       "</p>\n",
       "</li></ul>\n",
       "\n",
       "\n",
       "\n",
       "<h3>See Also</h3>\n",
       "\n",
       "<p>Useful links:\n",
       "</p>\n",
       "\n",
       "<ul>\n",
       "<li> <p><a href=\"https://tidymodels.tidymodels.org\">https://tidymodels.tidymodels.org</a>\n",
       "</p>\n",
       "</li>\n",
       "<li> <p><a href=\"https://github.com/tidymodels/tidymodels\">https://github.com/tidymodels/tidymodels</a>\n",
       "</p>\n",
       "</li>\n",
       "<li><p> Report bugs at <a href=\"https://github.com/tidymodels/tidymodels/issues\">https://github.com/tidymodels/tidymodels/issues</a>\n",
       "</p>\n",
       "</li></ul>\n",
       "\n",
       "\n",
       "<hr /><div style=\"text-align: center;\">[Package <em>tidymodels</em> version 0.1.2 ]</div>"
      ],
      "text/latex": [
       "\\inputencoding{utf8}\n",
       "\\HeaderA{tidymodels-package}{tidymodels: Easily Install and Load the 'Tidymodels' Packages}{tidymodels.Rdash.package}\n",
       "\\aliasA{tidymodels}{tidymodels-package}{tidymodels}\n",
       "\\keyword{internal}{tidymodels-package}\n",
       "%\n",
       "\\begin{Description}\\relax\n",
       "The tidy modeling \"verse\" is a collection of packages for \n",
       "modeling and statistical analysis that share the underlying design\n",
       "philosophy, grammar, and data structures of the tidyverse.\n",
       "\\end{Description}\n",
       "%\n",
       "\\begin{Author}\\relax\n",
       "\\strong{Maintainer}: Max Kuhn \\email{max@rstudio.com}\n",
       "\n",
       "Authors:\n",
       "\\begin{itemize}\n",
       "\n",
       "\\item{} Hadley Wickham \\email{hadley@rstudio.com}\n",
       "\n",
       "\\end{itemize}\n",
       "\n",
       "\n",
       "Other contributors:\n",
       "\\begin{itemize}\n",
       "\n",
       "\\item{} RStudio [copyright holder, funder]\n",
       "\n",
       "\\end{itemize}\n",
       "\n",
       "\n",
       "\\end{Author}\n",
       "%\n",
       "\\begin{SeeAlso}\\relax\n",
       "Useful links:\n",
       "\\begin{itemize}\n",
       "\n",
       "\\item{} \\url{https://tidymodels.tidymodels.org}\n",
       "\\item{} \\url{https://github.com/tidymodels/tidymodels}\n",
       "\\item{} Report bugs at \\url{https://github.com/tidymodels/tidymodels/issues}\n",
       "\n",
       "\\end{itemize}\n",
       "\n",
       "\n",
       "\\end{SeeAlso}"
      ],
      "text/plain": [
       "tidymodels-package         package:tidymodels          R Documentation\n",
       "\n",
       "_\bt_\bi_\bd_\by_\bm_\bo_\bd_\be_\bl_\bs: _\bE_\ba_\bs_\bi_\bl_\by _\bI_\bn_\bs_\bt_\ba_\bl_\bl _\ba_\bn_\bd _\bL_\bo_\ba_\bd _\bt_\bh_\be '_\bT_\bi_\bd_\by_\bm_\bo_\bd_\be_\bl_\bs' _\bP_\ba_\bc_\bk_\ba_\bg_\be_\bs\n",
       "\n",
       "_\bD_\be_\bs_\bc_\br_\bi_\bp_\bt_\bi_\bo_\bn:\n",
       "\n",
       "     The tidy modeling \"verse\" is a collection of packages for modeling\n",
       "     and statistical analysis that share the underlying design\n",
       "     philosophy, grammar, and data structures of the tidyverse.\n",
       "\n",
       "_\bA_\bu_\bt_\bh_\bo_\br(_\bs):\n",
       "\n",
       "     *Maintainer*: Max Kuhn <email: max@rstudio.com>\n",
       "\n",
       "     Authors:\n",
       "\n",
       "        • Hadley Wickham <email: hadley@rstudio.com>\n",
       "\n",
       "     Other contributors:\n",
       "\n",
       "        • RStudio [copyright holder, funder]\n",
       "\n",
       "_\bS_\be_\be _\bA_\bl_\bs_\bo:\n",
       "\n",
       "     Useful links:\n",
       "\n",
       "        • <URL: https://tidymodels.tidymodels.org>\n",
       "\n",
       "        • <URL: https://github.com/tidymodels/tidymodels>\n",
       "\n",
       "        • Report bugs at <URL:\n",
       "          https://github.com/tidymodels/tidymodels/issues>\n"
      ]
     },
     "metadata": {},
     "output_type": "display_data"
    }
   ],
   "source": [
    "# Read the documentation\n",
    "help(\"tidymodels\")"
   ]
  },
  {
   "cell_type": "code",
   "execution_count": null,
   "id": "fluid-vanilla",
   "metadata": {},
   "outputs": [],
   "source": []
  }
 ],
 "metadata": {
  "kernelspec": {
   "display_name": "R",
   "language": "R",
   "name": "ir"
  },
  "language_info": {
   "codemirror_mode": "r",
   "file_extension": ".r",
   "mimetype": "text/x-r-source",
   "name": "R",
   "pygments_lexer": "r",
   "version": "4.0.3"
  }
 },
 "nbformat": 4,
 "nbformat_minor": 5
}
