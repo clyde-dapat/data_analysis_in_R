{
 "cells": [
  {
   "cell_type": "markdown",
   "metadata": {},
   "source": [
    "# Exercise: Importing Data"
   ]
  },
  {
   "cell_type": "markdown",
   "metadata": {},
   "source": [
    "Before you can interrogate your data, you need to learn how to load your data in R."
   ]
  },
  {
   "cell_type": "markdown",
   "metadata": {},
   "source": [
    "When you finish this exercise, you will learn how to:\n",
    "1. import plain text files \n",
    "2. import excel files\n",
    "3. download files from the web\n",
    "4. save files in your local machine"
   ]
  },
  {
   "cell_type": "markdown",
   "metadata": {},
   "source": [
    "## Working Directory in R"
   ]
  },
  {
   "cell_type": "markdown",
   "metadata": {},
   "source": [
    "When you are analyzing your data in R, it is important that you know your working directory and the location of your data on your local machine. Recall the ***Data_analysis*** folder that you created at the beginning of this class, that is your working directory. The working directory is the directory in which R will save or look for files by default. Check your current working directory using the **`getwd( )`** command."
   ]
  },
  {
   "cell_type": "code",
   "execution_count": 1,
   "metadata": {},
   "outputs": [
    {
     "data": {
      "text/html": [
       "'/Users/claudius/Data_analysis'"
      ],
      "text/latex": [
       "'/Users/claudius/Data\\_analysis'"
      ],
      "text/markdown": [
       "'/Users/claudius/Data_analysis'"
      ],
      "text/plain": [
       "[1] \"/Users/claudius/Data_analysis\""
      ]
     },
     "metadata": {},
     "output_type": "display_data"
    }
   ],
   "source": [
    "# Present working directory\n",
    "getwd()"
   ]
  },
  {
   "cell_type": "markdown",
   "metadata": {},
   "source": [
    "The output above is the full path of your directory. When you are working on your future projects, you can change the working directory using the **`setwd( )`** function."
   ]
  },
  {
   "cell_type": "markdown",
   "metadata": {},
   "source": [
    "When you are opening or saving a file in R, the default folder is the current working directory, unless you tell R the full path of the folder where the file is located. Invoking the full path in R requires you to use a forward slash **`/`** or back slash **`\\`**, which depends on your OS. In this case, it is convenient to use the **`file.path( )`** function since R automatically recognizes your file system. It is also a good habit to create a data folder within your working directory to organize your files. Use the **`dir.create( )`** function to create a data folder. For lack of creativity, just name your data folder, ***`data`***. "
   ]
  },
  {
   "cell_type": "code",
   "execution_count": 2,
   "metadata": {},
   "outputs": [],
   "source": [
    "# Full path of new folder\n",
    "path <- \"/Users/claudius/Data_analysis/data\"\n",
    "# Create a new folder\n",
    "dir.create(file.path(path))"
   ]
  },
  {
   "cell_type": "markdown",
   "metadata": {},
   "source": [
    "Use the **`list.files( )`** or **`dir( )`** command to list the files inside a directory."
   ]
  },
  {
   "cell_type": "code",
   "execution_count": 3,
   "metadata": {},
   "outputs": [
    {
     "data": {
      "text/html": [
       "<style>\n",
       ".list-inline {list-style: none; margin:0; padding: 0}\n",
       ".list-inline>li {display: inline-block}\n",
       ".list-inline>li:not(:last-child)::after {content: \"\\00b7\"; padding: 0 .5ex}\n",
       "</style>\n",
       "<ol class=list-inline><li>'confirmed_covid.rds'</li><li>'confirmed_tidy.csv'</li><li>'data'</li><li>'data_1_plot.pdf'</li><li>'Data_analysis.Rproj'</li><li>'exercise_control_flow.ipynb'</li><li>'exercise_variables.ipynb'</li><li>'lect_2_script.R'</li><li>'lect_3_script.R'</li><li>'lect_4_script.R'</li><li>'lect_5_script.R'</li><li>'lect_6_script.R'</li><li>'lect3.RData'</li><li>'lect4.RData'</li><li>'lect5.RData'</li><li>'lect6.RData'</li><li>'patient_headless.csv'</li><li>'patient.csv'</li><li>'patient.txt'</li><li>'patient.xlsx'</li><li>'population_tidy.csv'</li><li>'population_total.csv'</li><li>'population_total.xlsx'</li><li>'Population-EstimatesEXCEL.xlsx'</li><li>'population.csv'</li><li>'population.rds'</li><li>'population.xlsx'</li><li>'recovered_covid.csv'</li><li>'Rplot.png'</li><li>'solution_exercise_control_flow.ipynb'</li><li>'solution_exercise_importing_data.ipynb'</li><li>'solution_exercise_tidying_data.ipynb'</li><li>'solution_exercise_variables.ipynb'</li><li>'solution_merging_data.ipynb'</li><li>'temp.ipynb'</li><li>'time_series_covid19_confirmed_global.csv'</li><li>'WPP2019_POP_F01_1_TOTAL_POPULATION_BOTH_SEXES.xlsx'</li></ol>\n"
      ],
      "text/latex": [
       "\\begin{enumerate*}\n",
       "\\item 'confirmed\\_covid.rds'\n",
       "\\item 'confirmed\\_tidy.csv'\n",
       "\\item 'data'\n",
       "\\item 'data\\_1\\_plot.pdf'\n",
       "\\item 'Data\\_analysis.Rproj'\n",
       "\\item 'exercise\\_control\\_flow.ipynb'\n",
       "\\item 'exercise\\_variables.ipynb'\n",
       "\\item 'lect\\_2\\_script.R'\n",
       "\\item 'lect\\_3\\_script.R'\n",
       "\\item 'lect\\_4\\_script.R'\n",
       "\\item 'lect\\_5\\_script.R'\n",
       "\\item 'lect\\_6\\_script.R'\n",
       "\\item 'lect3.RData'\n",
       "\\item 'lect4.RData'\n",
       "\\item 'lect5.RData'\n",
       "\\item 'lect6.RData'\n",
       "\\item 'patient\\_headless.csv'\n",
       "\\item 'patient.csv'\n",
       "\\item 'patient.txt'\n",
       "\\item 'patient.xlsx'\n",
       "\\item 'population\\_tidy.csv'\n",
       "\\item 'population\\_total.csv'\n",
       "\\item 'population\\_total.xlsx'\n",
       "\\item 'Population-EstimatesEXCEL.xlsx'\n",
       "\\item 'population.csv'\n",
       "\\item 'population.rds'\n",
       "\\item 'population.xlsx'\n",
       "\\item 'recovered\\_covid.csv'\n",
       "\\item 'Rplot.png'\n",
       "\\item 'solution\\_exercise\\_control\\_flow.ipynb'\n",
       "\\item 'solution\\_exercise\\_importing\\_data.ipynb'\n",
       "\\item 'solution\\_exercise\\_tidying\\_data.ipynb'\n",
       "\\item 'solution\\_exercise\\_variables.ipynb'\n",
       "\\item 'solution\\_merging\\_data.ipynb'\n",
       "\\item 'temp.ipynb'\n",
       "\\item 'time\\_series\\_covid19\\_confirmed\\_global.csv'\n",
       "\\item 'WPP2019\\_POP\\_F01\\_1\\_TOTAL\\_POPULATION\\_BOTH\\_SEXES.xlsx'\n",
       "\\end{enumerate*}\n"
      ],
      "text/markdown": [
       "1. 'confirmed_covid.rds'\n",
       "2. 'confirmed_tidy.csv'\n",
       "3. 'data'\n",
       "4. 'data_1_plot.pdf'\n",
       "5. 'Data_analysis.Rproj'\n",
       "6. 'exercise_control_flow.ipynb'\n",
       "7. 'exercise_variables.ipynb'\n",
       "8. 'lect_2_script.R'\n",
       "9. 'lect_3_script.R'\n",
       "10. 'lect_4_script.R'\n",
       "11. 'lect_5_script.R'\n",
       "12. 'lect_6_script.R'\n",
       "13. 'lect3.RData'\n",
       "14. 'lect4.RData'\n",
       "15. 'lect5.RData'\n",
       "16. 'lect6.RData'\n",
       "17. 'patient_headless.csv'\n",
       "18. 'patient.csv'\n",
       "19. 'patient.txt'\n",
       "20. 'patient.xlsx'\n",
       "21. 'population_tidy.csv'\n",
       "22. 'population_total.csv'\n",
       "23. 'population_total.xlsx'\n",
       "24. 'Population-EstimatesEXCEL.xlsx'\n",
       "25. 'population.csv'\n",
       "26. 'population.rds'\n",
       "27. 'population.xlsx'\n",
       "28. 'recovered_covid.csv'\n",
       "29. 'Rplot.png'\n",
       "30. 'solution_exercise_control_flow.ipynb'\n",
       "31. 'solution_exercise_importing_data.ipynb'\n",
       "32. 'solution_exercise_tidying_data.ipynb'\n",
       "33. 'solution_exercise_variables.ipynb'\n",
       "34. 'solution_merging_data.ipynb'\n",
       "35. 'temp.ipynb'\n",
       "36. 'time_series_covid19_confirmed_global.csv'\n",
       "37. 'WPP2019_POP_F01_1_TOTAL_POPULATION_BOTH_SEXES.xlsx'\n",
       "\n",
       "\n"
      ],
      "text/plain": [
       " [1] \"confirmed_covid.rds\"                               \n",
       " [2] \"confirmed_tidy.csv\"                                \n",
       " [3] \"data\"                                              \n",
       " [4] \"data_1_plot.pdf\"                                   \n",
       " [5] \"Data_analysis.Rproj\"                               \n",
       " [6] \"exercise_control_flow.ipynb\"                       \n",
       " [7] \"exercise_variables.ipynb\"                          \n",
       " [8] \"lect_2_script.R\"                                   \n",
       " [9] \"lect_3_script.R\"                                   \n",
       "[10] \"lect_4_script.R\"                                   \n",
       "[11] \"lect_5_script.R\"                                   \n",
       "[12] \"lect_6_script.R\"                                   \n",
       "[13] \"lect3.RData\"                                       \n",
       "[14] \"lect4.RData\"                                       \n",
       "[15] \"lect5.RData\"                                       \n",
       "[16] \"lect6.RData\"                                       \n",
       "[17] \"patient_headless.csv\"                              \n",
       "[18] \"patient.csv\"                                       \n",
       "[19] \"patient.txt\"                                       \n",
       "[20] \"patient.xlsx\"                                      \n",
       "[21] \"population_tidy.csv\"                               \n",
       "[22] \"population_total.csv\"                              \n",
       "[23] \"population_total.xlsx\"                             \n",
       "[24] \"Population-EstimatesEXCEL.xlsx\"                    \n",
       "[25] \"population.csv\"                                    \n",
       "[26] \"population.rds\"                                    \n",
       "[27] \"population.xlsx\"                                   \n",
       "[28] \"recovered_covid.csv\"                               \n",
       "[29] \"Rplot.png\"                                         \n",
       "[30] \"solution_exercise_control_flow.ipynb\"              \n",
       "[31] \"solution_exercise_importing_data.ipynb\"            \n",
       "[32] \"solution_exercise_tidying_data.ipynb\"              \n",
       "[33] \"solution_exercise_variables.ipynb\"                 \n",
       "[34] \"solution_merging_data.ipynb\"                       \n",
       "[35] \"temp.ipynb\"                                        \n",
       "[36] \"time_series_covid19_confirmed_global.csv\"          \n",
       "[37] \"WPP2019_POP_F01_1_TOTAL_POPULATION_BOTH_SEXES.xlsx\""
      ]
     },
     "metadata": {},
     "output_type": "display_data"
    }
   ],
   "source": [
    "# List files in current directory\n",
    "list.files()"
   ]
  },
  {
   "cell_type": "code",
   "execution_count": 4,
   "metadata": {},
   "outputs": [
    {
     "data": {
      "text/html": [],
      "text/latex": [],
      "text/markdown": [],
      "text/plain": [
       "character(0)"
      ]
     },
     "metadata": {},
     "output_type": "display_data"
    }
   ],
   "source": [
    "# List files inside data folder\n",
    "list.files(path)"
   ]
  },
  {
   "cell_type": "markdown",
   "metadata": {},
   "source": [
    "Notice that there is no output above because your data folder is empty."
   ]
  },
  {
   "cell_type": "markdown",
   "metadata": {},
   "source": [
    "## Tidyverse"
   ]
  },
  {
   "cell_type": "markdown",
   "metadata": {},
   "source": [
    "To help you import your data in R, you will use the **readr** package in **tidyverse**. Load **tidyverse** and this will automatically load not only the **readr** package but also other packages needed for data analysis."
   ]
  },
  {
   "cell_type": "code",
   "execution_count": 5,
   "metadata": {},
   "outputs": [
    {
     "name": "stderr",
     "output_type": "stream",
     "text": [
      "── \u001b[1mAttaching packages\u001b[22m ──────────────────────────────────── tidyverse 1.3.0 ──\n",
      "\n",
      "\u001b[32m✔\u001b[39m \u001b[34mggplot2\u001b[39m 3.3.2     \u001b[32m✔\u001b[39m \u001b[34mpurrr  \u001b[39m 0.3.4\n",
      "\u001b[32m✔\u001b[39m \u001b[34mtibble \u001b[39m 3.0.4     \u001b[32m✔\u001b[39m \u001b[34mdplyr  \u001b[39m 1.0.2\n",
      "\u001b[32m✔\u001b[39m \u001b[34mtidyr  \u001b[39m 1.1.2     \u001b[32m✔\u001b[39m \u001b[34mstringr\u001b[39m 1.4.0\n",
      "\u001b[32m✔\u001b[39m \u001b[34mreadr  \u001b[39m 1.4.0     \u001b[32m✔\u001b[39m \u001b[34mforcats\u001b[39m 0.5.0\n",
      "\n",
      "── \u001b[1mConflicts\u001b[22m ─────────────────────────────────────── tidyverse_conflicts() ──\n",
      "\u001b[31m✖\u001b[39m \u001b[34mdplyr\u001b[39m::\u001b[32mfilter()\u001b[39m masks \u001b[34mstats\u001b[39m::filter()\n",
      "\u001b[31m✖\u001b[39m \u001b[34mdplyr\u001b[39m::\u001b[32mlag()\u001b[39m    masks \u001b[34mstats\u001b[39m::lag()\n",
      "\n"
     ]
    }
   ],
   "source": [
    "# Load tidyverse\n",
    "library(tidyverse)"
   ]
  },
  {
   "cell_type": "markdown",
   "metadata": {},
   "source": [
    "## Importing text files"
   ]
  },
  {
   "cell_type": "markdown",
   "metadata": {},
   "source": [
    "Read the **readr** documentation for information about the package using the **`help( )`** function."
   ]
  },
  {
   "cell_type": "code",
   "execution_count": 6,
   "metadata": {},
   "outputs": [],
   "source": [
    "# Read the readr documentation\n",
    "help(package = \"readr\")"
   ]
  },
  {
   "cell_type": "markdown",
   "metadata": {},
   "source": [
    "The **readr** package has several functions for reading data stored in text file into R. When writing data in a text file format, just like the files that you created using a simple text editor, a new row is defined with return and columns with some predefined special character. The most common characters are comma **`,`**, semicolon **`;`**, white space **`(  )`**, and tab **`(  )`**."
   ]
  },
  {
   "cell_type": "markdown",
   "metadata": {},
   "source": [
    "The following functions below are available to open a data in text file format. If is often difficult to keep track of the different functions in the **readr** package. You can download the [cheatsheet for importing files](https://raw.githubusercontent.com/rstudio/cheatsheets/master/data-import.pdf) in R using the functions in **readr**. \n",
    "\n",
    "|Function \t|File format \t|Suffix       |\n",
    "|:----------| :-----------  | -----------:|\n",
    "|read_csv \t|comma-separated values \t|.csv\n",
    "|read_csv2 \t|semicolon-separated values \t|.csv\n",
    "|read_delim |generic text file format with any delimiter \t|.txt\n",
    "|read_table |white space separated values \t|.txt\n",
    "|read_tsv \t|tab-delimited separated values \t|.tsv"
   ]
  },
  {
   "cell_type": "markdown",
   "metadata": {},
   "source": [
    "In this notebook, you will be working with COVID-19 data from the Johns Hopkins University that are deposited in <a href=\"https://github.com/CSSEGISandData/COVID-19/tree/master/csse_covid_19_data/csse_covid_19_time_series\">GitHub</a>.\n",
    "Click on the link to go the GitHub page. Read the \"README\" for the description of the files. The \"***time_series_covid19_confirmed_global.csv***\" file is the same file available to you for this exercise. Transfer this file from the Google Classroom to the ***`data`*** folder you just created earlier."
   ]
  },
  {
   "cell_type": "markdown",
   "metadata": {},
   "source": [
    "The code below is an example on how to transfer a file to a directory of your choice using the **`file.copy( )`** function. "
   ]
  },
  {
   "cell_type": "code",
   "execution_count": 7,
   "metadata": {},
   "outputs": [
    {
     "data": {
      "text/html": [
       "'/Users/claudius/Data_analysis/data/time_series_covid19_confirmed_global.csv'"
      ],
      "text/latex": [
       "'/Users/claudius/Data\\_analysis/data/time\\_series\\_covid19\\_confirmed\\_global.csv'"
      ],
      "text/markdown": [
       "'/Users/claudius/Data_analysis/data/time_series_covid19_confirmed_global.csv'"
      ],
      "text/plain": [
       "[1] \"/Users/claudius/Data_analysis/data/time_series_covid19_confirmed_global.csv\""
      ]
     },
     "metadata": {},
     "output_type": "display_data"
    },
    {
     "data": {
      "text/html": [
       "TRUE"
      ],
      "text/latex": [
       "TRUE"
      ],
      "text/markdown": [
       "TRUE"
      ],
      "text/plain": [
       "[1] TRUE"
      ]
     },
     "metadata": {},
     "output_type": "display_data"
    }
   ],
   "source": [
    "# Name of the file\n",
    "filename <- \"time_series_covid19_confirmed_global.csv\"\n",
    "# 'path' is the location of the file\n",
    "location  <- \"/Users/claudius/Data_analysis/data\"\n",
    "fullpath <- file.path(location, filename)\n",
    "fullpath\n",
    "# Copy the file from data folder to your working directory\n",
    "file.copy(fullpath, getwd())"
   ]
  },
  {
   "cell_type": "markdown",
   "metadata": {},
   "source": [
    "The output should return ***TRUE***. To check if the file is now in your working directory, use the **`file.exists( )`** function."
   ]
  },
  {
   "cell_type": "code",
   "execution_count": 8,
   "metadata": {},
   "outputs": [
    {
     "data": {
      "text/html": [
       "TRUE"
      ],
      "text/latex": [
       "TRUE"
      ],
      "text/markdown": [
       "TRUE"
      ],
      "text/plain": [
       "[1] TRUE"
      ]
     },
     "metadata": {},
     "output_type": "display_data"
    }
   ],
   "source": [
    "file.exists(\"time_series_covid19_confirmed_global.csv\")"
   ]
  },
  {
   "cell_type": "markdown",
   "metadata": {},
   "source": [
    "Before importing a file, you can take a peek of its contents using the **`read_lines( )`** function with argument `n_max` for number of lines to read."
   ]
  },
  {
   "cell_type": "code",
   "execution_count": 9,
   "metadata": {},
   "outputs": [
    {
     "name": "stdout",
     "output_type": "stream",
     "text": [
      "[1] \"Province/State,Country/Region,Lat,Long,1/22/20,1/23/20,1/24/20,1/25/20,1/26/20,1/27/20,1/28/20,1/29/20,1/30/20,1/31/20,2/1/20,2/2/20,2/3/20,2/4/20,2/5/20,2/6/20,2/7/20,2/8/20,2/9/20,2/10/20,2/11/20,2/12/20,2/13/20,2/14/20,2/15/20,2/16/20,2/17/20,2/18/20,2/19/20,2/20/20,2/21/20,2/22/20,2/23/20,2/24/20,2/25/20,2/26/20,2/27/20,2/28/20,2/29/20,3/1/20,3/2/20,3/3/20,3/4/20,3/5/20,3/6/20,3/7/20,3/8/20,3/9/20,3/10/20,3/11/20,3/12/20,3/13/20,3/14/20,3/15/20,3/16/20,3/17/20,3/18/20,3/19/20,3/20/20,3/21/20,3/22/20,3/23/20,3/24/20,3/25/20,3/26/20,3/27/20,3/28/20,3/29/20,3/30/20,3/31/20,4/1/20,4/2/20,4/3/20,4/4/20,4/5/20,4/6/20,4/7/20,4/8/20,4/9/20,4/10/20,4/11/20,4/12/20,4/13/20,4/14/20,4/15/20,4/16/20,4/17/20,4/18/20,4/19/20,4/20/20,4/21/20,4/22/20,4/23/20,4/24/20,4/25/20,4/26/20,4/27/20,4/28/20,4/29/20,4/30/20,5/1/20,5/2/20,5/3/20,5/4/20,5/5/20,5/6/20,5/7/20,5/8/20,5/9/20,5/10/20,5/11/20,5/12/20,5/13/20,5/14/20,5/15/20,5/16/20,5/17/20,5/18/20,5/19/20,5/20/20,5/21/20,5/22/20,5/23/20,5/24/20,5/25/20,5/26/20,5/27/20,5/28/20,5/29/20,5/30/20,5/31/20,6/1/20,6/2/20,6/3/20,6/4/20,6/5/20,6/6/20,6/7/20,6/8/20,6/9/20,6/10/20,6/11/20,6/12/20,6/13/20,6/14/20,6/15/20,6/16/20,6/17/20,6/18/20,6/19/20,6/20/20,6/21/20,6/22/20,6/23/20,6/24/20,6/25/20,6/26/20,6/27/20,6/28/20,6/29/20,6/30/20,7/1/20,7/2/20,7/3/20,7/4/20,7/5/20,7/6/20,7/7/20,7/8/20,7/9/20,7/10/20,7/11/20,7/12/20,7/13/20,7/14/20,7/15/20,7/16/20,7/17/20,7/18/20,7/19/20,7/20/20,7/21/20,7/22/20,7/23/20,7/24/20,7/25/20,7/26/20,7/27/20,7/28/20,7/29/20,7/30/20,7/31/20,8/1/20,8/2/20,8/3/20,8/4/20,8/5/20,8/6/20,8/7/20,8/8/20,8/9/20,8/10/20,8/11/20,8/12/20,8/13/20,8/14/20,8/15/20,8/16/20,8/17/20,8/18/20,8/19/20,8/20/20,8/21/20,8/22/20,8/23/20,8/24/20,8/25/20,8/26/20,8/27/20,8/28/20,8/29/20,8/30/20,8/31/20,9/1/20,9/2/20,9/3/20,9/4/20,9/5/20,9/6/20,9/7/20,9/8/20,9/9/20,9/10/20,9/11/20,9/12/20,9/13/20,9/14/20,9/15/20,9/16/20,9/17/20,9/18/20,9/19/20,9/20/20,9/21/20,9/22/20,9/23/20,9/24/20,9/25/20,9/26/20,9/27/20,9/28/20,9/29/20,9/30/20,10/1/20,10/2/20,10/3/20,10/4/20,10/5/20,10/6/20,10/7/20,10/8/20,10/9/20,10/10/20,10/11/20,10/12/20,10/13/20,10/14/20,10/15/20,10/16/20,10/17/20,10/18/20,10/19/20,10/20/20,10/21/20,10/22/20,10/23/20,10/24/20,10/25/20,10/26/20,10/27/20,10/28/20,10/29/20,10/30/20,10/31/20,11/1/20,11/2/20,11/3/20,11/4/20,11/5/20,11/6/20,11/7/20,11/8/20,11/9/20,11/10/20,11/11/20,11/12/20,11/13/20,11/14/20,11/15/20,11/16/20,11/17/20,11/18/20,11/19/20,11/20/20,11/21/20,11/22/20,11/23/20,11/24/20,11/25/20,11/26/20,11/27/20,11/28/20,11/29/20,11/30/20,12/1/20,12/2/20,12/3/20,12/4/20,12/5/20,12/6/20,12/7/20,12/8/20,12/9/20,12/10/20,12/11/20,12/12/20,12/13/20,12/14/20,12/15/20,12/16/20,12/17/20,12/18/20,12/19/20,12/20/20,12/21/20,12/22/20,12/23/20,12/24/20,12/25/20\"\n",
      "[2] \"NA,Afghanistan,33.93911,67.709953,0,0,0,0,0,0,0,0,0,0,0,0,0,0,0,0,0,0,0,0,0,0,0,0,0,0,0,0,0,0,0,0,0,1,1,1,1,1,1,1,1,2,4,4,4,4,5,7,8,11,12,13,15,16,18,20,24,25,29,30,34,41,43,76,80,91,107,118,146,175,197,240,275,300,338,368,424,445,485,532,556,608,666,715,785,841,907,934,997,1027,1093,1177,1236,1331,1464,1532,1704,1830,1940,2127,2291,2470,2705,2895,3225,3393,3564,3781,4042,4403,4687,4968,5227,5640,6054,6403,6665,7073,7654,8146,8677,9219,10001,10585,11176,11834,12459,13039,13662,14528,15208,15753,16512,17270,18057,18972,19554,20345,20920,21462,22146,22894,23550,24106,24770,25531,26314,26878,27536,27882,28428,28837,29147,29471,29705,30165,30441,30606,30957,31228,31507,31826,32012,32314,32662,32941,33180,33374,33584,33898,34184,34356,34441,34595,34730,34984,35060,35219,35279,35453,35493,35605,35717,35918,35978,36026,36147,36253,36358,36463,36532,36665,36700,36701,36737,36773,36820,36928,37006,37046,37083,37153,37260,37336,37422,37497,37542,37590,37667,37710,37750,37852,37885,37944,37990,38045,38061,38103,38119,38130,38133,38155,38159,38193,38243,38288,38304,38324,38398,38494,38520,38544,38572,38606,38641,38716,38772,38815,38855,38872,38897,38919,39044,39074,39096,39145,39170,39186,39192,39227,39239,39254,39268,39285,39290,39297,39341,39422,39486,39548,39616,39693,39703,39799,39870,39928,39994,40026,40088,40141,40200,40287,40369,40510,40626,40687,40768,40833,40937,41032,41145,41268,41334,41425,41501,41633,41728,41814,41935,41975,42033,42159,42297,42463,42609,42795,42969,43035,43240,43468,43681,43924,44177,44363,44503,44706,44988,45174,45384,45600,45723,45844,46116,46274,46516,46718,46837,46837,47072,47306,47516,47716,47851,48053,48116,48229,48527,48718,48952,49161,49378,49621,49681,49817,50013,50190,50433,50655,50810\"                                                                                                                                                                                                                                                                                                                                                                                                                                                                                                                                                                                                                                                                                                                                                                                                                                                                                                                                                                                                                                    \n",
      "[3] \"NA,Albania,41.1533,20.1683,0,0,0,0,0,0,0,0,0,0,0,0,0,0,0,0,0,0,0,0,0,0,0,0,0,0,0,0,0,0,0,0,0,0,0,0,0,0,0,0,0,0,0,0,0,0,0,2,10,12,23,33,38,42,51,55,59,64,70,76,89,104,123,146,174,186,197,212,223,243,259,277,304,333,361,377,383,400,409,416,433,446,467,475,494,518,539,548,562,584,609,634,663,678,712,726,736,750,766,773,782,789,795,803,820,832,842,850,856,868,872,876,880,898,916,933,946,948,949,964,969,981,989,998,1004,1029,1050,1076,1099,1122,1137,1143,1164,1184,1197,1212,1232,1246,1263,1299,1341,1385,1416,1464,1521,1590,1672,1722,1788,1838,1891,1962,1995,2047,2114,2192,2269,2330,2402,2466,2535,2580,2662,2752,2819,2893,2964,3038,3106,3188,3278,3371,3454,3571,3667,3752,3851,3906,4008,4090,4171,4290,4358,4466,4570,4637,4763,4880,4997,5105,5197,5276,5396,5519,5620,5750,5889,6016,6151,6275,6411,6536,6676,6817,6971,7117,7260,7380,7499,7654,7812,7967,8119,8275,8427,8605,8759,8927,9083,9195,9279,9380,9513,9606,9728,9844,9967,10102,10255,10406,10553,10704,10860,11021,11185,11353,11520,11672,11816,11948,12073,12226,12385,12535,12666,12787,12921,13045,13153,13259,13391,13518,13649,13806,13965,14117,14266,14410,14568,14730,14899,15066,15231,15399,15570,15752,15955,16212,16501,16774,17055,17350,17651,17948,18250,18556,18858,19157,19445,19729,20040,20315,20634,20875,21202,21523,21904,22300,22721,23210,23705,24206,24731,25294,25801,26211,26701,27233,27830,28432,29126,29837,30623,31459,32196,32761,33556,34300,34944,35600,36245,36790,37625,38182,39014,39719,40501,41302,42148,42988,43683,44436,45188,46061,46863,47742,48530,49191,50000,50637,51424,52004,52542,53003,53425,53814,54317,54827,55380\"                                                                                                                                                                                                                                                                                                                                                                                                                                                                                                                                                                                                                                                                                                                                                                                                                                                                                                                                                                                                                                                                                                                                                                                 \n"
     ]
    }
   ],
   "source": [
    "# Preview the first 3 lines of the file\n",
    "print(read_lines(\"time_series_covid19_confirmed_global.csv\", n_max = 3))"
   ]
  },
  {
   "cell_type": "markdown",
   "metadata": {},
   "source": [
    "As you can see, the values in the file are separated by comma and the first line contains the header or names of columns. Now, you can import the file using the **`read_csv( )`** function."
   ]
  },
  {
   "cell_type": "code",
   "execution_count": 10,
   "metadata": {},
   "outputs": [
    {
     "name": "stderr",
     "output_type": "stream",
     "text": [
      "\n",
      "\u001b[36m──\u001b[39m \u001b[1m\u001b[1mColumn specification\u001b[1m\u001b[22m \u001b[36m─────────────────────────────────────────────────────\u001b[39m\n",
      "cols(\n",
      "  .default = col_double(),\n",
      "  `Province/State` = \u001b[31mcol_character()\u001b[39m,\n",
      "  `Country/Region` = \u001b[31mcol_character()\u001b[39m\n",
      ")\n",
      "\u001b[36mℹ\u001b[39m Use \u001b[38;5;235m\u001b[48;5;253m\u001b[38;5;235m\u001b[48;5;253m`spec()`\u001b[48;5;253m\u001b[38;5;235m\u001b[49m\u001b[39m for the full column specifications.\n",
      "\n",
      "\n"
     ]
    }
   ],
   "source": [
    "# Import the \"time_series_covid19_confirmed_global.csv\" file and store it as an object: confirmed_covid\n",
    "covid_confirmed  <- read_csv(\"time_series_covid19_confirmed_global.csv\")"
   ]
  },
  {
   "cell_type": "markdown",
   "metadata": {},
   "source": [
    "Everytime you import a file in R, it is a good practice to get to know your data and its structure using the **`glimpse( )`** or **`str( )`** function. This is useful when trying to identify problems, issues, and missing values as these might pop up later on when you do data analysis. "
   ]
  },
  {
   "cell_type": "code",
   "execution_count": 11,
   "metadata": {},
   "outputs": [
    {
     "name": "stdout",
     "output_type": "stream",
     "text": [
      "Rows: 271\n",
      "Columns: 343\n",
      "$ `Province/State` \u001b[3m\u001b[38;5;246m<chr>\u001b[39m\u001b[23m NA, NA, NA, NA, NA, NA, NA, NA, \"Australian Capital …\n",
      "$ `Country/Region` \u001b[3m\u001b[38;5;246m<chr>\u001b[39m\u001b[23m \"Afghanistan\", \"Albania\", \"Algeria\", \"Andorra\", \"Ang…\n",
      "$ Lat              \u001b[3m\u001b[38;5;246m<dbl>\u001b[39m\u001b[23m 33.93911, 41.15330, 28.03390, 42.50630, -11.20270, 1…\n",
      "$ Long             \u001b[3m\u001b[38;5;246m<dbl>\u001b[39m\u001b[23m 67.709953, 20.168300, 1.659600, 1.521800, 17.873900,…\n",
      "$ `1/22/20`        \u001b[3m\u001b[38;5;246m<dbl>\u001b[39m\u001b[23m 0, 0, 0, 0, 0, 0, 0, 0, 0, 0, 0, 0, 0, 0, 0, 0, 0, 0…\n",
      "$ `1/23/20`        \u001b[3m\u001b[38;5;246m<dbl>\u001b[39m\u001b[23m 0, 0, 0, 0, 0, 0, 0, 0, 0, 0, 0, 0, 0, 0, 0, 0, 0, 0…\n",
      "$ `1/24/20`        \u001b[3m\u001b[38;5;246m<dbl>\u001b[39m\u001b[23m 0, 0, 0, 0, 0, 0, 0, 0, 0, 0, 0, 0, 0, 0, 0, 0, 0, 0…\n",
      "$ `1/25/20`        \u001b[3m\u001b[38;5;246m<dbl>\u001b[39m\u001b[23m 0, 0, 0, 0, 0, 0, 0, 0, 0, 0, 0, 0, 0, 0, 0, 0, 0, 0…\n",
      "$ `1/26/20`        \u001b[3m\u001b[38;5;246m<dbl>\u001b[39m\u001b[23m 0, 0, 0, 0, 0, 0, 0, 0, 0, 3, 0, 0, 0, 0, 1, 0, 0, 0…\n",
      "$ `1/27/20`        \u001b[3m\u001b[38;5;246m<dbl>\u001b[39m\u001b[23m 0, 0, 0, 0, 0, 0, 0, 0, 0, 4, 0, 0, 0, 0, 1, 0, 0, 0…\n",
      "$ `1/28/20`        \u001b[3m\u001b[38;5;246m<dbl>\u001b[39m\u001b[23m 0, 0, 0, 0, 0, 0, 0, 0, 0, 4, 0, 0, 0, 0, 1, 0, 0, 0…\n",
      "$ `1/29/20`        \u001b[3m\u001b[38;5;246m<dbl>\u001b[39m\u001b[23m 0, 0, 0, 0, 0, 0, 0, 0, 0, 4, 0, 1, 0, 0, 1, 0, 0, 0…\n",
      "$ `1/30/20`        \u001b[3m\u001b[38;5;246m<dbl>\u001b[39m\u001b[23m 0, 0, 0, 0, 0, 0, 0, 0, 0, 4, 0, 3, 0, 0, 2, 0, 0, 0…\n",
      "$ `1/31/20`        \u001b[3m\u001b[38;5;246m<dbl>\u001b[39m\u001b[23m 0, 0, 0, 0, 0, 0, 0, 0, 0, 4, 0, 2, 0, 0, 3, 0, 0, 0…\n",
      "$ `2/1/20`         \u001b[3m\u001b[38;5;246m<dbl>\u001b[39m\u001b[23m 0, 0, 0, 0, 0, 0, 0, 0, 0, 4, 0, 3, 1, 0, 4, 0, 0, 0…\n",
      "$ `2/2/20`         \u001b[3m\u001b[38;5;246m<dbl>\u001b[39m\u001b[23m 0, 0, 0, 0, 0, 0, 0, 0, 0, 4, 0, 2, 2, 0, 4, 0, 0, 0…\n",
      "$ `2/3/20`         \u001b[3m\u001b[38;5;246m<dbl>\u001b[39m\u001b[23m 0, 0, 0, 0, 0, 0, 0, 0, 0, 4, 0, 2, 2, 0, 4, 0, 0, 0…\n",
      "$ `2/4/20`         \u001b[3m\u001b[38;5;246m<dbl>\u001b[39m\u001b[23m 0, 0, 0, 0, 0, 0, 0, 0, 0, 4, 0, 3, 2, 0, 4, 0, 0, 0…\n",
      "$ `2/5/20`         \u001b[3m\u001b[38;5;246m<dbl>\u001b[39m\u001b[23m 0, 0, 0, 0, 0, 0, 0, 0, 0, 4, 0, 3, 2, 0, 4, 0, 0, 0…\n",
      "$ `2/6/20`         \u001b[3m\u001b[38;5;246m<dbl>\u001b[39m\u001b[23m 0, 0, 0, 0, 0, 0, 0, 0, 0, 4, 0, 4, 2, 0, 4, 0, 0, 0…\n",
      "$ `2/7/20`         \u001b[3m\u001b[38;5;246m<dbl>\u001b[39m\u001b[23m 0, 0, 0, 0, 0, 0, 0, 0, 0, 4, 0, 5, 2, 0, 4, 0, 0, 0…\n",
      "$ `2/8/20`         \u001b[3m\u001b[38;5;246m<dbl>\u001b[39m\u001b[23m 0, 0, 0, 0, 0, 0, 0, 0, 0, 4, 0, 5, 2, 0, 4, 0, 0, 0…\n",
      "$ `2/9/20`         \u001b[3m\u001b[38;5;246m<dbl>\u001b[39m\u001b[23m 0, 0, 0, 0, 0, 0, 0, 0, 0, 4, 0, 5, 2, 0, 4, 0, 0, 0…\n",
      "$ `2/10/20`        \u001b[3m\u001b[38;5;246m<dbl>\u001b[39m\u001b[23m 0, 0, 0, 0, 0, 0, 0, 0, 0, 4, 0, 5, 2, 0, 4, 0, 0, 0…\n",
      "$ `2/11/20`        \u001b[3m\u001b[38;5;246m<dbl>\u001b[39m\u001b[23m 0, 0, 0, 0, 0, 0, 0, 0, 0, 4, 0, 5, 2, 0, 4, 0, 0, 0…\n",
      "$ `2/12/20`        \u001b[3m\u001b[38;5;246m<dbl>\u001b[39m\u001b[23m 0, 0, 0, 0, 0, 0, 0, 0, 0, 4, 0, 5, 2, 0, 4, 0, 0, 0…\n",
      "$ `2/13/20`        \u001b[3m\u001b[38;5;246m<dbl>\u001b[39m\u001b[23m 0, 0, 0, 0, 0, 0, 0, 0, 0, 4, 0, 5, 2, 0, 4, 0, 0, 0…\n",
      "$ `2/14/20`        \u001b[3m\u001b[38;5;246m<dbl>\u001b[39m\u001b[23m 0, 0, 0, 0, 0, 0, 0, 0, 0, 4, 0, 5, 2, 0, 4, 0, 0, 0…\n",
      "$ `2/15/20`        \u001b[3m\u001b[38;5;246m<dbl>\u001b[39m\u001b[23m 0, 0, 0, 0, 0, 0, 0, 0, 0, 4, 0, 5, 2, 0, 4, 0, 0, 0…\n",
      "$ `2/16/20`        \u001b[3m\u001b[38;5;246m<dbl>\u001b[39m\u001b[23m 0, 0, 0, 0, 0, 0, 0, 0, 0, 4, 0, 5, 2, 0, 4, 0, 0, 0…\n",
      "$ `2/17/20`        \u001b[3m\u001b[38;5;246m<dbl>\u001b[39m\u001b[23m 0, 0, 0, 0, 0, 0, 0, 0, 0, 4, 0, 5, 2, 0, 4, 0, 0, 0…\n",
      "$ `2/18/20`        \u001b[3m\u001b[38;5;246m<dbl>\u001b[39m\u001b[23m 0, 0, 0, 0, 0, 0, 0, 0, 0, 4, 0, 5, 2, 0, 4, 0, 0, 0…\n",
      "$ `2/19/20`        \u001b[3m\u001b[38;5;246m<dbl>\u001b[39m\u001b[23m 0, 0, 0, 0, 0, 0, 0, 0, 0, 4, 0, 5, 2, 0, 4, 0, 0, 0…\n",
      "$ `2/20/20`        \u001b[3m\u001b[38;5;246m<dbl>\u001b[39m\u001b[23m 0, 0, 0, 0, 0, 0, 0, 0, 0, 4, 0, 5, 2, 0, 4, 0, 0, 0…\n",
      "$ `2/21/20`        \u001b[3m\u001b[38;5;246m<dbl>\u001b[39m\u001b[23m 0, 0, 0, 0, 0, 0, 0, 0, 0, 4, 0, 5, 2, 0, 4, 0, 0, 0…\n",
      "$ `2/22/20`        \u001b[3m\u001b[38;5;246m<dbl>\u001b[39m\u001b[23m 0, 0, 0, 0, 0, 0, 0, 0, 0, 4, 0, 5, 2, 0, 4, 0, 0, 0…\n",
      "$ `2/23/20`        \u001b[3m\u001b[38;5;246m<dbl>\u001b[39m\u001b[23m 0, 0, 0, 0, 0, 0, 0, 0, 0, 4, 0, 5, 2, 0, 4, 0, 0, 0…\n",
      "$ `2/24/20`        \u001b[3m\u001b[38;5;246m<dbl>\u001b[39m\u001b[23m 1, 0, 0, 0, 0, 0, 0, 0, 0, 4, 0, 5, 2, 0, 4, 0, 0, 0…\n",
      "$ `2/25/20`        \u001b[3m\u001b[38;5;246m<dbl>\u001b[39m\u001b[23m 1, 0, 1, 0, 0, 0, 0, 0, 0, 4, 0, 5, 2, 0, 4, 0, 2, 0…\n",
      "$ `2/26/20`        \u001b[3m\u001b[38;5;246m<dbl>\u001b[39m\u001b[23m 1, 0, 1, 0, 0, 0, 0, 0, 0, 4, 0, 5, 2, 0, 4, 0, 2, 0…\n",
      "$ `2/27/20`        \u001b[3m\u001b[38;5;246m<dbl>\u001b[39m\u001b[23m 1, 0, 1, 0, 0, 0, 0, 0, 0, 4, 0, 5, 2, 0, 4, 0, 3, 0…\n",
      "$ `2/28/20`        \u001b[3m\u001b[38;5;246m<dbl>\u001b[39m\u001b[23m 1, 0, 1, 0, 0, 0, 0, 0, 0, 4, 0, 5, 2, 0, 4, 0, 3, 0…\n",
      "$ `2/29/20`        \u001b[3m\u001b[38;5;246m<dbl>\u001b[39m\u001b[23m 1, 0, 1, 0, 0, 0, 0, 0, 0, 4, 0, 9, 3, 0, 7, 2, 9, 0…\n",
      "$ `3/1/20`         \u001b[3m\u001b[38;5;246m<dbl>\u001b[39m\u001b[23m 1, 0, 1, 0, 0, 0, 0, 1, 0, 6, 0, 9, 3, 0, 7, 2, 14, …\n",
      "$ `3/2/20`         \u001b[3m\u001b[38;5;246m<dbl>\u001b[39m\u001b[23m 1, 0, 3, 1, 0, 0, 0, 1, 0, 6, 0, 9, 3, 1, 9, 2, 18, …\n",
      "$ `3/3/20`         \u001b[3m\u001b[38;5;246m<dbl>\u001b[39m\u001b[23m 2, 0, 5, 1, 0, 0, 1, 1, 0, 13, 0, 11, 3, 1, 9, 2, 21…\n",
      "$ `3/4/20`         \u001b[3m\u001b[38;5;246m<dbl>\u001b[39m\u001b[23m 4, 0, 12, 1, 0, 0, 1, 1, 0, 22, 1, 11, 5, 1, 10, 2, …\n",
      "$ `3/5/20`         \u001b[3m\u001b[38;5;246m<dbl>\u001b[39m\u001b[23m 4, 0, 12, 1, 0, 0, 1, 1, 0, 22, 1, 13, 5, 1, 10, 3, …\n",
      "$ `3/6/20`         \u001b[3m\u001b[38;5;246m<dbl>\u001b[39m\u001b[23m 4, 0, 17, 1, 0, 0, 2, 1, 0, 26, 0, 13, 7, 1, 10, 3, …\n",
      "$ `3/7/20`         \u001b[3m\u001b[38;5;246m<dbl>\u001b[39m\u001b[23m 4, 0, 17, 1, 0, 0, 8, 1, 0, 28, 0, 13, 7, 1, 11, 3, …\n",
      "$ `3/8/20`         \u001b[3m\u001b[38;5;246m<dbl>\u001b[39m\u001b[23m 5, 0, 19, 1, 0, 0, 12, 1, 0, 38, 0, 15, 7, 2, 11, 3,…\n",
      "$ `3/9/20`         \u001b[3m\u001b[38;5;246m<dbl>\u001b[39m\u001b[23m 7, 2, 20, 1, 0, 0, 12, 1, 0, 48, 0, 15, 7, 2, 15, 4,…\n",
      "$ `3/10/20`        \u001b[3m\u001b[38;5;246m<dbl>\u001b[39m\u001b[23m 8, 10, 20, 1, 0, 0, 17, 1, 0, 55, 1, 18, 7, 2, 18, 6…\n",
      "$ `3/11/20`        \u001b[3m\u001b[38;5;246m<dbl>\u001b[39m\u001b[23m 11, 12, 20, 1, 0, 0, 19, 1, 0, 65, 1, 20, 9, 3, 21, …\n",
      "$ `3/12/20`        \u001b[3m\u001b[38;5;246m<dbl>\u001b[39m\u001b[23m 12, 23, 24, 1, 0, 0, 19, 4, 0, 65, 1, 20, 9, 3, 21, …\n",
      "$ `3/13/20`        \u001b[3m\u001b[38;5;246m<dbl>\u001b[39m\u001b[23m 13, 33, 26, 1, 0, 1, 31, 8, 1, 92, 1, 35, 16, 5, 36,…\n",
      "$ `3/14/20`        \u001b[3m\u001b[38;5;246m<dbl>\u001b[39m\u001b[23m 15, 38, 37, 1, 0, 1, 34, 18, 1, 112, 1, 46, 19, 5, 4…\n",
      "$ `3/15/20`        \u001b[3m\u001b[38;5;246m<dbl>\u001b[39m\u001b[23m 16, 42, 48, 1, 0, 1, 45, 26, 1, 134, 1, 61, 20, 6, 5…\n",
      "$ `3/16/20`        \u001b[3m\u001b[38;5;246m<dbl>\u001b[39m\u001b[23m 18, 51, 54, 2, 0, 1, 56, 52, 2, 171, 1, 68, 29, 7, 7…\n",
      "$ `3/17/20`        \u001b[3m\u001b[38;5;246m<dbl>\u001b[39m\u001b[23m 20, 55, 60, 39, 0, 1, 68, 78, 2, 210, 1, 78, 29, 7, …\n",
      "$ `3/18/20`        \u001b[3m\u001b[38;5;246m<dbl>\u001b[39m\u001b[23m 24, 59, 74, 39, 0, 1, 79, 84, 3, 267, 1, 94, 37, 10,…\n",
      "$ `3/19/20`        \u001b[3m\u001b[38;5;246m<dbl>\u001b[39m\u001b[23m 25, 64, 87, 53, 0, 1, 97, 115, 4, 307, 1, 144, 42, 1…\n",
      "$ `3/20/20`        \u001b[3m\u001b[38;5;246m<dbl>\u001b[39m\u001b[23m 29, 70, 90, 75, 1, 1, 128, 136, 6, 353, 3, 184, 50, …\n",
      "$ `3/21/20`        \u001b[3m\u001b[38;5;246m<dbl>\u001b[39m\u001b[23m 30, 76, 139, 88, 2, 1, 158, 160, 9, 436, 3, 221, 67,…\n",
      "$ `3/22/20`        \u001b[3m\u001b[38;5;246m<dbl>\u001b[39m\u001b[23m 34, 89, 201, 113, 2, 1, 266, 194, 19, 669, 5, 259, 1…\n",
      "$ `3/23/20`        \u001b[3m\u001b[38;5;246m<dbl>\u001b[39m\u001b[23m 41, 104, 230, 133, 3, 3, 301, 235, 32, 669, 5, 319, …\n",
      "$ `3/24/20`        \u001b[3m\u001b[38;5;246m<dbl>\u001b[39m\u001b[23m 43, 123, 264, 164, 3, 3, 387, 249, 39, 818, 6, 397, …\n",
      "$ `3/25/20`        \u001b[3m\u001b[38;5;246m<dbl>\u001b[39m\u001b[23m 76, 146, 302, 188, 3, 3, 387, 265, 39, 1029, 6, 443,…\n",
      "$ `3/26/20`        \u001b[3m\u001b[38;5;246m<dbl>\u001b[39m\u001b[23m 80, 174, 367, 224, 4, 7, 502, 290, 53, 1219, 12, 493…\n",
      "$ `3/27/20`        \u001b[3m\u001b[38;5;246m<dbl>\u001b[39m\u001b[23m 91, 186, 409, 267, 4, 7, 589, 329, 62, 1405, 12, 555…\n",
      "$ `3/28/20`        \u001b[3m\u001b[38;5;246m<dbl>\u001b[39m\u001b[23m 107, 197, 454, 308, 5, 7, 690, 407, 71, 1617, 15, 62…\n",
      "$ `3/29/20`        \u001b[3m\u001b[38;5;246m<dbl>\u001b[39m\u001b[23m 118, 212, 511, 334, 7, 7, 745, 424, 77, 1791, 15, 65…\n",
      "$ `3/30/20`        \u001b[3m\u001b[38;5;246m<dbl>\u001b[39m\u001b[23m 146, 223, 584, 370, 7, 7, 820, 482, 78, 2032, 15, 68…\n",
      "$ `3/31/20`        \u001b[3m\u001b[38;5;246m<dbl>\u001b[39m\u001b[23m 175, 243, 716, 376, 7, 7, 1054, 532, 80, 2032, 17, 7…\n",
      "$ `4/1/20`         \u001b[3m\u001b[38;5;246m<dbl>\u001b[39m\u001b[23m 197, 259, 847, 390, 8, 7, 1054, 571, 84, 2182, 19, 7…\n",
      "$ `4/2/20`         \u001b[3m\u001b[38;5;246m<dbl>\u001b[39m\u001b[23m 240, 277, 986, 428, 8, 9, 1133, 663, 87, 2298, 21, 8…\n",
      "$ `4/3/20`         \u001b[3m\u001b[38;5;246m<dbl>\u001b[39m\u001b[23m 275, 304, 1171, 439, 8, 15, 1265, 736, 91, 2389, 22,…\n",
      "$ `4/4/20`         \u001b[3m\u001b[38;5;246m<dbl>\u001b[39m\u001b[23m 300, 333, 1251, 466, 10, 15, 1451, 770, 93, 2493, 26…\n",
      "$ `4/5/20`         \u001b[3m\u001b[38;5;246m<dbl>\u001b[39m\u001b[23m 338, 361, 1320, 501, 14, 15, 1451, 822, 96, 2580, 27…\n",
      "$ `4/6/20`         \u001b[3m\u001b[38;5;246m<dbl>\u001b[39m\u001b[23m 368, 377, 1423, 525, 16, 15, 1554, 833, 96, 2637, 28…\n",
      "$ `4/7/20`         \u001b[3m\u001b[38;5;246m<dbl>\u001b[39m\u001b[23m 424, 383, 1468, 545, 17, 19, 1628, 853, 96, 2686, 28…\n",
      "$ `4/8/20`         \u001b[3m\u001b[38;5;246m<dbl>\u001b[39m\u001b[23m 445, 400, 1572, 564, 19, 19, 1715, 881, 99, 2734, 28…\n",
      "$ `4/9/20`         \u001b[3m\u001b[38;5;246m<dbl>\u001b[39m\u001b[23m 485, 409, 1666, 583, 19, 19, 1795, 921, 100, 2773, 2…\n",
      "$ `4/10/20`        \u001b[3m\u001b[38;5;246m<dbl>\u001b[39m\u001b[23m 532, 416, 1761, 601, 19, 19, 1975, 937, 103, 2822, 2…\n",
      "$ `4/11/20`        \u001b[3m\u001b[38;5;246m<dbl>\u001b[39m\u001b[23m 556, 433, 1825, 601, 19, 21, 1975, 967, 103, 2857, 2…\n",
      "$ `4/12/20`        \u001b[3m\u001b[38;5;246m<dbl>\u001b[39m\u001b[23m 608, 446, 1914, 638, 19, 21, 2142, 1013, 103, 2857, …\n",
      "$ `4/13/20`        \u001b[3m\u001b[38;5;246m<dbl>\u001b[39m\u001b[23m 666, 467, 1983, 646, 19, 23, 2208, 1039, 102, 2863, …\n",
      "$ `4/14/20`        \u001b[3m\u001b[38;5;246m<dbl>\u001b[39m\u001b[23m 715, 475, 2070, 659, 19, 23, 2277, 1067, 103, 2870, …\n",
      "$ `4/15/20`        \u001b[3m\u001b[38;5;246m<dbl>\u001b[39m\u001b[23m 785, 494, 2160, 673, 19, 23, 2443, 1111, 103, 2886, …\n",
      "$ `4/16/20`        \u001b[3m\u001b[38;5;246m<dbl>\u001b[39m\u001b[23m 841, 518, 2268, 673, 19, 23, 2571, 1159, 103, 2897, …\n",
      "$ `4/17/20`        \u001b[3m\u001b[38;5;246m<dbl>\u001b[39m\u001b[23m 907, 539, 2418, 696, 19, 23, 2669, 1201, 103, 2926, …\n",
      "$ `4/18/20`        \u001b[3m\u001b[38;5;246m<dbl>\u001b[39m\u001b[23m 934, 548, 2534, 704, 24, 23, 2758, 1248, 103, 2936, …\n",
      "$ `4/19/20`        \u001b[3m\u001b[38;5;246m<dbl>\u001b[39m\u001b[23m 997, 562, 2629, 713, 24, 23, 2839, 1291, 103, 2957, …\n",
      "$ `4/20/20`        \u001b[3m\u001b[38;5;246m<dbl>\u001b[39m\u001b[23m 1027, 584, 2718, 717, 24, 23, 2941, 1339, 104, 2963,…\n",
      "$ `4/21/20`        \u001b[3m\u001b[38;5;246m<dbl>\u001b[39m\u001b[23m 1093, 609, 2811, 717, 24, 23, 3031, 1401, 104, 2969,…\n",
      "$ `4/22/20`        \u001b[3m\u001b[38;5;246m<dbl>\u001b[39m\u001b[23m 1177, 634, 2910, 723, 25, 24, 3144, 1473, 104, 2971,…\n",
      "$ `4/23/20`        \u001b[3m\u001b[38;5;246m<dbl>\u001b[39m\u001b[23m 1236, 663, 3007, 723, 25, 24, 3435, 1523, 104, 2976,…\n",
      "$ `4/24/20`        \u001b[3m\u001b[38;5;246m<dbl>\u001b[39m\u001b[23m 1331, 678, 3127, 731, 25, 24, 3607, 1596, 105, 2982,…\n",
      "$ `4/25/20`        \u001b[3m\u001b[38;5;246m<dbl>\u001b[39m\u001b[23m 1464, 712, 3256, 738, 25, 24, 3780, 1677, 106, 2994,…\n",
      "$ `4/26/20`        \u001b[3m\u001b[38;5;246m<dbl>\u001b[39m\u001b[23m 1532, 726, 3382, 738, 26, 24, 3892, 1746, 106, 3002,…\n",
      "$ `4/27/20`        \u001b[3m\u001b[38;5;246m<dbl>\u001b[39m\u001b[23m 1704, 736, 3517, 743, 27, 24, 4003, 1808, 106, 3004,…\n",
      "$ `4/28/20`        \u001b[3m\u001b[38;5;246m<dbl>\u001b[39m\u001b[23m 1830, 750, 3649, 743, 27, 24, 4127, 1867, 106, 3016,…\n",
      "$ `4/29/20`        \u001b[3m\u001b[38;5;246m<dbl>\u001b[39m\u001b[23m 1940, 766, 3848, 743, 27, 24, 4285, 1932, 106, 3016,…\n",
      "$ `4/30/20`        \u001b[3m\u001b[38;5;246m<dbl>\u001b[39m\u001b[23m 2127, 773, 4006, 745, 27, 24, 4428, 2066, 106, 3025,…\n",
      "$ `5/1/20`         \u001b[3m\u001b[38;5;246m<dbl>\u001b[39m\u001b[23m 2291, 782, 4154, 745, 30, 25, 4532, 2148, 106, 3030,…\n",
      "$ `5/2/20`         \u001b[3m\u001b[38;5;246m<dbl>\u001b[39m\u001b[23m 2470, 789, 4295, 747, 35, 25, 4681, 2273, 106, 3035,…\n",
      "$ `5/3/20`         \u001b[3m\u001b[38;5;246m<dbl>\u001b[39m\u001b[23m 2705, 795, 4474, 748, 35, 25, 4783, 2386, 106, 3033,…\n",
      "$ `5/4/20`         \u001b[3m\u001b[38;5;246m<dbl>\u001b[39m\u001b[23m 2895, 803, 4648, 750, 35, 25, 4887, 2507, 107, 3035,…\n",
      "$ `5/5/20`         \u001b[3m\u001b[38;5;246m<dbl>\u001b[39m\u001b[23m 3225, 820, 4838, 751, 36, 25, 5020, 2619, 107, 3042,…\n",
      "$ `5/6/20`         \u001b[3m\u001b[38;5;246m<dbl>\u001b[39m\u001b[23m 3393, 832, 4997, 751, 36, 25, 5208, 2782, 107, 3044,…\n",
      "$ `5/7/20`         \u001b[3m\u001b[38;5;246m<dbl>\u001b[39m\u001b[23m 3564, 842, 5182, 752, 36, 25, 5371, 2884, 107, 3047,…\n",
      "$ `5/8/20`         \u001b[3m\u001b[38;5;246m<dbl>\u001b[39m\u001b[23m 3781, 850, 5369, 752, 43, 25, 5611, 3029, 107, 3051,…\n",
      "$ `5/9/20`         \u001b[3m\u001b[38;5;246m<dbl>\u001b[39m\u001b[23m 4042, 856, 5558, 754, 43, 25, 5776, 3175, 107, 3053,…\n",
      "$ `5/10/20`        \u001b[3m\u001b[38;5;246m<dbl>\u001b[39m\u001b[23m 4403, 868, 5723, 755, 45, 25, 6034, 3313, 107, 3053,…\n",
      "$ `5/11/20`        \u001b[3m\u001b[38;5;246m<dbl>\u001b[39m\u001b[23m 4687, 872, 5891, 755, 45, 25, 6278, 3392, 107, 3053,…\n",
      "$ `5/12/20`        \u001b[3m\u001b[38;5;246m<dbl>\u001b[39m\u001b[23m 4968, 876, 6067, 758, 45, 25, 6563, 3538, 107, 3059,…\n",
      "$ `5/13/20`        \u001b[3m\u001b[38;5;246m<dbl>\u001b[39m\u001b[23m 5227, 880, 6253, 760, 45, 25, 6879, 3718, 107, 3063,…\n",
      "$ `5/14/20`        \u001b[3m\u001b[38;5;246m<dbl>\u001b[39m\u001b[23m 5640, 898, 6442, 761, 48, 25, 7134, 3860, 107, 3071,…\n",
      "$ `5/15/20`        \u001b[3m\u001b[38;5;246m<dbl>\u001b[39m\u001b[23m 6054, 916, 6629, 761, 48, 25, 7479, 4044, 107, 3074,…\n",
      "$ `5/16/20`        \u001b[3m\u001b[38;5;246m<dbl>\u001b[39m\u001b[23m 6403, 933, 6821, 761, 48, 25, 7805, 4283, 107, 3075,…\n",
      "$ `5/17/20`        \u001b[3m\u001b[38;5;246m<dbl>\u001b[39m\u001b[23m 6665, 946, 7019, 761, 48, 25, 8068, 4472, 107, 3076,…\n",
      "$ `5/18/20`        \u001b[3m\u001b[38;5;246m<dbl>\u001b[39m\u001b[23m 7073, 948, 7201, 761, 50, 25, 8371, 4823, 107, 3078,…\n",
      "$ `5/19/20`        \u001b[3m\u001b[38;5;246m<dbl>\u001b[39m\u001b[23m 7654, 949, 7377, 761, 52, 25, 8809, 5041, 107, 3081,…\n",
      "$ `5/20/20`        \u001b[3m\u001b[38;5;246m<dbl>\u001b[39m\u001b[23m 8146, 964, 7542, 762, 52, 25, 9283, 5271, 107, 3082,…\n",
      "$ `5/21/20`        \u001b[3m\u001b[38;5;246m<dbl>\u001b[39m\u001b[23m 8677, 969, 7728, 762, 58, 25, 9931, 5606, 107, 3084,…\n",
      "$ `5/22/20`        \u001b[3m\u001b[38;5;246m<dbl>\u001b[39m\u001b[23m 9219, 981, 7918, 762, 60, 25, 10649, 5928, 107, 3086…\n",
      "$ `5/23/20`        \u001b[3m\u001b[38;5;246m<dbl>\u001b[39m\u001b[23m 10001, 989, 8113, 762, 61, 25, 11353, 6302, 107, 308…\n",
      "$ `5/24/20`        \u001b[3m\u001b[38;5;246m<dbl>\u001b[39m\u001b[23m 10585, 998, 8306, 762, 69, 25, 12076, 6661, 107, 309…\n",
      "$ `5/25/20`        \u001b[3m\u001b[38;5;246m<dbl>\u001b[39m\u001b[23m 11176, 1004, 8503, 763, 70, 25, 12628, 7113, 107, 30…\n",
      "$ `5/26/20`        \u001b[3m\u001b[38;5;246m<dbl>\u001b[39m\u001b[23m 11834, 1029, 8697, 763, 70, 25, 13228, 7402, 107, 30…\n",
      "$ `5/27/20`        \u001b[3m\u001b[38;5;246m<dbl>\u001b[39m\u001b[23m 12459, 1050, 8857, 763, 71, 25, 13933, 7774, 107, 30…\n",
      "$ `5/28/20`        \u001b[3m\u001b[38;5;246m<dbl>\u001b[39m\u001b[23m 13039, 1076, 8997, 763, 74, 25, 14702, 8216, 107, 30…\n",
      "$ `5/29/20`        \u001b[3m\u001b[38;5;246m<dbl>\u001b[39m\u001b[23m 13662, 1099, 9134, 764, 81, 25, 15419, 8676, 107, 30…\n",
      "$ `5/30/20`        \u001b[3m\u001b[38;5;246m<dbl>\u001b[39m\u001b[23m 14528, 1122, 9267, 764, 84, 25, 16214, 8927, 107, 30…\n",
      "$ `5/31/20`        \u001b[3m\u001b[38;5;246m<dbl>\u001b[39m\u001b[23m 15208, 1137, 9394, 764, 86, 26, 16851, 9282, 107, 30…\n",
      "$ `6/1/20`         \u001b[3m\u001b[38;5;246m<dbl>\u001b[39m\u001b[23m 15753, 1143, 9513, 765, 86, 26, 17415, 9492, 107, 31…\n",
      "$ `6/2/20`         \u001b[3m\u001b[38;5;246m<dbl>\u001b[39m\u001b[23m 16512, 1164, 9626, 844, 86, 26, 18319, 10009, 107, 3…\n",
      "$ `6/3/20`         \u001b[3m\u001b[38;5;246m<dbl>\u001b[39m\u001b[23m 17270, 1184, 9733, 851, 86, 26, 19268, 10524, 107, 3…\n",
      "$ `6/4/20`         \u001b[3m\u001b[38;5;246m<dbl>\u001b[39m\u001b[23m 18057, 1197, 9831, 852, 86, 26, 20197, 11221, 107, 3…\n",
      "$ `6/5/20`         \u001b[3m\u001b[38;5;246m<dbl>\u001b[39m\u001b[23m 18972, 1212, 9935, 852, 86, 26, 21037, 11817, 107, 3…\n",
      "$ `6/6/20`         \u001b[3m\u001b[38;5;246m<dbl>\u001b[39m\u001b[23m 19554, 1232, 10050, 852, 88, 26, 22020, 12364, 108, …\n",
      "$ `6/7/20`         \u001b[3m\u001b[38;5;246m<dbl>\u001b[39m\u001b[23m 20345, 1246, 10154, 852, 91, 26, 22794, 13130, 108, …\n",
      "$ `6/8/20`         \u001b[3m\u001b[38;5;246m<dbl>\u001b[39m\u001b[23m 20920, 1263, 10265, 852, 92, 26, 23620, 13325, 108, …\n",
      "$ `6/9/20`         \u001b[3m\u001b[38;5;246m<dbl>\u001b[39m\u001b[23m 21462, 1299, 10382, 852, 96, 26, 24761, 13675, 108, …\n",
      "$ `6/10/20`        \u001b[3m\u001b[38;5;246m<dbl>\u001b[39m\u001b[23m 22146, 1341, 10484, 852, 113, 26, 25987, 14103, 108,…\n",
      "$ `6/11/20`        \u001b[3m\u001b[38;5;246m<dbl>\u001b[39m\u001b[23m 22894, 1385, 10589, 852, 118, 26, 27373, 14669, 108,…\n",
      "$ `6/12/20`        \u001b[3m\u001b[38;5;246m<dbl>\u001b[39m\u001b[23m 23550, 1416, 10698, 853, 130, 26, 28764, 15281, 108,…\n",
      "$ `6/13/20`        \u001b[3m\u001b[38;5;246m<dbl>\u001b[39m\u001b[23m 24106, 1464, 10810, 853, 138, 26, 30295, 16004, 108,…\n",
      "$ `6/14/20`        \u001b[3m\u001b[38;5;246m<dbl>\u001b[39m\u001b[23m 24770, 1521, 10919, 853, 140, 26, 31577, 16667, 108,…\n",
      "$ `6/15/20`        \u001b[3m\u001b[38;5;246m<dbl>\u001b[39m\u001b[23m 25531, 1590, 11031, 853, 142, 26, 32785, 17064, 108,…\n",
      "$ `6/16/20`        \u001b[3m\u001b[38;5;246m<dbl>\u001b[39m\u001b[23m 26314, 1672, 11147, 854, 148, 26, 34159, 17489, 108,…\n",
      "$ `6/17/20`        \u001b[3m\u001b[38;5;246m<dbl>\u001b[39m\u001b[23m 26878, 1722, 11268, 854, 155, 26, 35552, 18033, 108,…\n",
      "$ `6/18/20`        \u001b[3m\u001b[38;5;246m<dbl>\u001b[39m\u001b[23m 27536, 1788, 11385, 855, 166, 26, 37510, 18698, 108,…\n",
      "$ `6/19/20`        \u001b[3m\u001b[38;5;246m<dbl>\u001b[39m\u001b[23m 27882, 1838, 11504, 855, 172, 26, 39570, 19157, 108,…\n",
      "$ `6/20/20`        \u001b[3m\u001b[38;5;246m<dbl>\u001b[39m\u001b[23m 28428, 1891, 11631, 855, 176, 26, 41204, 19708, 108,…\n",
      "$ `6/21/20`        \u001b[3m\u001b[38;5;246m<dbl>\u001b[39m\u001b[23m 28837, 1962, 11771, 855, 183, 26, 42785, 20268, 108,…\n",
      "$ `6/22/20`        \u001b[3m\u001b[38;5;246m<dbl>\u001b[39m\u001b[23m 29147, 1995, 11920, 855, 186, 26, 44931, 20588, 108,…\n",
      "$ `6/23/20`        \u001b[3m\u001b[38;5;246m<dbl>\u001b[39m\u001b[23m 29471, 2047, 12076, 855, 189, 26, 47203, 21006, 108,…\n",
      "$ `6/24/20`        \u001b[3m\u001b[38;5;246m<dbl>\u001b[39m\u001b[23m 29705, 2114, 12248, 855, 197, 26, 49851, 21717, 108,…\n",
      "$ `6/25/20`        \u001b[3m\u001b[38;5;246m<dbl>\u001b[39m\u001b[23m 30165, 2192, 12445, 855, 212, 65, 52457, 22488, 108,…\n",
      "$ `6/26/20`        \u001b[3m\u001b[38;5;246m<dbl>\u001b[39m\u001b[23m 30441, 2269, 12685, 855, 212, 65, 55343, 23247, 108,…\n",
      "$ `6/27/20`        \u001b[3m\u001b[38;5;246m<dbl>\u001b[39m\u001b[23m 30606, 2330, 12968, 855, 259, 65, 57744, 23909, 108,…\n",
      "$ `6/28/20`        \u001b[3m\u001b[38;5;246m<dbl>\u001b[39m\u001b[23m 30957, 2402, 13273, 855, 267, 69, 59933, 24645, 108,…\n",
      "$ `6/29/20`        \u001b[3m\u001b[38;5;246m<dbl>\u001b[39m\u001b[23m 31228, 2466, 13571, 855, 276, 69, 62268, 25127, 108,…\n",
      "$ `6/30/20`        \u001b[3m\u001b[38;5;246m<dbl>\u001b[39m\u001b[23m 31507, 2535, 13907, 855, 284, 69, 64530, 25542, 108,…\n",
      "$ `7/1/20`         \u001b[3m\u001b[38;5;246m<dbl>\u001b[39m\u001b[23m 31826, 2580, 14272, 855, 291, 69, 67197, 26065, 108,…\n",
      "$ `7/2/20`         \u001b[3m\u001b[38;5;246m<dbl>\u001b[39m\u001b[23m 32012, 2662, 14657, 855, 315, 69, 69941, 26658, 108,…\n",
      "$ `7/3/20`         \u001b[3m\u001b[38;5;246m<dbl>\u001b[39m\u001b[23m 32314, 2752, 15070, 855, 328, 68, 72786, 27320, 108,…\n",
      "$ `7/4/20`         \u001b[3m\u001b[38;5;246m<dbl>\u001b[39m\u001b[23m 32662, 2819, 15500, 855, 346, 68, 75376, 27900, 108,…\n",
      "$ `7/5/20`         \u001b[3m\u001b[38;5;246m<dbl>\u001b[39m\u001b[23m 32941, 2893, 15941, 855, 346, 68, 77815, 28606, 108,…\n",
      "$ `7/6/20`         \u001b[3m\u001b[38;5;246m<dbl>\u001b[39m\u001b[23m 33180, 2964, 16404, 855, 346, 70, 80447, 28936, 108,…\n",
      "$ `7/7/20`         \u001b[3m\u001b[38;5;246m<dbl>\u001b[39m\u001b[23m 33374, 3038, 16879, 855, 386, 70, 83426, 29285, 111,…\n",
      "$ `7/8/20`         \u001b[3m\u001b[38;5;246m<dbl>\u001b[39m\u001b[23m 33584, 3106, 17348, 855, 386, 70, 87030, 29820, 112,…\n",
      "$ `7/9/20`         \u001b[3m\u001b[38;5;246m<dbl>\u001b[39m\u001b[23m 33898, 3188, 17808, 855, 396, 73, 90693, 30346, 113,…\n",
      "$ `7/10/20`        \u001b[3m\u001b[38;5;246m<dbl>\u001b[39m\u001b[23m 34184, 3278, 18242, 855, 458, 74, 94060, 30903, 113,…\n",
      "$ `7/11/20`        \u001b[3m\u001b[38;5;246m<dbl>\u001b[39m\u001b[23m 34356, 3371, 18712, 855, 462, 74, 97509, 31392, 113,…\n",
      "$ `7/12/20`        \u001b[3m\u001b[38;5;246m<dbl>\u001b[39m\u001b[23m 34441, 3454, 19195, 855, 506, 74, 100166, 31969, 113…\n",
      "$ `7/13/20`        \u001b[3m\u001b[38;5;246m<dbl>\u001b[39m\u001b[23m 34595, 3571, 19689, 858, 525, 74, 103265, 32151, 113…\n",
      "$ `7/14/20`        \u001b[3m\u001b[38;5;246m<dbl>\u001b[39m\u001b[23m 34730, 3667, 20216, 861, 541, 74, 106910, 32490, 113…\n",
      "$ `7/15/20`        \u001b[3m\u001b[38;5;246m<dbl>\u001b[39m\u001b[23m 34984, 3752, 20770, 862, 576, 74, 111146, 33005, 113…\n",
      "$ `7/16/20`        \u001b[3m\u001b[38;5;246m<dbl>\u001b[39m\u001b[23m 35060, 3851, 21355, 877, 607, 74, 114783, 33559, 113…\n",
      "$ `7/17/20`        \u001b[3m\u001b[38;5;246m<dbl>\u001b[39m\u001b[23m 35219, 3906, 21948, 880, 638, 76, 119301, 34001, 113…\n",
      "$ `7/18/20`        \u001b[3m\u001b[38;5;246m<dbl>\u001b[39m\u001b[23m 35279, 4008, 22549, 880, 687, 76, 122524, 34462, 113…\n",
      "$ `7/19/20`        \u001b[3m\u001b[38;5;246m<dbl>\u001b[39m\u001b[23m 35453, 4090, 23084, 880, 705, 76, 126755, 34877, 113…\n",
      "$ `7/20/20`        \u001b[3m\u001b[38;5;246m<dbl>\u001b[39m\u001b[23m 35493, 4171, 23691, 884, 749, 76, 130774, 34981, 113…\n",
      "$ `7/21/20`        \u001b[3m\u001b[38;5;246m<dbl>\u001b[39m\u001b[23m 35605, 4290, 24278, 884, 779, 76, 136118, 35254, 113…\n",
      "$ `7/22/20`        \u001b[3m\u001b[38;5;246m<dbl>\u001b[39m\u001b[23m 35717, 4358, 24872, 889, 812, 76, 141900, 35693, 113…\n",
      "$ `7/23/20`        \u001b[3m\u001b[38;5;246m<dbl>\u001b[39m\u001b[23m 35918, 4466, 25484, 889, 851, 76, 148027, 36162, 113…\n",
      "$ `7/24/20`        \u001b[3m\u001b[38;5;246m<dbl>\u001b[39m\u001b[23m 35978, 4570, 26159, 897, 880, 82, 153520, 36613, 113…\n",
      "$ `7/25/20`        \u001b[3m\u001b[38;5;246m<dbl>\u001b[39m\u001b[23m 36026, 4637, 26764, 897, 916, 82, 158334, 36996, 113…\n",
      "$ `7/26/20`        \u001b[3m\u001b[38;5;246m<dbl>\u001b[39m\u001b[23m 36147, 4763, 27357, 897, 932, 82, 162526, 37317, 113…\n",
      "$ `7/27/20`        \u001b[3m\u001b[38;5;246m<dbl>\u001b[39m\u001b[23m 36253, 4880, 27973, 907, 950, 86, 167416, 37390, 113…\n",
      "$ `7/28/20`        \u001b[3m\u001b[38;5;246m<dbl>\u001b[39m\u001b[23m 36358, 4997, 28615, 907, 1000, 86, 173355, 37629, 11…\n",
      "$ `7/29/20`        \u001b[3m\u001b[38;5;246m<dbl>\u001b[39m\u001b[23m 36463, 5105, 29229, 918, 1078, 91, 178996, 37937, 11…\n",
      "$ `7/30/20`        \u001b[3m\u001b[38;5;246m<dbl>\u001b[39m\u001b[23m 36532, 5197, 29831, 922, 1109, 91, 185373, 38196, 11…\n",
      "$ `7/31/20`        \u001b[3m\u001b[38;5;246m<dbl>\u001b[39m\u001b[23m 36665, 5276, 30394, 925, 1148, 91, 191302, 38550, 11…\n",
      "$ `8/1/20`         \u001b[3m\u001b[38;5;246m<dbl>\u001b[39m\u001b[23m 36700, 5396, 30950, 925, 1164, 91, 196543, 38841, 11…\n",
      "$ `8/2/20`         \u001b[3m\u001b[38;5;246m<dbl>\u001b[39m\u001b[23m 36701, 5519, 31465, 925, 1199, 91, 201919, 39050, 11…\n",
      "$ `8/3/20`         \u001b[3m\u001b[38;5;246m<dbl>\u001b[39m\u001b[23m 36737, 5620, 31972, 937, 1280, 92, 206743, 39102, 11…\n",
      "$ `8/4/20`         \u001b[3m\u001b[38;5;246m<dbl>\u001b[39m\u001b[23m 36773, 5750, 32504, 939, 1344, 92, 213535, 39298, 11…\n",
      "$ `8/5/20`         \u001b[3m\u001b[38;5;246m<dbl>\u001b[39m\u001b[23m 36820, 5889, 33055, 939, 1395, 92, 220682, 39586, 11…\n",
      "$ `8/6/20`         \u001b[3m\u001b[38;5;246m<dbl>\u001b[39m\u001b[23m 36928, 6016, 33626, 944, 1483, 92, 228195, 39819, 11…\n",
      "$ `8/7/20`         \u001b[3m\u001b[38;5;246m<dbl>\u001b[39m\u001b[23m 37006, 6151, 34155, 955, 1538, 92, 235677, 39985, 11…\n",
      "$ `8/8/20`         \u001b[3m\u001b[38;5;246m<dbl>\u001b[39m\u001b[23m 37046, 6275, 34693, 955, 1572, 92, 241811, 40185, 11…\n",
      "$ `8/9/20`         \u001b[3m\u001b[38;5;246m<dbl>\u001b[39m\u001b[23m 37083, 6411, 35160, 955, 1672, 92, 246499, 40410, 11…\n",
      "$ `8/10/20`        \u001b[3m\u001b[38;5;246m<dbl>\u001b[39m\u001b[23m 37153, 6536, 35712, 963, 1679, 92, 253868, 40433, 11…\n",
      "$ `8/11/20`        \u001b[3m\u001b[38;5;246m<dbl>\u001b[39m\u001b[23m 37260, 6676, 36204, 963, 1735, 92, 260911, 40593, 11…\n",
      "$ `8/12/20`        \u001b[3m\u001b[38;5;246m<dbl>\u001b[39m\u001b[23m 37336, 6817, 36699, 977, 1762, 92, 268574, 40794, 11…\n",
      "$ `8/13/20`        \u001b[3m\u001b[38;5;246m<dbl>\u001b[39m\u001b[23m 37422, 6971, 37187, 981, 1815, 92, 276072, 41023, 11…\n",
      "$ `8/14/20`        \u001b[3m\u001b[38;5;246m<dbl>\u001b[39m\u001b[23m 37497, 7117, 37664, 989, 1852, 93, 282437, 41299, 11…\n",
      "$ `8/15/20`        \u001b[3m\u001b[38;5;246m<dbl>\u001b[39m\u001b[23m 37542, 7260, 38133, 989, 1879, 93, 289100, 41495, 11…\n",
      "$ `8/16/20`        \u001b[3m\u001b[38;5;246m<dbl>\u001b[39m\u001b[23m 37590, 7380, 38583, 989, 1906, 93, 294569, 41663, 11…\n",
      "$ `8/17/20`        \u001b[3m\u001b[38;5;246m<dbl>\u001b[39m\u001b[23m 37667, 7499, 39025, 1005, 1935, 93, 299126, 41701, 1…\n",
      "$ `8/18/20`        \u001b[3m\u001b[38;5;246m<dbl>\u001b[39m\u001b[23m 37710, 7654, 39444, 1005, 1966, 93, 305966, 41846, 1…\n",
      "$ `8/19/20`        \u001b[3m\u001b[38;5;246m<dbl>\u001b[39m\u001b[23m 37750, 7812, 39847, 1024, 2015, 94, 312659, 42056, 1…\n",
      "$ `8/20/20`        \u001b[3m\u001b[38;5;246m<dbl>\u001b[39m\u001b[23m 37852, 7967, 40258, 1024, 2044, 94, 320884, 42319, 1…\n",
      "$ `8/21/20`        \u001b[3m\u001b[38;5;246m<dbl>\u001b[39m\u001b[23m 37885, 8119, 40667, 1045, 2068, 94, 329043, 42477, 1…\n",
      "$ `8/22/20`        \u001b[3m\u001b[38;5;246m<dbl>\u001b[39m\u001b[23m 37944, 8275, 41068, 1045, 2134, 94, 336802, 42616, 1…\n",
      "$ `8/23/20`        \u001b[3m\u001b[38;5;246m<dbl>\u001b[39m\u001b[23m 37990, 8427, 41460, 1045, 2171, 94, 342154, 42792, 1…\n",
      "$ `8/24/20`        \u001b[3m\u001b[38;5;246m<dbl>\u001b[39m\u001b[23m 38045, 8605, 41858, 1060, 2222, 94, 350867, 42825, 1…\n",
      "$ `8/25/20`        \u001b[3m\u001b[38;5;246m<dbl>\u001b[39m\u001b[23m 38061, 8759, 42228, 1060, 2283, 94, 359638, 42936, 1…\n",
      "$ `8/26/20`        \u001b[3m\u001b[38;5;246m<dbl>\u001b[39m\u001b[23m 38103, 8927, 42619, 1098, 2332, 94, 370188, 43067, 1…\n",
      "$ `8/27/20`        \u001b[3m\u001b[38;5;246m<dbl>\u001b[39m\u001b[23m 38119, 9083, 43016, 1098, 2415, 94, 380292, 43270, 1…\n",
      "$ `8/28/20`        \u001b[3m\u001b[38;5;246m<dbl>\u001b[39m\u001b[23m 38130, 9195, 43403, 1124, 2471, 94, 392009, 43451, 1…\n",
      "$ `8/29/20`        \u001b[3m\u001b[38;5;246m<dbl>\u001b[39m\u001b[23m 38133, 9279, 43781, 1124, 2551, 94, 401239, 43626, 1…\n",
      "$ `8/30/20`        \u001b[3m\u001b[38;5;246m<dbl>\u001b[39m\u001b[23m 38155, 9380, 44146, 1124, 2624, 94, 408426, 43750, 1…\n",
      "$ `8/31/20`        \u001b[3m\u001b[38;5;246m<dbl>\u001b[39m\u001b[23m 38159, 9513, 44494, 1176, 2654, 94, 417735, 43781, 1…\n",
      "$ `9/1/20`         \u001b[3m\u001b[38;5;246m<dbl>\u001b[39m\u001b[23m 38193, 9606, 44833, 1184, 2729, 94, 428239, 43878, 1…\n",
      "$ `9/2/20`         \u001b[3m\u001b[38;5;246m<dbl>\u001b[39m\u001b[23m 38243, 9728, 45158, 1199, 2777, 94, 439172, 44075, 1…\n",
      "$ `9/3/20`         \u001b[3m\u001b[38;5;246m<dbl>\u001b[39m\u001b[23m 38288, 9844, 45469, 1199, 2805, 95, 451198, 44271, 1…\n",
      "$ `9/4/20`         \u001b[3m\u001b[38;5;246m<dbl>\u001b[39m\u001b[23m 38304, 9967, 45773, 1215, 2876, 95, 461882, 44461, 1…\n",
      "$ `9/5/20`         \u001b[3m\u001b[38;5;246m<dbl>\u001b[39m\u001b[23m 38324, 10102, 46071, 1215, 2935, 95, 471806, 44649, …\n",
      "$ `9/6/20`         \u001b[3m\u001b[38;5;246m<dbl>\u001b[39m\u001b[23m 38398, 10255, 46364, 1215, 2965, 95, 478792, 44783, …\n",
      "$ `9/7/20`         \u001b[3m\u001b[38;5;246m<dbl>\u001b[39m\u001b[23m 38494, 10406, 46653, 1261, 2981, 95, 488007, 44845, …\n",
      "$ `9/8/20`         \u001b[3m\u001b[38;5;246m<dbl>\u001b[39m\u001b[23m 38520, 10553, 46938, 1261, 3033, 95, 500034, 44953, …\n",
      "$ `9/9/20`         \u001b[3m\u001b[38;5;246m<dbl>\u001b[39m\u001b[23m 38544, 10704, 47216, 1301, 3092, 95, 512293, 45152, …\n",
      "$ `9/10/20`        \u001b[3m\u001b[38;5;246m<dbl>\u001b[39m\u001b[23m 38572, 10860, 47488, 1301, 3217, 95, 524198, 45326, …\n",
      "$ `9/11/20`        \u001b[3m\u001b[38;5;246m<dbl>\u001b[39m\u001b[23m 38606, 11021, 47752, 1344, 3279, 95, 535705, 45503, …\n",
      "$ `9/12/20`        \u001b[3m\u001b[38;5;246m<dbl>\u001b[39m\u001b[23m 38641, 11185, 48007, 1344, 3335, 95, 546481, 45675, …\n",
      "$ `9/13/20`        \u001b[3m\u001b[38;5;246m<dbl>\u001b[39m\u001b[23m 38716, 11353, 48254, 1344, 3388, 95, 555537, 45862, …\n",
      "$ `9/14/20`        \u001b[3m\u001b[38;5;246m<dbl>\u001b[39m\u001b[23m 38772, 11520, 48496, 1438, 3439, 95, 565446, 45969, …\n",
      "$ `9/15/20`        \u001b[3m\u001b[38;5;246m<dbl>\u001b[39m\u001b[23m 38815, 11672, 48734, 1438, 3569, 95, 577338, 46119, …\n",
      "$ `9/16/20`        \u001b[3m\u001b[38;5;246m<dbl>\u001b[39m\u001b[23m 38855, 11816, 48966, 1483, 3675, 95, 589012, 46376, …\n",
      "$ `9/17/20`        \u001b[3m\u001b[38;5;246m<dbl>\u001b[39m\u001b[23m 38872, 11948, 49194, 1483, 3789, 95, 601713, 46671, …\n",
      "$ `9/18/20`        \u001b[3m\u001b[38;5;246m<dbl>\u001b[39m\u001b[23m 38897, 12073, 49413, 1564, 3848, 95, 613658, 46910, …\n",
      "$ `9/19/20`        \u001b[3m\u001b[38;5;246m<dbl>\u001b[39m\u001b[23m 38919, 12226, 49623, 1564, 3901, 96, 622934, 47154, …\n",
      "$ `9/20/20`        \u001b[3m\u001b[38;5;246m<dbl>\u001b[39m\u001b[23m 39044, 12385, 49826, 1564, 3991, 96, 631365, 47431, …\n",
      "$ `9/21/20`        \u001b[3m\u001b[38;5;246m<dbl>\u001b[39m\u001b[23m 39074, 12535, 50023, 1681, 4117, 96, 640147, 47552, …\n",
      "$ `9/22/20`        \u001b[3m\u001b[38;5;246m<dbl>\u001b[39m\u001b[23m 39096, 12666, 50214, 1681, 4236, 96, 652174, 47667, …\n",
      "$ `9/23/20`        \u001b[3m\u001b[38;5;246m<dbl>\u001b[39m\u001b[23m 39145, 12787, 50400, 1753, 4363, 97, 664799, 47877, …\n",
      "$ `9/24/20`        \u001b[3m\u001b[38;5;246m<dbl>\u001b[39m\u001b[23m 39170, 12921, 50579, 1753, 4475, 97, 678266, 48251, …\n",
      "$ `9/25/20`        \u001b[3m\u001b[38;5;246m<dbl>\u001b[39m\u001b[23m 39186, 13045, 50754, 1836, 4590, 98, 691235, 48643, …\n",
      "$ `9/26/20`        \u001b[3m\u001b[38;5;246m<dbl>\u001b[39m\u001b[23m 39192, 13153, 50914, 1836, 4672, 98, 702484, 49072, …\n",
      "$ `9/27/20`        \u001b[3m\u001b[38;5;246m<dbl>\u001b[39m\u001b[23m 39227, 13259, 51067, 1836, 4718, 101, 711325, 49400,…\n",
      "$ `9/28/20`        \u001b[3m\u001b[38;5;246m<dbl>\u001b[39m\u001b[23m 39239, 13391, 51213, 1966, 4797, 101, 723132, 49574,…\n",
      "$ `9/29/20`        \u001b[3m\u001b[38;5;246m<dbl>\u001b[39m\u001b[23m 39254, 13518, 51368, 1966, 4905, 101, 736609, 49901,…\n",
      "$ `9/30/20`        \u001b[3m\u001b[38;5;246m<dbl>\u001b[39m\u001b[23m 39268, 13649, 51530, 2050, 4972, 101, 751001, 50359,…\n",
      "$ `10/1/20`        \u001b[3m\u001b[38;5;246m<dbl>\u001b[39m\u001b[23m 39285, 13806, 51690, 2050, 5114, 101, 765002, 50850,…\n",
      "$ `10/2/20`        \u001b[3m\u001b[38;5;246m<dbl>\u001b[39m\u001b[23m 39290, 13965, 51847, 2110, 5211, 106, 779689, 51382,…\n",
      "$ `10/3/20`        \u001b[3m\u001b[38;5;246m<dbl>\u001b[39m\u001b[23m 39297, 14117, 51995, 2110, 5370, 107, 790818, 51925,…\n",
      "$ `10/4/20`        \u001b[3m\u001b[38;5;246m<dbl>\u001b[39m\u001b[23m 39341, 14266, 52136, 2110, 5402, 107, 798486, 52496,…\n",
      "$ `10/5/20`        \u001b[3m\u001b[38;5;246m<dbl>\u001b[39m\u001b[23m 39422, 14410, 52270, 2370, 5530, 107, 809728, 52677,…\n",
      "$ `10/6/20`        \u001b[3m\u001b[38;5;246m<dbl>\u001b[39m\u001b[23m 39486, 14568, 52399, 2370, 5725, 107, 824468, 53083,…\n",
      "$ `10/7/20`        \u001b[3m\u001b[38;5;246m<dbl>\u001b[39m\u001b[23m 39548, 14730, 52520, 2568, 5725, 108, 840915, 53755,…\n",
      "$ `10/8/20`        \u001b[3m\u001b[38;5;246m<dbl>\u001b[39m\u001b[23m 39616, 14899, 52658, 2568, 5958, 111, 856369, 54473,…\n",
      "$ `10/9/20`        \u001b[3m\u001b[38;5;246m<dbl>\u001b[39m\u001b[23m 39693, 15066, 52804, 2696, 6031, 111, 871468, 55087,…\n",
      "$ `10/10/20`       \u001b[3m\u001b[38;5;246m<dbl>\u001b[39m\u001b[23m 39703, 15231, 52940, 2696, 6246, 111, 883882, 55736,…\n",
      "$ `10/11/20`       \u001b[3m\u001b[38;5;246m<dbl>\u001b[39m\u001b[23m 39799, 15399, 53072, 2696, 6366, 111, 894206, 56451,…\n",
      "$ `10/12/20`       \u001b[3m\u001b[38;5;246m<dbl>\u001b[39m\u001b[23m 39870, 15570, 53325, 2995, 6488, 111, 903730, 56821,…\n",
      "$ `10/13/20`       \u001b[3m\u001b[38;5;246m<dbl>\u001b[39m\u001b[23m 39928, 15752, 53399, 2995, 6680, 111, 917035, 57566,…\n",
      "$ `10/14/20`       \u001b[3m\u001b[38;5;246m<dbl>\u001b[39m\u001b[23m 39994, 15955, 53584, 3190, 6846, 112, 931967, 58624,…\n",
      "$ `10/15/20`       \u001b[3m\u001b[38;5;246m<dbl>\u001b[39m\u001b[23m 40026, 16212, 53777, 3190, 7096, 112, 949063, 59995,…\n",
      "$ `10/16/20`       \u001b[3m\u001b[38;5;246m<dbl>\u001b[39m\u001b[23m 40088, 16501, 53998, 3377, 7222, 112, 965609, 61460,…\n",
      "$ `10/17/20`       \u001b[3m\u001b[38;5;246m<dbl>\u001b[39m\u001b[23m 40141, 16774, 54203, 3377, 7462, 119, 979119, 63000,…\n",
      "$ `10/18/20`       \u001b[3m\u001b[38;5;246m<dbl>\u001b[39m\u001b[23m 40200, 17055, 54402, 3377, 7622, 119, 989680, 64694,…\n",
      "$ `10/19/20`       \u001b[3m\u001b[38;5;246m<dbl>\u001b[39m\u001b[23m 40287, 17350, 54616, 3623, 7829, 119, 1002662, 65460…\n",
      "$ `10/20/20`       \u001b[3m\u001b[38;5;246m<dbl>\u001b[39m\u001b[23m 40369, 17651, 54829, 3623, 8049, 119, 1018999, 66694…\n",
      "$ `10/21/20`       \u001b[3m\u001b[38;5;246m<dbl>\u001b[39m\u001b[23m 40510, 17948, 55081, 3811, 8338, 122, 1037325, 68530…\n",
      "$ `10/22/20`       \u001b[3m\u001b[38;5;246m<dbl>\u001b[39m\u001b[23m 40626, 18250, 55357, 3811, 8582, 122, 1053650, 70836…\n",
      "$ `10/23/20`       \u001b[3m\u001b[38;5;246m<dbl>\u001b[39m\u001b[23m 40687, 18556, 55630, 4038, 8829, 122, 1069368, 73310…\n",
      "$ `10/24/20`       \u001b[3m\u001b[38;5;246m<dbl>\u001b[39m\u001b[23m 40768, 18858, 55880, 4038, 9026, 124, 1081336, 75523…\n",
      "$ `10/25/20`       \u001b[3m\u001b[38;5;246m<dbl>\u001b[39m\u001b[23m 40833, 19157, 56143, 4038, 9381, 124, 1090589, 77837…\n",
      "$ `10/26/20`       \u001b[3m\u001b[38;5;246m<dbl>\u001b[39m\u001b[23m 40937, 19445, 56419, 4325, 9644, 124, 1102301, 78810…\n",
      "$ `10/27/20`       \u001b[3m\u001b[38;5;246m<dbl>\u001b[39m\u001b[23m 41032, 19729, 56706, 4410, 9871, 124, 1116609, 80410…\n",
      "$ `10/28/20`       \u001b[3m\u001b[38;5;246m<dbl>\u001b[39m\u001b[23m 41145, 20040, 57026, 4517, 10074, 124, 1130533, 8265…\n",
      "$ `10/29/20`       \u001b[3m\u001b[38;5;246m<dbl>\u001b[39m\u001b[23m 41268, 20315, 57332, 4567, 10269, 124, 1143800, 8503…\n",
      "$ `10/30/20`       \u001b[3m\u001b[38;5;246m<dbl>\u001b[39m\u001b[23m 41334, 20634, 57651, 4665, 10558, 127, 1157179, 8743…\n",
      "$ `10/31/20`       \u001b[3m\u001b[38;5;246m<dbl>\u001b[39m\u001b[23m 41425, 20875, 57942, 4756, 10805, 128, 1166924, 8981…\n",
      "$ `11/1/20`        \u001b[3m\u001b[38;5;246m<dbl>\u001b[39m\u001b[23m 41501, 21202, 58272, 4825, 11035, 128, 1173533, 9225…\n",
      "$ `11/2/20`        \u001b[3m\u001b[38;5;246m<dbl>\u001b[39m\u001b[23m 41633, 21523, 58574, 4888, 11228, 128, 1183131, 9344…\n",
      "$ `11/3/20`        \u001b[3m\u001b[38;5;246m<dbl>\u001b[39m\u001b[23m 41728, 21904, 58979, 4910, 11577, 128, 1195276, 9477…\n",
      "$ `11/4/20`        \u001b[3m\u001b[38;5;246m<dbl>\u001b[39m\u001b[23m 41814, 22300, 59527, 5045, 11813, 130, 1205928, 9715…\n",
      "$ `11/5/20`        \u001b[3m\u001b[38;5;246m<dbl>\u001b[39m\u001b[23m 41935, 22721, 60169, 5135, 12102, 130, 1217028, 9956…\n",
      "$ `11/6/20`        \u001b[3m\u001b[38;5;246m<dbl>\u001b[39m\u001b[23m 41975, 23210, 60800, 5135, 12223, 130, 1228814, 1017…\n",
      "$ `11/7/20`        \u001b[3m\u001b[38;5;246m<dbl>\u001b[39m\u001b[23m 42033, 23705, 61381, 5319, 12335, 131, 1236851, 1042…\n",
      "$ `11/8/20`        \u001b[3m\u001b[38;5;246m<dbl>\u001b[39m\u001b[23m 42159, 24206, 62051, 5383, 12433, 131, 1242182, 1064…\n",
      "$ `11/9/20`        \u001b[3m\u001b[38;5;246m<dbl>\u001b[39m\u001b[23m 42297, 24731, 62693, 5437, 12680, 131, 1250499, 1074…\n",
      "$ `11/10/20`       \u001b[3m\u001b[38;5;246m<dbl>\u001b[39m\u001b[23m 42463, 25294, 63446, 5477, 12816, 131, 1262476, 1086…\n",
      "$ `11/11/20`       \u001b[3m\u001b[38;5;246m<dbl>\u001b[39m\u001b[23m 42609, 25801, 64257, 5567, 12953, 131, 1273356, 1105…\n",
      "$ `11/12/20`       \u001b[3m\u001b[38;5;246m<dbl>\u001b[39m\u001b[23m 42795, 26211, 65108, 5616, 13053, 131, 1284519, 1126…\n",
      "$ `11/13/20`       \u001b[3m\u001b[38;5;246m<dbl>\u001b[39m\u001b[23m 42969, 26701, 65975, 5725, 13228, 133, 1296378, 1143…\n",
      "$ `11/14/20`       \u001b[3m\u001b[38;5;246m<dbl>\u001b[39m\u001b[23m 43035, 27233, 66819, 5725, 13374, 134, 1304846, 1158…\n",
      "$ `11/15/20`       \u001b[3m\u001b[38;5;246m<dbl>\u001b[39m\u001b[23m 43240, 27830, 67679, 5872, 13451, 134, 1310491, 1173…\n",
      "$ `11/16/20`       \u001b[3m\u001b[38;5;246m<dbl>\u001b[39m\u001b[23m 43468, 28432, 68589, 5914, 13615, 134, 1318384, 1178…\n",
      "$ `11/17/20`       \u001b[3m\u001b[38;5;246m<dbl>\u001b[39m\u001b[23m 43681, 29126, 69591, 5951, 13818, 134, 1329005, 1188…\n",
      "$ `11/18/20`       \u001b[3m\u001b[38;5;246m<dbl>\u001b[39m\u001b[23m 43924, 29837, 70629, 6018, 13922, 139, 1339337, 1204…\n",
      "$ `11/19/20`       \u001b[3m\u001b[38;5;246m<dbl>\u001b[39m\u001b[23m 44177, 30623, 71652, 6066, 14134, 139, 1349434, 1219…\n",
      "$ `11/20/20`       \u001b[3m\u001b[38;5;246m<dbl>\u001b[39m\u001b[23m 44363, 31459, 72755, 6142, 14267, 139, 1359042, 1236…\n",
      "$ `11/21/20`       \u001b[3m\u001b[38;5;246m<dbl>\u001b[39m\u001b[23m 44503, 32196, 73774, 6207, 14413, 139, 1366182, 1248…\n",
      "$ `11/22/20`       \u001b[3m\u001b[38;5;246m<dbl>\u001b[39m\u001b[23m 44706, 32761, 74862, 6256, 14493, 139, 1370366, 1262…\n",
      "$ `11/23/20`       \u001b[3m\u001b[38;5;246m<dbl>\u001b[39m\u001b[23m 44988, 33556, 75867, 6304, 14634, 139, 1374631, 1267…\n",
      "$ `11/24/20`       \u001b[3m\u001b[38;5;246m<dbl>\u001b[39m\u001b[23m 45174, 34300, 77000, 6351, 14742, 139, 1381795, 1275…\n",
      "$ `11/25/20`       \u001b[3m\u001b[38;5;246m<dbl>\u001b[39m\u001b[23m 45384, 34944, 78025, 6428, 14821, 140, 1390388, 1290…\n",
      "$ `11/26/20`       \u001b[3m\u001b[38;5;246m<dbl>\u001b[39m\u001b[23m 45600, 35600, 79110, 6534, 14920, 141, 1399431, 1308…\n",
      "$ `11/27/20`       \u001b[3m\u001b[38;5;246m<dbl>\u001b[39m\u001b[23m 45723, 36245, 80168, 6610, 15008, 141, 1407277, 1323…\n",
      "$ `11/28/20`       \u001b[3m\u001b[38;5;246m<dbl>\u001b[39m\u001b[23m 45844, 36790, 81212, 6610, 15087, 141, 1413375, 1335…\n",
      "$ `11/29/20`       \u001b[3m\u001b[38;5;246m<dbl>\u001b[39m\u001b[23m 46116, 37625, 82221, 6712, 15103, 141, 1418807, 1347…\n",
      "$ `11/30/20`       \u001b[3m\u001b[38;5;246m<dbl>\u001b[39m\u001b[23m 46274, 38182, 83199, 6745, 15139, 141, 1424533, 1351…\n",
      "$ `12/1/20`        \u001b[3m\u001b[38;5;246m<dbl>\u001b[39m\u001b[23m 46516, 39014, 84152, 6790, 15251, 142, 1432570, 1359…\n",
      "$ `12/2/20`        \u001b[3m\u001b[38;5;246m<dbl>\u001b[39m\u001b[23m 46718, 39719, 85084, 6842, 15319, 144, 1440103, 1372…\n",
      "$ `12/3/20`        \u001b[3m\u001b[38;5;246m<dbl>\u001b[39m\u001b[23m 46837, 40501, 85927, 6904, 15361, 144, 1447732, 1385…\n",
      "$ `12/4/20`        \u001b[3m\u001b[38;5;246m<dbl>\u001b[39m\u001b[23m 46837, 41302, 86730, 6955, 15493, 144, 1454631, 1396…\n",
      "$ `12/5/20`        \u001b[3m\u001b[38;5;246m<dbl>\u001b[39m\u001b[23m 47072, 42148, 87502, 7005, 15536, 144, 1459832, 1409…\n",
      "$ `12/6/20`        \u001b[3m\u001b[38;5;246m<dbl>\u001b[39m\u001b[23m 47306, 42988, 88252, 7050, 15591, 144, 1463110, 1419…\n",
      "$ `12/7/20`        \u001b[3m\u001b[38;5;246m<dbl>\u001b[39m\u001b[23m 47516, 43683, 88825, 7084, 15648, 146, 1466309, 1423…\n",
      "$ `12/8/20`        \u001b[3m\u001b[38;5;246m<dbl>\u001b[39m\u001b[23m 47716, 44436, 89416, 7127, 15729, 146, 1469919, 1429…\n",
      "$ `12/9/20`        \u001b[3m\u001b[38;5;246m<dbl>\u001b[39m\u001b[23m 47851, 45188, 90014, 7162, 15804, 146, 1475222, 1440…\n",
      "$ `12/10/20`       \u001b[3m\u001b[38;5;246m<dbl>\u001b[39m\u001b[23m 48053, 46061, 90579, 7190, 15925, 146, 1482216, 1452…\n",
      "$ `12/11/20`       \u001b[3m\u001b[38;5;246m<dbl>\u001b[39m\u001b[23m 48116, 46863, 91121, 7236, 16061, 147, 1489328, 1463…\n",
      "$ `12/12/20`       \u001b[3m\u001b[38;5;246m<dbl>\u001b[39m\u001b[23m 48229, 47742, 91638, 7288, 16161, 148, 1494602, 1473…\n",
      "$ `12/13/20`       \u001b[3m\u001b[38;5;246m<dbl>\u001b[39m\u001b[23m 48527, 48530, 92102, 7338, 16188, 148, 1498160, 1483…\n",
      "$ `12/14/20`       \u001b[3m\u001b[38;5;246m<dbl>\u001b[39m\u001b[23m 48718, 49191, 92597, 7382, 16277, 148, 1503222, 1486…\n",
      "$ `12/15/20`       \u001b[3m\u001b[38;5;246m<dbl>\u001b[39m\u001b[23m 48952, 50000, 93065, 7382, 16362, 148, 1510203, 1491…\n",
      "$ `12/16/20`       \u001b[3m\u001b[38;5;246m<dbl>\u001b[39m\u001b[23m 49161, 50637, 93507, 7446, 16407, 151, 1517046, 1502…\n",
      "$ `12/17/20`       \u001b[3m\u001b[38;5;246m<dbl>\u001b[39m\u001b[23m 49378, 51424, 93933, 7466, 16484, 151, 1524372, 1513…\n",
      "$ `12/18/20`       \u001b[3m\u001b[38;5;246m<dbl>\u001b[39m\u001b[23m 49621, 52004, 94371, 7519, 16562, 152, 1531374, 1522…\n",
      "$ `12/19/20`       \u001b[3m\u001b[38;5;246m<dbl>\u001b[39m\u001b[23m 49681, 52542, 94781, 7560, 16626, 152, 1537169, 1531…\n",
      "$ `12/20/20`       \u001b[3m\u001b[38;5;246m<dbl>\u001b[39m\u001b[23m 49817, 53003, 95203, 7577, 16644, 153, 1541285, 1538…\n",
      "$ `12/21/20`       \u001b[3m\u001b[38;5;246m<dbl>\u001b[39m\u001b[23m 50013, 53425, 95659, 7602, 16686, 153, 1547138, 1540…\n",
      "$ `12/22/20`       \u001b[3m\u001b[38;5;246m<dbl>\u001b[39m\u001b[23m 50190, 53814, 96069, 7633, 16802, 153, 1555279, 1546…\n",
      "$ `12/23/20`       \u001b[3m\u001b[38;5;246m<dbl>\u001b[39m\u001b[23m 50433, 54317, 96549, 7669, 16931, 154, 1563865, 1554…\n",
      "$ `12/24/20`       \u001b[3m\u001b[38;5;246m<dbl>\u001b[39m\u001b[23m 50655, 54827, 97007, 7699, 17029, 154, 1563865, 1561…\n",
      "$ `12/25/20`       \u001b[3m\u001b[38;5;246m<dbl>\u001b[39m\u001b[23m 50810, 55380, 97441, 7756, 17099, 155, 1574554, 1567…\n"
     ]
    }
   ],
   "source": [
    "# Check data structure\n",
    "glimpse(covid_confirmed)"
   ]
  },
  {
   "cell_type": "code",
   "execution_count": 12,
   "metadata": {},
   "outputs": [
    {
     "name": "stdout",
     "output_type": "stream",
     "text": [
      "[1] 271 343\n"
     ]
    }
   ],
   "source": [
    "# Check the dimension of the data\n",
    "print(dim(covid_confirmed))"
   ]
  },
  {
   "cell_type": "code",
   "execution_count": 13,
   "metadata": {},
   "outputs": [],
   "source": [
    "# How rows are there in your data?\n",
    "# Answer: "
   ]
  },
  {
   "cell_type": "code",
   "execution_count": 14,
   "metadata": {},
   "outputs": [],
   "source": [
    "# How many columns are there in your data?\n",
    "# Answer:"
   ]
  },
  {
   "cell_type": "markdown",
   "metadata": {},
   "source": [
    "Use the **`head( )`** and **`tail( )`** functions to visually check the top and bottom rows of your data, respectively."
   ]
  },
  {
   "cell_type": "code",
   "execution_count": 15,
   "metadata": {},
   "outputs": [
    {
     "data": {
      "text/html": [
       "<table>\n",
       "<caption>A tibble: 6 × 343</caption>\n",
       "<thead>\n",
       "\t<tr><th scope=col>Province/State</th><th scope=col>Country/Region</th><th scope=col>Lat</th><th scope=col>Long</th><th scope=col>1/22/20</th><th scope=col>1/23/20</th><th scope=col>1/24/20</th><th scope=col>1/25/20</th><th scope=col>1/26/20</th><th scope=col>1/27/20</th><th scope=col>⋯</th><th scope=col>12/16/20</th><th scope=col>12/17/20</th><th scope=col>12/18/20</th><th scope=col>12/19/20</th><th scope=col>12/20/20</th><th scope=col>12/21/20</th><th scope=col>12/22/20</th><th scope=col>12/23/20</th><th scope=col>12/24/20</th><th scope=col>12/25/20</th></tr>\n",
       "\t<tr><th scope=col>&lt;chr&gt;</th><th scope=col>&lt;chr&gt;</th><th scope=col>&lt;dbl&gt;</th><th scope=col>&lt;dbl&gt;</th><th scope=col>&lt;dbl&gt;</th><th scope=col>&lt;dbl&gt;</th><th scope=col>&lt;dbl&gt;</th><th scope=col>&lt;dbl&gt;</th><th scope=col>&lt;dbl&gt;</th><th scope=col>&lt;dbl&gt;</th><th scope=col>⋯</th><th scope=col>&lt;dbl&gt;</th><th scope=col>&lt;dbl&gt;</th><th scope=col>&lt;dbl&gt;</th><th scope=col>&lt;dbl&gt;</th><th scope=col>&lt;dbl&gt;</th><th scope=col>&lt;dbl&gt;</th><th scope=col>&lt;dbl&gt;</th><th scope=col>&lt;dbl&gt;</th><th scope=col>&lt;dbl&gt;</th><th scope=col>&lt;dbl&gt;</th></tr>\n",
       "</thead>\n",
       "<tbody>\n",
       "\t<tr><td>NA</td><td>Afghanistan        </td><td> 33.93911</td><td> 67.70995</td><td>0</td><td>0</td><td>0</td><td>0</td><td>0</td><td>0</td><td>⋯</td><td>49161</td><td>49378</td><td>49621</td><td>49681</td><td>49817</td><td>50013</td><td>50190</td><td>50433</td><td>50655</td><td>50810</td></tr>\n",
       "\t<tr><td>NA</td><td>Albania            </td><td> 41.15330</td><td> 20.16830</td><td>0</td><td>0</td><td>0</td><td>0</td><td>0</td><td>0</td><td>⋯</td><td>50637</td><td>51424</td><td>52004</td><td>52542</td><td>53003</td><td>53425</td><td>53814</td><td>54317</td><td>54827</td><td>55380</td></tr>\n",
       "\t<tr><td>NA</td><td>Algeria            </td><td> 28.03390</td><td>  1.65960</td><td>0</td><td>0</td><td>0</td><td>0</td><td>0</td><td>0</td><td>⋯</td><td>93507</td><td>93933</td><td>94371</td><td>94781</td><td>95203</td><td>95659</td><td>96069</td><td>96549</td><td>97007</td><td>97441</td></tr>\n",
       "\t<tr><td>NA</td><td>Andorra            </td><td> 42.50630</td><td>  1.52180</td><td>0</td><td>0</td><td>0</td><td>0</td><td>0</td><td>0</td><td>⋯</td><td> 7446</td><td> 7466</td><td> 7519</td><td> 7560</td><td> 7577</td><td> 7602</td><td> 7633</td><td> 7669</td><td> 7699</td><td> 7756</td></tr>\n",
       "\t<tr><td>NA</td><td>Angola             </td><td>-11.20270</td><td> 17.87390</td><td>0</td><td>0</td><td>0</td><td>0</td><td>0</td><td>0</td><td>⋯</td><td>16407</td><td>16484</td><td>16562</td><td>16626</td><td>16644</td><td>16686</td><td>16802</td><td>16931</td><td>17029</td><td>17099</td></tr>\n",
       "\t<tr><td>NA</td><td>Antigua and Barbuda</td><td> 17.06080</td><td>-61.79640</td><td>0</td><td>0</td><td>0</td><td>0</td><td>0</td><td>0</td><td>⋯</td><td>  151</td><td>  151</td><td>  152</td><td>  152</td><td>  153</td><td>  153</td><td>  153</td><td>  154</td><td>  154</td><td>  155</td></tr>\n",
       "</tbody>\n",
       "</table>\n"
      ],
      "text/latex": [
       "A tibble: 6 × 343\n",
       "\\begin{tabular}{lllllllllllllllllllll}\n",
       " Province/State & Country/Region & Lat & Long & 1/22/20 & 1/23/20 & 1/24/20 & 1/25/20 & 1/26/20 & 1/27/20 & ⋯ & 12/16/20 & 12/17/20 & 12/18/20 & 12/19/20 & 12/20/20 & 12/21/20 & 12/22/20 & 12/23/20 & 12/24/20 & 12/25/20\\\\\n",
       " <chr> & <chr> & <dbl> & <dbl> & <dbl> & <dbl> & <dbl> & <dbl> & <dbl> & <dbl> & ⋯ & <dbl> & <dbl> & <dbl> & <dbl> & <dbl> & <dbl> & <dbl> & <dbl> & <dbl> & <dbl>\\\\\n",
       "\\hline\n",
       "\t NA & Afghanistan         &  33.93911 &  67.70995 & 0 & 0 & 0 & 0 & 0 & 0 & ⋯ & 49161 & 49378 & 49621 & 49681 & 49817 & 50013 & 50190 & 50433 & 50655 & 50810\\\\\n",
       "\t NA & Albania             &  41.15330 &  20.16830 & 0 & 0 & 0 & 0 & 0 & 0 & ⋯ & 50637 & 51424 & 52004 & 52542 & 53003 & 53425 & 53814 & 54317 & 54827 & 55380\\\\\n",
       "\t NA & Algeria             &  28.03390 &   1.65960 & 0 & 0 & 0 & 0 & 0 & 0 & ⋯ & 93507 & 93933 & 94371 & 94781 & 95203 & 95659 & 96069 & 96549 & 97007 & 97441\\\\\n",
       "\t NA & Andorra             &  42.50630 &   1.52180 & 0 & 0 & 0 & 0 & 0 & 0 & ⋯ &  7446 &  7466 &  7519 &  7560 &  7577 &  7602 &  7633 &  7669 &  7699 &  7756\\\\\n",
       "\t NA & Angola              & -11.20270 &  17.87390 & 0 & 0 & 0 & 0 & 0 & 0 & ⋯ & 16407 & 16484 & 16562 & 16626 & 16644 & 16686 & 16802 & 16931 & 17029 & 17099\\\\\n",
       "\t NA & Antigua and Barbuda &  17.06080 & -61.79640 & 0 & 0 & 0 & 0 & 0 & 0 & ⋯ &   151 &   151 &   152 &   152 &   153 &   153 &   153 &   154 &   154 &   155\\\\\n",
       "\\end{tabular}\n"
      ],
      "text/markdown": [
       "\n",
       "A tibble: 6 × 343\n",
       "\n",
       "| Province/State &lt;chr&gt; | Country/Region &lt;chr&gt; | Lat &lt;dbl&gt; | Long &lt;dbl&gt; | 1/22/20 &lt;dbl&gt; | 1/23/20 &lt;dbl&gt; | 1/24/20 &lt;dbl&gt; | 1/25/20 &lt;dbl&gt; | 1/26/20 &lt;dbl&gt; | 1/27/20 &lt;dbl&gt; | ⋯ ⋯ | 12/16/20 &lt;dbl&gt; | 12/17/20 &lt;dbl&gt; | 12/18/20 &lt;dbl&gt; | 12/19/20 &lt;dbl&gt; | 12/20/20 &lt;dbl&gt; | 12/21/20 &lt;dbl&gt; | 12/22/20 &lt;dbl&gt; | 12/23/20 &lt;dbl&gt; | 12/24/20 &lt;dbl&gt; | 12/25/20 &lt;dbl&gt; |\n",
       "|---|---|---|---|---|---|---|---|---|---|---|---|---|---|---|---|---|---|---|---|---|\n",
       "| NA | Afghanistan         |  33.93911 |  67.70995 | 0 | 0 | 0 | 0 | 0 | 0 | ⋯ | 49161 | 49378 | 49621 | 49681 | 49817 | 50013 | 50190 | 50433 | 50655 | 50810 |\n",
       "| NA | Albania             |  41.15330 |  20.16830 | 0 | 0 | 0 | 0 | 0 | 0 | ⋯ | 50637 | 51424 | 52004 | 52542 | 53003 | 53425 | 53814 | 54317 | 54827 | 55380 |\n",
       "| NA | Algeria             |  28.03390 |   1.65960 | 0 | 0 | 0 | 0 | 0 | 0 | ⋯ | 93507 | 93933 | 94371 | 94781 | 95203 | 95659 | 96069 | 96549 | 97007 | 97441 |\n",
       "| NA | Andorra             |  42.50630 |   1.52180 | 0 | 0 | 0 | 0 | 0 | 0 | ⋯ |  7446 |  7466 |  7519 |  7560 |  7577 |  7602 |  7633 |  7669 |  7699 |  7756 |\n",
       "| NA | Angola              | -11.20270 |  17.87390 | 0 | 0 | 0 | 0 | 0 | 0 | ⋯ | 16407 | 16484 | 16562 | 16626 | 16644 | 16686 | 16802 | 16931 | 17029 | 17099 |\n",
       "| NA | Antigua and Barbuda |  17.06080 | -61.79640 | 0 | 0 | 0 | 0 | 0 | 0 | ⋯ |   151 |   151 |   152 |   152 |   153 |   153 |   153 |   154 |   154 |   155 |\n",
       "\n"
      ],
      "text/plain": [
       "  Province/State Country/Region      Lat       Long      1/22/20 1/23/20\n",
       "1 NA             Afghanistan          33.93911  67.70995 0       0      \n",
       "2 NA             Albania              41.15330  20.16830 0       0      \n",
       "3 NA             Algeria              28.03390   1.65960 0       0      \n",
       "4 NA             Andorra              42.50630   1.52180 0       0      \n",
       "5 NA             Angola              -11.20270  17.87390 0       0      \n",
       "6 NA             Antigua and Barbuda  17.06080 -61.79640 0       0      \n",
       "  1/24/20 1/25/20 1/26/20 1/27/20 ⋯ 12/16/20 12/17/20 12/18/20 12/19/20\n",
       "1 0       0       0       0       ⋯ 49161    49378    49621    49681   \n",
       "2 0       0       0       0       ⋯ 50637    51424    52004    52542   \n",
       "3 0       0       0       0       ⋯ 93507    93933    94371    94781   \n",
       "4 0       0       0       0       ⋯  7446     7466     7519     7560   \n",
       "5 0       0       0       0       ⋯ 16407    16484    16562    16626   \n",
       "6 0       0       0       0       ⋯   151      151      152      152   \n",
       "  12/20/20 12/21/20 12/22/20 12/23/20 12/24/20 12/25/20\n",
       "1 49817    50013    50190    50433    50655    50810   \n",
       "2 53003    53425    53814    54317    54827    55380   \n",
       "3 95203    95659    96069    96549    97007    97441   \n",
       "4  7577     7602     7633     7669     7699     7756   \n",
       "5 16644    16686    16802    16931    17029    17099   \n",
       "6   153      153      153      154      154      155   "
      ]
     },
     "metadata": {},
     "output_type": "display_data"
    }
   ],
   "source": [
    "# Check the top rows\n",
    "head(covid_confirmed)"
   ]
  },
  {
   "cell_type": "code",
   "execution_count": 16,
   "metadata": {},
   "outputs": [
    {
     "data": {
      "text/html": [
       "<table>\n",
       "<caption>A tibble: 6 × 343</caption>\n",
       "<thead>\n",
       "\t<tr><th scope=col>Province/State</th><th scope=col>Country/Region</th><th scope=col>Lat</th><th scope=col>Long</th><th scope=col>1/22/20</th><th scope=col>1/23/20</th><th scope=col>1/24/20</th><th scope=col>1/25/20</th><th scope=col>1/26/20</th><th scope=col>1/27/20</th><th scope=col>⋯</th><th scope=col>12/16/20</th><th scope=col>12/17/20</th><th scope=col>12/18/20</th><th scope=col>12/19/20</th><th scope=col>12/20/20</th><th scope=col>12/21/20</th><th scope=col>12/22/20</th><th scope=col>12/23/20</th><th scope=col>12/24/20</th><th scope=col>12/25/20</th></tr>\n",
       "\t<tr><th scope=col>&lt;chr&gt;</th><th scope=col>&lt;chr&gt;</th><th scope=col>&lt;dbl&gt;</th><th scope=col>&lt;dbl&gt;</th><th scope=col>&lt;dbl&gt;</th><th scope=col>&lt;dbl&gt;</th><th scope=col>&lt;dbl&gt;</th><th scope=col>&lt;dbl&gt;</th><th scope=col>&lt;dbl&gt;</th><th scope=col>&lt;dbl&gt;</th><th scope=col>⋯</th><th scope=col>&lt;dbl&gt;</th><th scope=col>&lt;dbl&gt;</th><th scope=col>&lt;dbl&gt;</th><th scope=col>&lt;dbl&gt;</th><th scope=col>&lt;dbl&gt;</th><th scope=col>&lt;dbl&gt;</th><th scope=col>&lt;dbl&gt;</th><th scope=col>&lt;dbl&gt;</th><th scope=col>&lt;dbl&gt;</th><th scope=col>&lt;dbl&gt;</th></tr>\n",
       "</thead>\n",
       "<tbody>\n",
       "\t<tr><td>NA</td><td>Venezuela         </td><td>  6.42380</td><td>-66.58970</td><td>0</td><td>0</td><td>0</td><td>0</td><td>0</td><td>0</td><td>⋯</td><td>108717</td><td>109081</td><td>109395</td><td>109781</td><td>110075</td><td>110513</td><td>110828</td><td>111024</td><td>111245</td><td>111603</td></tr>\n",
       "\t<tr><td>NA</td><td>Vietnam           </td><td> 14.05832</td><td>108.27720</td><td>0</td><td>2</td><td>2</td><td>2</td><td>2</td><td>2</td><td>⋯</td><td>  1405</td><td>  1407</td><td>  1410</td><td>  1411</td><td>  1413</td><td>  1414</td><td>  1420</td><td>  1421</td><td>  1432</td><td>  1439</td></tr>\n",
       "\t<tr><td>NA</td><td>West Bank and Gaza</td><td> 31.95220</td><td> 35.23320</td><td>0</td><td>0</td><td>0</td><td>0</td><td>0</td><td>0</td><td>⋯</td><td>115606</td><td>117755</td><td>119612</td><td>121216</td><td>122643</td><td>123945</td><td>125506</td><td>127376</td><td>129080</td><td>130598</td></tr>\n",
       "\t<tr><td>NA</td><td>Yemen             </td><td> 15.55273</td><td> 48.51639</td><td>0</td><td>0</td><td>0</td><td>0</td><td>0</td><td>0</td><td>⋯</td><td>  2085</td><td>  2087</td><td>  2087</td><td>  2087</td><td>  2087</td><td>  2087</td><td>  2087</td><td>  2087</td><td>  2092</td><td>  2092</td></tr>\n",
       "\t<tr><td>NA</td><td>Zambia            </td><td>-13.13390</td><td> 27.84933</td><td>0</td><td>0</td><td>0</td><td>0</td><td>0</td><td>0</td><td>⋯</td><td> 18456</td><td> 18504</td><td> 18575</td><td> 18620</td><td> 18716</td><td> 18768</td><td> 18881</td><td> 19122</td><td> 19234</td><td> 19571</td></tr>\n",
       "\t<tr><td>NA</td><td>Zimbabwe          </td><td>-19.01544</td><td> 29.15486</td><td>0</td><td>0</td><td>0</td><td>0</td><td>0</td><td>0</td><td>⋯</td><td> 11749</td><td> 11866</td><td> 12047</td><td> 12151</td><td> 12325</td><td> 12422</td><td> 12544</td><td> 12656</td><td> 12786</td><td> 12880</td></tr>\n",
       "</tbody>\n",
       "</table>\n"
      ],
      "text/latex": [
       "A tibble: 6 × 343\n",
       "\\begin{tabular}{lllllllllllllllllllll}\n",
       " Province/State & Country/Region & Lat & Long & 1/22/20 & 1/23/20 & 1/24/20 & 1/25/20 & 1/26/20 & 1/27/20 & ⋯ & 12/16/20 & 12/17/20 & 12/18/20 & 12/19/20 & 12/20/20 & 12/21/20 & 12/22/20 & 12/23/20 & 12/24/20 & 12/25/20\\\\\n",
       " <chr> & <chr> & <dbl> & <dbl> & <dbl> & <dbl> & <dbl> & <dbl> & <dbl> & <dbl> & ⋯ & <dbl> & <dbl> & <dbl> & <dbl> & <dbl> & <dbl> & <dbl> & <dbl> & <dbl> & <dbl>\\\\\n",
       "\\hline\n",
       "\t NA & Venezuela          &   6.42380 & -66.58970 & 0 & 0 & 0 & 0 & 0 & 0 & ⋯ & 108717 & 109081 & 109395 & 109781 & 110075 & 110513 & 110828 & 111024 & 111245 & 111603\\\\\n",
       "\t NA & Vietnam            &  14.05832 & 108.27720 & 0 & 2 & 2 & 2 & 2 & 2 & ⋯ &   1405 &   1407 &   1410 &   1411 &   1413 &   1414 &   1420 &   1421 &   1432 &   1439\\\\\n",
       "\t NA & West Bank and Gaza &  31.95220 &  35.23320 & 0 & 0 & 0 & 0 & 0 & 0 & ⋯ & 115606 & 117755 & 119612 & 121216 & 122643 & 123945 & 125506 & 127376 & 129080 & 130598\\\\\n",
       "\t NA & Yemen              &  15.55273 &  48.51639 & 0 & 0 & 0 & 0 & 0 & 0 & ⋯ &   2085 &   2087 &   2087 &   2087 &   2087 &   2087 &   2087 &   2087 &   2092 &   2092\\\\\n",
       "\t NA & Zambia             & -13.13390 &  27.84933 & 0 & 0 & 0 & 0 & 0 & 0 & ⋯ &  18456 &  18504 &  18575 &  18620 &  18716 &  18768 &  18881 &  19122 &  19234 &  19571\\\\\n",
       "\t NA & Zimbabwe           & -19.01544 &  29.15486 & 0 & 0 & 0 & 0 & 0 & 0 & ⋯ &  11749 &  11866 &  12047 &  12151 &  12325 &  12422 &  12544 &  12656 &  12786 &  12880\\\\\n",
       "\\end{tabular}\n"
      ],
      "text/markdown": [
       "\n",
       "A tibble: 6 × 343\n",
       "\n",
       "| Province/State &lt;chr&gt; | Country/Region &lt;chr&gt; | Lat &lt;dbl&gt; | Long &lt;dbl&gt; | 1/22/20 &lt;dbl&gt; | 1/23/20 &lt;dbl&gt; | 1/24/20 &lt;dbl&gt; | 1/25/20 &lt;dbl&gt; | 1/26/20 &lt;dbl&gt; | 1/27/20 &lt;dbl&gt; | ⋯ ⋯ | 12/16/20 &lt;dbl&gt; | 12/17/20 &lt;dbl&gt; | 12/18/20 &lt;dbl&gt; | 12/19/20 &lt;dbl&gt; | 12/20/20 &lt;dbl&gt; | 12/21/20 &lt;dbl&gt; | 12/22/20 &lt;dbl&gt; | 12/23/20 &lt;dbl&gt; | 12/24/20 &lt;dbl&gt; | 12/25/20 &lt;dbl&gt; |\n",
       "|---|---|---|---|---|---|---|---|---|---|---|---|---|---|---|---|---|---|---|---|---|\n",
       "| NA | Venezuela          |   6.42380 | -66.58970 | 0 | 0 | 0 | 0 | 0 | 0 | ⋯ | 108717 | 109081 | 109395 | 109781 | 110075 | 110513 | 110828 | 111024 | 111245 | 111603 |\n",
       "| NA | Vietnam            |  14.05832 | 108.27720 | 0 | 2 | 2 | 2 | 2 | 2 | ⋯ |   1405 |   1407 |   1410 |   1411 |   1413 |   1414 |   1420 |   1421 |   1432 |   1439 |\n",
       "| NA | West Bank and Gaza |  31.95220 |  35.23320 | 0 | 0 | 0 | 0 | 0 | 0 | ⋯ | 115606 | 117755 | 119612 | 121216 | 122643 | 123945 | 125506 | 127376 | 129080 | 130598 |\n",
       "| NA | Yemen              |  15.55273 |  48.51639 | 0 | 0 | 0 | 0 | 0 | 0 | ⋯ |   2085 |   2087 |   2087 |   2087 |   2087 |   2087 |   2087 |   2087 |   2092 |   2092 |\n",
       "| NA | Zambia             | -13.13390 |  27.84933 | 0 | 0 | 0 | 0 | 0 | 0 | ⋯ |  18456 |  18504 |  18575 |  18620 |  18716 |  18768 |  18881 |  19122 |  19234 |  19571 |\n",
       "| NA | Zimbabwe           | -19.01544 |  29.15486 | 0 | 0 | 0 | 0 | 0 | 0 | ⋯ |  11749 |  11866 |  12047 |  12151 |  12325 |  12422 |  12544 |  12656 |  12786 |  12880 |\n",
       "\n"
      ],
      "text/plain": [
       "  Province/State Country/Region     Lat       Long      1/22/20 1/23/20 1/24/20\n",
       "1 NA             Venezuela            6.42380 -66.58970 0       0       0      \n",
       "2 NA             Vietnam             14.05832 108.27720 0       2       2      \n",
       "3 NA             West Bank and Gaza  31.95220  35.23320 0       0       0      \n",
       "4 NA             Yemen               15.55273  48.51639 0       0       0      \n",
       "5 NA             Zambia             -13.13390  27.84933 0       0       0      \n",
       "6 NA             Zimbabwe           -19.01544  29.15486 0       0       0      \n",
       "  1/25/20 1/26/20 1/27/20 ⋯ 12/16/20 12/17/20 12/18/20 12/19/20 12/20/20\n",
       "1 0       0       0       ⋯ 108717   109081   109395   109781   110075  \n",
       "2 2       2       2       ⋯   1405     1407     1410     1411     1413  \n",
       "3 0       0       0       ⋯ 115606   117755   119612   121216   122643  \n",
       "4 0       0       0       ⋯   2085     2087     2087     2087     2087  \n",
       "5 0       0       0       ⋯  18456    18504    18575    18620    18716  \n",
       "6 0       0       0       ⋯  11749    11866    12047    12151    12325  \n",
       "  12/21/20 12/22/20 12/23/20 12/24/20 12/25/20\n",
       "1 110513   110828   111024   111245   111603  \n",
       "2   1414     1420     1421     1432     1439  \n",
       "3 123945   125506   127376   129080   130598  \n",
       "4   2087     2087     2087     2092     2092  \n",
       "5  18768    18881    19122    19234    19571  \n",
       "6  12422    12544    12656    12786    12880  "
      ]
     },
     "metadata": {},
     "output_type": "display_data"
    }
   ],
   "source": [
    "# Check the bottom rows \n",
    "tail(covid_confirmed)"
   ]
  },
  {
   "cell_type": "markdown",
   "metadata": {},
   "source": [
    "Note that the object **`covid_confirmed`** is a **tibble**, which is a modern variant of a data frame in **tidyverse**."
   ]
  },
  {
   "cell_type": "markdown",
   "metadata": {},
   "source": [
    "Notice also the NAs in the \"Province/State\" column. Missing values are common when handling real-world data. In this case, this is understandable since not all countries reported confirmed COVID-19 cases at the state or provincial level. "
   ]
  },
  {
   "cell_type": "markdown",
   "metadata": {},
   "source": [
    "## Download a text file from a website"
   ]
  },
  {
   "cell_type": "markdown",
   "metadata": {},
   "source": [
    "You can also use the **readr** package to fetch the files for you on the Internet and directly open it in R. This is a good habit for reproducible research because you will have information of the website where you downloaded the data. Of course, if the links change, you have to update it. Import the <a href=\"https://raw.githubusercontent.com/CSSEGISandData/COVID-19/master/csse_covid_19_data/csse_covid_19_time_series/time_series_covid19_deaths_global.csv\">time_series_covid19_deaths_global.csv</a> file directly from GitHub."
   ]
  },
  {
   "cell_type": "markdown",
   "metadata": {},
   "source": [
    "The procedure below requires you to install the **curl** package and its dependencies, which will help you in downloading data through an HTTP client."
   ]
  },
  {
   "cell_type": "code",
   "execution_count": 17,
   "metadata": {},
   "outputs": [
    {
     "name": "stderr",
     "output_type": "stream",
     "text": [
      "Installing package into ‘/Users/claudius/Rlibs’\n",
      "(as ‘lib’ is unspecified)\n",
      "\n"
     ]
    },
    {
     "name": "stdout",
     "output_type": "stream",
     "text": [
      "\n",
      "The downloaded binary packages are in\n",
      "\t/var/folders/0v/_2vsqk3j1nxcfb13d3g7g5nc0000gn/T//Rtmp3NUvac/downloaded_packages\n"
     ]
    },
    {
     "name": "stderr",
     "output_type": "stream",
     "text": [
      "\n",
      "Attaching package: ‘curl’\n",
      "\n",
      "\n",
      "The following object is masked from ‘package:readr’:\n",
      "\n",
      "    parse_date\n",
      "\n",
      "\n"
     ]
    }
   ],
   "source": [
    "# Install and load the curl package\n",
    "install.packages(\"curl\")\n",
    "library(curl)\n",
    "# Depending on your machine, you may need to install additional packages to run curl"
   ]
  },
  {
   "cell_type": "code",
   "execution_count": 18,
   "metadata": {},
   "outputs": [],
   "source": [
    "# From your browser, navigate the GitHub site and copy the link of the raw file \n",
    "link  <- \"https://raw.githubusercontent.com/CSSEGISandData/COVID-19/master/csse_covid_19_data/csse_covid_19_time_series/time_series_covid19_deaths_global.csv\""
   ]
  },
  {
   "cell_type": "code",
   "execution_count": 19,
   "metadata": {},
   "outputs": [
    {
     "name": "stderr",
     "output_type": "stream",
     "text": [
      "\n",
      "\u001b[36m──\u001b[39m \u001b[1m\u001b[1mColumn specification\u001b[1m\u001b[22m \u001b[36m─────────────────────────────────────────────────────\u001b[39m\n",
      "cols(\n",
      "  .default = col_double(),\n",
      "  `Province/State` = \u001b[31mcol_character()\u001b[39m,\n",
      "  `Country/Region` = \u001b[31mcol_character()\u001b[39m\n",
      ")\n",
      "\u001b[36mℹ\u001b[39m Use \u001b[38;5;235m\u001b[48;5;253m\u001b[38;5;235m\u001b[48;5;253m`spec()`\u001b[48;5;253m\u001b[38;5;235m\u001b[49m\u001b[39m for the full column specifications.\n",
      "\n",
      "\n"
     ]
    }
   ],
   "source": [
    "# Import the \"time_series_covid19_deaths_global.csv\" file and store it as an object: death_covid\n",
    "covid_death  <- read_csv(link)"
   ]
  },
  {
   "cell_type": "code",
   "execution_count": 20,
   "metadata": {},
   "outputs": [
    {
     "name": "stdout",
     "output_type": "stream",
     "text": [
      "[1] 272 358\n"
     ]
    }
   ],
   "source": [
    "# Check the dimension of the data\n",
    "print(dim(covid_death))"
   ]
  },
  {
   "cell_type": "code",
   "execution_count": 21,
   "metadata": {},
   "outputs": [
    {
     "data": {
      "text/html": [
       "<table>\n",
       "<caption>A tibble: 6 × 358</caption>\n",
       "<thead>\n",
       "\t<tr><th scope=col>Province/State</th><th scope=col>Country/Region</th><th scope=col>Lat</th><th scope=col>Long</th><th scope=col>1/22/20</th><th scope=col>1/23/20</th><th scope=col>1/24/20</th><th scope=col>1/25/20</th><th scope=col>1/26/20</th><th scope=col>1/27/20</th><th scope=col>⋯</th><th scope=col>12/31/20</th><th scope=col>1/1/21</th><th scope=col>1/2/21</th><th scope=col>1/3/21</th><th scope=col>1/4/21</th><th scope=col>1/5/21</th><th scope=col>1/6/21</th><th scope=col>1/7/21</th><th scope=col>1/8/21</th><th scope=col>1/9/21</th></tr>\n",
       "\t<tr><th scope=col>&lt;chr&gt;</th><th scope=col>&lt;chr&gt;</th><th scope=col>&lt;dbl&gt;</th><th scope=col>&lt;dbl&gt;</th><th scope=col>&lt;dbl&gt;</th><th scope=col>&lt;dbl&gt;</th><th scope=col>&lt;dbl&gt;</th><th scope=col>&lt;dbl&gt;</th><th scope=col>&lt;dbl&gt;</th><th scope=col>&lt;dbl&gt;</th><th scope=col>⋯</th><th scope=col>&lt;dbl&gt;</th><th scope=col>&lt;dbl&gt;</th><th scope=col>&lt;dbl&gt;</th><th scope=col>&lt;dbl&gt;</th><th scope=col>&lt;dbl&gt;</th><th scope=col>&lt;dbl&gt;</th><th scope=col>&lt;dbl&gt;</th><th scope=col>&lt;dbl&gt;</th><th scope=col>&lt;dbl&gt;</th><th scope=col>&lt;dbl&gt;</th></tr>\n",
       "</thead>\n",
       "<tbody>\n",
       "\t<tr><td>NA</td><td>Afghanistan        </td><td> 33.93911</td><td> 67.70995</td><td>0</td><td>0</td><td>0</td><td>0</td><td>0</td><td>0</td><td>⋯</td><td>2191</td><td>2191</td><td>2191</td><td>2191</td><td>2237</td><td>2244</td><td>2244</td><td>2253</td><td>2257</td><td>2264</td></tr>\n",
       "\t<tr><td>NA</td><td>Albania            </td><td> 41.15330</td><td> 20.16830</td><td>0</td><td>0</td><td>0</td><td>0</td><td>0</td><td>0</td><td>⋯</td><td>1181</td><td>1181</td><td>1190</td><td>1193</td><td>1199</td><td>1210</td><td>1217</td><td>1223</td><td>1230</td><td>1233</td></tr>\n",
       "\t<tr><td>NA</td><td>Algeria            </td><td> 28.03390</td><td>  1.65960</td><td>0</td><td>0</td><td>0</td><td>0</td><td>0</td><td>0</td><td>⋯</td><td>2756</td><td>2762</td><td>2769</td><td>2772</td><td>2777</td><td>2782</td><td>2786</td><td>2792</td><td>2798</td><td>2803</td></tr>\n",
       "\t<tr><td>NA</td><td>Andorra            </td><td> 42.50630</td><td>  1.52180</td><td>0</td><td>0</td><td>0</td><td>0</td><td>0</td><td>0</td><td>⋯</td><td>  84</td><td>  84</td><td>  84</td><td>  84</td><td>  84</td><td>  84</td><td>  84</td><td>  84</td><td>  84</td><td>  85</td></tr>\n",
       "\t<tr><td>NA</td><td>Angola             </td><td>-11.20270</td><td> 17.87390</td><td>0</td><td>0</td><td>0</td><td>0</td><td>0</td><td>0</td><td>⋯</td><td> 405</td><td> 405</td><td> 407</td><td> 408</td><td> 408</td><td> 410</td><td> 413</td><td> 413</td><td> 415</td><td> 416</td></tr>\n",
       "\t<tr><td>NA</td><td>Antigua and Barbuda</td><td> 17.06080</td><td>-61.79640</td><td>0</td><td>0</td><td>0</td><td>0</td><td>0</td><td>0</td><td>⋯</td><td>   5</td><td>   5</td><td>   5</td><td>   5</td><td>   5</td><td>   5</td><td>   5</td><td>   5</td><td>   5</td><td>   5</td></tr>\n",
       "</tbody>\n",
       "</table>\n"
      ],
      "text/latex": [
       "A tibble: 6 × 358\n",
       "\\begin{tabular}{lllllllllllllllllllll}\n",
       " Province/State & Country/Region & Lat & Long & 1/22/20 & 1/23/20 & 1/24/20 & 1/25/20 & 1/26/20 & 1/27/20 & ⋯ & 12/31/20 & 1/1/21 & 1/2/21 & 1/3/21 & 1/4/21 & 1/5/21 & 1/6/21 & 1/7/21 & 1/8/21 & 1/9/21\\\\\n",
       " <chr> & <chr> & <dbl> & <dbl> & <dbl> & <dbl> & <dbl> & <dbl> & <dbl> & <dbl> & ⋯ & <dbl> & <dbl> & <dbl> & <dbl> & <dbl> & <dbl> & <dbl> & <dbl> & <dbl> & <dbl>\\\\\n",
       "\\hline\n",
       "\t NA & Afghanistan         &  33.93911 &  67.70995 & 0 & 0 & 0 & 0 & 0 & 0 & ⋯ & 2191 & 2191 & 2191 & 2191 & 2237 & 2244 & 2244 & 2253 & 2257 & 2264\\\\\n",
       "\t NA & Albania             &  41.15330 &  20.16830 & 0 & 0 & 0 & 0 & 0 & 0 & ⋯ & 1181 & 1181 & 1190 & 1193 & 1199 & 1210 & 1217 & 1223 & 1230 & 1233\\\\\n",
       "\t NA & Algeria             &  28.03390 &   1.65960 & 0 & 0 & 0 & 0 & 0 & 0 & ⋯ & 2756 & 2762 & 2769 & 2772 & 2777 & 2782 & 2786 & 2792 & 2798 & 2803\\\\\n",
       "\t NA & Andorra             &  42.50630 &   1.52180 & 0 & 0 & 0 & 0 & 0 & 0 & ⋯ &   84 &   84 &   84 &   84 &   84 &   84 &   84 &   84 &   84 &   85\\\\\n",
       "\t NA & Angola              & -11.20270 &  17.87390 & 0 & 0 & 0 & 0 & 0 & 0 & ⋯ &  405 &  405 &  407 &  408 &  408 &  410 &  413 &  413 &  415 &  416\\\\\n",
       "\t NA & Antigua and Barbuda &  17.06080 & -61.79640 & 0 & 0 & 0 & 0 & 0 & 0 & ⋯ &    5 &    5 &    5 &    5 &    5 &    5 &    5 &    5 &    5 &    5\\\\\n",
       "\\end{tabular}\n"
      ],
      "text/markdown": [
       "\n",
       "A tibble: 6 × 358\n",
       "\n",
       "| Province/State &lt;chr&gt; | Country/Region &lt;chr&gt; | Lat &lt;dbl&gt; | Long &lt;dbl&gt; | 1/22/20 &lt;dbl&gt; | 1/23/20 &lt;dbl&gt; | 1/24/20 &lt;dbl&gt; | 1/25/20 &lt;dbl&gt; | 1/26/20 &lt;dbl&gt; | 1/27/20 &lt;dbl&gt; | ⋯ ⋯ | 12/31/20 &lt;dbl&gt; | 1/1/21 &lt;dbl&gt; | 1/2/21 &lt;dbl&gt; | 1/3/21 &lt;dbl&gt; | 1/4/21 &lt;dbl&gt; | 1/5/21 &lt;dbl&gt; | 1/6/21 &lt;dbl&gt; | 1/7/21 &lt;dbl&gt; | 1/8/21 &lt;dbl&gt; | 1/9/21 &lt;dbl&gt; |\n",
       "|---|---|---|---|---|---|---|---|---|---|---|---|---|---|---|---|---|---|---|---|---|\n",
       "| NA | Afghanistan         |  33.93911 |  67.70995 | 0 | 0 | 0 | 0 | 0 | 0 | ⋯ | 2191 | 2191 | 2191 | 2191 | 2237 | 2244 | 2244 | 2253 | 2257 | 2264 |\n",
       "| NA | Albania             |  41.15330 |  20.16830 | 0 | 0 | 0 | 0 | 0 | 0 | ⋯ | 1181 | 1181 | 1190 | 1193 | 1199 | 1210 | 1217 | 1223 | 1230 | 1233 |\n",
       "| NA | Algeria             |  28.03390 |   1.65960 | 0 | 0 | 0 | 0 | 0 | 0 | ⋯ | 2756 | 2762 | 2769 | 2772 | 2777 | 2782 | 2786 | 2792 | 2798 | 2803 |\n",
       "| NA | Andorra             |  42.50630 |   1.52180 | 0 | 0 | 0 | 0 | 0 | 0 | ⋯ |   84 |   84 |   84 |   84 |   84 |   84 |   84 |   84 |   84 |   85 |\n",
       "| NA | Angola              | -11.20270 |  17.87390 | 0 | 0 | 0 | 0 | 0 | 0 | ⋯ |  405 |  405 |  407 |  408 |  408 |  410 |  413 |  413 |  415 |  416 |\n",
       "| NA | Antigua and Barbuda |  17.06080 | -61.79640 | 0 | 0 | 0 | 0 | 0 | 0 | ⋯ |    5 |    5 |    5 |    5 |    5 |    5 |    5 |    5 |    5 |    5 |\n",
       "\n"
      ],
      "text/plain": [
       "  Province/State Country/Region      Lat       Long      1/22/20 1/23/20\n",
       "1 NA             Afghanistan          33.93911  67.70995 0       0      \n",
       "2 NA             Albania              41.15330  20.16830 0       0      \n",
       "3 NA             Algeria              28.03390   1.65960 0       0      \n",
       "4 NA             Andorra              42.50630   1.52180 0       0      \n",
       "5 NA             Angola              -11.20270  17.87390 0       0      \n",
       "6 NA             Antigua and Barbuda  17.06080 -61.79640 0       0      \n",
       "  1/24/20 1/25/20 1/26/20 1/27/20 ⋯ 12/31/20 1/1/21 1/2/21 1/3/21 1/4/21 1/5/21\n",
       "1 0       0       0       0       ⋯ 2191     2191   2191   2191   2237   2244  \n",
       "2 0       0       0       0       ⋯ 1181     1181   1190   1193   1199   1210  \n",
       "3 0       0       0       0       ⋯ 2756     2762   2769   2772   2777   2782  \n",
       "4 0       0       0       0       ⋯   84       84     84     84     84     84  \n",
       "5 0       0       0       0       ⋯  405      405    407    408    408    410  \n",
       "6 0       0       0       0       ⋯    5        5      5      5      5      5  \n",
       "  1/6/21 1/7/21 1/8/21 1/9/21\n",
       "1 2244   2253   2257   2264  \n",
       "2 1217   1223   1230   1233  \n",
       "3 2786   2792   2798   2803  \n",
       "4   84     84     84     85  \n",
       "5  413    413    415    416  \n",
       "6    5      5      5      5  "
      ]
     },
     "metadata": {},
     "output_type": "display_data"
    },
    {
     "data": {
      "text/html": [
       "<table>\n",
       "<caption>A tibble: 6 × 358</caption>\n",
       "<thead>\n",
       "\t<tr><th scope=col>Province/State</th><th scope=col>Country/Region</th><th scope=col>Lat</th><th scope=col>Long</th><th scope=col>1/22/20</th><th scope=col>1/23/20</th><th scope=col>1/24/20</th><th scope=col>1/25/20</th><th scope=col>1/26/20</th><th scope=col>1/27/20</th><th scope=col>⋯</th><th scope=col>12/31/20</th><th scope=col>1/1/21</th><th scope=col>1/2/21</th><th scope=col>1/3/21</th><th scope=col>1/4/21</th><th scope=col>1/5/21</th><th scope=col>1/6/21</th><th scope=col>1/7/21</th><th scope=col>1/8/21</th><th scope=col>1/9/21</th></tr>\n",
       "\t<tr><th scope=col>&lt;chr&gt;</th><th scope=col>&lt;chr&gt;</th><th scope=col>&lt;dbl&gt;</th><th scope=col>&lt;dbl&gt;</th><th scope=col>&lt;dbl&gt;</th><th scope=col>&lt;dbl&gt;</th><th scope=col>&lt;dbl&gt;</th><th scope=col>&lt;dbl&gt;</th><th scope=col>&lt;dbl&gt;</th><th scope=col>&lt;dbl&gt;</th><th scope=col>⋯</th><th scope=col>&lt;dbl&gt;</th><th scope=col>&lt;dbl&gt;</th><th scope=col>&lt;dbl&gt;</th><th scope=col>&lt;dbl&gt;</th><th scope=col>&lt;dbl&gt;</th><th scope=col>&lt;dbl&gt;</th><th scope=col>&lt;dbl&gt;</th><th scope=col>&lt;dbl&gt;</th><th scope=col>&lt;dbl&gt;</th><th scope=col>&lt;dbl&gt;</th></tr>\n",
       "</thead>\n",
       "<tbody>\n",
       "\t<tr><td>NA</td><td>Venezuela         </td><td>  6.42380</td><td>-66.58970</td><td>0</td><td>0</td><td>0</td><td>0</td><td>0</td><td>0</td><td>⋯</td><td>1028</td><td>1030</td><td>1032</td><td>1034</td><td>1038</td><td>1042</td><td>1047</td><td>1052</td><td>1056</td><td>1061</td></tr>\n",
       "\t<tr><td>NA</td><td>Vietnam           </td><td> 14.05832</td><td>108.27720</td><td>0</td><td>0</td><td>0</td><td>0</td><td>0</td><td>0</td><td>⋯</td><td>  35</td><td>  35</td><td>  35</td><td>  35</td><td>  35</td><td>  35</td><td>  35</td><td>  35</td><td>  35</td><td>  35</td></tr>\n",
       "\t<tr><td>NA</td><td>West Bank and Gaza</td><td> 31.95220</td><td> 35.23320</td><td>0</td><td>0</td><td>0</td><td>0</td><td>0</td><td>0</td><td>⋯</td><td>1400</td><td>1418</td><td>1446</td><td>1470</td><td>1490</td><td>1505</td><td>1519</td><td>1536</td><td>1559</td><td>1583</td></tr>\n",
       "\t<tr><td>NA</td><td>Yemen             </td><td> 15.55273</td><td> 48.51639</td><td>0</td><td>0</td><td>0</td><td>0</td><td>0</td><td>0</td><td>⋯</td><td> 610</td><td> 610</td><td> 610</td><td> 610</td><td> 610</td><td> 610</td><td> 610</td><td> 610</td><td> 610</td><td> 610</td></tr>\n",
       "\t<tr><td>NA</td><td>Zambia            </td><td>-13.13390</td><td> 27.84933</td><td>0</td><td>0</td><td>0</td><td>0</td><td>0</td><td>0</td><td>⋯</td><td> 388</td><td> 390</td><td> 392</td><td> 394</td><td> 398</td><td> 412</td><td> 417</td><td> 423</td><td> 441</td><td> 464</td></tr>\n",
       "\t<tr><td>NA</td><td>Zimbabwe          </td><td>-19.01544</td><td> 29.15486</td><td>0</td><td>0</td><td>0</td><td>0</td><td>0</td><td>0</td><td>⋯</td><td> 363</td><td> 369</td><td> 377</td><td> 380</td><td> 384</td><td> 418</td><td> 431</td><td> 446</td><td> 468</td><td> 483</td></tr>\n",
       "</tbody>\n",
       "</table>\n"
      ],
      "text/latex": [
       "A tibble: 6 × 358\n",
       "\\begin{tabular}{lllllllllllllllllllll}\n",
       " Province/State & Country/Region & Lat & Long & 1/22/20 & 1/23/20 & 1/24/20 & 1/25/20 & 1/26/20 & 1/27/20 & ⋯ & 12/31/20 & 1/1/21 & 1/2/21 & 1/3/21 & 1/4/21 & 1/5/21 & 1/6/21 & 1/7/21 & 1/8/21 & 1/9/21\\\\\n",
       " <chr> & <chr> & <dbl> & <dbl> & <dbl> & <dbl> & <dbl> & <dbl> & <dbl> & <dbl> & ⋯ & <dbl> & <dbl> & <dbl> & <dbl> & <dbl> & <dbl> & <dbl> & <dbl> & <dbl> & <dbl>\\\\\n",
       "\\hline\n",
       "\t NA & Venezuela          &   6.42380 & -66.58970 & 0 & 0 & 0 & 0 & 0 & 0 & ⋯ & 1028 & 1030 & 1032 & 1034 & 1038 & 1042 & 1047 & 1052 & 1056 & 1061\\\\\n",
       "\t NA & Vietnam            &  14.05832 & 108.27720 & 0 & 0 & 0 & 0 & 0 & 0 & ⋯ &   35 &   35 &   35 &   35 &   35 &   35 &   35 &   35 &   35 &   35\\\\\n",
       "\t NA & West Bank and Gaza &  31.95220 &  35.23320 & 0 & 0 & 0 & 0 & 0 & 0 & ⋯ & 1400 & 1418 & 1446 & 1470 & 1490 & 1505 & 1519 & 1536 & 1559 & 1583\\\\\n",
       "\t NA & Yemen              &  15.55273 &  48.51639 & 0 & 0 & 0 & 0 & 0 & 0 & ⋯ &  610 &  610 &  610 &  610 &  610 &  610 &  610 &  610 &  610 &  610\\\\\n",
       "\t NA & Zambia             & -13.13390 &  27.84933 & 0 & 0 & 0 & 0 & 0 & 0 & ⋯ &  388 &  390 &  392 &  394 &  398 &  412 &  417 &  423 &  441 &  464\\\\\n",
       "\t NA & Zimbabwe           & -19.01544 &  29.15486 & 0 & 0 & 0 & 0 & 0 & 0 & ⋯ &  363 &  369 &  377 &  380 &  384 &  418 &  431 &  446 &  468 &  483\\\\\n",
       "\\end{tabular}\n"
      ],
      "text/markdown": [
       "\n",
       "A tibble: 6 × 358\n",
       "\n",
       "| Province/State &lt;chr&gt; | Country/Region &lt;chr&gt; | Lat &lt;dbl&gt; | Long &lt;dbl&gt; | 1/22/20 &lt;dbl&gt; | 1/23/20 &lt;dbl&gt; | 1/24/20 &lt;dbl&gt; | 1/25/20 &lt;dbl&gt; | 1/26/20 &lt;dbl&gt; | 1/27/20 &lt;dbl&gt; | ⋯ ⋯ | 12/31/20 &lt;dbl&gt; | 1/1/21 &lt;dbl&gt; | 1/2/21 &lt;dbl&gt; | 1/3/21 &lt;dbl&gt; | 1/4/21 &lt;dbl&gt; | 1/5/21 &lt;dbl&gt; | 1/6/21 &lt;dbl&gt; | 1/7/21 &lt;dbl&gt; | 1/8/21 &lt;dbl&gt; | 1/9/21 &lt;dbl&gt; |\n",
       "|---|---|---|---|---|---|---|---|---|---|---|---|---|---|---|---|---|---|---|---|---|\n",
       "| NA | Venezuela          |   6.42380 | -66.58970 | 0 | 0 | 0 | 0 | 0 | 0 | ⋯ | 1028 | 1030 | 1032 | 1034 | 1038 | 1042 | 1047 | 1052 | 1056 | 1061 |\n",
       "| NA | Vietnam            |  14.05832 | 108.27720 | 0 | 0 | 0 | 0 | 0 | 0 | ⋯ |   35 |   35 |   35 |   35 |   35 |   35 |   35 |   35 |   35 |   35 |\n",
       "| NA | West Bank and Gaza |  31.95220 |  35.23320 | 0 | 0 | 0 | 0 | 0 | 0 | ⋯ | 1400 | 1418 | 1446 | 1470 | 1490 | 1505 | 1519 | 1536 | 1559 | 1583 |\n",
       "| NA | Yemen              |  15.55273 |  48.51639 | 0 | 0 | 0 | 0 | 0 | 0 | ⋯ |  610 |  610 |  610 |  610 |  610 |  610 |  610 |  610 |  610 |  610 |\n",
       "| NA | Zambia             | -13.13390 |  27.84933 | 0 | 0 | 0 | 0 | 0 | 0 | ⋯ |  388 |  390 |  392 |  394 |  398 |  412 |  417 |  423 |  441 |  464 |\n",
       "| NA | Zimbabwe           | -19.01544 |  29.15486 | 0 | 0 | 0 | 0 | 0 | 0 | ⋯ |  363 |  369 |  377 |  380 |  384 |  418 |  431 |  446 |  468 |  483 |\n",
       "\n"
      ],
      "text/plain": [
       "  Province/State Country/Region     Lat       Long      1/22/20 1/23/20 1/24/20\n",
       "1 NA             Venezuela            6.42380 -66.58970 0       0       0      \n",
       "2 NA             Vietnam             14.05832 108.27720 0       0       0      \n",
       "3 NA             West Bank and Gaza  31.95220  35.23320 0       0       0      \n",
       "4 NA             Yemen               15.55273  48.51639 0       0       0      \n",
       "5 NA             Zambia             -13.13390  27.84933 0       0       0      \n",
       "6 NA             Zimbabwe           -19.01544  29.15486 0       0       0      \n",
       "  1/25/20 1/26/20 1/27/20 ⋯ 12/31/20 1/1/21 1/2/21 1/3/21 1/4/21 1/5/21 1/6/21\n",
       "1 0       0       0       ⋯ 1028     1030   1032   1034   1038   1042   1047  \n",
       "2 0       0       0       ⋯   35       35     35     35     35     35     35  \n",
       "3 0       0       0       ⋯ 1400     1418   1446   1470   1490   1505   1519  \n",
       "4 0       0       0       ⋯  610      610    610    610    610    610    610  \n",
       "5 0       0       0       ⋯  388      390    392    394    398    412    417  \n",
       "6 0       0       0       ⋯  363      369    377    380    384    418    431  \n",
       "  1/7/21 1/8/21 1/9/21\n",
       "1 1052   1056   1061  \n",
       "2   35     35     35  \n",
       "3 1536   1559   1583  \n",
       "4  610    610    610  \n",
       "5  423    441    464  \n",
       "6  446    468    483  "
      ]
     },
     "metadata": {},
     "output_type": "display_data"
    }
   ],
   "source": [
    "# Check the top and bottom rows of the data \n",
    "head(covid_death)\n",
    "tail(covid_death)"
   ]
  },
  {
   "cell_type": "markdown",
   "metadata": {},
   "source": [
    "You can also use the **`download.file( )`** function to have a local copy of the file in your computer. Run the cell below to import the data on recovered COVID-19 cases, [time_series_covid19_recovered_global.csv](https://raw.githubusercontent.com/CSSEGISandData/COVID-19/master/csse_covid_19_data/csse_covid_19_time_series/time_series_covid19_recovered_global.csv). "
   ]
  },
  {
   "cell_type": "code",
   "execution_count": 22,
   "metadata": {},
   "outputs": [],
   "source": [
    "# Link of the raw file in GitHub\n",
    "url  <- \"https://raw.githubusercontent.com/CSSEGISandData/COVID-19/master/csse_covid_19_data/csse_covid_19_time_series/time_series_covid19_recovered_global.csv\"\n",
    "# Download the file and name the file \"time_series_covid19_recovered_global.csv\"\n",
    "download.file(url, \"time_series_covid19_recovered_global.csv\")"
   ]
  },
  {
   "cell_type": "code",
   "execution_count": 23,
   "metadata": {},
   "outputs": [
    {
     "name": "stderr",
     "output_type": "stream",
     "text": [
      "\n",
      "\u001b[36m──\u001b[39m \u001b[1m\u001b[1mColumn specification\u001b[1m\u001b[22m \u001b[36m─────────────────────────────────────────────────────\u001b[39m\n",
      "cols(\n",
      "  .default = col_double(),\n",
      "  `Province/State` = \u001b[31mcol_character()\u001b[39m,\n",
      "  `Country/Region` = \u001b[31mcol_character()\u001b[39m\n",
      ")\n",
      "\u001b[36mℹ\u001b[39m Use \u001b[38;5;235m\u001b[48;5;253m\u001b[38;5;235m\u001b[48;5;253m`spec()`\u001b[48;5;253m\u001b[38;5;235m\u001b[49m\u001b[39m for the full column specifications.\n",
      "\n",
      "\n"
     ]
    }
   ],
   "source": [
    "# Import the file\n",
    "covid_recovered  <- read_csv(\"time_series_covid19_recovered_global.csv\")"
   ]
  },
  {
   "cell_type": "code",
   "execution_count": 24,
   "metadata": {},
   "outputs": [
    {
     "name": "stdout",
     "output_type": "stream",
     "text": [
      "tibble [257 × 358] (S3: spec_tbl_df/tbl_df/tbl/data.frame)\n",
      " $ Province/State: chr [1:257] NA NA NA NA ...\n",
      " $ Country/Region: chr [1:257] \"Afghanistan\" \"Albania\" \"Algeria\" \"Andorra\" ...\n",
      " $ Lat           : num [1:257] 33.9 41.2 28 42.5 -11.2 ...\n",
      " $ Long          : num [1:257] 67.71 20.17 1.66 1.52 17.87 ...\n",
      " $ 1/22/20       : num [1:257] 0 0 0 0 0 0 0 0 0 0 ...\n",
      " $ 1/23/20       : num [1:257] 0 0 0 0 0 0 0 0 0 0 ...\n",
      " $ 1/24/20       : num [1:257] 0 0 0 0 0 0 0 0 0 0 ...\n",
      " $ 1/25/20       : num [1:257] 0 0 0 0 0 0 0 0 0 0 ...\n",
      " $ 1/26/20       : num [1:257] 0 0 0 0 0 0 0 0 0 0 ...\n",
      " $ 1/27/20       : num [1:257] 0 0 0 0 0 0 0 0 0 0 ...\n",
      " $ 1/28/20       : num [1:257] 0 0 0 0 0 0 0 0 0 0 ...\n",
      " $ 1/29/20       : num [1:257] 0 0 0 0 0 0 0 0 0 0 ...\n",
      " $ 1/30/20       : num [1:257] 0 0 0 0 0 0 0 0 0 2 ...\n",
      " $ 1/31/20       : num [1:257] 0 0 0 0 0 0 0 0 0 2 ...\n",
      " $ 2/1/20        : num [1:257] 0 0 0 0 0 0 0 0 0 2 ...\n",
      " $ 2/2/20        : num [1:257] 0 0 0 0 0 0 0 0 0 2 ...\n",
      " $ 2/3/20        : num [1:257] 0 0 0 0 0 0 0 0 0 2 ...\n",
      " $ 2/4/20        : num [1:257] 0 0 0 0 0 0 0 0 0 2 ...\n",
      " $ 2/5/20        : num [1:257] 0 0 0 0 0 0 0 0 0 2 ...\n",
      " $ 2/6/20        : num [1:257] 0 0 0 0 0 0 0 0 0 2 ...\n",
      " $ 2/7/20        : num [1:257] 0 0 0 0 0 0 0 0 0 2 ...\n",
      " $ 2/8/20        : num [1:257] 0 0 0 0 0 0 0 0 0 2 ...\n",
      " $ 2/9/20        : num [1:257] 0 0 0 0 0 0 0 0 0 2 ...\n",
      " $ 2/10/20       : num [1:257] 0 0 0 0 0 0 0 0 0 2 ...\n",
      " $ 2/11/20       : num [1:257] 0 0 0 0 0 0 0 0 0 2 ...\n",
      " $ 2/12/20       : num [1:257] 0 0 0 0 0 0 0 0 0 2 ...\n",
      " $ 2/13/20       : num [1:257] 0 0 0 0 0 0 0 0 0 4 ...\n",
      " $ 2/14/20       : num [1:257] 0 0 0 0 0 0 0 0 0 4 ...\n",
      " $ 2/15/20       : num [1:257] 0 0 0 0 0 0 0 0 0 4 ...\n",
      " $ 2/16/20       : num [1:257] 0 0 0 0 0 0 0 0 0 4 ...\n",
      " $ 2/17/20       : num [1:257] 0 0 0 0 0 0 0 0 0 4 ...\n",
      " $ 2/18/20       : num [1:257] 0 0 0 0 0 0 0 0 0 4 ...\n",
      " $ 2/19/20       : num [1:257] 0 0 0 0 0 0 0 0 0 4 ...\n",
      " $ 2/20/20       : num [1:257] 0 0 0 0 0 0 0 0 0 4 ...\n",
      " $ 2/21/20       : num [1:257] 0 0 0 0 0 0 0 0 0 4 ...\n",
      " $ 2/22/20       : num [1:257] 0 0 0 0 0 0 0 0 0 4 ...\n",
      " $ 2/23/20       : num [1:257] 0 0 0 0 0 0 0 0 0 4 ...\n",
      " $ 2/24/20       : num [1:257] 0 0 0 0 0 0 0 0 0 4 ...\n",
      " $ 2/25/20       : num [1:257] 0 0 0 0 0 0 0 0 0 4 ...\n",
      " $ 2/26/20       : num [1:257] 0 0 0 0 0 0 0 0 0 4 ...\n",
      " $ 2/27/20       : num [1:257] 0 0 0 0 0 0 0 0 0 4 ...\n",
      " $ 2/28/20       : num [1:257] 0 0 0 0 0 0 0 0 0 4 ...\n",
      " $ 2/29/20       : num [1:257] 0 0 0 0 0 0 0 0 0 4 ...\n",
      " $ 3/1/20        : num [1:257] 0 0 0 0 0 0 0 0 0 4 ...\n",
      " $ 3/2/20        : num [1:257] 0 0 0 0 0 0 0 0 0 4 ...\n",
      " $ 3/3/20        : num [1:257] 0 0 0 0 0 0 0 0 0 4 ...\n",
      " $ 3/4/20        : num [1:257] 0 0 0 0 0 0 0 0 0 4 ...\n",
      " $ 3/5/20        : num [1:257] 0 0 0 0 0 0 0 0 0 4 ...\n",
      " $ 3/6/20        : num [1:257] 0 0 0 0 0 0 0 0 0 4 ...\n",
      " $ 3/7/20        : num [1:257] 0 0 0 0 0 0 0 0 0 4 ...\n",
      " $ 3/8/20        : num [1:257] 0 0 0 0 0 0 0 0 0 4 ...\n",
      " $ 3/9/20        : num [1:257] 0 0 0 0 0 0 0 0 0 4 ...\n",
      " $ 3/10/20       : num [1:257] 0 0 0 0 0 0 0 0 0 4 ...\n",
      " $ 3/11/20       : num [1:257] 0 0 0 0 0 0 0 0 0 4 ...\n",
      " $ 3/12/20       : num [1:257] 0 0 8 1 0 0 0 0 0 4 ...\n",
      " $ 3/13/20       : num [1:257] 0 0 8 0 0 0 0 0 0 4 ...\n",
      " $ 3/14/20       : num [1:257] 0 0 12 1 0 0 1 0 0 4 ...\n",
      " $ 3/15/20       : num [1:257] 0 0 12 1 0 0 1 0 0 4 ...\n",
      " $ 3/16/20       : num [1:257] 1 0 12 1 0 0 1 0 0 4 ...\n",
      " $ 3/17/20       : num [1:257] 1 0 12 1 0 0 3 1 0 4 ...\n",
      " $ 3/18/20       : num [1:257] 1 0 12 1 0 0 3 1 0 4 ...\n",
      " $ 3/19/20       : num [1:257] 1 0 32 1 0 0 3 1 0 4 ...\n",
      " $ 3/20/20       : num [1:257] 1 0 32 1 0 0 3 1 0 4 ...\n",
      " $ 3/21/20       : num [1:257] 1 2 32 1 0 0 3 1 0 4 ...\n",
      " $ 3/22/20       : num [1:257] 1 2 65 1 0 0 3 2 0 4 ...\n",
      " $ 3/23/20       : num [1:257] 1 2 65 1 0 0 3 2 0 4 ...\n",
      " $ 3/24/20       : num [1:257] 1 10 24 1 0 0 52 14 0 4 ...\n",
      " $ 3/25/20       : num [1:257] 2 17 65 1 0 0 52 16 0 4 ...\n",
      " $ 3/26/20       : num [1:257] 2 17 29 1 0 0 63 18 1 4 ...\n",
      " $ 3/27/20       : num [1:257] 2 31 29 1 0 0 72 28 1 4 ...\n",
      " $ 3/28/20       : num [1:257] 2 31 31 1 0 0 72 30 2 4 ...\n",
      " $ 3/29/20       : num [1:257] 2 33 31 1 0 0 72 30 2 4 ...\n",
      " $ 3/30/20       : num [1:257] 2 44 37 10 0 0 228 30 2 4 ...\n",
      " $ 3/31/20       : num [1:257] 5 52 46 10 1 0 240 30 3 4 ...\n",
      " $ 4/1/20        : num [1:257] 5 67 61 10 1 0 248 31 8 4 ...\n",
      " $ 4/2/20        : num [1:257] 10 76 61 10 1 0 256 33 11 4 ...\n",
      " $ 4/3/20        : num [1:257] 10 89 62 16 1 0 266 43 18 4 ...\n",
      " $ 4/4/20        : num [1:257] 10 99 90 21 2 0 279 43 18 4 ...\n",
      " $ 4/5/20        : num [1:257] 15 104 90 26 2 0 280 57 28 4 ...\n",
      " $ 4/6/20        : num [1:257] 18 116 90 31 2 0 325 62 40 4 ...\n",
      " $ 4/7/20        : num [1:257] 18 131 113 39 2 0 338 87 40 4 ...\n",
      " $ 4/8/20        : num [1:257] 29 154 237 52 2 0 358 114 40 4 ...\n",
      " $ 4/9/20        : num [1:257] 32 165 347 58 2 0 365 138 47 4 ...\n",
      " $ 4/10/20       : num [1:257] 32 182 405 71 2 0 375 149 59 4 ...\n",
      " $ 4/11/20       : num [1:257] 32 197 460 71 4 0 440 173 59 4 ...\n",
      " $ 4/12/20       : num [1:257] 32 217 591 128 4 0 468 197 59 4 ...\n",
      " $ 4/13/20       : num [1:257] 32 232 601 128 4 0 515 211 59 4 ...\n",
      " $ 4/14/20       : num [1:257] 40 248 691 128 5 3 559 265 72 4 ...\n",
      " $ 4/15/20       : num [1:257] 43 251 708 169 5 3 596 297 72 4 ...\n",
      " $ 4/16/20       : num [1:257] 54 277 783 169 5 3 631 358 82 4 ...\n",
      " $ 4/17/20       : num [1:257] 99 283 846 191 5 ...\n",
      " $ 4/18/20       : num [1:257] 112 302 894 205 6 ...\n",
      " $ 4/19/20       : num [1:257] 131 314 1047 235 6 ...\n",
      " $ 4/20/20       : num [1:257] 135 327 1099 248 6 ...\n",
      " $ 4/21/20       : num [1:257] 150 345 1152 282 6 ...\n",
      " $ 4/22/20       : num [1:257] 166 356 1204 309 6 ...\n",
      " $ 4/23/20       : num [1:257] 179 385 1355 333 6 ...\n",
      " $ 4/24/20       : num [1:257] 188 394 1408 344 6 ...\n",
      " $ 4/25/20       : num [1:257] 188 403 1479 344 6 ...\n",
      "  [list output truncated]\n",
      " - attr(*, \"spec\")=\n",
      "  .. cols(\n",
      "  ..   `Province/State` = \u001b[31mcol_character()\u001b[39m,\n",
      "  ..   `Country/Region` = \u001b[31mcol_character()\u001b[39m,\n",
      "  ..   Lat = \u001b[32mcol_double()\u001b[39m,\n",
      "  ..   Long = \u001b[32mcol_double()\u001b[39m,\n",
      "  ..   `1/22/20` = \u001b[32mcol_double()\u001b[39m,\n",
      "  ..   `1/23/20` = \u001b[32mcol_double()\u001b[39m,\n",
      "  ..   `1/24/20` = \u001b[32mcol_double()\u001b[39m,\n",
      "  ..   `1/25/20` = \u001b[32mcol_double()\u001b[39m,\n",
      "  ..   `1/26/20` = \u001b[32mcol_double()\u001b[39m,\n",
      "  ..   `1/27/20` = \u001b[32mcol_double()\u001b[39m,\n",
      "  ..   `1/28/20` = \u001b[32mcol_double()\u001b[39m,\n",
      "  ..   `1/29/20` = \u001b[32mcol_double()\u001b[39m,\n",
      "  ..   `1/30/20` = \u001b[32mcol_double()\u001b[39m,\n",
      "  ..   `1/31/20` = \u001b[32mcol_double()\u001b[39m,\n",
      "  ..   `2/1/20` = \u001b[32mcol_double()\u001b[39m,\n",
      "  ..   `2/2/20` = \u001b[32mcol_double()\u001b[39m,\n",
      "  ..   `2/3/20` = \u001b[32mcol_double()\u001b[39m,\n",
      "  ..   `2/4/20` = \u001b[32mcol_double()\u001b[39m,\n",
      "  ..   `2/5/20` = \u001b[32mcol_double()\u001b[39m,\n",
      "  ..   `2/6/20` = \u001b[32mcol_double()\u001b[39m,\n",
      "  ..   `2/7/20` = \u001b[32mcol_double()\u001b[39m,\n",
      "  ..   `2/8/20` = \u001b[32mcol_double()\u001b[39m,\n",
      "  ..   `2/9/20` = \u001b[32mcol_double()\u001b[39m,\n",
      "  ..   `2/10/20` = \u001b[32mcol_double()\u001b[39m,\n",
      "  ..   `2/11/20` = \u001b[32mcol_double()\u001b[39m,\n",
      "  ..   `2/12/20` = \u001b[32mcol_double()\u001b[39m,\n",
      "  ..   `2/13/20` = \u001b[32mcol_double()\u001b[39m,\n",
      "  ..   `2/14/20` = \u001b[32mcol_double()\u001b[39m,\n",
      "  ..   `2/15/20` = \u001b[32mcol_double()\u001b[39m,\n",
      "  ..   `2/16/20` = \u001b[32mcol_double()\u001b[39m,\n",
      "  ..   `2/17/20` = \u001b[32mcol_double()\u001b[39m,\n",
      "  ..   `2/18/20` = \u001b[32mcol_double()\u001b[39m,\n",
      "  ..   `2/19/20` = \u001b[32mcol_double()\u001b[39m,\n",
      "  ..   `2/20/20` = \u001b[32mcol_double()\u001b[39m,\n",
      "  ..   `2/21/20` = \u001b[32mcol_double()\u001b[39m,\n",
      "  ..   `2/22/20` = \u001b[32mcol_double()\u001b[39m,\n",
      "  ..   `2/23/20` = \u001b[32mcol_double()\u001b[39m,\n",
      "  ..   `2/24/20` = \u001b[32mcol_double()\u001b[39m,\n",
      "  ..   `2/25/20` = \u001b[32mcol_double()\u001b[39m,\n",
      "  ..   `2/26/20` = \u001b[32mcol_double()\u001b[39m,\n",
      "  ..   `2/27/20` = \u001b[32mcol_double()\u001b[39m,\n",
      "  ..   `2/28/20` = \u001b[32mcol_double()\u001b[39m,\n",
      "  ..   `2/29/20` = \u001b[32mcol_double()\u001b[39m,\n",
      "  ..   `3/1/20` = \u001b[32mcol_double()\u001b[39m,\n",
      "  ..   `3/2/20` = \u001b[32mcol_double()\u001b[39m,\n",
      "  ..   `3/3/20` = \u001b[32mcol_double()\u001b[39m,\n",
      "  ..   `3/4/20` = \u001b[32mcol_double()\u001b[39m,\n",
      "  ..   `3/5/20` = \u001b[32mcol_double()\u001b[39m,\n",
      "  ..   `3/6/20` = \u001b[32mcol_double()\u001b[39m,\n",
      "  ..   `3/7/20` = \u001b[32mcol_double()\u001b[39m,\n",
      "  ..   `3/8/20` = \u001b[32mcol_double()\u001b[39m,\n",
      "  ..   `3/9/20` = \u001b[32mcol_double()\u001b[39m,\n",
      "  ..   `3/10/20` = \u001b[32mcol_double()\u001b[39m,\n",
      "  ..   `3/11/20` = \u001b[32mcol_double()\u001b[39m,\n",
      "  ..   `3/12/20` = \u001b[32mcol_double()\u001b[39m,\n",
      "  ..   `3/13/20` = \u001b[32mcol_double()\u001b[39m,\n",
      "  ..   `3/14/20` = \u001b[32mcol_double()\u001b[39m,\n",
      "  ..   `3/15/20` = \u001b[32mcol_double()\u001b[39m,\n",
      "  ..   `3/16/20` = \u001b[32mcol_double()\u001b[39m,\n",
      "  ..   `3/17/20` = \u001b[32mcol_double()\u001b[39m,\n",
      "  ..   `3/18/20` = \u001b[32mcol_double()\u001b[39m,\n",
      "  ..   `3/19/20` = \u001b[32mcol_double()\u001b[39m,\n",
      "  ..   `3/20/20` = \u001b[32mcol_double()\u001b[39m,\n",
      "  ..   `3/21/20` = \u001b[32mcol_double()\u001b[39m,\n",
      "  ..   `3/22/20` = \u001b[32mcol_double()\u001b[39m,\n",
      "  ..   `3/23/20` = \u001b[32mcol_double()\u001b[39m,\n",
      "  ..   `3/24/20` = \u001b[32mcol_double()\u001b[39m,\n",
      "  ..   `3/25/20` = \u001b[32mcol_double()\u001b[39m,\n",
      "  ..   `3/26/20` = \u001b[32mcol_double()\u001b[39m,\n",
      "  ..   `3/27/20` = \u001b[32mcol_double()\u001b[39m,\n",
      "  ..   `3/28/20` = \u001b[32mcol_double()\u001b[39m,\n",
      "  ..   `3/29/20` = \u001b[32mcol_double()\u001b[39m,\n",
      "  ..   `3/30/20` = \u001b[32mcol_double()\u001b[39m,\n",
      "  ..   `3/31/20` = \u001b[32mcol_double()\u001b[39m,\n",
      "  ..   `4/1/20` = \u001b[32mcol_double()\u001b[39m,\n",
      "  ..   `4/2/20` = \u001b[32mcol_double()\u001b[39m,\n",
      "  ..   `4/3/20` = \u001b[32mcol_double()\u001b[39m,\n",
      "  ..   `4/4/20` = \u001b[32mcol_double()\u001b[39m,\n",
      "  ..   `4/5/20` = \u001b[32mcol_double()\u001b[39m,\n",
      "  ..   `4/6/20` = \u001b[32mcol_double()\u001b[39m,\n",
      "  ..   `4/7/20` = \u001b[32mcol_double()\u001b[39m,\n",
      "  ..   `4/8/20` = \u001b[32mcol_double()\u001b[39m,\n",
      "  ..   `4/9/20` = \u001b[32mcol_double()\u001b[39m,\n",
      "  ..   `4/10/20` = \u001b[32mcol_double()\u001b[39m,\n",
      "  ..   `4/11/20` = \u001b[32mcol_double()\u001b[39m,\n",
      "  ..   `4/12/20` = \u001b[32mcol_double()\u001b[39m,\n",
      "  ..   `4/13/20` = \u001b[32mcol_double()\u001b[39m,\n",
      "  ..   `4/14/20` = \u001b[32mcol_double()\u001b[39m,\n",
      "  ..   `4/15/20` = \u001b[32mcol_double()\u001b[39m,\n",
      "  ..   `4/16/20` = \u001b[32mcol_double()\u001b[39m,\n",
      "  ..   `4/17/20` = \u001b[32mcol_double()\u001b[39m,\n",
      "  ..   `4/18/20` = \u001b[32mcol_double()\u001b[39m,\n",
      "  ..   `4/19/20` = \u001b[32mcol_double()\u001b[39m,\n",
      "  ..   `4/20/20` = \u001b[32mcol_double()\u001b[39m,\n",
      "  ..   `4/21/20` = \u001b[32mcol_double()\u001b[39m,\n",
      "  ..   `4/22/20` = \u001b[32mcol_double()\u001b[39m,\n",
      "  ..   `4/23/20` = \u001b[32mcol_double()\u001b[39m,\n",
      "  ..   `4/24/20` = \u001b[32mcol_double()\u001b[39m,\n",
      "  ..   `4/25/20` = \u001b[32mcol_double()\u001b[39m,\n",
      "  ..   `4/26/20` = \u001b[32mcol_double()\u001b[39m,\n",
      "  ..   `4/27/20` = \u001b[32mcol_double()\u001b[39m,\n",
      "  ..   `4/28/20` = \u001b[32mcol_double()\u001b[39m,\n",
      "  ..   `4/29/20` = \u001b[32mcol_double()\u001b[39m,\n",
      "  ..   `4/30/20` = \u001b[32mcol_double()\u001b[39m,\n",
      "  ..   `5/1/20` = \u001b[32mcol_double()\u001b[39m,\n",
      "  ..   `5/2/20` = \u001b[32mcol_double()\u001b[39m,\n",
      "  ..   `5/3/20` = \u001b[32mcol_double()\u001b[39m,\n",
      "  ..   `5/4/20` = \u001b[32mcol_double()\u001b[39m,\n",
      "  ..   `5/5/20` = \u001b[32mcol_double()\u001b[39m,\n",
      "  ..   `5/6/20` = \u001b[32mcol_double()\u001b[39m,\n",
      "  ..   `5/7/20` = \u001b[32mcol_double()\u001b[39m,\n",
      "  ..   `5/8/20` = \u001b[32mcol_double()\u001b[39m,\n",
      "  ..   `5/9/20` = \u001b[32mcol_double()\u001b[39m,\n",
      "  ..   `5/10/20` = \u001b[32mcol_double()\u001b[39m,\n",
      "  ..   `5/11/20` = \u001b[32mcol_double()\u001b[39m,\n",
      "  ..   `5/12/20` = \u001b[32mcol_double()\u001b[39m,\n",
      "  ..   `5/13/20` = \u001b[32mcol_double()\u001b[39m,\n",
      "  ..   `5/14/20` = \u001b[32mcol_double()\u001b[39m,\n",
      "  ..   `5/15/20` = \u001b[32mcol_double()\u001b[39m,\n",
      "  ..   `5/16/20` = \u001b[32mcol_double()\u001b[39m,\n",
      "  ..   `5/17/20` = \u001b[32mcol_double()\u001b[39m,\n",
      "  ..   `5/18/20` = \u001b[32mcol_double()\u001b[39m,\n",
      "  ..   `5/19/20` = \u001b[32mcol_double()\u001b[39m,\n",
      "  ..   `5/20/20` = \u001b[32mcol_double()\u001b[39m,\n",
      "  ..   `5/21/20` = \u001b[32mcol_double()\u001b[39m,\n",
      "  ..   `5/22/20` = \u001b[32mcol_double()\u001b[39m,\n",
      "  ..   `5/23/20` = \u001b[32mcol_double()\u001b[39m,\n",
      "  ..   `5/24/20` = \u001b[32mcol_double()\u001b[39m,\n",
      "  ..   `5/25/20` = \u001b[32mcol_double()\u001b[39m,\n",
      "  ..   `5/26/20` = \u001b[32mcol_double()\u001b[39m,\n",
      "  ..   `5/27/20` = \u001b[32mcol_double()\u001b[39m,\n",
      "  ..   `5/28/20` = \u001b[32mcol_double()\u001b[39m,\n",
      "  ..   `5/29/20` = \u001b[32mcol_double()\u001b[39m,\n",
      "  ..   `5/30/20` = \u001b[32mcol_double()\u001b[39m,\n",
      "  ..   `5/31/20` = \u001b[32mcol_double()\u001b[39m,\n",
      "  ..   `6/1/20` = \u001b[32mcol_double()\u001b[39m,\n",
      "  ..   `6/2/20` = \u001b[32mcol_double()\u001b[39m,\n",
      "  ..   `6/3/20` = \u001b[32mcol_double()\u001b[39m,\n",
      "  ..   `6/4/20` = \u001b[32mcol_double()\u001b[39m,\n",
      "  ..   `6/5/20` = \u001b[32mcol_double()\u001b[39m,\n",
      "  ..   `6/6/20` = \u001b[32mcol_double()\u001b[39m,\n",
      "  ..   `6/7/20` = \u001b[32mcol_double()\u001b[39m,\n",
      "  ..   `6/8/20` = \u001b[32mcol_double()\u001b[39m,\n",
      "  ..   `6/9/20` = \u001b[32mcol_double()\u001b[39m,\n",
      "  ..   `6/10/20` = \u001b[32mcol_double()\u001b[39m,\n",
      "  ..   `6/11/20` = \u001b[32mcol_double()\u001b[39m,\n",
      "  ..   `6/12/20` = \u001b[32mcol_double()\u001b[39m,\n",
      "  ..   `6/13/20` = \u001b[32mcol_double()\u001b[39m,\n",
      "  ..   `6/14/20` = \u001b[32mcol_double()\u001b[39m,\n",
      "  ..   `6/15/20` = \u001b[32mcol_double()\u001b[39m,\n",
      "  ..   `6/16/20` = \u001b[32mcol_double()\u001b[39m,\n",
      "  ..   `6/17/20` = \u001b[32mcol_double()\u001b[39m,\n",
      "  ..   `6/18/20` = \u001b[32mcol_double()\u001b[39m,\n",
      "  ..   `6/19/20` = \u001b[32mcol_double()\u001b[39m,\n",
      "  ..   `6/20/20` = \u001b[32mcol_double()\u001b[39m,\n",
      "  ..   `6/21/20` = \u001b[32mcol_double()\u001b[39m,\n",
      "  ..   `6/22/20` = \u001b[32mcol_double()\u001b[39m,\n",
      "  ..   `6/23/20` = \u001b[32mcol_double()\u001b[39m,\n",
      "  ..   `6/24/20` = \u001b[32mcol_double()\u001b[39m,\n",
      "  ..   `6/25/20` = \u001b[32mcol_double()\u001b[39m,\n",
      "  ..   `6/26/20` = \u001b[32mcol_double()\u001b[39m,\n",
      "  ..   `6/27/20` = \u001b[32mcol_double()\u001b[39m,\n",
      "  ..   `6/28/20` = \u001b[32mcol_double()\u001b[39m,\n",
      "  ..   `6/29/20` = \u001b[32mcol_double()\u001b[39m,\n",
      "  ..   `6/30/20` = \u001b[32mcol_double()\u001b[39m,\n",
      "  ..   `7/1/20` = \u001b[32mcol_double()\u001b[39m,\n",
      "  ..   `7/2/20` = \u001b[32mcol_double()\u001b[39m,\n",
      "  ..   `7/3/20` = \u001b[32mcol_double()\u001b[39m,\n",
      "  ..   `7/4/20` = \u001b[32mcol_double()\u001b[39m,\n",
      "  ..   `7/5/20` = \u001b[32mcol_double()\u001b[39m,\n",
      "  ..   `7/6/20` = \u001b[32mcol_double()\u001b[39m,\n",
      "  ..   `7/7/20` = \u001b[32mcol_double()\u001b[39m,\n",
      "  ..   `7/8/20` = \u001b[32mcol_double()\u001b[39m,\n",
      "  ..   `7/9/20` = \u001b[32mcol_double()\u001b[39m,\n",
      "  ..   `7/10/20` = \u001b[32mcol_double()\u001b[39m,\n",
      "  ..   `7/11/20` = \u001b[32mcol_double()\u001b[39m,\n",
      "  ..   `7/12/20` = \u001b[32mcol_double()\u001b[39m,\n",
      "  ..   `7/13/20` = \u001b[32mcol_double()\u001b[39m,\n",
      "  ..   `7/14/20` = \u001b[32mcol_double()\u001b[39m,\n",
      "  ..   `7/15/20` = \u001b[32mcol_double()\u001b[39m,\n",
      "  ..   `7/16/20` = \u001b[32mcol_double()\u001b[39m,\n",
      "  ..   `7/17/20` = \u001b[32mcol_double()\u001b[39m,\n",
      "  ..   `7/18/20` = \u001b[32mcol_double()\u001b[39m,\n",
      "  ..   `7/19/20` = \u001b[32mcol_double()\u001b[39m,\n",
      "  ..   `7/20/20` = \u001b[32mcol_double()\u001b[39m,\n",
      "  ..   `7/21/20` = \u001b[32mcol_double()\u001b[39m,\n",
      "  ..   `7/22/20` = \u001b[32mcol_double()\u001b[39m,\n",
      "  ..   `7/23/20` = \u001b[32mcol_double()\u001b[39m,\n",
      "  ..   `7/24/20` = \u001b[32mcol_double()\u001b[39m,\n",
      "  ..   `7/25/20` = \u001b[32mcol_double()\u001b[39m,\n",
      "  ..   `7/26/20` = \u001b[32mcol_double()\u001b[39m,\n",
      "  ..   `7/27/20` = \u001b[32mcol_double()\u001b[39m,\n",
      "  ..   `7/28/20` = \u001b[32mcol_double()\u001b[39m,\n",
      "  ..   `7/29/20` = \u001b[32mcol_double()\u001b[39m,\n",
      "  ..   `7/30/20` = \u001b[32mcol_double()\u001b[39m,\n",
      "  ..   `7/31/20` = \u001b[32mcol_double()\u001b[39m,\n",
      "  ..   `8/1/20` = \u001b[32mcol_double()\u001b[39m,\n",
      "  ..   `8/2/20` = \u001b[32mcol_double()\u001b[39m,\n",
      "  ..   `8/3/20` = \u001b[32mcol_double()\u001b[39m,\n",
      "  ..   `8/4/20` = \u001b[32mcol_double()\u001b[39m,\n",
      "  ..   `8/5/20` = \u001b[32mcol_double()\u001b[39m,\n",
      "  ..   `8/6/20` = \u001b[32mcol_double()\u001b[39m,\n",
      "  ..   `8/7/20` = \u001b[32mcol_double()\u001b[39m,\n",
      "  ..   `8/8/20` = \u001b[32mcol_double()\u001b[39m,\n",
      "  ..   `8/9/20` = \u001b[32mcol_double()\u001b[39m,\n",
      "  ..   `8/10/20` = \u001b[32mcol_double()\u001b[39m,\n",
      "  ..   `8/11/20` = \u001b[32mcol_double()\u001b[39m,\n",
      "  ..   `8/12/20` = \u001b[32mcol_double()\u001b[39m,\n",
      "  ..   `8/13/20` = \u001b[32mcol_double()\u001b[39m,\n",
      "  ..   `8/14/20` = \u001b[32mcol_double()\u001b[39m,\n",
      "  ..   `8/15/20` = \u001b[32mcol_double()\u001b[39m,\n",
      "  ..   `8/16/20` = \u001b[32mcol_double()\u001b[39m,\n",
      "  ..   `8/17/20` = \u001b[32mcol_double()\u001b[39m,\n",
      "  ..   `8/18/20` = \u001b[32mcol_double()\u001b[39m,\n",
      "  ..   `8/19/20` = \u001b[32mcol_double()\u001b[39m,\n",
      "  ..   `8/20/20` = \u001b[32mcol_double()\u001b[39m,\n",
      "  ..   `8/21/20` = \u001b[32mcol_double()\u001b[39m,\n",
      "  ..   `8/22/20` = \u001b[32mcol_double()\u001b[39m,\n",
      "  ..   `8/23/20` = \u001b[32mcol_double()\u001b[39m,\n",
      "  ..   `8/24/20` = \u001b[32mcol_double()\u001b[39m,\n",
      "  ..   `8/25/20` = \u001b[32mcol_double()\u001b[39m,\n",
      "  ..   `8/26/20` = \u001b[32mcol_double()\u001b[39m,\n",
      "  ..   `8/27/20` = \u001b[32mcol_double()\u001b[39m,\n",
      "  ..   `8/28/20` = \u001b[32mcol_double()\u001b[39m,\n",
      "  ..   `8/29/20` = \u001b[32mcol_double()\u001b[39m,\n",
      "  ..   `8/30/20` = \u001b[32mcol_double()\u001b[39m,\n",
      "  ..   `8/31/20` = \u001b[32mcol_double()\u001b[39m,\n",
      "  ..   `9/1/20` = \u001b[32mcol_double()\u001b[39m,\n",
      "  ..   `9/2/20` = \u001b[32mcol_double()\u001b[39m,\n",
      "  ..   `9/3/20` = \u001b[32mcol_double()\u001b[39m,\n",
      "  ..   `9/4/20` = \u001b[32mcol_double()\u001b[39m,\n",
      "  ..   `9/5/20` = \u001b[32mcol_double()\u001b[39m,\n",
      "  ..   `9/6/20` = \u001b[32mcol_double()\u001b[39m,\n",
      "  ..   `9/7/20` = \u001b[32mcol_double()\u001b[39m,\n",
      "  ..   `9/8/20` = \u001b[32mcol_double()\u001b[39m,\n",
      "  ..   `9/9/20` = \u001b[32mcol_double()\u001b[39m,\n",
      "  ..   `9/10/20` = \u001b[32mcol_double()\u001b[39m,\n",
      "  ..   `9/11/20` = \u001b[32mcol_double()\u001b[39m,\n",
      "  ..   `9/12/20` = \u001b[32mcol_double()\u001b[39m,\n",
      "  ..   `9/13/20` = \u001b[32mcol_double()\u001b[39m,\n",
      "  ..   `9/14/20` = \u001b[32mcol_double()\u001b[39m,\n",
      "  ..   `9/15/20` = \u001b[32mcol_double()\u001b[39m,\n",
      "  ..   `9/16/20` = \u001b[32mcol_double()\u001b[39m,\n",
      "  ..   `9/17/20` = \u001b[32mcol_double()\u001b[39m,\n",
      "  ..   `9/18/20` = \u001b[32mcol_double()\u001b[39m,\n",
      "  ..   `9/19/20` = \u001b[32mcol_double()\u001b[39m,\n",
      "  ..   `9/20/20` = \u001b[32mcol_double()\u001b[39m,\n",
      "  ..   `9/21/20` = \u001b[32mcol_double()\u001b[39m,\n",
      "  ..   `9/22/20` = \u001b[32mcol_double()\u001b[39m,\n",
      "  ..   `9/23/20` = \u001b[32mcol_double()\u001b[39m,\n",
      "  ..   `9/24/20` = \u001b[32mcol_double()\u001b[39m,\n",
      "  ..   `9/25/20` = \u001b[32mcol_double()\u001b[39m,\n",
      "  ..   `9/26/20` = \u001b[32mcol_double()\u001b[39m,\n",
      "  ..   `9/27/20` = \u001b[32mcol_double()\u001b[39m,\n",
      "  ..   `9/28/20` = \u001b[32mcol_double()\u001b[39m,\n",
      "  ..   `9/29/20` = \u001b[32mcol_double()\u001b[39m,\n",
      "  ..   `9/30/20` = \u001b[32mcol_double()\u001b[39m,\n",
      "  ..   `10/1/20` = \u001b[32mcol_double()\u001b[39m,\n",
      "  ..   `10/2/20` = \u001b[32mcol_double()\u001b[39m,\n",
      "  ..   `10/3/20` = \u001b[32mcol_double()\u001b[39m,\n",
      "  ..   `10/4/20` = \u001b[32mcol_double()\u001b[39m,\n",
      "  ..   `10/5/20` = \u001b[32mcol_double()\u001b[39m,\n",
      "  ..   `10/6/20` = \u001b[32mcol_double()\u001b[39m,\n",
      "  ..   `10/7/20` = \u001b[32mcol_double()\u001b[39m,\n",
      "  ..   `10/8/20` = \u001b[32mcol_double()\u001b[39m,\n",
      "  ..   `10/9/20` = \u001b[32mcol_double()\u001b[39m,\n",
      "  ..   `10/10/20` = \u001b[32mcol_double()\u001b[39m,\n",
      "  ..   `10/11/20` = \u001b[32mcol_double()\u001b[39m,\n",
      "  ..   `10/12/20` = \u001b[32mcol_double()\u001b[39m,\n",
      "  ..   `10/13/20` = \u001b[32mcol_double()\u001b[39m,\n",
      "  ..   `10/14/20` = \u001b[32mcol_double()\u001b[39m,\n",
      "  ..   `10/15/20` = \u001b[32mcol_double()\u001b[39m,\n",
      "  ..   `10/16/20` = \u001b[32mcol_double()\u001b[39m,\n",
      "  ..   `10/17/20` = \u001b[32mcol_double()\u001b[39m,\n",
      "  ..   `10/18/20` = \u001b[32mcol_double()\u001b[39m,\n",
      "  ..   `10/19/20` = \u001b[32mcol_double()\u001b[39m,\n",
      "  ..   `10/20/20` = \u001b[32mcol_double()\u001b[39m,\n",
      "  ..   `10/21/20` = \u001b[32mcol_double()\u001b[39m,\n",
      "  ..   `10/22/20` = \u001b[32mcol_double()\u001b[39m,\n",
      "  ..   `10/23/20` = \u001b[32mcol_double()\u001b[39m,\n",
      "  ..   `10/24/20` = \u001b[32mcol_double()\u001b[39m,\n",
      "  ..   `10/25/20` = \u001b[32mcol_double()\u001b[39m,\n",
      "  ..   `10/26/20` = \u001b[32mcol_double()\u001b[39m,\n",
      "  ..   `10/27/20` = \u001b[32mcol_double()\u001b[39m,\n",
      "  ..   `10/28/20` = \u001b[32mcol_double()\u001b[39m,\n",
      "  ..   `10/29/20` = \u001b[32mcol_double()\u001b[39m,\n",
      "  ..   `10/30/20` = \u001b[32mcol_double()\u001b[39m,\n",
      "  ..   `10/31/20` = \u001b[32mcol_double()\u001b[39m,\n",
      "  ..   `11/1/20` = \u001b[32mcol_double()\u001b[39m,\n",
      "  ..   `11/2/20` = \u001b[32mcol_double()\u001b[39m,\n",
      "  ..   `11/3/20` = \u001b[32mcol_double()\u001b[39m,\n",
      "  ..   `11/4/20` = \u001b[32mcol_double()\u001b[39m,\n",
      "  ..   `11/5/20` = \u001b[32mcol_double()\u001b[39m,\n",
      "  ..   `11/6/20` = \u001b[32mcol_double()\u001b[39m,\n",
      "  ..   `11/7/20` = \u001b[32mcol_double()\u001b[39m,\n",
      "  ..   `11/8/20` = \u001b[32mcol_double()\u001b[39m,\n",
      "  ..   `11/9/20` = \u001b[32mcol_double()\u001b[39m,\n",
      "  ..   `11/10/20` = \u001b[32mcol_double()\u001b[39m,\n",
      "  ..   `11/11/20` = \u001b[32mcol_double()\u001b[39m,\n",
      "  ..   `11/12/20` = \u001b[32mcol_double()\u001b[39m,\n",
      "  ..   `11/13/20` = \u001b[32mcol_double()\u001b[39m,\n",
      "  ..   `11/14/20` = \u001b[32mcol_double()\u001b[39m,\n",
      "  ..   `11/15/20` = \u001b[32mcol_double()\u001b[39m,\n",
      "  ..   `11/16/20` = \u001b[32mcol_double()\u001b[39m,\n",
      "  ..   `11/17/20` = \u001b[32mcol_double()\u001b[39m,\n",
      "  ..   `11/18/20` = \u001b[32mcol_double()\u001b[39m,\n",
      "  ..   `11/19/20` = \u001b[32mcol_double()\u001b[39m,\n",
      "  ..   `11/20/20` = \u001b[32mcol_double()\u001b[39m,\n",
      "  ..   `11/21/20` = \u001b[32mcol_double()\u001b[39m,\n",
      "  ..   `11/22/20` = \u001b[32mcol_double()\u001b[39m,\n",
      "  ..   `11/23/20` = \u001b[32mcol_double()\u001b[39m,\n",
      "  ..   `11/24/20` = \u001b[32mcol_double()\u001b[39m,\n",
      "  ..   `11/25/20` = \u001b[32mcol_double()\u001b[39m,\n",
      "  ..   `11/26/20` = \u001b[32mcol_double()\u001b[39m,\n",
      "  ..   `11/27/20` = \u001b[32mcol_double()\u001b[39m,\n",
      "  ..   `11/28/20` = \u001b[32mcol_double()\u001b[39m,\n",
      "  ..   `11/29/20` = \u001b[32mcol_double()\u001b[39m,\n",
      "  ..   `11/30/20` = \u001b[32mcol_double()\u001b[39m,\n",
      "  ..   `12/1/20` = \u001b[32mcol_double()\u001b[39m,\n",
      "  ..   `12/2/20` = \u001b[32mcol_double()\u001b[39m,\n",
      "  ..   `12/3/20` = \u001b[32mcol_double()\u001b[39m,\n",
      "  ..   `12/4/20` = \u001b[32mcol_double()\u001b[39m,\n",
      "  ..   `12/5/20` = \u001b[32mcol_double()\u001b[39m,\n",
      "  ..   `12/6/20` = \u001b[32mcol_double()\u001b[39m,\n",
      "  ..   `12/7/20` = \u001b[32mcol_double()\u001b[39m,\n",
      "  ..   `12/8/20` = \u001b[32mcol_double()\u001b[39m,\n",
      "  ..   `12/9/20` = \u001b[32mcol_double()\u001b[39m,\n",
      "  ..   `12/10/20` = \u001b[32mcol_double()\u001b[39m,\n",
      "  ..   `12/11/20` = \u001b[32mcol_double()\u001b[39m,\n",
      "  ..   `12/12/20` = \u001b[32mcol_double()\u001b[39m,\n",
      "  ..   `12/13/20` = \u001b[32mcol_double()\u001b[39m,\n",
      "  ..   `12/14/20` = \u001b[32mcol_double()\u001b[39m,\n",
      "  ..   `12/15/20` = \u001b[32mcol_double()\u001b[39m,\n",
      "  ..   `12/16/20` = \u001b[32mcol_double()\u001b[39m,\n",
      "  ..   `12/17/20` = \u001b[32mcol_double()\u001b[39m,\n",
      "  ..   `12/18/20` = \u001b[32mcol_double()\u001b[39m,\n",
      "  ..   `12/19/20` = \u001b[32mcol_double()\u001b[39m,\n",
      "  ..   `12/20/20` = \u001b[32mcol_double()\u001b[39m,\n",
      "  ..   `12/21/20` = \u001b[32mcol_double()\u001b[39m,\n",
      "  ..   `12/22/20` = \u001b[32mcol_double()\u001b[39m,\n",
      "  ..   `12/23/20` = \u001b[32mcol_double()\u001b[39m,\n",
      "  ..   `12/24/20` = \u001b[32mcol_double()\u001b[39m,\n",
      "  ..   `12/25/20` = \u001b[32mcol_double()\u001b[39m,\n",
      "  ..   `12/26/20` = \u001b[32mcol_double()\u001b[39m,\n",
      "  ..   `12/27/20` = \u001b[32mcol_double()\u001b[39m,\n",
      "  ..   `12/28/20` = \u001b[32mcol_double()\u001b[39m,\n",
      "  ..   `12/29/20` = \u001b[32mcol_double()\u001b[39m,\n",
      "  ..   `12/30/20` = \u001b[32mcol_double()\u001b[39m,\n",
      "  ..   `12/31/20` = \u001b[32mcol_double()\u001b[39m,\n",
      "  ..   `1/1/21` = \u001b[32mcol_double()\u001b[39m,\n",
      "  ..   `1/2/21` = \u001b[32mcol_double()\u001b[39m,\n",
      "  ..   `1/3/21` = \u001b[32mcol_double()\u001b[39m,\n",
      "  ..   `1/4/21` = \u001b[32mcol_double()\u001b[39m,\n",
      "  ..   `1/5/21` = \u001b[32mcol_double()\u001b[39m,\n",
      "  ..   `1/6/21` = \u001b[32mcol_double()\u001b[39m,\n",
      "  ..   `1/7/21` = \u001b[32mcol_double()\u001b[39m,\n",
      "  ..   `1/8/21` = \u001b[32mcol_double()\u001b[39m,\n",
      "  ..   `1/9/21` = \u001b[32mcol_double()\u001b[39m\n",
      "  .. )\n"
     ]
    }
   ],
   "source": [
    "# Check data structure\n",
    "str(covid_recovered)"
   ]
  },
  {
   "cell_type": "code",
   "execution_count": 25,
   "metadata": {},
   "outputs": [
    {
     "data": {
      "text/html": [
       "<table>\n",
       "<caption>A tibble: 6 × 358</caption>\n",
       "<thead>\n",
       "\t<tr><th scope=col>Province/State</th><th scope=col>Country/Region</th><th scope=col>Lat</th><th scope=col>Long</th><th scope=col>1/22/20</th><th scope=col>1/23/20</th><th scope=col>1/24/20</th><th scope=col>1/25/20</th><th scope=col>1/26/20</th><th scope=col>1/27/20</th><th scope=col>⋯</th><th scope=col>12/31/20</th><th scope=col>1/1/21</th><th scope=col>1/2/21</th><th scope=col>1/3/21</th><th scope=col>1/4/21</th><th scope=col>1/5/21</th><th scope=col>1/6/21</th><th scope=col>1/7/21</th><th scope=col>1/8/21</th><th scope=col>1/9/21</th></tr>\n",
       "\t<tr><th scope=col>&lt;chr&gt;</th><th scope=col>&lt;chr&gt;</th><th scope=col>&lt;dbl&gt;</th><th scope=col>&lt;dbl&gt;</th><th scope=col>&lt;dbl&gt;</th><th scope=col>&lt;dbl&gt;</th><th scope=col>&lt;dbl&gt;</th><th scope=col>&lt;dbl&gt;</th><th scope=col>&lt;dbl&gt;</th><th scope=col>&lt;dbl&gt;</th><th scope=col>⋯</th><th scope=col>&lt;dbl&gt;</th><th scope=col>&lt;dbl&gt;</th><th scope=col>&lt;dbl&gt;</th><th scope=col>&lt;dbl&gt;</th><th scope=col>&lt;dbl&gt;</th><th scope=col>&lt;dbl&gt;</th><th scope=col>&lt;dbl&gt;</th><th scope=col>&lt;dbl&gt;</th><th scope=col>&lt;dbl&gt;</th><th scope=col>&lt;dbl&gt;</th></tr>\n",
       "</thead>\n",
       "<tbody>\n",
       "\t<tr><td>NA</td><td>Afghanistan        </td><td> 33.93911</td><td> 67.70995</td><td>0</td><td>0</td><td>0</td><td>0</td><td>0</td><td>0</td><td>⋯</td><td>41727</td><td>41727</td><td>41727</td><td>41727</td><td>42530</td><td>42666</td><td>42666</td><td>43291</td><td>43440</td><td>43740</td></tr>\n",
       "\t<tr><td>NA</td><td>Albania            </td><td> 41.15330</td><td> 20.16830</td><td>0</td><td>0</td><td>0</td><td>0</td><td>0</td><td>0</td><td>⋯</td><td>33634</td><td>33634</td><td>34353</td><td>34648</td><td>34996</td><td>35551</td><td>36102</td><td>36535</td><td>36971</td><td>37327</td></tr>\n",
       "\t<tr><td>NA</td><td>Algeria            </td><td> 28.03390</td><td>  1.65960</td><td>0</td><td>0</td><td>0</td><td>0</td><td>0</td><td>0</td><td>⋯</td><td>67127</td><td>67395</td><td>67611</td><td>67808</td><td>67999</td><td>68185</td><td>68383</td><td>68589</td><td>68802</td><td>69011</td></tr>\n",
       "\t<tr><td>NA</td><td>Andorra            </td><td> 42.50630</td><td>  1.52180</td><td>0</td><td>0</td><td>0</td><td>0</td><td>0</td><td>0</td><td>⋯</td><td> 7432</td><td> 7463</td><td> 7463</td><td> 7517</td><td> 7548</td><td> 7585</td><td> 7615</td><td> 7615</td><td> 7724</td><td> 7724</td></tr>\n",
       "\t<tr><td>NA</td><td>Angola             </td><td>-11.20270</td><td> 17.87390</td><td>0</td><td>0</td><td>0</td><td>0</td><td>0</td><td>0</td><td>⋯</td><td>11044</td><td>11146</td><td>11189</td><td>11223</td><td>11266</td><td>11376</td><td>11477</td><td>11955</td><td>12712</td><td>13205</td></tr>\n",
       "\t<tr><td>NA</td><td>Antigua and Barbuda</td><td> 17.06080</td><td>-61.79640</td><td>0</td><td>0</td><td>0</td><td>0</td><td>0</td><td>0</td><td>⋯</td><td>  148</td><td>  148</td><td>  148</td><td>  148</td><td>  148</td><td>  148</td><td>  149</td><td>  149</td><td>  150</td><td>  152</td></tr>\n",
       "</tbody>\n",
       "</table>\n"
      ],
      "text/latex": [
       "A tibble: 6 × 358\n",
       "\\begin{tabular}{lllllllllllllllllllll}\n",
       " Province/State & Country/Region & Lat & Long & 1/22/20 & 1/23/20 & 1/24/20 & 1/25/20 & 1/26/20 & 1/27/20 & ⋯ & 12/31/20 & 1/1/21 & 1/2/21 & 1/3/21 & 1/4/21 & 1/5/21 & 1/6/21 & 1/7/21 & 1/8/21 & 1/9/21\\\\\n",
       " <chr> & <chr> & <dbl> & <dbl> & <dbl> & <dbl> & <dbl> & <dbl> & <dbl> & <dbl> & ⋯ & <dbl> & <dbl> & <dbl> & <dbl> & <dbl> & <dbl> & <dbl> & <dbl> & <dbl> & <dbl>\\\\\n",
       "\\hline\n",
       "\t NA & Afghanistan         &  33.93911 &  67.70995 & 0 & 0 & 0 & 0 & 0 & 0 & ⋯ & 41727 & 41727 & 41727 & 41727 & 42530 & 42666 & 42666 & 43291 & 43440 & 43740\\\\\n",
       "\t NA & Albania             &  41.15330 &  20.16830 & 0 & 0 & 0 & 0 & 0 & 0 & ⋯ & 33634 & 33634 & 34353 & 34648 & 34996 & 35551 & 36102 & 36535 & 36971 & 37327\\\\\n",
       "\t NA & Algeria             &  28.03390 &   1.65960 & 0 & 0 & 0 & 0 & 0 & 0 & ⋯ & 67127 & 67395 & 67611 & 67808 & 67999 & 68185 & 68383 & 68589 & 68802 & 69011\\\\\n",
       "\t NA & Andorra             &  42.50630 &   1.52180 & 0 & 0 & 0 & 0 & 0 & 0 & ⋯ &  7432 &  7463 &  7463 &  7517 &  7548 &  7585 &  7615 &  7615 &  7724 &  7724\\\\\n",
       "\t NA & Angola              & -11.20270 &  17.87390 & 0 & 0 & 0 & 0 & 0 & 0 & ⋯ & 11044 & 11146 & 11189 & 11223 & 11266 & 11376 & 11477 & 11955 & 12712 & 13205\\\\\n",
       "\t NA & Antigua and Barbuda &  17.06080 & -61.79640 & 0 & 0 & 0 & 0 & 0 & 0 & ⋯ &   148 &   148 &   148 &   148 &   148 &   148 &   149 &   149 &   150 &   152\\\\\n",
       "\\end{tabular}\n"
      ],
      "text/markdown": [
       "\n",
       "A tibble: 6 × 358\n",
       "\n",
       "| Province/State &lt;chr&gt; | Country/Region &lt;chr&gt; | Lat &lt;dbl&gt; | Long &lt;dbl&gt; | 1/22/20 &lt;dbl&gt; | 1/23/20 &lt;dbl&gt; | 1/24/20 &lt;dbl&gt; | 1/25/20 &lt;dbl&gt; | 1/26/20 &lt;dbl&gt; | 1/27/20 &lt;dbl&gt; | ⋯ ⋯ | 12/31/20 &lt;dbl&gt; | 1/1/21 &lt;dbl&gt; | 1/2/21 &lt;dbl&gt; | 1/3/21 &lt;dbl&gt; | 1/4/21 &lt;dbl&gt; | 1/5/21 &lt;dbl&gt; | 1/6/21 &lt;dbl&gt; | 1/7/21 &lt;dbl&gt; | 1/8/21 &lt;dbl&gt; | 1/9/21 &lt;dbl&gt; |\n",
       "|---|---|---|---|---|---|---|---|---|---|---|---|---|---|---|---|---|---|---|---|---|\n",
       "| NA | Afghanistan         |  33.93911 |  67.70995 | 0 | 0 | 0 | 0 | 0 | 0 | ⋯ | 41727 | 41727 | 41727 | 41727 | 42530 | 42666 | 42666 | 43291 | 43440 | 43740 |\n",
       "| NA | Albania             |  41.15330 |  20.16830 | 0 | 0 | 0 | 0 | 0 | 0 | ⋯ | 33634 | 33634 | 34353 | 34648 | 34996 | 35551 | 36102 | 36535 | 36971 | 37327 |\n",
       "| NA | Algeria             |  28.03390 |   1.65960 | 0 | 0 | 0 | 0 | 0 | 0 | ⋯ | 67127 | 67395 | 67611 | 67808 | 67999 | 68185 | 68383 | 68589 | 68802 | 69011 |\n",
       "| NA | Andorra             |  42.50630 |   1.52180 | 0 | 0 | 0 | 0 | 0 | 0 | ⋯ |  7432 |  7463 |  7463 |  7517 |  7548 |  7585 |  7615 |  7615 |  7724 |  7724 |\n",
       "| NA | Angola              | -11.20270 |  17.87390 | 0 | 0 | 0 | 0 | 0 | 0 | ⋯ | 11044 | 11146 | 11189 | 11223 | 11266 | 11376 | 11477 | 11955 | 12712 | 13205 |\n",
       "| NA | Antigua and Barbuda |  17.06080 | -61.79640 | 0 | 0 | 0 | 0 | 0 | 0 | ⋯ |   148 |   148 |   148 |   148 |   148 |   148 |   149 |   149 |   150 |   152 |\n",
       "\n"
      ],
      "text/plain": [
       "  Province/State Country/Region      Lat       Long      1/22/20 1/23/20\n",
       "1 NA             Afghanistan          33.93911  67.70995 0       0      \n",
       "2 NA             Albania              41.15330  20.16830 0       0      \n",
       "3 NA             Algeria              28.03390   1.65960 0       0      \n",
       "4 NA             Andorra              42.50630   1.52180 0       0      \n",
       "5 NA             Angola              -11.20270  17.87390 0       0      \n",
       "6 NA             Antigua and Barbuda  17.06080 -61.79640 0       0      \n",
       "  1/24/20 1/25/20 1/26/20 1/27/20 ⋯ 12/31/20 1/1/21 1/2/21 1/3/21 1/4/21 1/5/21\n",
       "1 0       0       0       0       ⋯ 41727    41727  41727  41727  42530  42666 \n",
       "2 0       0       0       0       ⋯ 33634    33634  34353  34648  34996  35551 \n",
       "3 0       0       0       0       ⋯ 67127    67395  67611  67808  67999  68185 \n",
       "4 0       0       0       0       ⋯  7432     7463   7463   7517   7548   7585 \n",
       "5 0       0       0       0       ⋯ 11044    11146  11189  11223  11266  11376 \n",
       "6 0       0       0       0       ⋯   148      148    148    148    148    148 \n",
       "  1/6/21 1/7/21 1/8/21 1/9/21\n",
       "1 42666  43291  43440  43740 \n",
       "2 36102  36535  36971  37327 \n",
       "3 68383  68589  68802  69011 \n",
       "4  7615   7615   7724   7724 \n",
       "5 11477  11955  12712  13205 \n",
       "6   149    149    150    152 "
      ]
     },
     "metadata": {},
     "output_type": "display_data"
    },
    {
     "data": {
      "text/html": [
       "<table>\n",
       "<caption>A tibble: 6 × 358</caption>\n",
       "<thead>\n",
       "\t<tr><th scope=col>Province/State</th><th scope=col>Country/Region</th><th scope=col>Lat</th><th scope=col>Long</th><th scope=col>1/22/20</th><th scope=col>1/23/20</th><th scope=col>1/24/20</th><th scope=col>1/25/20</th><th scope=col>1/26/20</th><th scope=col>1/27/20</th><th scope=col>⋯</th><th scope=col>12/31/20</th><th scope=col>1/1/21</th><th scope=col>1/2/21</th><th scope=col>1/3/21</th><th scope=col>1/4/21</th><th scope=col>1/5/21</th><th scope=col>1/6/21</th><th scope=col>1/7/21</th><th scope=col>1/8/21</th><th scope=col>1/9/21</th></tr>\n",
       "\t<tr><th scope=col>&lt;chr&gt;</th><th scope=col>&lt;chr&gt;</th><th scope=col>&lt;dbl&gt;</th><th scope=col>&lt;dbl&gt;</th><th scope=col>&lt;dbl&gt;</th><th scope=col>&lt;dbl&gt;</th><th scope=col>&lt;dbl&gt;</th><th scope=col>&lt;dbl&gt;</th><th scope=col>&lt;dbl&gt;</th><th scope=col>&lt;dbl&gt;</th><th scope=col>⋯</th><th scope=col>&lt;dbl&gt;</th><th scope=col>&lt;dbl&gt;</th><th scope=col>&lt;dbl&gt;</th><th scope=col>&lt;dbl&gt;</th><th scope=col>&lt;dbl&gt;</th><th scope=col>&lt;dbl&gt;</th><th scope=col>&lt;dbl&gt;</th><th scope=col>&lt;dbl&gt;</th><th scope=col>&lt;dbl&gt;</th><th scope=col>&lt;dbl&gt;</th></tr>\n",
       "</thead>\n",
       "<tbody>\n",
       "\t<tr><td>NA</td><td>Venezuela         </td><td>  6.42380</td><td>-66.58970</td><td>0</td><td>0</td><td>0</td><td>0</td><td>0</td><td>0</td><td>⋯</td><td>107583</td><td>107901</td><td>108086</td><td>108268</td><td>108468</td><td>108732</td><td>108966</td><td>109364</td><td>109684</td><td>110126</td></tr>\n",
       "\t<tr><td>NA</td><td>Vietnam           </td><td> 14.05832</td><td>108.27720</td><td>0</td><td>0</td><td>0</td><td>0</td><td>0</td><td>0</td><td>⋯</td><td>  1325</td><td>  1325</td><td>  1337</td><td>  1339</td><td>  1339</td><td>  1339</td><td>  1353</td><td>  1353</td><td>  1357</td><td>  1361</td></tr>\n",
       "\t<tr><td>NA</td><td>West Bank and Gaza</td><td> 31.95220</td><td> 35.23320</td><td>0</td><td>0</td><td>0</td><td>0</td><td>0</td><td>0</td><td>⋯</td><td>117183</td><td>118926</td><td>120403</td><td>121563</td><td>122976</td><td>124525</td><td>126110</td><td>127495</td><td>128900</td><td>130102</td></tr>\n",
       "\t<tr><td>NA</td><td>Yemen             </td><td> 15.55273</td><td> 48.51639</td><td>0</td><td>0</td><td>0</td><td>0</td><td>0</td><td>0</td><td>⋯</td><td>  1394</td><td>  1396</td><td>  1396</td><td>  1399</td><td>  1401</td><td>  1401</td><td>  1403</td><td>  1405</td><td>  1405</td><td>  1407</td></tr>\n",
       "\t<tr><td>NA</td><td>Zambia            </td><td>-13.13390</td><td> 27.84933</td><td>0</td><td>0</td><td>0</td><td>0</td><td>0</td><td>0</td><td>⋯</td><td> 18660</td><td> 18773</td><td> 18942</td><td> 19083</td><td> 19229</td><td> 19526</td><td> 19672</td><td> 19980</td><td> 20349</td><td> 20512</td></tr>\n",
       "\t<tr><td>NA</td><td>Zimbabwe          </td><td>-19.01544</td><td> 29.15486</td><td>0</td><td>0</td><td>0</td><td>0</td><td>0</td><td>0</td><td>⋯</td><td> 11250</td><td> 11347</td><td> 11363</td><td> 11574</td><td> 11716</td><td> 11813</td><td> 11966</td><td> 12083</td><td> 12184</td><td> 12439</td></tr>\n",
       "</tbody>\n",
       "</table>\n"
      ],
      "text/latex": [
       "A tibble: 6 × 358\n",
       "\\begin{tabular}{lllllllllllllllllllll}\n",
       " Province/State & Country/Region & Lat & Long & 1/22/20 & 1/23/20 & 1/24/20 & 1/25/20 & 1/26/20 & 1/27/20 & ⋯ & 12/31/20 & 1/1/21 & 1/2/21 & 1/3/21 & 1/4/21 & 1/5/21 & 1/6/21 & 1/7/21 & 1/8/21 & 1/9/21\\\\\n",
       " <chr> & <chr> & <dbl> & <dbl> & <dbl> & <dbl> & <dbl> & <dbl> & <dbl> & <dbl> & ⋯ & <dbl> & <dbl> & <dbl> & <dbl> & <dbl> & <dbl> & <dbl> & <dbl> & <dbl> & <dbl>\\\\\n",
       "\\hline\n",
       "\t NA & Venezuela          &   6.42380 & -66.58970 & 0 & 0 & 0 & 0 & 0 & 0 & ⋯ & 107583 & 107901 & 108086 & 108268 & 108468 & 108732 & 108966 & 109364 & 109684 & 110126\\\\\n",
       "\t NA & Vietnam            &  14.05832 & 108.27720 & 0 & 0 & 0 & 0 & 0 & 0 & ⋯ &   1325 &   1325 &   1337 &   1339 &   1339 &   1339 &   1353 &   1353 &   1357 &   1361\\\\\n",
       "\t NA & West Bank and Gaza &  31.95220 &  35.23320 & 0 & 0 & 0 & 0 & 0 & 0 & ⋯ & 117183 & 118926 & 120403 & 121563 & 122976 & 124525 & 126110 & 127495 & 128900 & 130102\\\\\n",
       "\t NA & Yemen              &  15.55273 &  48.51639 & 0 & 0 & 0 & 0 & 0 & 0 & ⋯ &   1394 &   1396 &   1396 &   1399 &   1401 &   1401 &   1403 &   1405 &   1405 &   1407\\\\\n",
       "\t NA & Zambia             & -13.13390 &  27.84933 & 0 & 0 & 0 & 0 & 0 & 0 & ⋯ &  18660 &  18773 &  18942 &  19083 &  19229 &  19526 &  19672 &  19980 &  20349 &  20512\\\\\n",
       "\t NA & Zimbabwe           & -19.01544 &  29.15486 & 0 & 0 & 0 & 0 & 0 & 0 & ⋯ &  11250 &  11347 &  11363 &  11574 &  11716 &  11813 &  11966 &  12083 &  12184 &  12439\\\\\n",
       "\\end{tabular}\n"
      ],
      "text/markdown": [
       "\n",
       "A tibble: 6 × 358\n",
       "\n",
       "| Province/State &lt;chr&gt; | Country/Region &lt;chr&gt; | Lat &lt;dbl&gt; | Long &lt;dbl&gt; | 1/22/20 &lt;dbl&gt; | 1/23/20 &lt;dbl&gt; | 1/24/20 &lt;dbl&gt; | 1/25/20 &lt;dbl&gt; | 1/26/20 &lt;dbl&gt; | 1/27/20 &lt;dbl&gt; | ⋯ ⋯ | 12/31/20 &lt;dbl&gt; | 1/1/21 &lt;dbl&gt; | 1/2/21 &lt;dbl&gt; | 1/3/21 &lt;dbl&gt; | 1/4/21 &lt;dbl&gt; | 1/5/21 &lt;dbl&gt; | 1/6/21 &lt;dbl&gt; | 1/7/21 &lt;dbl&gt; | 1/8/21 &lt;dbl&gt; | 1/9/21 &lt;dbl&gt; |\n",
       "|---|---|---|---|---|---|---|---|---|---|---|---|---|---|---|---|---|---|---|---|---|\n",
       "| NA | Venezuela          |   6.42380 | -66.58970 | 0 | 0 | 0 | 0 | 0 | 0 | ⋯ | 107583 | 107901 | 108086 | 108268 | 108468 | 108732 | 108966 | 109364 | 109684 | 110126 |\n",
       "| NA | Vietnam            |  14.05832 | 108.27720 | 0 | 0 | 0 | 0 | 0 | 0 | ⋯ |   1325 |   1325 |   1337 |   1339 |   1339 |   1339 |   1353 |   1353 |   1357 |   1361 |\n",
       "| NA | West Bank and Gaza |  31.95220 |  35.23320 | 0 | 0 | 0 | 0 | 0 | 0 | ⋯ | 117183 | 118926 | 120403 | 121563 | 122976 | 124525 | 126110 | 127495 | 128900 | 130102 |\n",
       "| NA | Yemen              |  15.55273 |  48.51639 | 0 | 0 | 0 | 0 | 0 | 0 | ⋯ |   1394 |   1396 |   1396 |   1399 |   1401 |   1401 |   1403 |   1405 |   1405 |   1407 |\n",
       "| NA | Zambia             | -13.13390 |  27.84933 | 0 | 0 | 0 | 0 | 0 | 0 | ⋯ |  18660 |  18773 |  18942 |  19083 |  19229 |  19526 |  19672 |  19980 |  20349 |  20512 |\n",
       "| NA | Zimbabwe           | -19.01544 |  29.15486 | 0 | 0 | 0 | 0 | 0 | 0 | ⋯ |  11250 |  11347 |  11363 |  11574 |  11716 |  11813 |  11966 |  12083 |  12184 |  12439 |\n",
       "\n"
      ],
      "text/plain": [
       "  Province/State Country/Region     Lat       Long      1/22/20 1/23/20 1/24/20\n",
       "1 NA             Venezuela            6.42380 -66.58970 0       0       0      \n",
       "2 NA             Vietnam             14.05832 108.27720 0       0       0      \n",
       "3 NA             West Bank and Gaza  31.95220  35.23320 0       0       0      \n",
       "4 NA             Yemen               15.55273  48.51639 0       0       0      \n",
       "5 NA             Zambia             -13.13390  27.84933 0       0       0      \n",
       "6 NA             Zimbabwe           -19.01544  29.15486 0       0       0      \n",
       "  1/25/20 1/26/20 1/27/20 ⋯ 12/31/20 1/1/21 1/2/21 1/3/21 1/4/21 1/5/21 1/6/21\n",
       "1 0       0       0       ⋯ 107583   107901 108086 108268 108468 108732 108966\n",
       "2 0       0       0       ⋯   1325     1325   1337   1339   1339   1339   1353\n",
       "3 0       0       0       ⋯ 117183   118926 120403 121563 122976 124525 126110\n",
       "4 0       0       0       ⋯   1394     1396   1396   1399   1401   1401   1403\n",
       "5 0       0       0       ⋯  18660    18773  18942  19083  19229  19526  19672\n",
       "6 0       0       0       ⋯  11250    11347  11363  11574  11716  11813  11966\n",
       "  1/7/21 1/8/21 1/9/21\n",
       "1 109364 109684 110126\n",
       "2   1353   1357   1361\n",
       "3 127495 128900 130102\n",
       "4   1405   1405   1407\n",
       "5  19980  20349  20512\n",
       "6  12083  12184  12439"
      ]
     },
     "metadata": {},
     "output_type": "display_data"
    }
   ],
   "source": [
    "# Check the top and bottom rows of the data \n",
    "head(covid_recovered)\n",
    "tail(covid_recovered)"
   ]
  },
  {
   "cell_type": "markdown",
   "metadata": {},
   "source": [
    "## Importing Excel files"
   ]
  },
  {
   "cell_type": "markdown",
   "metadata": {},
   "source": [
    "Most data are stored in Excel spreadsheets and most people do data analysis in Excel. However, it is difficult to do reproducible research in Excel and there are issues with doing data analysis in Excel as mentioned in the lecture. In this exercise, you will import Excel files in R using the **readxl** package."
   ]
  },
  {
   "cell_type": "code",
   "execution_count": 26,
   "metadata": {},
   "outputs": [
    {
     "name": "stderr",
     "output_type": "stream",
     "text": [
      "Installing package into ‘/Users/claudius/Rlibs’\n",
      "(as ‘lib’ is unspecified)\n",
      "\n"
     ]
    },
    {
     "name": "stdout",
     "output_type": "stream",
     "text": [
      "\n",
      "The downloaded binary packages are in\n",
      "\t/var/folders/0v/_2vsqk3j1nxcfb13d3g7g5nc0000gn/T//Rtmp3NUvac/downloaded_packages\n"
     ]
    }
   ],
   "source": [
    "# Install and load the readxl package\n",
    "install.packages(\"readxl\")\n",
    "library(readxl)"
   ]
  },
  {
   "cell_type": "markdown",
   "metadata": {},
   "source": [
    "You will work on the estimates of the population data in Excel format from the <a href=\"https://datacatalog.worldbank.org/dataset/population-estimates-and-projections\">World Bank website</a>. Download the ***Population-EstimatesEXCEL.xlsx*** file the from the webpage or from Google Classroom and save it inside the ***`data`*** folder you created earlier. This dataset contains a lot of information including demographic estimates and projections from 1960 to 2050, population data by various age groups, sex, urban/rural, fertility data, mortality data, and many more. This dataset is a treasure trove for economists and epidemiologists but a headache to newbies."
   ]
  },
  {
   "cell_type": "markdown",
   "metadata": {},
   "source": [
    "Copy the Excel file from your data folder to your current working directory. "
   ]
  },
  {
   "cell_type": "code",
   "execution_count": 27,
   "metadata": {},
   "outputs": [
    {
     "data": {
      "text/html": [
       "'/Users/claudius/Data_analysis/data/Population-EstimatesEXCEL.xlsx'"
      ],
      "text/latex": [
       "'/Users/claudius/Data\\_analysis/data/Population-EstimatesEXCEL.xlsx'"
      ],
      "text/markdown": [
       "'/Users/claudius/Data_analysis/data/Population-EstimatesEXCEL.xlsx'"
      ],
      "text/plain": [
       "[1] \"/Users/claudius/Data_analysis/data/Population-EstimatesEXCEL.xlsx\""
      ]
     },
     "metadata": {},
     "output_type": "display_data"
    },
    {
     "data": {
      "text/html": [
       "TRUE"
      ],
      "text/latex": [
       "TRUE"
      ],
      "text/markdown": [
       "TRUE"
      ],
      "text/plain": [
       "[1] TRUE"
      ]
     },
     "metadata": {},
     "output_type": "display_data"
    }
   ],
   "source": [
    "# Name of the file\n",
    "excelfilename <- \"Population-EstimatesEXCEL.xlsx\"\n",
    "# 'path' is the location of the file\n",
    "location  <- \"/Users/claudius/Data_analysis/data\"\n",
    "fullpath <- file.path(location, excelfilename)\n",
    "fullpath\n",
    "# Copy the file to your working directory\n",
    "file.copy(fullpath, getwd())"
   ]
  },
  {
   "cell_type": "markdown",
   "metadata": {},
   "source": [
    "Open the Excel file in your local machine and explore the data structure to determine the number spreadsheets, columns, rows, etc. in this Excel file. List the sheets of an Excel file using the **`excel_sheets( )`** function."
   ]
  },
  {
   "cell_type": "code",
   "execution_count": 28,
   "metadata": {},
   "outputs": [
    {
     "name": "stdout",
     "output_type": "stream",
     "text": [
      "[1] \"Data\"           \"Country\"        \"Series\"         \"Country-Series\"\n",
      "[5] \"Series-Time\"    \"FootNote\"      \n"
     ]
    }
   ],
   "source": [
    "# List the different sheets in this Excel file\n",
    "print(excel_sheets(\"Population-EstimatesEXCEL.xlsx\"))"
   ]
  },
  {
   "cell_type": "markdown",
   "metadata": {},
   "source": [
    "Import the Excel file using **`read_excel( )`** function."
   ]
  },
  {
   "cell_type": "code",
   "execution_count": 29,
   "metadata": {},
   "outputs": [],
   "source": [
    "# Load the population data estimates in the first spreadsheet and save it as an object: population\n",
    "population  <- read_excel(\"Population-EstimatesEXCEL.xlsx\",\n",
    "                        sheet = \"Data\")"
   ]
  },
  {
   "cell_type": "code",
   "execution_count": 30,
   "metadata": {},
   "outputs": [
    {
     "data": {
      "text/html": [
       "<table>\n",
       "<caption>A tibble: 6 × 95</caption>\n",
       "<thead>\n",
       "\t<tr><th scope=col>Country Name</th><th scope=col>Country Code</th><th scope=col>Indicator Name</th><th scope=col>Indicator Code</th><th scope=col>1960</th><th scope=col>1961</th><th scope=col>1962</th><th scope=col>1963</th><th scope=col>1964</th><th scope=col>1965</th><th scope=col>⋯</th><th scope=col>2041</th><th scope=col>2042</th><th scope=col>2043</th><th scope=col>2044</th><th scope=col>2045</th><th scope=col>2046</th><th scope=col>2047</th><th scope=col>2048</th><th scope=col>2049</th><th scope=col>2050</th></tr>\n",
       "\t<tr><th scope=col>&lt;chr&gt;</th><th scope=col>&lt;chr&gt;</th><th scope=col>&lt;chr&gt;</th><th scope=col>&lt;chr&gt;</th><th scope=col>&lt;dbl&gt;</th><th scope=col>&lt;dbl&gt;</th><th scope=col>&lt;dbl&gt;</th><th scope=col>&lt;dbl&gt;</th><th scope=col>&lt;dbl&gt;</th><th scope=col>&lt;dbl&gt;</th><th scope=col>⋯</th><th scope=col>&lt;dbl&gt;</th><th scope=col>&lt;dbl&gt;</th><th scope=col>&lt;dbl&gt;</th><th scope=col>&lt;dbl&gt;</th><th scope=col>&lt;dbl&gt;</th><th scope=col>&lt;dbl&gt;</th><th scope=col>&lt;dbl&gt;</th><th scope=col>&lt;dbl&gt;</th><th scope=col>&lt;dbl&gt;</th><th scope=col>&lt;dbl&gt;</th></tr>\n",
       "</thead>\n",
       "<tbody>\n",
       "\t<tr><td>Arab World</td><td>ARB</td><td>Age dependency ratio (% of working-age population)</td><td>SP.POP.DPND      </td><td>88.061110</td><td>89.489513</td><td>90.782451</td><td>91.898948</td><td>92.728007</td><td>93.20129</td><td>⋯</td><td>54.24420</td><td>54.35639</td><td>54.50230</td><td>54.67723</td><td>54.87497</td><td>55.10340</td><td>55.33340</td><td>55.56407</td><td>55.79133</td><td>56.01209</td></tr>\n",
       "\t<tr><td>Arab World</td><td>ARB</td><td>Age dependency ratio, old                         </td><td>SP.POP.DPND.OL   </td><td> 6.591951</td><td> 6.700903</td><td> 6.793279</td><td> 6.867327</td><td> 6.919224</td><td> 6.94779</td><td>⋯</td><td>12.97508</td><td>13.34756</td><td>13.73495</td><td>14.13512</td><td>14.54704</td><td>14.94902</td><td>15.35219</td><td>15.75909</td><td>16.17218</td><td>16.59309</td></tr>\n",
       "\t<tr><td>Arab World</td><td>ARB</td><td>Age dependency ratio, young                       </td><td>SP.POP.DPND.YG   </td><td>81.324186</td><td>82.626198</td><td>83.789155</td><td>84.767354</td><td>85.474209</td><td>85.87297</td><td>⋯</td><td>40.75487</td><td>40.53981</td><td>40.34314</td><td>40.16073</td><td>39.98564</td><td>39.84367</td><td>39.69765</td><td>39.54471</td><td>39.37918</td><td>39.19644</td></tr>\n",
       "\t<tr><td>Arab World</td><td>ARB</td><td>Age population, age 00, female, interpolated      </td><td>SP.POP.AG00.FE.IN</td><td>       NA</td><td>       NA</td><td>       NA</td><td>       NA</td><td>       NA</td><td>      NA</td><td>⋯</td><td>      NA</td><td>      NA</td><td>      NA</td><td>      NA</td><td>      NA</td><td>      NA</td><td>      NA</td><td>      NA</td><td>      NA</td><td>      NA</td></tr>\n",
       "\t<tr><td>Arab World</td><td>ARB</td><td>Age population, age 00, male, interpolated        </td><td>SP.POP.AG00.MA.IN</td><td>       NA</td><td>       NA</td><td>       NA</td><td>       NA</td><td>       NA</td><td>      NA</td><td>⋯</td><td>      NA</td><td>      NA</td><td>      NA</td><td>      NA</td><td>      NA</td><td>      NA</td><td>      NA</td><td>      NA</td><td>      NA</td><td>      NA</td></tr>\n",
       "\t<tr><td>Arab World</td><td>ARB</td><td>Age population, age 01, female, interpolated      </td><td>SP.POP.AG01.FE.IN</td><td>       NA</td><td>       NA</td><td>       NA</td><td>       NA</td><td>       NA</td><td>      NA</td><td>⋯</td><td>      NA</td><td>      NA</td><td>      NA</td><td>      NA</td><td>      NA</td><td>      NA</td><td>      NA</td><td>      NA</td><td>      NA</td><td>      NA</td></tr>\n",
       "</tbody>\n",
       "</table>\n"
      ],
      "text/latex": [
       "A tibble: 6 × 95\n",
       "\\begin{tabular}{lllllllllllllllllllll}\n",
       " Country Name & Country Code & Indicator Name & Indicator Code & 1960 & 1961 & 1962 & 1963 & 1964 & 1965 & ⋯ & 2041 & 2042 & 2043 & 2044 & 2045 & 2046 & 2047 & 2048 & 2049 & 2050\\\\\n",
       " <chr> & <chr> & <chr> & <chr> & <dbl> & <dbl> & <dbl> & <dbl> & <dbl> & <dbl> & ⋯ & <dbl> & <dbl> & <dbl> & <dbl> & <dbl> & <dbl> & <dbl> & <dbl> & <dbl> & <dbl>\\\\\n",
       "\\hline\n",
       "\t Arab World & ARB & Age dependency ratio (\\% of working-age population) & SP.POP.DPND       & 88.061110 & 89.489513 & 90.782451 & 91.898948 & 92.728007 & 93.20129 & ⋯ & 54.24420 & 54.35639 & 54.50230 & 54.67723 & 54.87497 & 55.10340 & 55.33340 & 55.56407 & 55.79133 & 56.01209\\\\\n",
       "\t Arab World & ARB & Age dependency ratio, old                          & SP.POP.DPND.OL    &  6.591951 &  6.700903 &  6.793279 &  6.867327 &  6.919224 &  6.94779 & ⋯ & 12.97508 & 13.34756 & 13.73495 & 14.13512 & 14.54704 & 14.94902 & 15.35219 & 15.75909 & 16.17218 & 16.59309\\\\\n",
       "\t Arab World & ARB & Age dependency ratio, young                        & SP.POP.DPND.YG    & 81.324186 & 82.626198 & 83.789155 & 84.767354 & 85.474209 & 85.87297 & ⋯ & 40.75487 & 40.53981 & 40.34314 & 40.16073 & 39.98564 & 39.84367 & 39.69765 & 39.54471 & 39.37918 & 39.19644\\\\\n",
       "\t Arab World & ARB & Age population, age 00, female, interpolated       & SP.POP.AG00.FE.IN &        NA &        NA &        NA &        NA &        NA &       NA & ⋯ &       NA &       NA &       NA &       NA &       NA &       NA &       NA &       NA &       NA &       NA\\\\\n",
       "\t Arab World & ARB & Age population, age 00, male, interpolated         & SP.POP.AG00.MA.IN &        NA &        NA &        NA &        NA &        NA &       NA & ⋯ &       NA &       NA &       NA &       NA &       NA &       NA &       NA &       NA &       NA &       NA\\\\\n",
       "\t Arab World & ARB & Age population, age 01, female, interpolated       & SP.POP.AG01.FE.IN &        NA &        NA &        NA &        NA &        NA &       NA & ⋯ &       NA &       NA &       NA &       NA &       NA &       NA &       NA &       NA &       NA &       NA\\\\\n",
       "\\end{tabular}\n"
      ],
      "text/markdown": [
       "\n",
       "A tibble: 6 × 95\n",
       "\n",
       "| Country Name &lt;chr&gt; | Country Code &lt;chr&gt; | Indicator Name &lt;chr&gt; | Indicator Code &lt;chr&gt; | 1960 &lt;dbl&gt; | 1961 &lt;dbl&gt; | 1962 &lt;dbl&gt; | 1963 &lt;dbl&gt; | 1964 &lt;dbl&gt; | 1965 &lt;dbl&gt; | ⋯ ⋯ | 2041 &lt;dbl&gt; | 2042 &lt;dbl&gt; | 2043 &lt;dbl&gt; | 2044 &lt;dbl&gt; | 2045 &lt;dbl&gt; | 2046 &lt;dbl&gt; | 2047 &lt;dbl&gt; | 2048 &lt;dbl&gt; | 2049 &lt;dbl&gt; | 2050 &lt;dbl&gt; |\n",
       "|---|---|---|---|---|---|---|---|---|---|---|---|---|---|---|---|---|---|---|---|---|\n",
       "| Arab World | ARB | Age dependency ratio (% of working-age population) | SP.POP.DPND       | 88.061110 | 89.489513 | 90.782451 | 91.898948 | 92.728007 | 93.20129 | ⋯ | 54.24420 | 54.35639 | 54.50230 | 54.67723 | 54.87497 | 55.10340 | 55.33340 | 55.56407 | 55.79133 | 56.01209 |\n",
       "| Arab World | ARB | Age dependency ratio, old                          | SP.POP.DPND.OL    |  6.591951 |  6.700903 |  6.793279 |  6.867327 |  6.919224 |  6.94779 | ⋯ | 12.97508 | 13.34756 | 13.73495 | 14.13512 | 14.54704 | 14.94902 | 15.35219 | 15.75909 | 16.17218 | 16.59309 |\n",
       "| Arab World | ARB | Age dependency ratio, young                        | SP.POP.DPND.YG    | 81.324186 | 82.626198 | 83.789155 | 84.767354 | 85.474209 | 85.87297 | ⋯ | 40.75487 | 40.53981 | 40.34314 | 40.16073 | 39.98564 | 39.84367 | 39.69765 | 39.54471 | 39.37918 | 39.19644 |\n",
       "| Arab World | ARB | Age population, age 00, female, interpolated       | SP.POP.AG00.FE.IN |        NA |        NA |        NA |        NA |        NA |       NA | ⋯ |       NA |       NA |       NA |       NA |       NA |       NA |       NA |       NA |       NA |       NA |\n",
       "| Arab World | ARB | Age population, age 00, male, interpolated         | SP.POP.AG00.MA.IN |        NA |        NA |        NA |        NA |        NA |       NA | ⋯ |       NA |       NA |       NA |       NA |       NA |       NA |       NA |       NA |       NA |       NA |\n",
       "| Arab World | ARB | Age population, age 01, female, interpolated       | SP.POP.AG01.FE.IN |        NA |        NA |        NA |        NA |        NA |       NA | ⋯ |       NA |       NA |       NA |       NA |       NA |       NA |       NA |       NA |       NA |       NA |\n",
       "\n"
      ],
      "text/plain": [
       "  Country Name Country Code Indicator Name                                    \n",
       "1 Arab World   ARB          Age dependency ratio (% of working-age population)\n",
       "2 Arab World   ARB          Age dependency ratio, old                         \n",
       "3 Arab World   ARB          Age dependency ratio, young                       \n",
       "4 Arab World   ARB          Age population, age 00, female, interpolated      \n",
       "5 Arab World   ARB          Age population, age 00, male, interpolated        \n",
       "6 Arab World   ARB          Age population, age 01, female, interpolated      \n",
       "  Indicator Code    1960      1961      1962      1963      1964      1965    \n",
       "1 SP.POP.DPND       88.061110 89.489513 90.782451 91.898948 92.728007 93.20129\n",
       "2 SP.POP.DPND.OL     6.591951  6.700903  6.793279  6.867327  6.919224  6.94779\n",
       "3 SP.POP.DPND.YG    81.324186 82.626198 83.789155 84.767354 85.474209 85.87297\n",
       "4 SP.POP.AG00.FE.IN        NA        NA        NA        NA        NA       NA\n",
       "5 SP.POP.AG00.MA.IN        NA        NA        NA        NA        NA       NA\n",
       "6 SP.POP.AG01.FE.IN        NA        NA        NA        NA        NA       NA\n",
       "  ⋯ 2041     2042     2043     2044     2045     2046     2047     2048    \n",
       "1 ⋯ 54.24420 54.35639 54.50230 54.67723 54.87497 55.10340 55.33340 55.56407\n",
       "2 ⋯ 12.97508 13.34756 13.73495 14.13512 14.54704 14.94902 15.35219 15.75909\n",
       "3 ⋯ 40.75487 40.53981 40.34314 40.16073 39.98564 39.84367 39.69765 39.54471\n",
       "4 ⋯       NA       NA       NA       NA       NA       NA       NA       NA\n",
       "5 ⋯       NA       NA       NA       NA       NA       NA       NA       NA\n",
       "6 ⋯       NA       NA       NA       NA       NA       NA       NA       NA\n",
       "  2049     2050    \n",
       "1 55.79133 56.01209\n",
       "2 16.17218 16.59309\n",
       "3 39.37918 39.19644\n",
       "4       NA       NA\n",
       "5       NA       NA\n",
       "6       NA       NA"
      ]
     },
     "metadata": {},
     "output_type": "display_data"
    }
   ],
   "source": [
    "# Check the top rows\n",
    "head(population)"
   ]
  },
  {
   "cell_type": "markdown",
   "metadata": {},
   "source": [
    "Congratulations! You have succeefully loaded your data in R. Your data is still messy and it is not yet ready for data analysis. Do not worry for now. In the next exercises, you will learn how to tidy your data."
   ]
  },
  {
   "cell_type": "markdown",
   "metadata": {},
   "source": [
    "## Saving your data"
   ]
  },
  {
   "cell_type": "markdown",
   "metadata": {},
   "source": [
    "Before you end this exercise, save your data. Whenever you are working in R, it is always a good habit to regularly save the progress of your work, which includes not only your R script file but also your data. Use the **`write_csv( )`** or **`write_rds( )`** functions to save **`csv`** or **`RDS`** files, respcetively."
   ]
  },
  {
   "cell_type": "code",
   "execution_count": 31,
   "metadata": {},
   "outputs": [],
   "source": [
    "# Save confirmed COVID-19 data\n",
    "write_csv(covid_confirmed, file = \"covid_confirmed.csv\")"
   ]
  },
  {
   "cell_type": "code",
   "execution_count": 32,
   "metadata": {},
   "outputs": [],
   "source": [
    "# Save death COVID-19 data\n",
    "write_csv(covid_death, file = \"covid_death.csv\")"
   ]
  },
  {
   "cell_type": "code",
   "execution_count": 33,
   "metadata": {},
   "outputs": [],
   "source": [
    "# Save recovered COVID-19 data\n",
    "write_csv(covid_recovered, file = \"covid_recovered.csv\")"
   ]
  },
  {
   "cell_type": "code",
   "execution_count": 34,
   "metadata": {},
   "outputs": [],
   "source": [
    "# Save population data \n",
    "write_csv(population, file = \"population.csv\")"
   ]
  }
 ],
 "metadata": {
  "kernelspec": {
   "display_name": "R",
   "language": "R",
   "name": "ir"
  },
  "language_info": {
   "codemirror_mode": "r",
   "file_extension": ".r",
   "mimetype": "text/x-r-source",
   "name": "R",
   "pygments_lexer": "r",
   "version": "4.0.3"
  }
 },
 "nbformat": 4,
 "nbformat_minor": 4
}
