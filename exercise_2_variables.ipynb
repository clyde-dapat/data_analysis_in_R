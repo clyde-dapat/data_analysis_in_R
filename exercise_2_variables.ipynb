{
 "cells": [
  {
   "cell_type": "markdown",
   "metadata": {},
   "source": [
    "# Exercise: Variables to Data Frames"
   ]
  },
  {
   "cell_type": "markdown",
   "metadata": {},
   "source": [
    "Hello! Welcome to the hands-on exercise of the Data Analysis course. Every week you will work on your hands-on exercise in Jupyter notebook like this one. \n",
    "\n",
    "When you finish this exercise, you will learn how to:\n",
    "1. use a Jupyter notebook\n",
    "2. write basic codes in R\n",
    "3. handle different variables and data structures"
   ]
  },
  {
   "cell_type": "markdown",
   "metadata": {},
   "source": [
    "## Jupyter notebook"
   ]
  },
  {
   "cell_type": "markdown",
   "metadata": {},
   "source": [
    "In a typical Jupyter notebook, a code or text is written inside a rectangle called a **cell**. You can actually double click on this text to edit it. The **cell** will change its color to either to green or blue, indicating that it is active. Then, press the \"Run\" button with the triangle thingy to execute it. The text inside this **cell** is formatted in Markdown language, which makes it easier for humans to read compared to an HTML document. You must have noticed that everytime you run Jupyter notebook, it will open a tab in your favorite web browser.  "
   ]
  },
  {
   "cell_type": "markdown",
   "metadata": {},
   "source": [
    "Try to run the code below."
   ]
  },
  {
   "cell_type": "code",
   "execution_count": 1,
   "metadata": {},
   "outputs": [
    {
     "name": "stdout",
     "output_type": "stream",
     "text": [
      "[1] \"Welcome to Jupyter!\"\n"
     ]
    }
   ],
   "source": [
    "print(\"Welcome to Jupyter!\")"
   ]
  },
  {
   "cell_type": "markdown",
   "metadata": {},
   "source": [
    "Run the code below and see what happens."
   ]
  },
  {
   "cell_type": "code",
   "execution_count": 2,
   "metadata": {},
   "outputs": [
    {
     "ename": "ERROR",
     "evalue": "Error in parse(text = x, srcfile = src): <text>:2:0: unexpected end of input\n1: print(\"There is something missing here\"\n   ^\n",
     "output_type": "error",
     "traceback": [
      "Error in parse(text = x, srcfile = src): <text>:2:0: unexpected end of input\n1: print(\"There is something missing here\"\n   ^\nTraceback:\n"
     ]
    }
   ],
   "source": [
    "print(\"There is something missing here\""
   ]
  },
  {
   "cell_type": "markdown",
   "metadata": {},
   "source": [
    "R, like other programming language is very unforgiving and complains a lot when there is a bug in your code. The syntax error in the code above is the missing close parenthesis \")\". It is normal to commit mistakes when writing your code and it is part of the learning process when acquiring a new language. To help you solve the problem, Google is your friend. Just copy-paste the error message and do a Google search.  "
   ]
  },
  {
   "cell_type": "markdown",
   "metadata": {},
   "source": [
    "Correct and rerun the code above. The error message will disappear once you debug the code. "
   ]
  },
  {
   "cell_type": "markdown",
   "metadata": {},
   "source": [
    "## R as a glorified calculator"
   ]
  },
  {
   "cell_type": "markdown",
   "metadata": {},
   "source": [
    "You can use R to do basic arithmetic. As an example, run the code below to do subtraction. "
   ]
  },
  {
   "cell_type": "code",
   "execution_count": 3,
   "metadata": {},
   "outputs": [
    {
     "data": {
      "text/html": [
       "2.55"
      ],
      "text/latex": [
       "2.55"
      ],
      "text/markdown": [
       "2.55"
      ],
      "text/plain": [
       "[1] 2.55"
      ]
     },
     "metadata": {},
     "output_type": "display_data"
    }
   ],
   "source": [
    "5.25 - 2.7"
   ]
  },
  {
   "cell_type": "markdown",
   "metadata": {},
   "source": [
    "You can use R to perform exponentiation. Write the code to evaluate $12^2$. Hint: use ^ or ** ."
   ]
  },
  {
   "cell_type": "code",
   "execution_count": 4,
   "metadata": {},
   "outputs": [
    {
     "data": {
      "text/html": [
       "144"
      ],
      "text/latex": [
       "144"
      ],
      "text/markdown": [
       "144"
      ],
      "text/plain": [
       "[1] 144"
      ]
     },
     "metadata": {},
     "output_type": "display_data"
    }
   ],
   "source": [
    "12^2"
   ]
  },
  {
   "cell_type": "markdown",
   "metadata": {},
   "source": [
    "You can use R to evaluate an expression or an equation. A particular COVID-19 vaccine has a vaccine efficacy of 95%. But, how did they arrive at that number? The equation below is used to compute for vaccine efficacy:\n",
    "\n",
    "    vaccine efficacy = 100% x (1 - IRR)\n",
    "\n",
    "where illness rate ratio (IRR) is defined as the ratio of confirmed COVID-19 illness rate in the vaccinated group to the corresponding COVID-19 illness rate in the placebo group. \n",
    "\n",
    "<a href=\"https://www.fda.gov/media/144246/download\">In this preliminary clinical trial report</a>, there were 162 COVID-19 cases out of 17,511 participants in the placebo arm while there were only 8 COVID-19 cases out of 17,411 participants in the vaccine arm. Complete the code below to compute for vaccine efficacy. You should get 95%. \n"
   ]
  },
  {
   "cell_type": "code",
   "execution_count": 5,
   "metadata": {},
   "outputs": [
    {
     "data": {
      "text/html": [
       "95.0333654543637"
      ],
      "text/latex": [
       "95.0333654543637"
      ],
      "text/markdown": [
       "95.0333654543637"
      ],
      "text/plain": [
       "[1] 95.03337"
      ]
     },
     "metadata": {},
     "output_type": "display_data"
    }
   ],
   "source": [
    "100*(1-((8/17411)/(162/17511)))"
   ]
  },
  {
   "cell_type": "markdown",
   "metadata": {},
   "source": [
    "## Variables in R"
   ]
  },
  {
   "cell_type": "markdown",
   "metadata": {},
   "source": [
    "There are different kinds of variables in R. In this exercise, you will be introduced to **character** and **numeric** variables. You will meet other variables (such as logical, date-time) later in this course."
   ]
  },
  {
   "cell_type": "markdown",
   "metadata": {},
   "source": [
    "Characters in R are made up of strings. You can create strings by putting them inside single or double qoutes. "
   ]
  },
  {
   "cell_type": "code",
   "execution_count": 6,
   "metadata": {},
   "outputs": [
    {
     "data": {
      "text/html": [
       "'character'"
      ],
      "text/latex": [
       "'character'"
      ],
      "text/markdown": [
       "'character'"
      ],
      "text/plain": [
       "[1] \"character\""
      ]
     },
     "metadata": {},
     "output_type": "display_data"
    }
   ],
   "source": [
    "# character\n",
    "typeof(\"I am a character.\")"
   ]
  },
  {
   "cell_type": "markdown",
   "metadata": {},
   "source": [
    "Numbers in R are by default floating point numbers or also called doubles. If you want whole numbers or integers, add letter \"L\" after the number. Integers are useful if want to code for example, 0=female and 1=male."
   ]
  },
  {
   "cell_type": "code",
   "execution_count": 7,
   "metadata": {
    "scrolled": true
   },
   "outputs": [
    {
     "data": {
      "text/html": [
       "'double'"
      ],
      "text/latex": [
       "'double'"
      ],
      "text/markdown": [
       "'double'"
      ],
      "text/plain": [
       "[1] \"double\""
      ]
     },
     "metadata": {},
     "output_type": "display_data"
    },
    {
     "data": {
      "text/html": [
       "'integer'"
      ],
      "text/latex": [
       "'integer'"
      ],
      "text/markdown": [
       "'integer'"
      ],
      "text/plain": [
       "[1] \"integer\""
      ]
     },
     "metadata": {},
     "output_type": "display_data"
    }
   ],
   "source": [
    "# a double\n",
    "typeof(4)\n",
    "\n",
    "# an integer\n",
    "typeof(4L)"
   ]
  },
  {
   "cell_type": "markdown",
   "metadata": {},
   "source": [
    "## Data structures in R"
   ]
  },
  {
   "cell_type": "markdown",
   "metadata": {},
   "source": [
    "You can create an object to store a character, numeric, or logical vector. This is very convenient since you only have to call the object and you don't have to input the same values all over again. \n",
    "\n",
    "At the time of writing of this notebook, according to the COVID-19 <a href=\"https://coronavirus.jhu.edu/map.html\">dashboard</a> of Johns Hopkins University, the top 5 countries with cases of COVID-19 infection are US, India, Brazil, Russia, and France. Complete the code below to create an object containing characters."
   ]
  },
  {
   "cell_type": "code",
   "execution_count": 8,
   "metadata": {},
   "outputs": [],
   "source": [
    "countries <- c(\"US\", \"India\", \"Brazil\", \"Russia\", \"France\")"
   ]
  },
  {
   "cell_type": "markdown",
   "metadata": {},
   "source": [
    "In the code above, the assignment operator \"**<-**\" is used to put the name of countries inside the object named \"countries\". Notice that after you run the code, the values of the object did not appear in the output cell. Use the **print( )** command to show what is inside this object."
   ]
  },
  {
   "cell_type": "code",
   "execution_count": 9,
   "metadata": {},
   "outputs": [
    {
     "name": "stdout",
     "output_type": "stream",
     "text": [
      "[1] \"US\"     \"India\"  \"Brazil\" \"Russia\" \"France\"\n"
     ]
    }
   ],
   "source": [
    "print(countries)"
   ]
  },
  {
   "cell_type": "markdown",
   "metadata": {},
   "source": [
    "The length( ) function will return the number of elements or members in an object. Complete the command below to obtain the length of the object \"countries\". You should get 5."
   ]
  },
  {
   "cell_type": "code",
   "execution_count": 10,
   "metadata": {},
   "outputs": [
    {
     "data": {
      "text/html": [
       "5"
      ],
      "text/latex": [
       "5"
      ],
      "text/markdown": [
       "5"
      ],
      "text/plain": [
       "[1] 5"
      ]
     },
     "metadata": {},
     "output_type": "display_data"
    }
   ],
   "source": [
    "length(countries)"
   ]
  },
  {
   "cell_type": "markdown",
   "metadata": {},
   "source": [
    "Create a numeric vector to store the number of COVID-19 cases in each of the top 5 countries. Go to the <a href=\"https://coronavirus.jhu.edu/map.html\">dashboard</a> to  get the figures. Don't worry that you have to input the numbers manually. This is just for the sake of this exercise. However, in the future, you will learn how to download the COVID-19 dataset using R. Complete the code below to create an object containing numbers."
   ]
  },
  {
   "cell_type": "code",
   "execution_count": 11,
   "metadata": {},
   "outputs": [
    {
     "name": "stdout",
     "output_type": "stream",
     "text": [
      "[1] 15792384  9796769  6781799  2574319  2405210\n"
     ]
    }
   ],
   "source": [
    "cases  <- c(15792384, 9796769, 6781799, 2574319, 2405210)\n",
    "print(cases)"
   ]
  },
  {
   "cell_type": "markdown",
   "metadata": {},
   "source": [
    "Complete the code below to create a numeric vector containing the number of COVID-19 deaths of the top 5 countries."
   ]
  },
  {
   "cell_type": "code",
   "execution_count": 12,
   "metadata": {},
   "outputs": [
    {
     "name": "stdout",
     "output_type": "stream",
     "text": [
      "[1] 294715 142186 179765  45370  57671\n"
     ]
    }
   ],
   "source": [
    "deaths <- c(294715, 142186, 179765, 45370, 57671)\n",
    "print(deaths)"
   ]
  },
  {
   "cell_type": "markdown",
   "metadata": {},
   "source": [
    "Since both \"cases\" and \"deaths\" object are numeric, you can do simply arithmetic calculation on them.\n",
    "To compute for the case-fatality ratio(%), divide the number of deaths by the number of cases and multiply by 100. Complete the code below and store the results in an object called cfr."
   ]
  },
  {
   "cell_type": "code",
   "execution_count": 13,
   "metadata": {},
   "outputs": [
    {
     "name": "stdout",
     "output_type": "stream",
     "text": [
      "[1] 1.866184 1.451356 2.650698 1.762408 2.397753\n"
     ]
    }
   ],
   "source": [
    "cfr <- (deaths/cases)*100\n",
    "print(cfr)"
   ]
  },
  {
   "cell_type": "markdown",
   "metadata": {},
   "source": [
    "A **matrix** in R is a collection elements with the same type (e.g. numeric, character). You can create a matrix in R by using the **matrix( )** function. Take note that elements of matrix must have the same number of rows and columns. Run the code below to create a matrix containing number of cases, deaths, and case-fatality ratios and name the matrix, *covid_m*."
   ]
  },
  {
   "cell_type": "code",
   "execution_count": 14,
   "metadata": {
    "scrolled": true
   },
   "outputs": [
    {
     "name": "stdout",
     "output_type": "stream",
     "text": [
      "         [,1]   [,2]     [,3]\n",
      "[1,] 15792384 294715 1.866184\n",
      "[2,]  9796769 142186 1.451356\n",
      "[3,]  6781799 179765 2.650698\n",
      "[4,]  2574319  45370 1.762408\n",
      "[5,]  2405210  57671 2.397753\n"
     ]
    }
   ],
   "source": [
    "covid_m  <- matrix(c(cases, deaths, cfr), nrow=5, ncol=3)\n",
    "print(covid_m)"
   ]
  },
  {
   "cell_type": "markdown",
   "metadata": {},
   "source": [
    "The matrix above is a 5x3 matrix and was generated using the *nrow* and *ncol* arguments to indicate the number of rows and columns, respectively. You have to tell R the shape of your matrix. Confirm the dimension of your matrix by running the **dim( )** function."
   ]
  },
  {
   "cell_type": "code",
   "execution_count": 15,
   "metadata": {},
   "outputs": [
    {
     "name": "stdout",
     "output_type": "stream",
     "text": [
      "[1] 5 3\n"
     ]
    }
   ],
   "source": [
    "print(dim(covid_m))"
   ]
  },
  {
   "cell_type": "markdown",
   "metadata": {},
   "source": [
    "A **data frame** in R contains elements of different types. You can create a data frame using the **data.frame( )** function. Run the code below to create data frame containing the names of countries and number of COVID-19 related cases, deaths, and case-fatality ratios. Store the data frame in an object named *covid_df*."
   ]
  },
  {
   "cell_type": "code",
   "execution_count": 16,
   "metadata": {},
   "outputs": [
    {
     "name": "stdout",
     "output_type": "stream",
     "text": [
      "  countries    cases deaths      cfr\n",
      "1        US 15792384 294715 1.866184\n",
      "2     India  9796769 142186 1.451356\n",
      "3    Brazil  6781799 179765 2.650698\n",
      "4    Russia  2574319  45370 1.762408\n",
      "5    France  2405210  57671 2.397753\n"
     ]
    }
   ],
   "source": [
    "covid_df <- data.frame(countries, cases, deaths, cfr)\n",
    "print(covid_df)"
   ]
  },
  {
   "cell_type": "markdown",
   "metadata": {},
   "source": [
    "A **list** in R is used to store different objects under one name. Generate a list using the **list( )** function. Complete the code below to make a list that will contain a character vector, numeric vector, matrix, and a data frame and call it *covid_list*."
   ]
  },
  {
   "cell_type": "code",
   "execution_count": 17,
   "metadata": {},
   "outputs": [
    {
     "name": "stdout",
     "output_type": "stream",
     "text": [
      "[[1]]\n",
      "[1] \"US\"     \"India\"  \"Brazil\" \"Russia\" \"France\"\n",
      "\n",
      "[[2]]\n",
      "[1] 15792384  9796769  6781799  2574319  2405210\n",
      "\n",
      "[[3]]\n",
      "         [,1]   [,2]     [,3]\n",
      "[1,] 15792384 294715 1.866184\n",
      "[2,]  9796769 142186 1.451356\n",
      "[3,]  6781799 179765 2.650698\n",
      "[4,]  2574319  45370 1.762408\n",
      "[5,]  2405210  57671 2.397753\n",
      "\n",
      "[[4]]\n",
      "  countries    cases deaths      cfr\n",
      "1        US 15792384 294715 1.866184\n",
      "2     India  9796769 142186 1.451356\n",
      "3    Brazil  6781799 179765 2.650698\n",
      "4    Russia  2574319  45370 1.762408\n",
      "5    France  2405210  57671 2.397753\n",
      "\n"
     ]
    }
   ],
   "source": [
    "covid_list <- list(countries, cases, covid_m, covid_df)\n",
    "print(covid_list)"
   ]
  },
  {
   "cell_type": "markdown",
   "metadata": {},
   "source": [
    "An advantage of using a Jupyter notebook is that you can see the codes, annotations, results in one document. Run the code below to create a figure in Jupyter. "
   ]
  },
  {
   "cell_type": "code",
   "execution_count": 18,
   "metadata": {},
   "outputs": [
    {
     "data": {
      "image/png": "[encoded data removed]",
      "text/plain": [
       "plot without title"
      ]
     },
     "metadata": {
      "image/png": {
       "height": 420,
       "width": 420
      }
     },
     "output_type": "display_data"
    }
   ],
   "source": [
    "barplot(log10(cases) ~ countries, \n",
    "        data = covid_df,\n",
    "        col = \"light blue\",\n",
    "        ylab = \"Log number of COVID-19 cases\", \n",
    "        xlab = \"Country\") "
   ]
  },
  {
   "cell_type": "markdown",
   "metadata": {},
   "source": [
    "With just a few lines of code, it is easy to generate a figure in R. \n",
    "Do not forget to save your Jupyter Notebook and submit it to via Google Classroom."
   ]
  }
 ],
 "metadata": {
  "kernelspec": {
   "display_name": "R",
   "language": "R",
   "name": "ir"
  },
  "language_info": {
   "codemirror_mode": "r",
   "file_extension": ".r",
   "mimetype": "text/x-r-source",
   "name": "R",
   "pygments_lexer": "r",
   "version": "4.0.3"
  }
 },
 "nbformat": 4,
 "nbformat_minor": 4
}
