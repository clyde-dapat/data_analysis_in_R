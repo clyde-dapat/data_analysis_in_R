{
 "cells": [
  {
   "cell_type": "markdown",
   "metadata": {},
   "source": [
    "# Exercise: Statistical Analysis-3"
   ]
  },
  {
   "cell_type": "markdown",
   "metadata": {},
   "source": [
    "In the previous exercise, you used a multiple regression model to assess the relationship between a response variable and several explanatory variables. Here, you will use a multiple logistic regression model to assess the relationship between a categorical response variable and several explanatory variables. "
   ]
  },
  {
   "cell_type": "markdown",
   "metadata": {},
   "source": [
    "When you finish this exercise, you will learn how to:\n",
    "1. use multiple logistic model\n",
    "2. use the tidymodels package for statistical modeling "
   ]
  },
  {
   "cell_type": "markdown",
   "metadata": {},
   "source": [
    "Load the **tidyverse** package."
   ]
  },
  {
   "cell_type": "code",
   "execution_count": 1,
   "metadata": {},
   "outputs": [
    {
     "name": "stderr",
     "output_type": "stream",
     "text": [
      "── \u001b[1mAttaching packages\u001b[22m ──────────────────────────────────── tidyverse 1.3.0 ──\n",
      "\n",
      "\u001b[32m✔\u001b[39m \u001b[34mggplot2\u001b[39m 3.3.2     \u001b[32m✔\u001b[39m \u001b[34mpurrr  \u001b[39m 0.3.4\n",
      "\u001b[32m✔\u001b[39m \u001b[34mtibble \u001b[39m 3.1.0     \u001b[32m✔\u001b[39m \u001b[34mdplyr  \u001b[39m 1.0.2\n",
      "\u001b[32m✔\u001b[39m \u001b[34mtidyr  \u001b[39m 1.1.2     \u001b[32m✔\u001b[39m \u001b[34mstringr\u001b[39m 1.4.0\n",
      "\u001b[32m✔\u001b[39m \u001b[34mreadr  \u001b[39m 1.4.0     \u001b[32m✔\u001b[39m \u001b[34mforcats\u001b[39m 0.5.0\n",
      "\n",
      "── \u001b[1mConflicts\u001b[22m ─────────────────────────────────────── tidyverse_conflicts() ──\n",
      "\u001b[31m✖\u001b[39m \u001b[34mdplyr\u001b[39m::\u001b[32mfilter()\u001b[39m masks \u001b[34mstats\u001b[39m::filter()\n",
      "\u001b[31m✖\u001b[39m \u001b[34mdplyr\u001b[39m::\u001b[32mlag()\u001b[39m    masks \u001b[34mstats\u001b[39m::lag()\n",
      "\n"
     ]
    }
   ],
   "source": [
    "# Load tidyverse\n",
    "library(tidyverse)"
   ]
  },
  {
   "cell_type": "markdown",
   "metadata": {},
   "source": [
    "Load the **tidymodels** package."
   ]
  },
  {
   "cell_type": "code",
   "execution_count": 2,
   "metadata": {},
   "outputs": [
    {
     "name": "stderr",
     "output_type": "stream",
     "text": [
      "── \u001b[1mAttaching packages\u001b[22m ─────────────────────────────────── tidymodels 0.1.2 ──\n",
      "\n",
      "\u001b[32m✔\u001b[39m \u001b[34mbroom    \u001b[39m 0.7.2      \u001b[32m✔\u001b[39m \u001b[34mrecipes  \u001b[39m 0.1.15\n",
      "\u001b[32m✔\u001b[39m \u001b[34mdials    \u001b[39m 0.0.9      \u001b[32m✔\u001b[39m \u001b[34mrsample  \u001b[39m 0.0.9 \n",
      "\u001b[32m✔\u001b[39m \u001b[34minfer    \u001b[39m 0.5.3      \u001b[32m✔\u001b[39m \u001b[34mtune     \u001b[39m 0.1.3 \n",
      "\u001b[32m✔\u001b[39m \u001b[34mmodeldata\u001b[39m 0.1.0      \u001b[32m✔\u001b[39m \u001b[34mworkflows\u001b[39m 0.2.1 \n",
      "\u001b[32m✔\u001b[39m \u001b[34mparsnip  \u001b[39m 0.1.5      \u001b[32m✔\u001b[39m \u001b[34myardstick\u001b[39m 0.0.7 \n",
      "\n",
      "── \u001b[1mConflicts\u001b[22m ────────────────────────────────────── tidymodels_conflicts() ──\n",
      "\u001b[31m✖\u001b[39m \u001b[34mscales\u001b[39m::\u001b[32mdiscard()\u001b[39m masks \u001b[34mpurrr\u001b[39m::discard()\n",
      "\u001b[31m✖\u001b[39m \u001b[34mdplyr\u001b[39m::\u001b[32mfilter()\u001b[39m   masks \u001b[34mstats\u001b[39m::filter()\n",
      "\u001b[31m✖\u001b[39m \u001b[34mrecipes\u001b[39m::\u001b[32mfixed()\u001b[39m  masks \u001b[34mstringr\u001b[39m::fixed()\n",
      "\u001b[31m✖\u001b[39m \u001b[34mdplyr\u001b[39m::\u001b[32mlag()\u001b[39m      masks \u001b[34mstats\u001b[39m::lag()\n",
      "\u001b[31m✖\u001b[39m \u001b[34myardstick\u001b[39m::\u001b[32mspec()\u001b[39m masks \u001b[34mreadr\u001b[39m::spec()\n",
      "\u001b[31m✖\u001b[39m \u001b[34mrecipes\u001b[39m::\u001b[32mstep()\u001b[39m   masks \u001b[34mstats\u001b[39m::step()\n",
      "\n"
     ]
    }
   ],
   "source": [
    "# Load tidymodels\n",
    "library(tidymodels)"
   ]
  },
  {
   "cell_type": "markdown",
   "metadata": {},
   "source": [
    "## COVID-19 case-fatality rate"
   ]
  },
  {
   "cell_type": "markdown",
   "metadata": {},
   "source": [
    "You will continue using the COVID-19 data from [Our World in Data](https://ourworldindata.org/) to explore the demographic and socioeconomic factors that may influence COVID-19 case-fatality rate (CFR). But, this time, instead of a continuous outcome variable, CFR, you will create the categorical variable for high or low CFR. Check the [codebook](https://github.com/owid/covid-19-data/blob/master/public/data/owid-covid-codebook.csv) for the description of the different variables in this dataset."
   ]
  },
  {
   "cell_type": "code",
   "execution_count": 16,
   "metadata": {},
   "outputs": [],
   "source": [
    "# Import the COVID-19 data\n",
    "link <- \"https://covid.ourworldindata.org/data/owid-covid-data.csv\"\n",
    "cfr <- read_csv(link,\n",
    "        col_types = cols(\n",
    "            iso_code = col_character(),\n",
    "            continent = col_character(),\n",
    "            location = col_character(),\n",
    "            date = col_date(format = \"\"),\n",
    "            icu_patients = col_double(),\n",
    "            icu_patients_per_million = col_double(),\n",
    "            hosp_patients = col_double(),\n",
    "            hosp_patients_per_million = col_double(),\n",
    "            weekly_icu_admissions = col_double(),\n",
    "            weekly_icu_admissions_per_million = col_double(),\n",
    "            weekly_hosp_admissions = col_double(),\n",
    "            weekly_hosp_admissions_per_million = col_double(),\n",
    "            tests_units = col_character(),\n",
    "            total_vaccinations = col_double(),\n",
    "            people_vaccinated = col_double(),\n",
    "            people_fully_vaccinated = col_double(),\n",
    "            new_vaccinations = col_double(),\n",
    "            new_vaccinations_smoothed = col_double(),\n",
    "            total_vaccinations_per_hundred = col_double(),\n",
    "            people_vaccinated_per_hundred = col_double(),\n",
    "            new_vaccinations_smoothed_per_million = col_double(),\n",
    "            people_fully_vaccinated_per_hundred = col_double()\n",
    "        )\n",
    "    )"
   ]
  },
  {
   "cell_type": "code",
   "execution_count": 17,
   "metadata": {},
   "outputs": [
    {
     "name": "stdout",
     "output_type": "stream",
     "text": [
      "Rows: 76,215\n",
      "Columns: 59\n",
      "$ iso_code                              \u001b[3m\u001b[38;5;246m<chr>\u001b[39m\u001b[23m \"AFG\", \"AFG\", \"AFG\", \"AFG\", \"AFG…\n",
      "$ continent                             \u001b[3m\u001b[38;5;246m<chr>\u001b[39m\u001b[23m \"Asia\", \"Asia\", \"Asia\", \"Asia\", …\n",
      "$ location                              \u001b[3m\u001b[38;5;246m<chr>\u001b[39m\u001b[23m \"Afghanistan\", \"Afghanistan\", \"A…\n",
      "$ date                                  \u001b[3m\u001b[38;5;246m<date>\u001b[39m\u001b[23m 2020-02-24, 2020-02-25, 2020-02…\n",
      "$ total_cases                           \u001b[3m\u001b[38;5;246m<dbl>\u001b[39m\u001b[23m 1, 1, 1, 1, 1, 1, 1, 1, 2, 4, 4,…\n",
      "$ new_cases                             \u001b[3m\u001b[38;5;246m<dbl>\u001b[39m\u001b[23m 1, 0, 0, 0, 0, 0, 0, 0, 1, 2, 0,…\n",
      "$ new_cases_smoothed                    \u001b[3m\u001b[38;5;246m<dbl>\u001b[39m\u001b[23m NA, NA, NA, NA, NA, 0.143, 0.143…\n",
      "$ total_deaths                          \u001b[3m\u001b[38;5;246m<dbl>\u001b[39m\u001b[23m NA, NA, NA, NA, NA, NA, NA, NA, …\n",
      "$ new_deaths                            \u001b[3m\u001b[38;5;246m<dbl>\u001b[39m\u001b[23m NA, NA, NA, NA, NA, NA, NA, NA, …\n",
      "$ new_deaths_smoothed                   \u001b[3m\u001b[38;5;246m<dbl>\u001b[39m\u001b[23m NA, NA, NA, NA, NA, 0, 0, 0, 0, …\n",
      "$ total_cases_per_million               \u001b[3m\u001b[38;5;246m<dbl>\u001b[39m\u001b[23m 0.026, 0.026, 0.026, 0.026, 0.02…\n",
      "$ new_cases_per_million                 \u001b[3m\u001b[38;5;246m<dbl>\u001b[39m\u001b[23m 0.026, 0.000, 0.000, 0.000, 0.00…\n",
      "$ new_cases_smoothed_per_million        \u001b[3m\u001b[38;5;246m<dbl>\u001b[39m\u001b[23m NA, NA, NA, NA, NA, 0.004, 0.004…\n",
      "$ total_deaths_per_million              \u001b[3m\u001b[38;5;246m<dbl>\u001b[39m\u001b[23m NA, NA, NA, NA, NA, NA, NA, NA, …\n",
      "$ new_deaths_per_million                \u001b[3m\u001b[38;5;246m<dbl>\u001b[39m\u001b[23m NA, NA, NA, NA, NA, NA, NA, NA, …\n",
      "$ new_deaths_smoothed_per_million       \u001b[3m\u001b[38;5;246m<dbl>\u001b[39m\u001b[23m NA, NA, NA, NA, NA, 0, 0, 0, 0, …\n",
      "$ reproduction_rate                     \u001b[3m\u001b[38;5;246m<dbl>\u001b[39m\u001b[23m NA, NA, NA, NA, NA, NA, NA, NA, …\n",
      "$ icu_patients                          \u001b[3m\u001b[38;5;246m<dbl>\u001b[39m\u001b[23m NA, NA, NA, NA, NA, NA, NA, NA, …\n",
      "$ icu_patients_per_million              \u001b[3m\u001b[38;5;246m<dbl>\u001b[39m\u001b[23m NA, NA, NA, NA, NA, NA, NA, NA, …\n",
      "$ hosp_patients                         \u001b[3m\u001b[38;5;246m<dbl>\u001b[39m\u001b[23m NA, NA, NA, NA, NA, NA, NA, NA, …\n",
      "$ hosp_patients_per_million             \u001b[3m\u001b[38;5;246m<dbl>\u001b[39m\u001b[23m NA, NA, NA, NA, NA, NA, NA, NA, …\n",
      "$ weekly_icu_admissions                 \u001b[3m\u001b[38;5;246m<dbl>\u001b[39m\u001b[23m NA, NA, NA, NA, NA, NA, NA, NA, …\n",
      "$ weekly_icu_admissions_per_million     \u001b[3m\u001b[38;5;246m<dbl>\u001b[39m\u001b[23m NA, NA, NA, NA, NA, NA, NA, NA, …\n",
      "$ weekly_hosp_admissions                \u001b[3m\u001b[38;5;246m<dbl>\u001b[39m\u001b[23m NA, NA, NA, NA, NA, NA, NA, NA, …\n",
      "$ weekly_hosp_admissions_per_million    \u001b[3m\u001b[38;5;246m<dbl>\u001b[39m\u001b[23m NA, NA, NA, NA, NA, NA, NA, NA, …\n",
      "$ new_tests                             \u001b[3m\u001b[38;5;246m<dbl>\u001b[39m\u001b[23m NA, NA, NA, NA, NA, NA, NA, NA, …\n",
      "$ total_tests                           \u001b[3m\u001b[38;5;246m<dbl>\u001b[39m\u001b[23m NA, NA, NA, NA, NA, NA, NA, NA, …\n",
      "$ total_tests_per_thousand              \u001b[3m\u001b[38;5;246m<dbl>\u001b[39m\u001b[23m NA, NA, NA, NA, NA, NA, NA, NA, …\n",
      "$ new_tests_per_thousand                \u001b[3m\u001b[38;5;246m<dbl>\u001b[39m\u001b[23m NA, NA, NA, NA, NA, NA, NA, NA, …\n",
      "$ new_tests_smoothed                    \u001b[3m\u001b[38;5;246m<dbl>\u001b[39m\u001b[23m NA, NA, NA, NA, NA, NA, NA, NA, …\n",
      "$ new_tests_smoothed_per_thousand       \u001b[3m\u001b[38;5;246m<dbl>\u001b[39m\u001b[23m NA, NA, NA, NA, NA, NA, NA, NA, …\n",
      "$ positive_rate                         \u001b[3m\u001b[38;5;246m<dbl>\u001b[39m\u001b[23m NA, NA, NA, NA, NA, NA, NA, NA, …\n",
      "$ tests_per_case                        \u001b[3m\u001b[38;5;246m<dbl>\u001b[39m\u001b[23m NA, NA, NA, NA, NA, NA, NA, NA, …\n",
      "$ tests_units                           \u001b[3m\u001b[38;5;246m<chr>\u001b[39m\u001b[23m NA, NA, NA, NA, NA, NA, NA, NA, …\n",
      "$ total_vaccinations                    \u001b[3m\u001b[38;5;246m<dbl>\u001b[39m\u001b[23m NA, NA, NA, NA, NA, NA, NA, NA, …\n",
      "$ people_vaccinated                     \u001b[3m\u001b[38;5;246m<dbl>\u001b[39m\u001b[23m NA, NA, NA, NA, NA, NA, NA, NA, …\n",
      "$ people_fully_vaccinated               \u001b[3m\u001b[38;5;246m<dbl>\u001b[39m\u001b[23m NA, NA, NA, NA, NA, NA, NA, NA, …\n",
      "$ new_vaccinations                      \u001b[3m\u001b[38;5;246m<dbl>\u001b[39m\u001b[23m NA, NA, NA, NA, NA, NA, NA, NA, …\n",
      "$ new_vaccinations_smoothed             \u001b[3m\u001b[38;5;246m<dbl>\u001b[39m\u001b[23m NA, NA, NA, NA, NA, NA, NA, NA, …\n",
      "$ total_vaccinations_per_hundred        \u001b[3m\u001b[38;5;246m<dbl>\u001b[39m\u001b[23m NA, NA, NA, NA, NA, NA, NA, NA, …\n",
      "$ people_vaccinated_per_hundred         \u001b[3m\u001b[38;5;246m<dbl>\u001b[39m\u001b[23m NA, NA, NA, NA, NA, NA, NA, NA, …\n",
      "$ people_fully_vaccinated_per_hundred   \u001b[3m\u001b[38;5;246m<dbl>\u001b[39m\u001b[23m NA, NA, NA, NA, NA, NA, NA, NA, …\n",
      "$ new_vaccinations_smoothed_per_million \u001b[3m\u001b[38;5;246m<dbl>\u001b[39m\u001b[23m NA, NA, NA, NA, NA, NA, NA, NA, …\n",
      "$ stringency_index                      \u001b[3m\u001b[38;5;246m<dbl>\u001b[39m\u001b[23m 8.33, 8.33, 8.33, 8.33, 8.33, 8.…\n",
      "$ population                            \u001b[3m\u001b[38;5;246m<dbl>\u001b[39m\u001b[23m 38928341, 38928341, 38928341, 38…\n",
      "$ population_density                    \u001b[3m\u001b[38;5;246m<dbl>\u001b[39m\u001b[23m 54.422, 54.422, 54.422, 54.422, …\n",
      "$ median_age                            \u001b[3m\u001b[38;5;246m<dbl>\u001b[39m\u001b[23m 18.6, 18.6, 18.6, 18.6, 18.6, 18…\n",
      "$ aged_65_older                         \u001b[3m\u001b[38;5;246m<dbl>\u001b[39m\u001b[23m 2.581, 2.581, 2.581, 2.581, 2.58…\n",
      "$ aged_70_older                         \u001b[3m\u001b[38;5;246m<dbl>\u001b[39m\u001b[23m 1.337, 1.337, 1.337, 1.337, 1.33…\n",
      "$ gdp_per_capita                        \u001b[3m\u001b[38;5;246m<dbl>\u001b[39m\u001b[23m 1803.987, 1803.987, 1803.987, 18…\n",
      "$ extreme_poverty                       \u001b[3m\u001b[38;5;246m<dbl>\u001b[39m\u001b[23m NA, NA, NA, NA, NA, NA, NA, NA, …\n",
      "$ cardiovasc_death_rate                 \u001b[3m\u001b[38;5;246m<dbl>\u001b[39m\u001b[23m 597.029, 597.029, 597.029, 597.0…\n",
      "$ diabetes_prevalence                   \u001b[3m\u001b[38;5;246m<dbl>\u001b[39m\u001b[23m 9.59, 9.59, 9.59, 9.59, 9.59, 9.…\n",
      "$ female_smokers                        \u001b[3m\u001b[38;5;246m<dbl>\u001b[39m\u001b[23m NA, NA, NA, NA, NA, NA, NA, NA, …\n",
      "$ male_smokers                          \u001b[3m\u001b[38;5;246m<dbl>\u001b[39m\u001b[23m NA, NA, NA, NA, NA, NA, NA, NA, …\n",
      "$ handwashing_facilities                \u001b[3m\u001b[38;5;246m<dbl>\u001b[39m\u001b[23m 37.746, 37.746, 37.746, 37.746, …\n",
      "$ hospital_beds_per_thousand            \u001b[3m\u001b[38;5;246m<dbl>\u001b[39m\u001b[23m 0.5, 0.5, 0.5, 0.5, 0.5, 0.5, 0.…\n",
      "$ life_expectancy                       \u001b[3m\u001b[38;5;246m<dbl>\u001b[39m\u001b[23m 64.83, 64.83, 64.83, 64.83, 64.8…\n",
      "$ human_development_index               \u001b[3m\u001b[38;5;246m<dbl>\u001b[39m\u001b[23m 0.511, 0.511, 0.511, 0.511, 0.51…\n"
     ]
    }
   ],
   "source": [
    "# Check data structure\n",
    "glimpse(cfr)"
   ]
  },
  {
   "cell_type": "code",
   "execution_count": 18,
   "metadata": {},
   "outputs": [
    {
     "data": {
      "text/html": [
       "<table>\n",
       "<caption>A tibble: 6 × 59</caption>\n",
       "<thead>\n",
       "\t<tr><th scope=col>iso_code</th><th scope=col>continent</th><th scope=col>location</th><th scope=col>date</th><th scope=col>total_cases</th><th scope=col>new_cases</th><th scope=col>new_cases_smoothed</th><th scope=col>total_deaths</th><th scope=col>new_deaths</th><th scope=col>new_deaths_smoothed</th><th scope=col>⋯</th><th scope=col>gdp_per_capita</th><th scope=col>extreme_poverty</th><th scope=col>cardiovasc_death_rate</th><th scope=col>diabetes_prevalence</th><th scope=col>female_smokers</th><th scope=col>male_smokers</th><th scope=col>handwashing_facilities</th><th scope=col>hospital_beds_per_thousand</th><th scope=col>life_expectancy</th><th scope=col>human_development_index</th></tr>\n",
       "\t<tr><th scope=col>&lt;chr&gt;</th><th scope=col>&lt;chr&gt;</th><th scope=col>&lt;chr&gt;</th><th scope=col>&lt;date&gt;</th><th scope=col>&lt;dbl&gt;</th><th scope=col>&lt;dbl&gt;</th><th scope=col>&lt;dbl&gt;</th><th scope=col>&lt;dbl&gt;</th><th scope=col>&lt;dbl&gt;</th><th scope=col>&lt;dbl&gt;</th><th scope=col>⋯</th><th scope=col>&lt;dbl&gt;</th><th scope=col>&lt;dbl&gt;</th><th scope=col>&lt;dbl&gt;</th><th scope=col>&lt;dbl&gt;</th><th scope=col>&lt;dbl&gt;</th><th scope=col>&lt;dbl&gt;</th><th scope=col>&lt;dbl&gt;</th><th scope=col>&lt;dbl&gt;</th><th scope=col>&lt;dbl&gt;</th><th scope=col>&lt;dbl&gt;</th></tr>\n",
       "</thead>\n",
       "<tbody>\n",
       "\t<tr><td>AFG</td><td>Asia</td><td>Afghanistan</td><td>2020-02-24</td><td>1</td><td>1</td><td>   NA</td><td>NA</td><td>NA</td><td>NA</td><td>⋯</td><td>1803.987</td><td>NA</td><td>597.029</td><td>9.59</td><td>NA</td><td>NA</td><td>37.746</td><td>0.5</td><td>64.83</td><td>0.511</td></tr>\n",
       "\t<tr><td>AFG</td><td>Asia</td><td>Afghanistan</td><td>2020-02-25</td><td>1</td><td>0</td><td>   NA</td><td>NA</td><td>NA</td><td>NA</td><td>⋯</td><td>1803.987</td><td>NA</td><td>597.029</td><td>9.59</td><td>NA</td><td>NA</td><td>37.746</td><td>0.5</td><td>64.83</td><td>0.511</td></tr>\n",
       "\t<tr><td>AFG</td><td>Asia</td><td>Afghanistan</td><td>2020-02-26</td><td>1</td><td>0</td><td>   NA</td><td>NA</td><td>NA</td><td>NA</td><td>⋯</td><td>1803.987</td><td>NA</td><td>597.029</td><td>9.59</td><td>NA</td><td>NA</td><td>37.746</td><td>0.5</td><td>64.83</td><td>0.511</td></tr>\n",
       "\t<tr><td>AFG</td><td>Asia</td><td>Afghanistan</td><td>2020-02-27</td><td>1</td><td>0</td><td>   NA</td><td>NA</td><td>NA</td><td>NA</td><td>⋯</td><td>1803.987</td><td>NA</td><td>597.029</td><td>9.59</td><td>NA</td><td>NA</td><td>37.746</td><td>0.5</td><td>64.83</td><td>0.511</td></tr>\n",
       "\t<tr><td>AFG</td><td>Asia</td><td>Afghanistan</td><td>2020-02-28</td><td>1</td><td>0</td><td>   NA</td><td>NA</td><td>NA</td><td>NA</td><td>⋯</td><td>1803.987</td><td>NA</td><td>597.029</td><td>9.59</td><td>NA</td><td>NA</td><td>37.746</td><td>0.5</td><td>64.83</td><td>0.511</td></tr>\n",
       "\t<tr><td>AFG</td><td>Asia</td><td>Afghanistan</td><td>2020-02-29</td><td>1</td><td>0</td><td>0.143</td><td>NA</td><td>NA</td><td> 0</td><td>⋯</td><td>1803.987</td><td>NA</td><td>597.029</td><td>9.59</td><td>NA</td><td>NA</td><td>37.746</td><td>0.5</td><td>64.83</td><td>0.511</td></tr>\n",
       "</tbody>\n",
       "</table>\n"
      ],
      "text/latex": [
       "A tibble: 6 × 59\n",
       "\\begin{tabular}{lllllllllllllllllllll}\n",
       " iso\\_code & continent & location & date & total\\_cases & new\\_cases & new\\_cases\\_smoothed & total\\_deaths & new\\_deaths & new\\_deaths\\_smoothed & ⋯ & gdp\\_per\\_capita & extreme\\_poverty & cardiovasc\\_death\\_rate & diabetes\\_prevalence & female\\_smokers & male\\_smokers & handwashing\\_facilities & hospital\\_beds\\_per\\_thousand & life\\_expectancy & human\\_development\\_index\\\\\n",
       " <chr> & <chr> & <chr> & <date> & <dbl> & <dbl> & <dbl> & <dbl> & <dbl> & <dbl> & ⋯ & <dbl> & <dbl> & <dbl> & <dbl> & <dbl> & <dbl> & <dbl> & <dbl> & <dbl> & <dbl>\\\\\n",
       "\\hline\n",
       "\t AFG & Asia & Afghanistan & 2020-02-24 & 1 & 1 &    NA & NA & NA & NA & ⋯ & 1803.987 & NA & 597.029 & 9.59 & NA & NA & 37.746 & 0.5 & 64.83 & 0.511\\\\\n",
       "\t AFG & Asia & Afghanistan & 2020-02-25 & 1 & 0 &    NA & NA & NA & NA & ⋯ & 1803.987 & NA & 597.029 & 9.59 & NA & NA & 37.746 & 0.5 & 64.83 & 0.511\\\\\n",
       "\t AFG & Asia & Afghanistan & 2020-02-26 & 1 & 0 &    NA & NA & NA & NA & ⋯ & 1803.987 & NA & 597.029 & 9.59 & NA & NA & 37.746 & 0.5 & 64.83 & 0.511\\\\\n",
       "\t AFG & Asia & Afghanistan & 2020-02-27 & 1 & 0 &    NA & NA & NA & NA & ⋯ & 1803.987 & NA & 597.029 & 9.59 & NA & NA & 37.746 & 0.5 & 64.83 & 0.511\\\\\n",
       "\t AFG & Asia & Afghanistan & 2020-02-28 & 1 & 0 &    NA & NA & NA & NA & ⋯ & 1803.987 & NA & 597.029 & 9.59 & NA & NA & 37.746 & 0.5 & 64.83 & 0.511\\\\\n",
       "\t AFG & Asia & Afghanistan & 2020-02-29 & 1 & 0 & 0.143 & NA & NA &  0 & ⋯ & 1803.987 & NA & 597.029 & 9.59 & NA & NA & 37.746 & 0.5 & 64.83 & 0.511\\\\\n",
       "\\end{tabular}\n"
      ],
      "text/markdown": [
       "\n",
       "A tibble: 6 × 59\n",
       "\n",
       "| iso_code &lt;chr&gt; | continent &lt;chr&gt; | location &lt;chr&gt; | date &lt;date&gt; | total_cases &lt;dbl&gt; | new_cases &lt;dbl&gt; | new_cases_smoothed &lt;dbl&gt; | total_deaths &lt;dbl&gt; | new_deaths &lt;dbl&gt; | new_deaths_smoothed &lt;dbl&gt; | ⋯ ⋯ | gdp_per_capita &lt;dbl&gt; | extreme_poverty &lt;dbl&gt; | cardiovasc_death_rate &lt;dbl&gt; | diabetes_prevalence &lt;dbl&gt; | female_smokers &lt;dbl&gt; | male_smokers &lt;dbl&gt; | handwashing_facilities &lt;dbl&gt; | hospital_beds_per_thousand &lt;dbl&gt; | life_expectancy &lt;dbl&gt; | human_development_index &lt;dbl&gt; |\n",
       "|---|---|---|---|---|---|---|---|---|---|---|---|---|---|---|---|---|---|---|---|---|\n",
       "| AFG | Asia | Afghanistan | 2020-02-24 | 1 | 1 |    NA | NA | NA | NA | ⋯ | 1803.987 | NA | 597.029 | 9.59 | NA | NA | 37.746 | 0.5 | 64.83 | 0.511 |\n",
       "| AFG | Asia | Afghanistan | 2020-02-25 | 1 | 0 |    NA | NA | NA | NA | ⋯ | 1803.987 | NA | 597.029 | 9.59 | NA | NA | 37.746 | 0.5 | 64.83 | 0.511 |\n",
       "| AFG | Asia | Afghanistan | 2020-02-26 | 1 | 0 |    NA | NA | NA | NA | ⋯ | 1803.987 | NA | 597.029 | 9.59 | NA | NA | 37.746 | 0.5 | 64.83 | 0.511 |\n",
       "| AFG | Asia | Afghanistan | 2020-02-27 | 1 | 0 |    NA | NA | NA | NA | ⋯ | 1803.987 | NA | 597.029 | 9.59 | NA | NA | 37.746 | 0.5 | 64.83 | 0.511 |\n",
       "| AFG | Asia | Afghanistan | 2020-02-28 | 1 | 0 |    NA | NA | NA | NA | ⋯ | 1803.987 | NA | 597.029 | 9.59 | NA | NA | 37.746 | 0.5 | 64.83 | 0.511 |\n",
       "| AFG | Asia | Afghanistan | 2020-02-29 | 1 | 0 | 0.143 | NA | NA |  0 | ⋯ | 1803.987 | NA | 597.029 | 9.59 | NA | NA | 37.746 | 0.5 | 64.83 | 0.511 |\n",
       "\n"
      ],
      "text/plain": [
       "  iso_code continent location    date       total_cases new_cases\n",
       "1 AFG      Asia      Afghanistan 2020-02-24 1           1        \n",
       "2 AFG      Asia      Afghanistan 2020-02-25 1           0        \n",
       "3 AFG      Asia      Afghanistan 2020-02-26 1           0        \n",
       "4 AFG      Asia      Afghanistan 2020-02-27 1           0        \n",
       "5 AFG      Asia      Afghanistan 2020-02-28 1           0        \n",
       "6 AFG      Asia      Afghanistan 2020-02-29 1           0        \n",
       "  new_cases_smoothed total_deaths new_deaths new_deaths_smoothed ⋯\n",
       "1    NA              NA           NA         NA                  ⋯\n",
       "2    NA              NA           NA         NA                  ⋯\n",
       "3    NA              NA           NA         NA                  ⋯\n",
       "4    NA              NA           NA         NA                  ⋯\n",
       "5    NA              NA           NA         NA                  ⋯\n",
       "6 0.143              NA           NA          0                  ⋯\n",
       "  gdp_per_capita extreme_poverty cardiovasc_death_rate diabetes_prevalence\n",
       "1 1803.987       NA              597.029               9.59               \n",
       "2 1803.987       NA              597.029               9.59               \n",
       "3 1803.987       NA              597.029               9.59               \n",
       "4 1803.987       NA              597.029               9.59               \n",
       "5 1803.987       NA              597.029               9.59               \n",
       "6 1803.987       NA              597.029               9.59               \n",
       "  female_smokers male_smokers handwashing_facilities hospital_beds_per_thousand\n",
       "1 NA             NA           37.746                 0.5                       \n",
       "2 NA             NA           37.746                 0.5                       \n",
       "3 NA             NA           37.746                 0.5                       \n",
       "4 NA             NA           37.746                 0.5                       \n",
       "5 NA             NA           37.746                 0.5                       \n",
       "6 NA             NA           37.746                 0.5                       \n",
       "  life_expectancy human_development_index\n",
       "1 64.83           0.511                  \n",
       "2 64.83           0.511                  \n",
       "3 64.83           0.511                  \n",
       "4 64.83           0.511                  \n",
       "5 64.83           0.511                  \n",
       "6 64.83           0.511                  "
      ]
     },
     "metadata": {},
     "output_type": "display_data"
    },
    {
     "data": {
      "text/html": [
       "<table>\n",
       "<caption>A tibble: 6 × 59</caption>\n",
       "<thead>\n",
       "\t<tr><th scope=col>iso_code</th><th scope=col>continent</th><th scope=col>location</th><th scope=col>date</th><th scope=col>total_cases</th><th scope=col>new_cases</th><th scope=col>new_cases_smoothed</th><th scope=col>total_deaths</th><th scope=col>new_deaths</th><th scope=col>new_deaths_smoothed</th><th scope=col>⋯</th><th scope=col>gdp_per_capita</th><th scope=col>extreme_poverty</th><th scope=col>cardiovasc_death_rate</th><th scope=col>diabetes_prevalence</th><th scope=col>female_smokers</th><th scope=col>male_smokers</th><th scope=col>handwashing_facilities</th><th scope=col>hospital_beds_per_thousand</th><th scope=col>life_expectancy</th><th scope=col>human_development_index</th></tr>\n",
       "\t<tr><th scope=col>&lt;chr&gt;</th><th scope=col>&lt;chr&gt;</th><th scope=col>&lt;chr&gt;</th><th scope=col>&lt;date&gt;</th><th scope=col>&lt;dbl&gt;</th><th scope=col>&lt;dbl&gt;</th><th scope=col>&lt;dbl&gt;</th><th scope=col>&lt;dbl&gt;</th><th scope=col>&lt;dbl&gt;</th><th scope=col>&lt;dbl&gt;</th><th scope=col>⋯</th><th scope=col>&lt;dbl&gt;</th><th scope=col>&lt;dbl&gt;</th><th scope=col>&lt;dbl&gt;</th><th scope=col>&lt;dbl&gt;</th><th scope=col>&lt;dbl&gt;</th><th scope=col>&lt;dbl&gt;</th><th scope=col>&lt;dbl&gt;</th><th scope=col>&lt;dbl&gt;</th><th scope=col>&lt;dbl&gt;</th><th scope=col>&lt;dbl&gt;</th></tr>\n",
       "</thead>\n",
       "<tbody>\n",
       "\t<tr><td>ZWE</td><td>Africa</td><td>Zimbabwe</td><td>2021-03-15</td><td>36504</td><td>20</td><td>30.714</td><td>1504</td><td>1</td><td>2.429</td><td>⋯</td><td>1899.775</td><td>21.4</td><td>307.846</td><td>1.82</td><td>1.6</td><td>30.7</td><td>36.791</td><td>1.7</td><td>61.49</td><td>0.571</td></tr>\n",
       "\t<tr><td>ZWE</td><td>Africa</td><td>Zimbabwe</td><td>2021-03-16</td><td>36535</td><td>31</td><td>30.571</td><td>1507</td><td>3</td><td>2.571</td><td>⋯</td><td>1899.775</td><td>21.4</td><td>307.846</td><td>1.82</td><td>1.6</td><td>30.7</td><td>36.791</td><td>1.7</td><td>61.49</td><td>0.571</td></tr>\n",
       "\t<tr><td>ZWE</td><td>Africa</td><td>Zimbabwe</td><td>2021-03-17</td><td>36552</td><td>17</td><td>30.143</td><td>1508</td><td>1</td><td>2.714</td><td>⋯</td><td>1899.775</td><td>21.4</td><td>307.846</td><td>1.82</td><td>1.6</td><td>30.7</td><td>36.791</td><td>1.7</td><td>61.49</td><td>0.571</td></tr>\n",
       "\t<tr><td>ZWE</td><td>Africa</td><td>Zimbabwe</td><td>2021-03-18</td><td>36611</td><td>59</td><td>33.429</td><td>1509</td><td>1</td><td>2.429</td><td>⋯</td><td>1899.775</td><td>21.4</td><td>307.846</td><td>1.82</td><td>1.6</td><td>30.7</td><td>36.791</td><td>1.7</td><td>61.49</td><td>0.571</td></tr>\n",
       "\t<tr><td>ZWE</td><td>Africa</td><td>Zimbabwe</td><td>2021-03-19</td><td>36652</td><td>41</td><td>32.714</td><td>1510</td><td>1</td><td>2.000</td><td>⋯</td><td>1899.775</td><td>21.4</td><td>307.846</td><td>1.82</td><td>1.6</td><td>30.7</td><td>36.791</td><td>1.7</td><td>61.49</td><td>0.571</td></tr>\n",
       "\t<tr><td>ZWE</td><td>Africa</td><td>Zimbabwe</td><td>2021-03-20</td><td>36662</td><td>10</td><td>27.286</td><td>1510</td><td>0</td><td>1.286</td><td>⋯</td><td>1899.775</td><td>21.4</td><td>307.846</td><td>1.82</td><td>1.6</td><td>30.7</td><td>36.791</td><td>1.7</td><td>61.49</td><td>0.571</td></tr>\n",
       "</tbody>\n",
       "</table>\n"
      ],
      "text/latex": [
       "A tibble: 6 × 59\n",
       "\\begin{tabular}{lllllllllllllllllllll}\n",
       " iso\\_code & continent & location & date & total\\_cases & new\\_cases & new\\_cases\\_smoothed & total\\_deaths & new\\_deaths & new\\_deaths\\_smoothed & ⋯ & gdp\\_per\\_capita & extreme\\_poverty & cardiovasc\\_death\\_rate & diabetes\\_prevalence & female\\_smokers & male\\_smokers & handwashing\\_facilities & hospital\\_beds\\_per\\_thousand & life\\_expectancy & human\\_development\\_index\\\\\n",
       " <chr> & <chr> & <chr> & <date> & <dbl> & <dbl> & <dbl> & <dbl> & <dbl> & <dbl> & ⋯ & <dbl> & <dbl> & <dbl> & <dbl> & <dbl> & <dbl> & <dbl> & <dbl> & <dbl> & <dbl>\\\\\n",
       "\\hline\n",
       "\t ZWE & Africa & Zimbabwe & 2021-03-15 & 36504 & 20 & 30.714 & 1504 & 1 & 2.429 & ⋯ & 1899.775 & 21.4 & 307.846 & 1.82 & 1.6 & 30.7 & 36.791 & 1.7 & 61.49 & 0.571\\\\\n",
       "\t ZWE & Africa & Zimbabwe & 2021-03-16 & 36535 & 31 & 30.571 & 1507 & 3 & 2.571 & ⋯ & 1899.775 & 21.4 & 307.846 & 1.82 & 1.6 & 30.7 & 36.791 & 1.7 & 61.49 & 0.571\\\\\n",
       "\t ZWE & Africa & Zimbabwe & 2021-03-17 & 36552 & 17 & 30.143 & 1508 & 1 & 2.714 & ⋯ & 1899.775 & 21.4 & 307.846 & 1.82 & 1.6 & 30.7 & 36.791 & 1.7 & 61.49 & 0.571\\\\\n",
       "\t ZWE & Africa & Zimbabwe & 2021-03-18 & 36611 & 59 & 33.429 & 1509 & 1 & 2.429 & ⋯ & 1899.775 & 21.4 & 307.846 & 1.82 & 1.6 & 30.7 & 36.791 & 1.7 & 61.49 & 0.571\\\\\n",
       "\t ZWE & Africa & Zimbabwe & 2021-03-19 & 36652 & 41 & 32.714 & 1510 & 1 & 2.000 & ⋯ & 1899.775 & 21.4 & 307.846 & 1.82 & 1.6 & 30.7 & 36.791 & 1.7 & 61.49 & 0.571\\\\\n",
       "\t ZWE & Africa & Zimbabwe & 2021-03-20 & 36662 & 10 & 27.286 & 1510 & 0 & 1.286 & ⋯ & 1899.775 & 21.4 & 307.846 & 1.82 & 1.6 & 30.7 & 36.791 & 1.7 & 61.49 & 0.571\\\\\n",
       "\\end{tabular}\n"
      ],
      "text/markdown": [
       "\n",
       "A tibble: 6 × 59\n",
       "\n",
       "| iso_code &lt;chr&gt; | continent &lt;chr&gt; | location &lt;chr&gt; | date &lt;date&gt; | total_cases &lt;dbl&gt; | new_cases &lt;dbl&gt; | new_cases_smoothed &lt;dbl&gt; | total_deaths &lt;dbl&gt; | new_deaths &lt;dbl&gt; | new_deaths_smoothed &lt;dbl&gt; | ⋯ ⋯ | gdp_per_capita &lt;dbl&gt; | extreme_poverty &lt;dbl&gt; | cardiovasc_death_rate &lt;dbl&gt; | diabetes_prevalence &lt;dbl&gt; | female_smokers &lt;dbl&gt; | male_smokers &lt;dbl&gt; | handwashing_facilities &lt;dbl&gt; | hospital_beds_per_thousand &lt;dbl&gt; | life_expectancy &lt;dbl&gt; | human_development_index &lt;dbl&gt; |\n",
       "|---|---|---|---|---|---|---|---|---|---|---|---|---|---|---|---|---|---|---|---|---|\n",
       "| ZWE | Africa | Zimbabwe | 2021-03-15 | 36504 | 20 | 30.714 | 1504 | 1 | 2.429 | ⋯ | 1899.775 | 21.4 | 307.846 | 1.82 | 1.6 | 30.7 | 36.791 | 1.7 | 61.49 | 0.571 |\n",
       "| ZWE | Africa | Zimbabwe | 2021-03-16 | 36535 | 31 | 30.571 | 1507 | 3 | 2.571 | ⋯ | 1899.775 | 21.4 | 307.846 | 1.82 | 1.6 | 30.7 | 36.791 | 1.7 | 61.49 | 0.571 |\n",
       "| ZWE | Africa | Zimbabwe | 2021-03-17 | 36552 | 17 | 30.143 | 1508 | 1 | 2.714 | ⋯ | 1899.775 | 21.4 | 307.846 | 1.82 | 1.6 | 30.7 | 36.791 | 1.7 | 61.49 | 0.571 |\n",
       "| ZWE | Africa | Zimbabwe | 2021-03-18 | 36611 | 59 | 33.429 | 1509 | 1 | 2.429 | ⋯ | 1899.775 | 21.4 | 307.846 | 1.82 | 1.6 | 30.7 | 36.791 | 1.7 | 61.49 | 0.571 |\n",
       "| ZWE | Africa | Zimbabwe | 2021-03-19 | 36652 | 41 | 32.714 | 1510 | 1 | 2.000 | ⋯ | 1899.775 | 21.4 | 307.846 | 1.82 | 1.6 | 30.7 | 36.791 | 1.7 | 61.49 | 0.571 |\n",
       "| ZWE | Africa | Zimbabwe | 2021-03-20 | 36662 | 10 | 27.286 | 1510 | 0 | 1.286 | ⋯ | 1899.775 | 21.4 | 307.846 | 1.82 | 1.6 | 30.7 | 36.791 | 1.7 | 61.49 | 0.571 |\n",
       "\n"
      ],
      "text/plain": [
       "  iso_code continent location date       total_cases new_cases\n",
       "1 ZWE      Africa    Zimbabwe 2021-03-15 36504       20       \n",
       "2 ZWE      Africa    Zimbabwe 2021-03-16 36535       31       \n",
       "3 ZWE      Africa    Zimbabwe 2021-03-17 36552       17       \n",
       "4 ZWE      Africa    Zimbabwe 2021-03-18 36611       59       \n",
       "5 ZWE      Africa    Zimbabwe 2021-03-19 36652       41       \n",
       "6 ZWE      Africa    Zimbabwe 2021-03-20 36662       10       \n",
       "  new_cases_smoothed total_deaths new_deaths new_deaths_smoothed ⋯\n",
       "1 30.714             1504         1          2.429               ⋯\n",
       "2 30.571             1507         3          2.571               ⋯\n",
       "3 30.143             1508         1          2.714               ⋯\n",
       "4 33.429             1509         1          2.429               ⋯\n",
       "5 32.714             1510         1          2.000               ⋯\n",
       "6 27.286             1510         0          1.286               ⋯\n",
       "  gdp_per_capita extreme_poverty cardiovasc_death_rate diabetes_prevalence\n",
       "1 1899.775       21.4            307.846               1.82               \n",
       "2 1899.775       21.4            307.846               1.82               \n",
       "3 1899.775       21.4            307.846               1.82               \n",
       "4 1899.775       21.4            307.846               1.82               \n",
       "5 1899.775       21.4            307.846               1.82               \n",
       "6 1899.775       21.4            307.846               1.82               \n",
       "  female_smokers male_smokers handwashing_facilities hospital_beds_per_thousand\n",
       "1 1.6            30.7         36.791                 1.7                       \n",
       "2 1.6            30.7         36.791                 1.7                       \n",
       "3 1.6            30.7         36.791                 1.7                       \n",
       "4 1.6            30.7         36.791                 1.7                       \n",
       "5 1.6            30.7         36.791                 1.7                       \n",
       "6 1.6            30.7         36.791                 1.7                       \n",
       "  life_expectancy human_development_index\n",
       "1 61.49           0.571                  \n",
       "2 61.49           0.571                  \n",
       "3 61.49           0.571                  \n",
       "4 61.49           0.571                  \n",
       "5 61.49           0.571                  \n",
       "6 61.49           0.571                  "
      ]
     },
     "metadata": {},
     "output_type": "display_data"
    }
   ],
   "source": [
    "# Check the top and bottom rows\n",
    "head(cfr)\n",
    "tail(cfr)"
   ]
  },
  {
   "cell_type": "markdown",
   "metadata": {},
   "source": [
    "Perform data cleaning to remove rows that are not needed during statistical analysis. Just like in the previous exercise, create a new variable: `cfr`, which is the total number of deaths due to COVID-19 divided by the total number of confirmed COVID-19 cases multiplied by 100."
   ]
  },
  {
   "cell_type": "code",
   "execution_count": 20,
   "metadata": {},
   "outputs": [
    {
     "data": {
      "text/html": [
       "<table>\n",
       "<caption>A tibble: 6 × 60</caption>\n",
       "<thead>\n",
       "\t<tr><th scope=col>iso_code</th><th scope=col>continent</th><th scope=col>location</th><th scope=col>date</th><th scope=col>total_cases</th><th scope=col>new_cases</th><th scope=col>new_cases_smoothed</th><th scope=col>total_deaths</th><th scope=col>new_deaths</th><th scope=col>new_deaths_smoothed</th><th scope=col>⋯</th><th scope=col>extreme_poverty</th><th scope=col>cardiovasc_death_rate</th><th scope=col>diabetes_prevalence</th><th scope=col>female_smokers</th><th scope=col>male_smokers</th><th scope=col>handwashing_facilities</th><th scope=col>hospital_beds_per_thousand</th><th scope=col>life_expectancy</th><th scope=col>human_development_index</th><th scope=col>cfr</th></tr>\n",
       "\t<tr><th scope=col>&lt;chr&gt;</th><th scope=col>&lt;chr&gt;</th><th scope=col>&lt;chr&gt;</th><th scope=col>&lt;date&gt;</th><th scope=col>&lt;dbl&gt;</th><th scope=col>&lt;dbl&gt;</th><th scope=col>&lt;dbl&gt;</th><th scope=col>&lt;dbl&gt;</th><th scope=col>&lt;dbl&gt;</th><th scope=col>&lt;dbl&gt;</th><th scope=col>⋯</th><th scope=col>&lt;dbl&gt;</th><th scope=col>&lt;dbl&gt;</th><th scope=col>&lt;dbl&gt;</th><th scope=col>&lt;dbl&gt;</th><th scope=col>&lt;dbl&gt;</th><th scope=col>&lt;dbl&gt;</th><th scope=col>&lt;dbl&gt;</th><th scope=col>&lt;dbl&gt;</th><th scope=col>&lt;dbl&gt;</th><th scope=col>&lt;dbl&gt;</th></tr>\n",
       "</thead>\n",
       "<tbody>\n",
       "\t<tr><td>AFG</td><td>Asia         </td><td>Afghanistan        </td><td>2021-03-20</td><td> 56093</td><td> 24</td><td> 19.143</td><td>2462</td><td> 0</td><td> 1.143</td><td>⋯</td><td> NA</td><td>597.029</td><td> 9.59</td><td>  NA</td><td>  NA</td><td>37.746</td><td>0.50</td><td>64.83</td><td>0.511</td><td>4.3891395</td></tr>\n",
       "\t<tr><td>ALB</td><td>Europe       </td><td>Albania            </td><td>2021-03-20</td><td>120541</td><td>519</td><td>531.429</td><td>2133</td><td>11</td><td>14.714</td><td>⋯</td><td>1.1</td><td>304.195</td><td>10.08</td><td> 7.1</td><td>51.2</td><td>    NA</td><td>2.89</td><td>78.57</td><td>0.795</td><td>1.7695224</td></tr>\n",
       "\t<tr><td>DZA</td><td>Africa       </td><td>Algeria            </td><td>2021-03-20</td><td>116066</td><td> 96</td><td>131.857</td><td>3055</td><td> 2</td><td> 3.000</td><td>⋯</td><td>0.5</td><td>278.364</td><td> 6.73</td><td> 0.7</td><td>30.4</td><td>83.741</td><td>1.90</td><td>76.88</td><td>0.748</td><td>2.6321231</td></tr>\n",
       "\t<tr><td>AND</td><td>Europe       </td><td>Andorra            </td><td>2021-03-20</td><td> 11481</td><td> 50</td><td> 36.143</td><td> 113</td><td> 0</td><td> 0.143</td><td>⋯</td><td> NA</td><td>109.135</td><td> 7.97</td><td>29.0</td><td>37.8</td><td>    NA</td><td>  NA</td><td>83.73</td><td>0.868</td><td>0.9842348</td></tr>\n",
       "\t<tr><td>AGO</td><td>Africa       </td><td>Angola             </td><td>2021-03-20</td><td> 21696</td><td> 54</td><td> 53.286</td><td> 526</td><td> 2</td><td> 0.857</td><td>⋯</td><td> NA</td><td>276.045</td><td> 3.94</td><td>  NA</td><td>  NA</td><td>26.664</td><td>  NA</td><td>61.15</td><td>0.581</td><td>2.4244100</td></tr>\n",
       "\t<tr><td>ATG</td><td>North America</td><td>Antigua and Barbuda</td><td>2021-03-20</td><td>  1033</td><td> 22</td><td> 10.143</td><td>  28</td><td> 1</td><td> 0.143</td><td>⋯</td><td> NA</td><td>191.511</td><td>13.17</td><td>  NA</td><td>  NA</td><td>    NA</td><td>3.80</td><td>77.02</td><td>0.778</td><td>2.7105518</td></tr>\n",
       "</tbody>\n",
       "</table>\n"
      ],
      "text/latex": [
       "A tibble: 6 × 60\n",
       "\\begin{tabular}{lllllllllllllllllllll}\n",
       " iso\\_code & continent & location & date & total\\_cases & new\\_cases & new\\_cases\\_smoothed & total\\_deaths & new\\_deaths & new\\_deaths\\_smoothed & ⋯ & extreme\\_poverty & cardiovasc\\_death\\_rate & diabetes\\_prevalence & female\\_smokers & male\\_smokers & handwashing\\_facilities & hospital\\_beds\\_per\\_thousand & life\\_expectancy & human\\_development\\_index & cfr\\\\\n",
       " <chr> & <chr> & <chr> & <date> & <dbl> & <dbl> & <dbl> & <dbl> & <dbl> & <dbl> & ⋯ & <dbl> & <dbl> & <dbl> & <dbl> & <dbl> & <dbl> & <dbl> & <dbl> & <dbl> & <dbl>\\\\\n",
       "\\hline\n",
       "\t AFG & Asia          & Afghanistan         & 2021-03-20 &  56093 &  24 &  19.143 & 2462 &  0 &  1.143 & ⋯ &  NA & 597.029 &  9.59 &   NA &   NA & 37.746 & 0.50 & 64.83 & 0.511 & 4.3891395\\\\\n",
       "\t ALB & Europe        & Albania             & 2021-03-20 & 120541 & 519 & 531.429 & 2133 & 11 & 14.714 & ⋯ & 1.1 & 304.195 & 10.08 &  7.1 & 51.2 &     NA & 2.89 & 78.57 & 0.795 & 1.7695224\\\\\n",
       "\t DZA & Africa        & Algeria             & 2021-03-20 & 116066 &  96 & 131.857 & 3055 &  2 &  3.000 & ⋯ & 0.5 & 278.364 &  6.73 &  0.7 & 30.4 & 83.741 & 1.90 & 76.88 & 0.748 & 2.6321231\\\\\n",
       "\t AND & Europe        & Andorra             & 2021-03-20 &  11481 &  50 &  36.143 &  113 &  0 &  0.143 & ⋯ &  NA & 109.135 &  7.97 & 29.0 & 37.8 &     NA &   NA & 83.73 & 0.868 & 0.9842348\\\\\n",
       "\t AGO & Africa        & Angola              & 2021-03-20 &  21696 &  54 &  53.286 &  526 &  2 &  0.857 & ⋯ &  NA & 276.045 &  3.94 &   NA &   NA & 26.664 &   NA & 61.15 & 0.581 & 2.4244100\\\\\n",
       "\t ATG & North America & Antigua and Barbuda & 2021-03-20 &   1033 &  22 &  10.143 &   28 &  1 &  0.143 & ⋯ &  NA & 191.511 & 13.17 &   NA &   NA &     NA & 3.80 & 77.02 & 0.778 & 2.7105518\\\\\n",
       "\\end{tabular}\n"
      ],
      "text/markdown": [
       "\n",
       "A tibble: 6 × 60\n",
       "\n",
       "| iso_code &lt;chr&gt; | continent &lt;chr&gt; | location &lt;chr&gt; | date &lt;date&gt; | total_cases &lt;dbl&gt; | new_cases &lt;dbl&gt; | new_cases_smoothed &lt;dbl&gt; | total_deaths &lt;dbl&gt; | new_deaths &lt;dbl&gt; | new_deaths_smoothed &lt;dbl&gt; | ⋯ ⋯ | extreme_poverty &lt;dbl&gt; | cardiovasc_death_rate &lt;dbl&gt; | diabetes_prevalence &lt;dbl&gt; | female_smokers &lt;dbl&gt; | male_smokers &lt;dbl&gt; | handwashing_facilities &lt;dbl&gt; | hospital_beds_per_thousand &lt;dbl&gt; | life_expectancy &lt;dbl&gt; | human_development_index &lt;dbl&gt; | cfr &lt;dbl&gt; |\n",
       "|---|---|---|---|---|---|---|---|---|---|---|---|---|---|---|---|---|---|---|---|---|\n",
       "| AFG | Asia          | Afghanistan         | 2021-03-20 |  56093 |  24 |  19.143 | 2462 |  0 |  1.143 | ⋯ |  NA | 597.029 |  9.59 |   NA |   NA | 37.746 | 0.50 | 64.83 | 0.511 | 4.3891395 |\n",
       "| ALB | Europe        | Albania             | 2021-03-20 | 120541 | 519 | 531.429 | 2133 | 11 | 14.714 | ⋯ | 1.1 | 304.195 | 10.08 |  7.1 | 51.2 |     NA | 2.89 | 78.57 | 0.795 | 1.7695224 |\n",
       "| DZA | Africa        | Algeria             | 2021-03-20 | 116066 |  96 | 131.857 | 3055 |  2 |  3.000 | ⋯ | 0.5 | 278.364 |  6.73 |  0.7 | 30.4 | 83.741 | 1.90 | 76.88 | 0.748 | 2.6321231 |\n",
       "| AND | Europe        | Andorra             | 2021-03-20 |  11481 |  50 |  36.143 |  113 |  0 |  0.143 | ⋯ |  NA | 109.135 |  7.97 | 29.0 | 37.8 |     NA |   NA | 83.73 | 0.868 | 0.9842348 |\n",
       "| AGO | Africa        | Angola              | 2021-03-20 |  21696 |  54 |  53.286 |  526 |  2 |  0.857 | ⋯ |  NA | 276.045 |  3.94 |   NA |   NA | 26.664 |   NA | 61.15 | 0.581 | 2.4244100 |\n",
       "| ATG | North America | Antigua and Barbuda | 2021-03-20 |   1033 |  22 |  10.143 |   28 |  1 |  0.143 | ⋯ |  NA | 191.511 | 13.17 |   NA |   NA |     NA | 3.80 | 77.02 | 0.778 | 2.7105518 |\n",
       "\n"
      ],
      "text/plain": [
       "  iso_code continent     location            date       total_cases new_cases\n",
       "1 AFG      Asia          Afghanistan         2021-03-20  56093       24      \n",
       "2 ALB      Europe        Albania             2021-03-20 120541      519      \n",
       "3 DZA      Africa        Algeria             2021-03-20 116066       96      \n",
       "4 AND      Europe        Andorra             2021-03-20  11481       50      \n",
       "5 AGO      Africa        Angola              2021-03-20  21696       54      \n",
       "6 ATG      North America Antigua and Barbuda 2021-03-20   1033       22      \n",
       "  new_cases_smoothed total_deaths new_deaths new_deaths_smoothed ⋯\n",
       "1  19.143            2462          0          1.143              ⋯\n",
       "2 531.429            2133         11         14.714              ⋯\n",
       "3 131.857            3055          2          3.000              ⋯\n",
       "4  36.143             113          0          0.143              ⋯\n",
       "5  53.286             526          2          0.857              ⋯\n",
       "6  10.143              28          1          0.143              ⋯\n",
       "  extreme_poverty cardiovasc_death_rate diabetes_prevalence female_smokers\n",
       "1  NA             597.029                9.59                 NA          \n",
       "2 1.1             304.195               10.08                7.1          \n",
       "3 0.5             278.364                6.73                0.7          \n",
       "4  NA             109.135                7.97               29.0          \n",
       "5  NA             276.045                3.94                 NA          \n",
       "6  NA             191.511               13.17                 NA          \n",
       "  male_smokers handwashing_facilities hospital_beds_per_thousand\n",
       "1   NA         37.746                 0.50                      \n",
       "2 51.2             NA                 2.89                      \n",
       "3 30.4         83.741                 1.90                      \n",
       "4 37.8             NA                   NA                      \n",
       "5   NA         26.664                   NA                      \n",
       "6   NA             NA                 3.80                      \n",
       "  life_expectancy human_development_index cfr      \n",
       "1 64.83           0.511                   4.3891395\n",
       "2 78.57           0.795                   1.7695224\n",
       "3 76.88           0.748                   2.6321231\n",
       "4 83.73           0.868                   0.9842348\n",
       "5 61.15           0.581                   2.4244100\n",
       "6 77.02           0.778                   2.7105518"
      ]
     },
     "metadata": {},
     "output_type": "display_data"
    }
   ],
   "source": [
    "cfr <- cfr %>%\n",
    "    # Subset latest data\n",
    "    filter(date == max(date)) %>% \n",
    "    # Remove rows containing NAs in continent column \n",
    "    drop_na(continent) %>%\n",
    "    # Create the CFR variable\n",
    "    mutate(cfr = (total_deaths/total_cases)*100)\n",
    "head(cfr)"
   ]
  },
  {
   "cell_type": "code",
   "execution_count": 21,
   "metadata": {},
   "outputs": [
    {
     "data": {
      "text/plain": [
       "    Min.  1st Qu.   Median     Mean  3rd Qu.     Max.     NA's \n",
       " 0.04985  1.09760  1.71765  2.07269  2.59326 22.48322       12 "
      ]
     },
     "metadata": {},
     "output_type": "display_data"
    }
   ],
   "source": [
    "# Summary statistics of cfr variable\n",
    "summary(cfr$cfr)"
   ]
  },
  {
   "cell_type": "code",
   "execution_count": 24,
   "metadata": {},
   "outputs": [],
   "source": [
    "# Drop rows containing NAs in the cfr column\n",
    "cfr <- cfr %>%\n",
    "    drop_na(cfr)"
   ]
  },
  {
   "cell_type": "markdown",
   "metadata": {},
   "source": [
    "Visualize the distribution the `cfr` variable."
   ]
  },
  {
   "cell_type": "code",
   "execution_count": 25,
   "metadata": {},
   "outputs": [
    {
     "data": {
      "image/png": "[encoded data removed]",
      "text/plain": [
       "plot without title"
      ]
     },
     "metadata": {
      "image/png": {
       "height": 420,
       "width": 420
      }
     },
     "output_type": "display_data"
    }
   ],
   "source": [
    "# Visualize using histogram\n",
    "cfr %>% ggplot(aes(cfr)) +\n",
    "    geom_histogram(bins = 50)"
   ]
  },
  {
   "cell_type": "markdown",
   "metadata": {},
   "source": [
    "Create a new categorical outcome variable for CFR, where you will assign an integer value of \"1\" if the CFR value is greater than 3 or assign an integer of value of \"0\" if the CFR value is less than or equal to 3. Use a combination of **`mutate( )`** and **`if_else( )`** functions for coding this dummy variable. The cutoff value is selected arbitrarily and you may change it during model selection. "
   ]
  },
  {
   "cell_type": "code",
   "execution_count": 30,
   "metadata": {},
   "outputs": [],
   "source": [
    "# Create a new categorical outcome variable: cfr_cat\n",
    "cfr <- cfr %>% mutate(\n",
    "            cfr_cat = if_else(\n",
    "                cfr > 3,\n",
    "                1L,\n",
    "                0L\n",
    "            )\n",
    ")"
   ]
  },
  {
   "cell_type": "markdown",
   "metadata": {},
   "source": [
    "Check the first few rows if the coding of the new variable corresponds to the CFR values."
   ]
  },
  {
   "cell_type": "code",
   "execution_count": 32,
   "metadata": {},
   "outputs": [
    {
     "data": {
      "text/html": [
       "<table>\n",
       "<caption>A tibble: 6 × 61</caption>\n",
       "<thead>\n",
       "\t<tr><th scope=col>iso_code</th><th scope=col>continent</th><th scope=col>location</th><th scope=col>date</th><th scope=col>total_cases</th><th scope=col>new_cases</th><th scope=col>new_cases_smoothed</th><th scope=col>total_deaths</th><th scope=col>new_deaths</th><th scope=col>new_deaths_smoothed</th><th scope=col>⋯</th><th scope=col>cardiovasc_death_rate</th><th scope=col>diabetes_prevalence</th><th scope=col>female_smokers</th><th scope=col>male_smokers</th><th scope=col>handwashing_facilities</th><th scope=col>hospital_beds_per_thousand</th><th scope=col>life_expectancy</th><th scope=col>human_development_index</th><th scope=col>cfr</th><th scope=col>cfr_cat</th></tr>\n",
       "\t<tr><th scope=col>&lt;chr&gt;</th><th scope=col>&lt;chr&gt;</th><th scope=col>&lt;chr&gt;</th><th scope=col>&lt;date&gt;</th><th scope=col>&lt;dbl&gt;</th><th scope=col>&lt;dbl&gt;</th><th scope=col>&lt;dbl&gt;</th><th scope=col>&lt;dbl&gt;</th><th scope=col>&lt;dbl&gt;</th><th scope=col>&lt;dbl&gt;</th><th scope=col>⋯</th><th scope=col>&lt;dbl&gt;</th><th scope=col>&lt;dbl&gt;</th><th scope=col>&lt;dbl&gt;</th><th scope=col>&lt;dbl&gt;</th><th scope=col>&lt;dbl&gt;</th><th scope=col>&lt;dbl&gt;</th><th scope=col>&lt;dbl&gt;</th><th scope=col>&lt;dbl&gt;</th><th scope=col>&lt;dbl&gt;</th><th scope=col>&lt;int&gt;</th></tr>\n",
       "</thead>\n",
       "<tbody>\n",
       "\t<tr><td>AFG</td><td>Asia         </td><td>Afghanistan        </td><td>2021-03-20</td><td> 56093</td><td> 24</td><td> 19.143</td><td>2462</td><td> 0</td><td> 1.143</td><td>⋯</td><td>597.029</td><td> 9.59</td><td>  NA</td><td>  NA</td><td>37.746</td><td>0.50</td><td>64.83</td><td>0.511</td><td>4.3891395</td><td>1</td></tr>\n",
       "\t<tr><td>ALB</td><td>Europe       </td><td>Albania            </td><td>2021-03-20</td><td>120541</td><td>519</td><td>531.429</td><td>2133</td><td>11</td><td>14.714</td><td>⋯</td><td>304.195</td><td>10.08</td><td> 7.1</td><td>51.2</td><td>    NA</td><td>2.89</td><td>78.57</td><td>0.795</td><td>1.7695224</td><td>0</td></tr>\n",
       "\t<tr><td>DZA</td><td>Africa       </td><td>Algeria            </td><td>2021-03-20</td><td>116066</td><td> 96</td><td>131.857</td><td>3055</td><td> 2</td><td> 3.000</td><td>⋯</td><td>278.364</td><td> 6.73</td><td> 0.7</td><td>30.4</td><td>83.741</td><td>1.90</td><td>76.88</td><td>0.748</td><td>2.6321231</td><td>0</td></tr>\n",
       "\t<tr><td>AND</td><td>Europe       </td><td>Andorra            </td><td>2021-03-20</td><td> 11481</td><td> 50</td><td> 36.143</td><td> 113</td><td> 0</td><td> 0.143</td><td>⋯</td><td>109.135</td><td> 7.97</td><td>29.0</td><td>37.8</td><td>    NA</td><td>  NA</td><td>83.73</td><td>0.868</td><td>0.9842348</td><td>0</td></tr>\n",
       "\t<tr><td>AGO</td><td>Africa       </td><td>Angola             </td><td>2021-03-20</td><td> 21696</td><td> 54</td><td> 53.286</td><td> 526</td><td> 2</td><td> 0.857</td><td>⋯</td><td>276.045</td><td> 3.94</td><td>  NA</td><td>  NA</td><td>26.664</td><td>  NA</td><td>61.15</td><td>0.581</td><td>2.4244100</td><td>0</td></tr>\n",
       "\t<tr><td>ATG</td><td>North America</td><td>Antigua and Barbuda</td><td>2021-03-20</td><td>  1033</td><td> 22</td><td> 10.143</td><td>  28</td><td> 1</td><td> 0.143</td><td>⋯</td><td>191.511</td><td>13.17</td><td>  NA</td><td>  NA</td><td>    NA</td><td>3.80</td><td>77.02</td><td>0.778</td><td>2.7105518</td><td>0</td></tr>\n",
       "</tbody>\n",
       "</table>\n"
      ],
      "text/latex": [
       "A tibble: 6 × 61\n",
       "\\begin{tabular}{lllllllllllllllllllll}\n",
       " iso\\_code & continent & location & date & total\\_cases & new\\_cases & new\\_cases\\_smoothed & total\\_deaths & new\\_deaths & new\\_deaths\\_smoothed & ⋯ & cardiovasc\\_death\\_rate & diabetes\\_prevalence & female\\_smokers & male\\_smokers & handwashing\\_facilities & hospital\\_beds\\_per\\_thousand & life\\_expectancy & human\\_development\\_index & cfr & cfr\\_cat\\\\\n",
       " <chr> & <chr> & <chr> & <date> & <dbl> & <dbl> & <dbl> & <dbl> & <dbl> & <dbl> & ⋯ & <dbl> & <dbl> & <dbl> & <dbl> & <dbl> & <dbl> & <dbl> & <dbl> & <dbl> & <int>\\\\\n",
       "\\hline\n",
       "\t AFG & Asia          & Afghanistan         & 2021-03-20 &  56093 &  24 &  19.143 & 2462 &  0 &  1.143 & ⋯ & 597.029 &  9.59 &   NA &   NA & 37.746 & 0.50 & 64.83 & 0.511 & 4.3891395 & 1\\\\\n",
       "\t ALB & Europe        & Albania             & 2021-03-20 & 120541 & 519 & 531.429 & 2133 & 11 & 14.714 & ⋯ & 304.195 & 10.08 &  7.1 & 51.2 &     NA & 2.89 & 78.57 & 0.795 & 1.7695224 & 0\\\\\n",
       "\t DZA & Africa        & Algeria             & 2021-03-20 & 116066 &  96 & 131.857 & 3055 &  2 &  3.000 & ⋯ & 278.364 &  6.73 &  0.7 & 30.4 & 83.741 & 1.90 & 76.88 & 0.748 & 2.6321231 & 0\\\\\n",
       "\t AND & Europe        & Andorra             & 2021-03-20 &  11481 &  50 &  36.143 &  113 &  0 &  0.143 & ⋯ & 109.135 &  7.97 & 29.0 & 37.8 &     NA &   NA & 83.73 & 0.868 & 0.9842348 & 0\\\\\n",
       "\t AGO & Africa        & Angola              & 2021-03-20 &  21696 &  54 &  53.286 &  526 &  2 &  0.857 & ⋯ & 276.045 &  3.94 &   NA &   NA & 26.664 &   NA & 61.15 & 0.581 & 2.4244100 & 0\\\\\n",
       "\t ATG & North America & Antigua and Barbuda & 2021-03-20 &   1033 &  22 &  10.143 &   28 &  1 &  0.143 & ⋯ & 191.511 & 13.17 &   NA &   NA &     NA & 3.80 & 77.02 & 0.778 & 2.7105518 & 0\\\\\n",
       "\\end{tabular}\n"
      ],
      "text/markdown": [
       "\n",
       "A tibble: 6 × 61\n",
       "\n",
       "| iso_code &lt;chr&gt; | continent &lt;chr&gt; | location &lt;chr&gt; | date &lt;date&gt; | total_cases &lt;dbl&gt; | new_cases &lt;dbl&gt; | new_cases_smoothed &lt;dbl&gt; | total_deaths &lt;dbl&gt; | new_deaths &lt;dbl&gt; | new_deaths_smoothed &lt;dbl&gt; | ⋯ ⋯ | cardiovasc_death_rate &lt;dbl&gt; | diabetes_prevalence &lt;dbl&gt; | female_smokers &lt;dbl&gt; | male_smokers &lt;dbl&gt; | handwashing_facilities &lt;dbl&gt; | hospital_beds_per_thousand &lt;dbl&gt; | life_expectancy &lt;dbl&gt; | human_development_index &lt;dbl&gt; | cfr &lt;dbl&gt; | cfr_cat &lt;int&gt; |\n",
       "|---|---|---|---|---|---|---|---|---|---|---|---|---|---|---|---|---|---|---|---|---|\n",
       "| AFG | Asia          | Afghanistan         | 2021-03-20 |  56093 |  24 |  19.143 | 2462 |  0 |  1.143 | ⋯ | 597.029 |  9.59 |   NA |   NA | 37.746 | 0.50 | 64.83 | 0.511 | 4.3891395 | 1 |\n",
       "| ALB | Europe        | Albania             | 2021-03-20 | 120541 | 519 | 531.429 | 2133 | 11 | 14.714 | ⋯ | 304.195 | 10.08 |  7.1 | 51.2 |     NA | 2.89 | 78.57 | 0.795 | 1.7695224 | 0 |\n",
       "| DZA | Africa        | Algeria             | 2021-03-20 | 116066 |  96 | 131.857 | 3055 |  2 |  3.000 | ⋯ | 278.364 |  6.73 |  0.7 | 30.4 | 83.741 | 1.90 | 76.88 | 0.748 | 2.6321231 | 0 |\n",
       "| AND | Europe        | Andorra             | 2021-03-20 |  11481 |  50 |  36.143 |  113 |  0 |  0.143 | ⋯ | 109.135 |  7.97 | 29.0 | 37.8 |     NA |   NA | 83.73 | 0.868 | 0.9842348 | 0 |\n",
       "| AGO | Africa        | Angola              | 2021-03-20 |  21696 |  54 |  53.286 |  526 |  2 |  0.857 | ⋯ | 276.045 |  3.94 |   NA |   NA | 26.664 |   NA | 61.15 | 0.581 | 2.4244100 | 0 |\n",
       "| ATG | North America | Antigua and Barbuda | 2021-03-20 |   1033 |  22 |  10.143 |   28 |  1 |  0.143 | ⋯ | 191.511 | 13.17 |   NA |   NA |     NA | 3.80 | 77.02 | 0.778 | 2.7105518 | 0 |\n",
       "\n"
      ],
      "text/plain": [
       "  iso_code continent     location            date       total_cases new_cases\n",
       "1 AFG      Asia          Afghanistan         2021-03-20  56093       24      \n",
       "2 ALB      Europe        Albania             2021-03-20 120541      519      \n",
       "3 DZA      Africa        Algeria             2021-03-20 116066       96      \n",
       "4 AND      Europe        Andorra             2021-03-20  11481       50      \n",
       "5 AGO      Africa        Angola              2021-03-20  21696       54      \n",
       "6 ATG      North America Antigua and Barbuda 2021-03-20   1033       22      \n",
       "  new_cases_smoothed total_deaths new_deaths new_deaths_smoothed ⋯\n",
       "1  19.143            2462          0          1.143              ⋯\n",
       "2 531.429            2133         11         14.714              ⋯\n",
       "3 131.857            3055          2          3.000              ⋯\n",
       "4  36.143             113          0          0.143              ⋯\n",
       "5  53.286             526          2          0.857              ⋯\n",
       "6  10.143              28          1          0.143              ⋯\n",
       "  cardiovasc_death_rate diabetes_prevalence female_smokers male_smokers\n",
       "1 597.029                9.59                 NA             NA        \n",
       "2 304.195               10.08                7.1           51.2        \n",
       "3 278.364                6.73                0.7           30.4        \n",
       "4 109.135                7.97               29.0           37.8        \n",
       "5 276.045                3.94                 NA             NA        \n",
       "6 191.511               13.17                 NA             NA        \n",
       "  handwashing_facilities hospital_beds_per_thousand life_expectancy\n",
       "1 37.746                 0.50                       64.83          \n",
       "2     NA                 2.89                       78.57          \n",
       "3 83.741                 1.90                       76.88          \n",
       "4     NA                   NA                       83.73          \n",
       "5 26.664                   NA                       61.15          \n",
       "6     NA                 3.80                       77.02          \n",
       "  human_development_index cfr       cfr_cat\n",
       "1 0.511                   4.3891395 1      \n",
       "2 0.795                   1.7695224 0      \n",
       "3 0.748                   2.6321231 0      \n",
       "4 0.868                   0.9842348 0      \n",
       "5 0.581                   2.4244100 0      \n",
       "6 0.778                   2.7105518 0      "
      ]
     },
     "metadata": {},
     "output_type": "display_data"
    }
   ],
   "source": [
    "# Check the first few rows \n",
    "head(cfr)"
   ]
  },
  {
   "cell_type": "markdown",
   "metadata": {},
   "source": [
    "Note that the vector type of the outcome variable `cfr_cat` is an integer. Use the **`factor( )`** function to change it as a factor with the label `0` as the reference. "
   ]
  },
  {
   "cell_type": "code",
   "execution_count": 35,
   "metadata": {},
   "outputs": [],
   "source": [
    "cfr$cfr_cat <- factor(cfr$cfr_cat,\n",
    "                      levels = c(0,1))"
   ]
  },
  {
   "cell_type": "code",
   "execution_count": 36,
   "metadata": {},
   "outputs": [
    {
     "data": {
      "text/html": [
       "<table>\n",
       "<caption>A tibble: 6 × 61</caption>\n",
       "<thead>\n",
       "\t<tr><th scope=col>iso_code</th><th scope=col>continent</th><th scope=col>location</th><th scope=col>date</th><th scope=col>total_cases</th><th scope=col>new_cases</th><th scope=col>new_cases_smoothed</th><th scope=col>total_deaths</th><th scope=col>new_deaths</th><th scope=col>new_deaths_smoothed</th><th scope=col>⋯</th><th scope=col>cardiovasc_death_rate</th><th scope=col>diabetes_prevalence</th><th scope=col>female_smokers</th><th scope=col>male_smokers</th><th scope=col>handwashing_facilities</th><th scope=col>hospital_beds_per_thousand</th><th scope=col>life_expectancy</th><th scope=col>human_development_index</th><th scope=col>cfr</th><th scope=col>cfr_cat</th></tr>\n",
       "\t<tr><th scope=col>&lt;chr&gt;</th><th scope=col>&lt;chr&gt;</th><th scope=col>&lt;chr&gt;</th><th scope=col>&lt;date&gt;</th><th scope=col>&lt;dbl&gt;</th><th scope=col>&lt;dbl&gt;</th><th scope=col>&lt;dbl&gt;</th><th scope=col>&lt;dbl&gt;</th><th scope=col>&lt;dbl&gt;</th><th scope=col>&lt;dbl&gt;</th><th scope=col>⋯</th><th scope=col>&lt;dbl&gt;</th><th scope=col>&lt;dbl&gt;</th><th scope=col>&lt;dbl&gt;</th><th scope=col>&lt;dbl&gt;</th><th scope=col>&lt;dbl&gt;</th><th scope=col>&lt;dbl&gt;</th><th scope=col>&lt;dbl&gt;</th><th scope=col>&lt;dbl&gt;</th><th scope=col>&lt;dbl&gt;</th><th scope=col>&lt;fct&gt;</th></tr>\n",
       "</thead>\n",
       "<tbody>\n",
       "\t<tr><td>AFG</td><td>Asia         </td><td>Afghanistan        </td><td>2021-03-20</td><td> 56093</td><td> 24</td><td> 19.143</td><td>2462</td><td> 0</td><td> 1.143</td><td>⋯</td><td>597.029</td><td> 9.59</td><td>  NA</td><td>  NA</td><td>37.746</td><td>0.50</td><td>64.83</td><td>0.511</td><td>4.3891395</td><td>1</td></tr>\n",
       "\t<tr><td>ALB</td><td>Europe       </td><td>Albania            </td><td>2021-03-20</td><td>120541</td><td>519</td><td>531.429</td><td>2133</td><td>11</td><td>14.714</td><td>⋯</td><td>304.195</td><td>10.08</td><td> 7.1</td><td>51.2</td><td>    NA</td><td>2.89</td><td>78.57</td><td>0.795</td><td>1.7695224</td><td>0</td></tr>\n",
       "\t<tr><td>DZA</td><td>Africa       </td><td>Algeria            </td><td>2021-03-20</td><td>116066</td><td> 96</td><td>131.857</td><td>3055</td><td> 2</td><td> 3.000</td><td>⋯</td><td>278.364</td><td> 6.73</td><td> 0.7</td><td>30.4</td><td>83.741</td><td>1.90</td><td>76.88</td><td>0.748</td><td>2.6321231</td><td>0</td></tr>\n",
       "\t<tr><td>AND</td><td>Europe       </td><td>Andorra            </td><td>2021-03-20</td><td> 11481</td><td> 50</td><td> 36.143</td><td> 113</td><td> 0</td><td> 0.143</td><td>⋯</td><td>109.135</td><td> 7.97</td><td>29.0</td><td>37.8</td><td>    NA</td><td>  NA</td><td>83.73</td><td>0.868</td><td>0.9842348</td><td>0</td></tr>\n",
       "\t<tr><td>AGO</td><td>Africa       </td><td>Angola             </td><td>2021-03-20</td><td> 21696</td><td> 54</td><td> 53.286</td><td> 526</td><td> 2</td><td> 0.857</td><td>⋯</td><td>276.045</td><td> 3.94</td><td>  NA</td><td>  NA</td><td>26.664</td><td>  NA</td><td>61.15</td><td>0.581</td><td>2.4244100</td><td>0</td></tr>\n",
       "\t<tr><td>ATG</td><td>North America</td><td>Antigua and Barbuda</td><td>2021-03-20</td><td>  1033</td><td> 22</td><td> 10.143</td><td>  28</td><td> 1</td><td> 0.143</td><td>⋯</td><td>191.511</td><td>13.17</td><td>  NA</td><td>  NA</td><td>    NA</td><td>3.80</td><td>77.02</td><td>0.778</td><td>2.7105518</td><td>0</td></tr>\n",
       "</tbody>\n",
       "</table>\n"
      ],
      "text/latex": [
       "A tibble: 6 × 61\n",
       "\\begin{tabular}{lllllllllllllllllllll}\n",
       " iso\\_code & continent & location & date & total\\_cases & new\\_cases & new\\_cases\\_smoothed & total\\_deaths & new\\_deaths & new\\_deaths\\_smoothed & ⋯ & cardiovasc\\_death\\_rate & diabetes\\_prevalence & female\\_smokers & male\\_smokers & handwashing\\_facilities & hospital\\_beds\\_per\\_thousand & life\\_expectancy & human\\_development\\_index & cfr & cfr\\_cat\\\\\n",
       " <chr> & <chr> & <chr> & <date> & <dbl> & <dbl> & <dbl> & <dbl> & <dbl> & <dbl> & ⋯ & <dbl> & <dbl> & <dbl> & <dbl> & <dbl> & <dbl> & <dbl> & <dbl> & <dbl> & <fct>\\\\\n",
       "\\hline\n",
       "\t AFG & Asia          & Afghanistan         & 2021-03-20 &  56093 &  24 &  19.143 & 2462 &  0 &  1.143 & ⋯ & 597.029 &  9.59 &   NA &   NA & 37.746 & 0.50 & 64.83 & 0.511 & 4.3891395 & 1\\\\\n",
       "\t ALB & Europe        & Albania             & 2021-03-20 & 120541 & 519 & 531.429 & 2133 & 11 & 14.714 & ⋯ & 304.195 & 10.08 &  7.1 & 51.2 &     NA & 2.89 & 78.57 & 0.795 & 1.7695224 & 0\\\\\n",
       "\t DZA & Africa        & Algeria             & 2021-03-20 & 116066 &  96 & 131.857 & 3055 &  2 &  3.000 & ⋯ & 278.364 &  6.73 &  0.7 & 30.4 & 83.741 & 1.90 & 76.88 & 0.748 & 2.6321231 & 0\\\\\n",
       "\t AND & Europe        & Andorra             & 2021-03-20 &  11481 &  50 &  36.143 &  113 &  0 &  0.143 & ⋯ & 109.135 &  7.97 & 29.0 & 37.8 &     NA &   NA & 83.73 & 0.868 & 0.9842348 & 0\\\\\n",
       "\t AGO & Africa        & Angola              & 2021-03-20 &  21696 &  54 &  53.286 &  526 &  2 &  0.857 & ⋯ & 276.045 &  3.94 &   NA &   NA & 26.664 &   NA & 61.15 & 0.581 & 2.4244100 & 0\\\\\n",
       "\t ATG & North America & Antigua and Barbuda & 2021-03-20 &   1033 &  22 &  10.143 &   28 &  1 &  0.143 & ⋯ & 191.511 & 13.17 &   NA &   NA &     NA & 3.80 & 77.02 & 0.778 & 2.7105518 & 0\\\\\n",
       "\\end{tabular}\n"
      ],
      "text/markdown": [
       "\n",
       "A tibble: 6 × 61\n",
       "\n",
       "| iso_code &lt;chr&gt; | continent &lt;chr&gt; | location &lt;chr&gt; | date &lt;date&gt; | total_cases &lt;dbl&gt; | new_cases &lt;dbl&gt; | new_cases_smoothed &lt;dbl&gt; | total_deaths &lt;dbl&gt; | new_deaths &lt;dbl&gt; | new_deaths_smoothed &lt;dbl&gt; | ⋯ ⋯ | cardiovasc_death_rate &lt;dbl&gt; | diabetes_prevalence &lt;dbl&gt; | female_smokers &lt;dbl&gt; | male_smokers &lt;dbl&gt; | handwashing_facilities &lt;dbl&gt; | hospital_beds_per_thousand &lt;dbl&gt; | life_expectancy &lt;dbl&gt; | human_development_index &lt;dbl&gt; | cfr &lt;dbl&gt; | cfr_cat &lt;fct&gt; |\n",
       "|---|---|---|---|---|---|---|---|---|---|---|---|---|---|---|---|---|---|---|---|---|\n",
       "| AFG | Asia          | Afghanistan         | 2021-03-20 |  56093 |  24 |  19.143 | 2462 |  0 |  1.143 | ⋯ | 597.029 |  9.59 |   NA |   NA | 37.746 | 0.50 | 64.83 | 0.511 | 4.3891395 | 1 |\n",
       "| ALB | Europe        | Albania             | 2021-03-20 | 120541 | 519 | 531.429 | 2133 | 11 | 14.714 | ⋯ | 304.195 | 10.08 |  7.1 | 51.2 |     NA | 2.89 | 78.57 | 0.795 | 1.7695224 | 0 |\n",
       "| DZA | Africa        | Algeria             | 2021-03-20 | 116066 |  96 | 131.857 | 3055 |  2 |  3.000 | ⋯ | 278.364 |  6.73 |  0.7 | 30.4 | 83.741 | 1.90 | 76.88 | 0.748 | 2.6321231 | 0 |\n",
       "| AND | Europe        | Andorra             | 2021-03-20 |  11481 |  50 |  36.143 |  113 |  0 |  0.143 | ⋯ | 109.135 |  7.97 | 29.0 | 37.8 |     NA |   NA | 83.73 | 0.868 | 0.9842348 | 0 |\n",
       "| AGO | Africa        | Angola              | 2021-03-20 |  21696 |  54 |  53.286 |  526 |  2 |  0.857 | ⋯ | 276.045 |  3.94 |   NA |   NA | 26.664 |   NA | 61.15 | 0.581 | 2.4244100 | 0 |\n",
       "| ATG | North America | Antigua and Barbuda | 2021-03-20 |   1033 |  22 |  10.143 |   28 |  1 |  0.143 | ⋯ | 191.511 | 13.17 |   NA |   NA |     NA | 3.80 | 77.02 | 0.778 | 2.7105518 | 0 |\n",
       "\n"
      ],
      "text/plain": [
       "  iso_code continent     location            date       total_cases new_cases\n",
       "1 AFG      Asia          Afghanistan         2021-03-20  56093       24      \n",
       "2 ALB      Europe        Albania             2021-03-20 120541      519      \n",
       "3 DZA      Africa        Algeria             2021-03-20 116066       96      \n",
       "4 AND      Europe        Andorra             2021-03-20  11481       50      \n",
       "5 AGO      Africa        Angola              2021-03-20  21696       54      \n",
       "6 ATG      North America Antigua and Barbuda 2021-03-20   1033       22      \n",
       "  new_cases_smoothed total_deaths new_deaths new_deaths_smoothed ⋯\n",
       "1  19.143            2462          0          1.143              ⋯\n",
       "2 531.429            2133         11         14.714              ⋯\n",
       "3 131.857            3055          2          3.000              ⋯\n",
       "4  36.143             113          0          0.143              ⋯\n",
       "5  53.286             526          2          0.857              ⋯\n",
       "6  10.143              28          1          0.143              ⋯\n",
       "  cardiovasc_death_rate diabetes_prevalence female_smokers male_smokers\n",
       "1 597.029                9.59                 NA             NA        \n",
       "2 304.195               10.08                7.1           51.2        \n",
       "3 278.364                6.73                0.7           30.4        \n",
       "4 109.135                7.97               29.0           37.8        \n",
       "5 276.045                3.94                 NA             NA        \n",
       "6 191.511               13.17                 NA             NA        \n",
       "  handwashing_facilities hospital_beds_per_thousand life_expectancy\n",
       "1 37.746                 0.50                       64.83          \n",
       "2     NA                 2.89                       78.57          \n",
       "3 83.741                 1.90                       76.88          \n",
       "4     NA                   NA                       83.73          \n",
       "5 26.664                   NA                       61.15          \n",
       "6     NA                 3.80                       77.02          \n",
       "  human_development_index cfr       cfr_cat\n",
       "1 0.511                   4.3891395 1      \n",
       "2 0.795                   1.7695224 0      \n",
       "3 0.748                   2.6321231 0      \n",
       "4 0.868                   0.9842348 0      \n",
       "5 0.581                   2.4244100 0      \n",
       "6 0.778                   2.7105518 0      "
      ]
     },
     "metadata": {},
     "output_type": "display_data"
    }
   ],
   "source": [
    "# Check the top rows to see if crf_cat is a factor\n",
    "head(cfr)"
   ]
  },
  {
   "cell_type": "code",
   "execution_count": 37,
   "metadata": {},
   "outputs": [
    {
     "data": {
      "text/plain": [
       "\n",
       "  0   1 \n",
       "148  32 "
      ]
     },
     "metadata": {},
     "output_type": "display_data"
    }
   ],
   "source": [
    "# How many countries have labels \"1\" and \"0\" in the cfr_cat variable?\n",
    "table(cfr$cfr_cat)"
   ]
  },
  {
   "cell_type": "markdown",
   "metadata": {},
   "source": [
    "## Logistic Regression"
   ]
  },
  {
   "cell_type": "markdown",
   "metadata": {},
   "source": [
    "From the lecture, logistic regression is a type of generalized linear model (GLM), which is a family of linear models that is useful if the outcome variable is a count or categorical data. Other types of GLMs include Poisson regression, binomial and binary regression. A GLM has three components:\n",
    "1. An exponential family model for the response variable.\n",
    "2. A systematic component through linear predictor or explanatory variables.\n",
    "3. A link function that connects the response or outcome variable to the linear predictor variables."
   ]
  },
  {
   "cell_type": "markdown",
   "metadata": {},
   "source": [
    "$$ {Y} = {\\beta}_{0} + {\\beta}_{1}{X}_{1} + {\\beta}_{2}{X}_{2} + {\\beta}_{3}{X}_{3} + ... + {\\beta}_{n}{X}_{n} $$ "
   ]
  },
  {
   "cell_type": "markdown",
   "metadata": {},
   "source": [
    "In this model, the response variable `Y` is a binary indicator of whether the CFR is greater than 3 (code = 1) or CFR is less than or equal to 3 (code = 0). Use the following the explanatory variables in this model: GDP per capita, population, population density, cardiovascular disease (CVD) death rate, and diabetes prevalence."
   ]
  },
  {
   "cell_type": "code",
   "execution_count": 45,
   "metadata": {},
   "outputs": [
    {
     "data": {
      "text/html": [
       "<table>\n",
       "<caption>A tibble: 6 × 8</caption>\n",
       "<thead>\n",
       "\t<tr><th scope=col>cfr_cat</th><th scope=col>male_smokers</th><th scope=col>female_smokers</th><th scope=col>gdp_per_capita</th><th scope=col>population</th><th scope=col>population_density</th><th scope=col>cardiovasc_death_rate</th><th scope=col>diabetes_prevalence</th></tr>\n",
       "\t<tr><th scope=col>&lt;fct&gt;</th><th scope=col>&lt;dbl&gt;</th><th scope=col>&lt;dbl&gt;</th><th scope=col>&lt;dbl&gt;</th><th scope=col>&lt;dbl&gt;</th><th scope=col>&lt;dbl&gt;</th><th scope=col>&lt;dbl&gt;</th><th scope=col>&lt;dbl&gt;</th></tr>\n",
       "</thead>\n",
       "<tbody>\n",
       "\t<tr><td>1</td><td>  NA</td><td>  NA</td><td> 1803.987</td><td>38928341</td><td> 54.422</td><td>597.029</td><td> 9.59</td></tr>\n",
       "\t<tr><td>0</td><td>51.2</td><td> 7.1</td><td>11803.431</td><td> 2877800</td><td>104.871</td><td>304.195</td><td>10.08</td></tr>\n",
       "\t<tr><td>0</td><td>30.4</td><td> 0.7</td><td>13913.839</td><td>43851043</td><td> 17.348</td><td>278.364</td><td> 6.73</td></tr>\n",
       "\t<tr><td>0</td><td>37.8</td><td>29.0</td><td>       NA</td><td>   77265</td><td>163.755</td><td>109.135</td><td> 7.97</td></tr>\n",
       "\t<tr><td>0</td><td>  NA</td><td>  NA</td><td> 5819.495</td><td>32866268</td><td> 23.890</td><td>276.045</td><td> 3.94</td></tr>\n",
       "\t<tr><td>0</td><td>  NA</td><td>  NA</td><td>21490.943</td><td>   97928</td><td>231.845</td><td>191.511</td><td>13.17</td></tr>\n",
       "</tbody>\n",
       "</table>\n"
      ],
      "text/latex": [
       "A tibble: 6 × 8\n",
       "\\begin{tabular}{llllllll}\n",
       " cfr\\_cat & male\\_smokers & female\\_smokers & gdp\\_per\\_capita & population & population\\_density & cardiovasc\\_death\\_rate & diabetes\\_prevalence\\\\\n",
       " <fct> & <dbl> & <dbl> & <dbl> & <dbl> & <dbl> & <dbl> & <dbl>\\\\\n",
       "\\hline\n",
       "\t 1 &   NA &   NA &  1803.987 & 38928341 &  54.422 & 597.029 &  9.59\\\\\n",
       "\t 0 & 51.2 &  7.1 & 11803.431 &  2877800 & 104.871 & 304.195 & 10.08\\\\\n",
       "\t 0 & 30.4 &  0.7 & 13913.839 & 43851043 &  17.348 & 278.364 &  6.73\\\\\n",
       "\t 0 & 37.8 & 29.0 &        NA &    77265 & 163.755 & 109.135 &  7.97\\\\\n",
       "\t 0 &   NA &   NA &  5819.495 & 32866268 &  23.890 & 276.045 &  3.94\\\\\n",
       "\t 0 &   NA &   NA & 21490.943 &    97928 & 231.845 & 191.511 & 13.17\\\\\n",
       "\\end{tabular}\n"
      ],
      "text/markdown": [
       "\n",
       "A tibble: 6 × 8\n",
       "\n",
       "| cfr_cat &lt;fct&gt; | male_smokers &lt;dbl&gt; | female_smokers &lt;dbl&gt; | gdp_per_capita &lt;dbl&gt; | population &lt;dbl&gt; | population_density &lt;dbl&gt; | cardiovasc_death_rate &lt;dbl&gt; | diabetes_prevalence &lt;dbl&gt; |\n",
       "|---|---|---|---|---|---|---|---|\n",
       "| 1 |   NA |   NA |  1803.987 | 38928341 |  54.422 | 597.029 |  9.59 |\n",
       "| 0 | 51.2 |  7.1 | 11803.431 |  2877800 | 104.871 | 304.195 | 10.08 |\n",
       "| 0 | 30.4 |  0.7 | 13913.839 | 43851043 |  17.348 | 278.364 |  6.73 |\n",
       "| 0 | 37.8 | 29.0 |        NA |    77265 | 163.755 | 109.135 |  7.97 |\n",
       "| 0 |   NA |   NA |  5819.495 | 32866268 |  23.890 | 276.045 |  3.94 |\n",
       "| 0 |   NA |   NA | 21490.943 |    97928 | 231.845 | 191.511 | 13.17 |\n",
       "\n"
      ],
      "text/plain": [
       "  cfr_cat male_smokers female_smokers gdp_per_capita population\n",
       "1 1         NA           NA            1803.987      38928341  \n",
       "2 0       51.2          7.1           11803.431       2877800  \n",
       "3 0       30.4          0.7           13913.839      43851043  \n",
       "4 0       37.8         29.0                  NA         77265  \n",
       "5 0         NA           NA            5819.495      32866268  \n",
       "6 0         NA           NA           21490.943         97928  \n",
       "  population_density cardiovasc_death_rate diabetes_prevalence\n",
       "1  54.422            597.029                9.59              \n",
       "2 104.871            304.195               10.08              \n",
       "3  17.348            278.364                6.73              \n",
       "4 163.755            109.135                7.97              \n",
       "5  23.890            276.045                3.94              \n",
       "6 231.845            191.511               13.17              "
      ]
     },
     "metadata": {},
     "output_type": "display_data"
    }
   ],
   "source": [
    "# Subset the variables of interest\n",
    "cfr_sub <- cfr %>%\n",
    "    select(cfr_cat, male_smokers, female_smokers, gdp_per_capita, population, \n",
    "           population_density, cardiovasc_death_rate, diabetes_prevalence)\n",
    "head(cfr_sub)"
   ]
  },
  {
   "cell_type": "code",
   "execution_count": 46,
   "metadata": {},
   "outputs": [
    {
     "data": {
      "text/plain": [
       " cfr_cat  male_smokers   female_smokers    gdp_per_capita     population   \n",
       " 0:148   Min.   :2.041   Min.   :-2.3026   Min.   : 6.494   Min.   :10.43  \n",
       " 1: 32   1st Qu.:3.060   1st Qu.: 0.6419   1st Qu.: 8.349   1st Qu.:14.87  \n",
       "         Median :3.436   Median : 1.7664   Median : 9.417   Median :16.12  \n",
       "         Mean   :3.378   Mean   : 1.6245   Mean   : 9.244   Mean   :15.93  \n",
       "         3rd Qu.:3.712   3rd Qu.: 2.9575   3rd Qu.:10.196   3rd Qu.:17.27  \n",
       "         Max.   :4.332   Max.   : 3.7842   Max.   :11.669   Max.   :21.09  \n",
       "         NA's   :44      NA's   :42        NA's   :7                       \n",
       " population_density cardiovasc_death_rate diabetes_prevalence\n",
       " Min.   :0.6831     Min.   :4.374         Min.   :-0.01005   \n",
       " 1st Qu.:3.5905     1st Qu.:5.126         1st Qu.: 1.64481   \n",
       " Median :4.4140     Median :5.494         Median : 1.96150   \n",
       " Mean   :4.3663     Mean   :5.444         Mean   : 1.90522   \n",
       " 3rd Qu.:5.3354     3rd Qu.:5.779         3rd Qu.: 2.28747   \n",
       " Max.   :9.8703     Max.   :6.585         Max.   : 3.09195   \n",
       " NA's   :3          NA's   :4             NA's   :3          "
      ]
     },
     "metadata": {},
     "output_type": "display_data"
    }
   ],
   "source": [
    "# Transform the predictor variables to log\n",
    "cfr_sub <- cfr_sub %>% mutate_at(\n",
    "    c(\"male_smokers\", \"female_smokers\", \"gdp_per_capita\", \"population\", \"population_density\", \"cardiovasc_death_rate\", \"diabetes_prevalence\"), \n",
    "    log)\n",
    "summary(cfr_sub)"
   ]
  },
  {
   "cell_type": "markdown",
   "metadata": {},
   "source": [
    "### Model instantiation"
   ]
  },
  {
   "cell_type": "markdown",
   "metadata": {},
   "source": [
    "Using the **tidymodels** approach, the first step is to specify the type of model. Use the **`logistic_reg( )`** function to set up the logistic regression model. Set the `mode` argument to **`classification`** since the model will determine if the outcome is \"1\" or \"0\" based on the predictor variables. The **`set_engine( )`** is used to specify the algorithm in fitting the model, which in this case is `glm`."
   ]
  },
  {
   "cell_type": "code",
   "execution_count": 49,
   "metadata": {},
   "outputs": [],
   "source": [
    "log_model <- logistic_reg(mode = \"classification\") %>%\n",
    "                set_engine(\"glm\")"
   ]
  },
  {
   "cell_type": "markdown",
   "metadata": {},
   "source": [
    "### Model formula"
   ]
  },
  {
   "cell_type": "markdown",
   "metadata": {},
   "source": [
    "Create a formula vector describing the outcome variable and explanatory variables of the model. "
   ]
  },
  {
   "cell_type": "code",
   "execution_count": 51,
   "metadata": {},
   "outputs": [],
   "source": [
    "formula <- cfr_cat ~ male_smokers + female_smokers + gdp_per_capita + population + population_density + \n",
    "            cardiovasc_death_rate + diabetes_prevalence"
   ]
  },
  {
   "cell_type": "markdown",
   "metadata": {},
   "source": [
    "### Model fitting"
   ]
  },
  {
   "cell_type": "markdown",
   "metadata": {},
   "source": [
    "Use the **`fit( )`** function for run the model."
   ]
  },
  {
   "cell_type": "code",
   "execution_count": 52,
   "metadata": {},
   "outputs": [
    {
     "data": {
      "text/plain": [
       "parsnip model object\n",
       "\n",
       "Fit time:  22ms \n",
       "\n",
       "Call:  stats::glm(formula = cfr_cat ~ male_smokers + female_smokers + \n",
       "    gdp_per_capita + population + population_density + cardiovasc_death_rate + \n",
       "    diabetes_prevalence, family = stats::binomial, data = data)\n",
       "\n",
       "Coefficients:\n",
       "          (Intercept)           male_smokers         female_smokers  \n",
       "              3.14572                0.29141               -0.01525  \n",
       "       gdp_per_capita             population     population_density  \n",
       "             -0.61898                0.18726               -0.19658  \n",
       "cardiovasc_death_rate    diabetes_prevalence  \n",
       "             -0.39073               -0.02426  \n",
       "\n",
       "Degrees of Freedom: 133 Total (i.e. Null);  126 Residual\n",
       "  (46 observations deleted due to missingness)\n",
       "Null Deviance:\t    126 \n",
       "Residual Deviance: 114.9 \tAIC: 130.9"
      ]
     },
     "metadata": {},
     "output_type": "display_data"
    }
   ],
   "source": [
    "log_fit <- log_model %>%\n",
    "            fit(formula, data = cfr_sub)\n",
    "log_fit"
   ]
  },
  {
   "cell_type": "markdown",
   "metadata": {},
   "source": [
    "Access the results using the **`pluck( )`** and **`summary( )`** functions."
   ]
  },
  {
   "cell_type": "code",
   "execution_count": 53,
   "metadata": {},
   "outputs": [
    {
     "data": {
      "text/plain": [
       "\n",
       "Call:\n",
       "stats::glm(formula = cfr_cat ~ male_smokers + female_smokers + \n",
       "    gdp_per_capita + population + population_density + cardiovasc_death_rate + \n",
       "    diabetes_prevalence, family = stats::binomial, data = data)\n",
       "\n",
       "Deviance Residuals: \n",
       "    Min       1Q   Median       3Q      Max  \n",
       "-1.1654  -0.6860  -0.4770  -0.3337   2.2045  \n",
       "\n",
       "Coefficients:\n",
       "                      Estimate Std. Error z value Pr(>|z|)  \n",
       "(Intercept)            3.14572    5.90470   0.533   0.5942  \n",
       "male_smokers           0.29141    0.66685   0.437   0.6621  \n",
       "female_smokers        -0.01525    0.21508  -0.071   0.9435  \n",
       "gdp_per_capita        -0.61898    0.31942  -1.938   0.0526 .\n",
       "population             0.18726    0.14590   1.283   0.1993  \n",
       "population_density    -0.19658    0.20018  -0.982   0.3261  \n",
       "cardiovasc_death_rate -0.39073    0.76922  -0.508   0.6115  \n",
       "diabetes_prevalence   -0.02426    0.53132  -0.046   0.9636  \n",
       "---\n",
       "Signif. codes:  0 ‘***’ 0.001 ‘**’ 0.01 ‘*’ 0.05 ‘.’ 0.1 ‘ ’ 1\n",
       "\n",
       "(Dispersion parameter for binomial family taken to be 1)\n",
       "\n",
       "    Null deviance: 125.97  on 133  degrees of freedom\n",
       "Residual deviance: 114.92  on 126  degrees of freedom\n",
       "  (46 observations deleted due to missingness)\n",
       "AIC: 130.92\n",
       "\n",
       "Number of Fisher Scoring iterations: 5\n"
      ]
     },
     "metadata": {},
     "output_type": "display_data"
    }
   ],
   "source": [
    "log_model_res <- log_fit %>% \n",
    "                    pluck(\"fit\") %>% \n",
    "                    summary()\n",
    "log_model_res"
   ]
  },
  {
   "cell_type": "code",
   "execution_count": null,
   "metadata": {},
   "outputs": [],
   "source": [
    "# What is your interpretation based on this results?\n",
    "# Answer:"
   ]
  },
  {
   "cell_type": "markdown",
   "metadata": {},
   "source": [
    "## Model selection"
   ]
  },
  {
   "cell_type": "markdown",
   "metadata": {},
   "source": [
    "Play around with the different variables in the COVID-19 case-fatality rate dataset to find the best-fit model using model selection method of your choice. Change the cut-off value of CFR and see if the model improves or not."
   ]
  },
  {
   "cell_type": "code",
   "execution_count": null,
   "metadata": {},
   "outputs": [],
   "source": [
    "# Write your code below for model selection\n"
   ]
  }
 ],
 "metadata": {
  "kernelspec": {
   "display_name": "R",
   "language": "R",
   "name": "ir"
  },
  "language_info": {
   "codemirror_mode": "r",
   "file_extension": ".r",
   "mimetype": "text/x-r-source",
   "name": "R",
   "pygments_lexer": "r",
   "version": "4.0.3"
  }
 },
 "nbformat": 4,
 "nbformat_minor": 4
}
