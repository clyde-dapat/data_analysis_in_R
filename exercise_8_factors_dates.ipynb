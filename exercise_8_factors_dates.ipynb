{
 "cells": [
  {
   "cell_type": "markdown",
   "metadata": {},
   "source": [
    "# Exercise: Categorical and Date Variables"
   ]
  },
  {
   "cell_type": "markdown",
   "metadata": {},
   "source": [
    "Transforming data include not only manipulating numerical and character vectors, but also changing data into categorical variables that are handy when doing statistical analyis or plotting with groupings in the variable of interest, e.g. virus positive vs. negative group, vaccinated vs. placebo group, etc. In addition, if you are handling time-series data such as the COVID-19 dataset, then it is easier to work with this data if R is aware that the variable has a time element.  "
   ]
  },
  {
   "cell_type": "markdown",
   "metadata": {},
   "source": [
    "When you finish this exercise, you will learn how to:\n",
    "1. Handle categorical variables using the **forcats** package\n",
    "2. Handle date variables using the **lubridate** package"
   ]
  },
  {
   "cell_type": "markdown",
   "metadata": {},
   "source": [
    "Load packages in tidyverse."
   ]
  },
  {
   "cell_type": "code",
   "execution_count": 1,
   "metadata": {},
   "outputs": [
    {
     "name": "stderr",
     "output_type": "stream",
     "text": [
      "── \u001b[1mAttaching packages\u001b[22m ─────────────────────────────────────── tidyverse 1.3.0 ──\n",
      "\n",
      "\u001b[32m✔\u001b[39m \u001b[34mggplot2\u001b[39m 3.3.2     \u001b[32m✔\u001b[39m \u001b[34mpurrr  \u001b[39m 0.3.4\n",
      "\u001b[32m✔\u001b[39m \u001b[34mtibble \u001b[39m 3.0.4     \u001b[32m✔\u001b[39m \u001b[34mdplyr  \u001b[39m 1.0.2\n",
      "\u001b[32m✔\u001b[39m \u001b[34mtidyr  \u001b[39m 1.1.2     \u001b[32m✔\u001b[39m \u001b[34mstringr\u001b[39m 1.4.0\n",
      "\u001b[32m✔\u001b[39m \u001b[34mreadr  \u001b[39m 1.4.0     \u001b[32m✔\u001b[39m \u001b[34mforcats\u001b[39m 0.5.0\n",
      "\n",
      "── \u001b[1mConflicts\u001b[22m ────────────────────────────────────────── tidyverse_conflicts() ──\n",
      "\u001b[31m✖\u001b[39m \u001b[34mdplyr\u001b[39m::\u001b[32mfilter()\u001b[39m masks \u001b[34mstats\u001b[39m::filter()\n",
      "\u001b[31m✖\u001b[39m \u001b[34mdplyr\u001b[39m::\u001b[32mlag()\u001b[39m    masks \u001b[34mstats\u001b[39m::lag()\n",
      "\n"
     ]
    }
   ],
   "source": [
    "# Load tidyverse\n",
    "library(tidyverse)"
   ]
  },
  {
   "cell_type": "markdown",
   "metadata": {},
   "source": [
    "## **forcats** package"
   ]
  },
  {
   "cell_type": "markdown",
   "metadata": {},
   "source": [
    "In this notebook, you will be using the functions in the **forcats** package to manipulate categorical variables. Check out the [cheatsheet for **forcats**](https://raw.githubusercontent.com/rstudio/cheatsheets/master/factors.pdf) to familiarize yourself with its functions. **Forcats** are useful when you are handling factors or categorical variables, which a have a fixed and known set of values."
   ]
  },
  {
   "cell_type": "code",
   "execution_count": 2,
   "metadata": {},
   "outputs": [
    {
     "data": {
      "text/plain": [
       "Documentation for package ‘forcats’\n",
       "\n",
       "\n",
       "\t\tInformation on package ‘forcats’\n",
       "\n",
       "Description:\n",
       "\n",
       "Package:            forcats\n",
       "Title:              Tools for Working with Categorical Variables\n",
       "                    (Factors)\n",
       "Version:            0.5.0\n",
       "Authors@R:          c(person(given = \"Hadley\", family = \"Wickham\", role\n",
       "                    = c(\"aut\", \"cre\"), email = \"hadley@rstudio.com\"),\n",
       "                    person(given = \"RStudio\", role = c(\"cph\", \"fnd\")))\n",
       "Description:        Helpers for reordering factor levels (including\n",
       "                    moving specified levels to front, ordering by first\n",
       "                    appearance, reversing, and randomly shuffling), and\n",
       "                    tools for modifying factor levels (including\n",
       "                    collapsing rare levels into other, 'anonymising',\n",
       "                    and manually 'recoding').\n",
       "License:            GPL-3\n",
       "URL:                http://forcats.tidyverse.org,\n",
       "                    https://github.com/tidyverse/forcats\n",
       "BugReports:         https://github.com/tidyverse/forcats/issues\n",
       "Depends:            R (>= 3.2)\n",
       "Imports:            ellipsis, magrittr, rlang, tibble\n",
       "Suggests:           covr, ggplot2, testthat, readr, knitr, rmarkdown,\n",
       "                    dplyr\n",
       "Encoding:           UTF-8\n",
       "LazyData:           true\n",
       "RoxygenNote:        7.0.2\n",
       "VignetteBuilder:    knitr\n",
       "NeedsCompilation:   no\n",
       "Packaged:           2020-03-01 17:20:37 UTC; hadley\n",
       "Author:             Hadley Wickham [aut, cre], RStudio [cph, fnd]\n",
       "Maintainer:         Hadley Wickham <hadley@rstudio.com>\n",
       "Repository:         CRAN\n",
       "Date/Publication:   2020-03-01 18:10:02 UTC\n",
       "Built:              R 4.0.2; ; 2020-07-16 04:14:59 UTC; unix\n",
       "\n",
       "Index:\n",
       "\n",
       "as_factor               Convert input to a factor\n",
       "fct_anon                Anonymise factor levels\n",
       "fct_c                   Concatenate factors, combining levels\n",
       "fct_collapse            Collapse factor levels into manually defined\n",
       "                        groups\n",
       "fct_count               Count entries in a factor\n",
       "fct_cross               Combine levels from two or more factors to\n",
       "                        create a new factor\n",
       "fct_drop                Drop unused levels\n",
       "fct_expand              Add additional levels to a factor\n",
       "fct_explicit_na         Make missing values explicit\n",
       "fct_inorder             Reorder factor levels by first appearance,\n",
       "                        frequency, or numeric order\n",
       "fct_lump                Lump together factor levels into \"other\"\n",
       "fct_match               Test for presence of levels in a factor\n",
       "fct_other               Replace levels with \"other\"\n",
       "fct_recode              Change factor levels by hand\n",
       "fct_relabel             Automatically relabel factor levels, collapse\n",
       "                        as necessary\n",
       "fct_relevel             Reorder factor levels by hand\n",
       "fct_reorder             Reorder factor levels by sorting along another\n",
       "                        variable\n",
       "fct_rev                 Reverse order of factor levels\n",
       "fct_shift               Shift factor levels to left or right, wrapping\n",
       "                        around at end\n",
       "fct_shuffle             Randomly permute factor levels\n",
       "fct_unify               Unify the levels in a list of factors\n",
       "fct_unique              Unique values of a factor\n",
       "gss_cat                 A sample of categorical variables from the\n",
       "                        General Social survey\n",
       "lvls                    Low-level functions for manipulating levels\n",
       "lvls_union              Find all levels in a list of factors\n",
       "\n",
       "Further information is available in the following vignettes in\n",
       "directory ‘/Users/claudius/Rlibs/forcats/doc’:\n",
       "\n",
       "forcats: Introduction to forcats (source, pdf)"
      ]
     },
     "metadata": {},
     "output_type": "display_data"
    }
   ],
   "source": [
    "# Read the forcats documentation\n",
    "help(package=\"forcats\")"
   ]
  },
  {
   "cell_type": "markdown",
   "metadata": {},
   "source": [
    "## World Bank population data"
   ]
  },
  {
   "cell_type": "markdown",
   "metadata": {},
   "source": [
    "In this notebook, you will continue playing around with the [World Bank population dataset](https://datacatalog.worldbank.org/dataset/population-estimates-and-projections). This time, instead of downloading the data from the website, an alternative way of accessing this dataset is to install the R package **`wbstats`**."
   ]
  },
  {
   "cell_type": "code",
   "execution_count": 3,
   "metadata": {},
   "outputs": [
    {
     "name": "stderr",
     "output_type": "stream",
     "text": [
      "Installing package into ‘/Users/claudius/Rlibs’\n",
      "(as ‘lib’ is unspecified)\n",
      "\n"
     ]
    },
    {
     "name": "stdout",
     "output_type": "stream",
     "text": [
      "\n",
      "The downloaded binary packages are in\n",
      "\t/var/folders/0v/_2vsqk3j1nxcfb13d3g7g5nc0000gn/T//RtmpE0NPC7/downloaded_packages\n"
     ]
    }
   ],
   "source": [
    "# Install the 'wbstats' package\n",
    "install.packages(\"wbstats\")"
   ]
  },
  {
   "cell_type": "code",
   "execution_count": 4,
   "metadata": {},
   "outputs": [],
   "source": [
    "# Load the 'wbstats' package\n",
    "library(wbstats)"
   ]
  },
  {
   "cell_type": "code",
   "execution_count": 5,
   "metadata": {},
   "outputs": [
    {
     "data": {
      "text/plain": [
       "Documentation for package ‘wbstats’\n",
       "\n",
       "\n",
       "\t\tInformation on package ‘wbstats’\n",
       "\n",
       "Description:\n",
       "\n",
       "Type:               Package\n",
       "Package:            wbstats\n",
       "Title:              Programmatic Access to Data and Statistics from the\n",
       "                    World Bank API\n",
       "Version:            1.0.4\n",
       "Authors@R:          c(person(given = \"Jesse\", family = \"Piburn\", role =\n",
       "                    c(\"aut\", \"cre\"), email = \"piburnjo@ornl.gov\",\n",
       "                    comment = c(ORCID = \"0000-0003-4967-7912\")),\n",
       "                    person(given = \"UT-Battelle, LLC\", role = \"cph\"))\n",
       "Maintainer:         Jesse Piburn <piburnjo@ornl.gov>\n",
       "Description:        Search and download data from the World Bank Data\n",
       "                    API.\n",
       "License:            MIT + file LICENSE\n",
       "URL:                https://github.com/nset-ornl/wbstats\n",
       "BugReports:         https://github.com/nset-ornl/wbstats/issues\n",
       "Depends:            R (>= 3.2)\n",
       "Imports:            dplyr, httr, jsonlite, lifecycle, lubridate, readr,\n",
       "                    rlang, stringr, tibble, tidyr, magrittr\n",
       "Suggests:           ggplot2, knitr, markdown, rmarkdown\n",
       "VignetteBuilder:    knitr\n",
       "Encoding:           UTF-8\n",
       "LazyData:           TRUE\n",
       "RoxygenNote:        7.0.1\n",
       "NeedsCompilation:   no\n",
       "Packaged:           2020-12-04 16:55:08 UTC; pij\n",
       "Author:             Jesse Piburn [aut, cre]\n",
       "                    (<https://orcid.org/0000-0003-4967-7912>),\n",
       "                    UT-Battelle, LLC [cph]\n",
       "Repository:         CRAN\n",
       "Date/Publication:   2020-12-05 01:10:03 UTC\n",
       "Built:              R 4.0.2; ; 2020-12-05 11:51:01 UTC; unix\n",
       "\n",
       "Index:\n",
       "\n",
       "wb                      Download Data from the World Bank API\n",
       "wb_cache                Download an updated list of country, indicator,\n",
       "                        and source information\n",
       "wb_cachelist            Cached information from the World Bank API\n",
       "wb_cachelist_dep        Cached information from the World Bank API\n",
       "wb_data                 Download Data from the World Bank API\n",
       "wb_end_point_info       World Bank Information End Points\n",
       "wb_indicators           Download Avialable Indicators from the World\n",
       "                        Bank\n",
       "wb_search               Search indicator information available through\n",
       "                        the World Bank API\n",
       "wbcache                 Download an updated list of country, indicator,\n",
       "                        and source information\n",
       "wbcountries             Download updated country and region information\n",
       "                        from World Bank API\n",
       "wbdatacatalog           Download an updated list of the World Bank data\n",
       "                        catalog\n",
       "wbincome                Download updated income type information from\n",
       "                        World Bank API\n",
       "wbindicators            Download updated indicator information from\n",
       "                        World Bank API\n",
       "wblending               Download updated lending type information from\n",
       "                        World Bank API\n",
       "wbsearch                Search indicator information available through\n",
       "                        the World Bank API\n",
       "wbsources               Download updated data source information from\n",
       "                        World Bank API\n",
       "wbstats                 wbstats: An R package for searching and\n",
       "                        downloading data from the World Bank API.\n",
       "wbtopics                Download updated indicator topic information\n",
       "                        from World Bank API\n",
       "\n",
       "Further information is available in the following vignettes in\n",
       "directory ‘/Users/claudius/Rlibs/wbstats/doc’:\n",
       "\n",
       "wbstats: wbstats (source, pdf)"
      ]
     },
     "metadata": {},
     "output_type": "display_data"
    }
   ],
   "source": [
    "# Read the 'wbstats' documentation\n",
    "help(package=\"wbstats\")"
   ]
  },
  {
   "cell_type": "markdown",
   "metadata": {},
   "source": [
    "Use the cached version of the data to start accessing the datasets. However, the cached data is not updated. To update the datasets, use the **`wb_cache( )`** function."
   ]
  },
  {
   "cell_type": "code",
   "execution_count": 6,
   "metadata": {},
   "outputs": [],
   "source": [
    "# Update the cached datasets\n",
    "new_cache <- wb_cache()"
   ]
  },
  {
   "cell_type": "code",
   "execution_count": 7,
   "metadata": {},
   "outputs": [
    {
     "name": "stdout",
     "output_type": "stream",
     "text": [
      "List of 8\n",
      " $ countries    : tibble [297 × 18] (S3: tbl_df/tbl/data.frame)\n",
      " $ indicators   : tibble [16,643 × 8] (S3: tbl_df/tbl/data.frame)\n",
      " $ sources      : tibble [62 × 9] (S3: tbl_df/tbl/data.frame)\n",
      " $ topics       : tibble [21 × 3] (S3: tbl_df/tbl/data.frame)\n",
      " $ regions      : tibble [42 × 4] (S3: tbl_df/tbl/data.frame)\n",
      " $ income_levels: tibble [7 × 3] (S3: tbl_df/tbl/data.frame)\n",
      " $ lending_types: tibble [4 × 3] (S3: tbl_df/tbl/data.frame)\n",
      " $ languages    : tibble [23 × 3] (S3: tbl_df/tbl/data.frame)\n"
     ]
    }
   ],
   "source": [
    "# Check the data structure\n",
    "str(new_cache, max.level = 1)"
   ]
  },
  {
   "cell_type": "markdown",
   "metadata": {},
   "source": [
    "For this exercise, you will need the dataset for population (\"SP.POP.TOTL\") and gross domestic product, GDP (\"NY.GDP.MKTP.CD\") for each country."
   ]
  },
  {
   "cell_type": "code",
   "execution_count": 8,
   "metadata": {},
   "outputs": [],
   "source": [
    "# Specify the indicators of interest\n",
    "my_indicators = c(\"population\" = \"SP.POP.TOTL\",\n",
    "                  \"gdp\" = \"NY.GDP.MKTP.CD\")"
   ]
  },
  {
   "cell_type": "markdown",
   "metadata": {},
   "source": [
    "Use the **`wb_data( )`** function to download the data. You can use the **`start_date`** and **`end_date`** arguments to specifiy the start and end years, respectively. Alternatively, you can use the **`mrnev`** argument, which stands for most recent non empty value to return the latest available data for each country."
   ]
  },
  {
   "cell_type": "code",
   "execution_count": 22,
   "metadata": {},
   "outputs": [
    {
     "data": {
      "text/html": [
       "<table>\n",
       "<caption>A tibble: 6 × 6</caption>\n",
       "<thead>\n",
       "\t<tr><th scope=col>iso2c</th><th scope=col>iso3c</th><th scope=col>country</th><th scope=col>date</th><th scope=col>gdp</th><th scope=col>population</th></tr>\n",
       "\t<tr><th scope=col>&lt;chr&gt;</th><th scope=col>&lt;chr&gt;</th><th scope=col>&lt;chr&gt;</th><th scope=col>&lt;dbl&gt;</th><th scope=col>&lt;dbl&gt;</th><th scope=col>&lt;dbl&gt;</th></tr>\n",
       "</thead>\n",
       "<tbody>\n",
       "\t<tr><td>AW</td><td>ABW</td><td>Aruba      </td><td>2017</td><td> 3056424581</td><td>      NA</td></tr>\n",
       "\t<tr><td>AW</td><td>ABW</td><td>Aruba      </td><td>2019</td><td>         NA</td><td>  106314</td></tr>\n",
       "\t<tr><td>AF</td><td>AFG</td><td>Afghanistan</td><td>2019</td><td>19291104008</td><td>38041754</td></tr>\n",
       "\t<tr><td>AO</td><td>AGO</td><td>Angola     </td><td>2019</td><td>88815697793</td><td>31825295</td></tr>\n",
       "\t<tr><td>AL</td><td>ALB</td><td>Albania    </td><td>2019</td><td>15279183290</td><td> 2854191</td></tr>\n",
       "\t<tr><td>AD</td><td>AND</td><td>Andorra    </td><td>2019</td><td> 3154057987</td><td>   77142</td></tr>\n",
       "</tbody>\n",
       "</table>\n"
      ],
      "text/latex": [
       "A tibble: 6 × 6\n",
       "\\begin{tabular}{llllll}\n",
       " iso2c & iso3c & country & date & gdp & population\\\\\n",
       " <chr> & <chr> & <chr> & <dbl> & <dbl> & <dbl>\\\\\n",
       "\\hline\n",
       "\t AW & ABW & Aruba       & 2017 &  3056424581 &       NA\\\\\n",
       "\t AW & ABW & Aruba       & 2019 &          NA &   106314\\\\\n",
       "\t AF & AFG & Afghanistan & 2019 & 19291104008 & 38041754\\\\\n",
       "\t AO & AGO & Angola      & 2019 & 88815697793 & 31825295\\\\\n",
       "\t AL & ALB & Albania     & 2019 & 15279183290 &  2854191\\\\\n",
       "\t AD & AND & Andorra     & 2019 &  3154057987 &    77142\\\\\n",
       "\\end{tabular}\n"
      ],
      "text/markdown": [
       "\n",
       "A tibble: 6 × 6\n",
       "\n",
       "| iso2c &lt;chr&gt; | iso3c &lt;chr&gt; | country &lt;chr&gt; | date &lt;dbl&gt; | gdp &lt;dbl&gt; | population &lt;dbl&gt; |\n",
       "|---|---|---|---|---|---|\n",
       "| AW | ABW | Aruba       | 2017 |  3056424581 |       NA |\n",
       "| AW | ABW | Aruba       | 2019 |          NA |   106314 |\n",
       "| AF | AFG | Afghanistan | 2019 | 19291104008 | 38041754 |\n",
       "| AO | AGO | Angola      | 2019 | 88815697793 | 31825295 |\n",
       "| AL | ALB | Albania     | 2019 | 15279183290 |  2854191 |\n",
       "| AD | AND | Andorra     | 2019 |  3154057987 |    77142 |\n",
       "\n"
      ],
      "text/plain": [
       "  iso2c iso3c country     date gdp         population\n",
       "1 AW    ABW   Aruba       2017  3056424581       NA  \n",
       "2 AW    ABW   Aruba       2019          NA   106314  \n",
       "3 AF    AFG   Afghanistan 2019 19291104008 38041754  \n",
       "4 AO    AGO   Angola      2019 88815697793 31825295  \n",
       "5 AL    ALB   Albania     2019 15279183290  2854191  \n",
       "6 AD    AND   Andorra     2019  3154057987    77142  "
      ]
     },
     "metadata": {},
     "output_type": "display_data"
    }
   ],
   "source": [
    "population <- wb_data(my_indicators, mrnev = 1, cache = new_cache)\n",
    "head(population)"
   ]
  },
  {
   "cell_type": "markdown",
   "metadata": {},
   "source": [
    "Notice that the entries for some countries (e.g. Aruba, etc.) are duplicated. You can combine these duplicated rows using the **`unique( )`** function."
   ]
  },
  {
   "cell_type": "code",
   "execution_count": 23,
   "metadata": {},
   "outputs": [
    {
     "data": {
      "text/html": [
       "<table>\n",
       "<caption>A tibble: 6 × 4</caption>\n",
       "<thead>\n",
       "\t<tr><th scope=col>country</th><th scope=col>iso3c</th><th scope=col>gdp</th><th scope=col>population</th></tr>\n",
       "\t<tr><th scope=col>&lt;chr&gt;</th><th scope=col>&lt;chr&gt;</th><th scope=col>&lt;dbl&gt;</th><th scope=col>&lt;dbl&gt;</th></tr>\n",
       "</thead>\n",
       "<tbody>\n",
       "\t<tr><td>Afghanistan   </td><td>AFG</td><td> 19291104008</td><td>38041754</td></tr>\n",
       "\t<tr><td>Albania       </td><td>ALB</td><td> 15279183290</td><td> 2854191</td></tr>\n",
       "\t<tr><td>Algeria       </td><td>DZA</td><td>171091289782</td><td>43053054</td></tr>\n",
       "\t<tr><td>American Samoa</td><td>ASM</td><td>   636000000</td><td>   55312</td></tr>\n",
       "\t<tr><td>Andorra       </td><td>AND</td><td>  3154057987</td><td>   77142</td></tr>\n",
       "\t<tr><td>Angola        </td><td>AGO</td><td> 88815697793</td><td>31825295</td></tr>\n",
       "</tbody>\n",
       "</table>\n"
      ],
      "text/latex": [
       "A tibble: 6 × 4\n",
       "\\begin{tabular}{llll}\n",
       " country & iso3c & gdp & population\\\\\n",
       " <chr> & <chr> & <dbl> & <dbl>\\\\\n",
       "\\hline\n",
       "\t Afghanistan    & AFG &  19291104008 & 38041754\\\\\n",
       "\t Albania        & ALB &  15279183290 &  2854191\\\\\n",
       "\t Algeria        & DZA & 171091289782 & 43053054\\\\\n",
       "\t American Samoa & ASM &    636000000 &    55312\\\\\n",
       "\t Andorra        & AND &   3154057987 &    77142\\\\\n",
       "\t Angola         & AGO &  88815697793 & 31825295\\\\\n",
       "\\end{tabular}\n"
      ],
      "text/markdown": [
       "\n",
       "A tibble: 6 × 4\n",
       "\n",
       "| country &lt;chr&gt; | iso3c &lt;chr&gt; | gdp &lt;dbl&gt; | population &lt;dbl&gt; |\n",
       "|---|---|---|---|\n",
       "| Afghanistan    | AFG |  19291104008 | 38041754 |\n",
       "| Albania        | ALB |  15279183290 |  2854191 |\n",
       "| Algeria        | DZA | 171091289782 | 43053054 |\n",
       "| American Samoa | ASM |    636000000 |    55312 |\n",
       "| Andorra        | AND |   3154057987 |    77142 |\n",
       "| Angola         | AGO |  88815697793 | 31825295 |\n",
       "\n"
      ],
      "text/plain": [
       "  country        iso3c gdp          population\n",
       "1 Afghanistan    AFG    19291104008 38041754  \n",
       "2 Albania        ALB    15279183290  2854191  \n",
       "3 Algeria        DZA   171091289782 43053054  \n",
       "4 American Samoa ASM      636000000    55312  \n",
       "5 Andorra        AND     3154057987    77142  \n",
       "6 Angola         AGO    88815697793 31825295  "
      ]
     },
     "metadata": {},
     "output_type": "display_data"
    }
   ],
   "source": [
    "population <- population %>% \n",
    "    select(-c(date, iso2c)) %>% \n",
    "    group_by(country) %>% \n",
    "    summarise_all(funs(na.omit(unique(.)))) %>%\n",
    "    as_tibble()\n",
    "head(population)"
   ]
  },
  {
   "cell_type": "markdown",
   "metadata": {},
   "source": [
    "Next, you will create a data table containing the name of countries and income level using the **`tibble( )`** function."
   ]
  },
  {
   "cell_type": "code",
   "execution_count": 24,
   "metadata": {},
   "outputs": [
    {
     "data": {
      "text/html": [
       "<table>\n",
       "<caption>A tibble: 6 × 2</caption>\n",
       "<thead>\n",
       "\t<tr><th scope=col>country</th><th scope=col>income_level</th></tr>\n",
       "\t<tr><th scope=col>&lt;chr&gt;</th><th scope=col>&lt;chr&gt;</th></tr>\n",
       "</thead>\n",
       "<tbody>\n",
       "\t<tr><td>Aruba      </td><td>High income        </td></tr>\n",
       "\t<tr><td>Afghanistan</td><td>Low income         </td></tr>\n",
       "\t<tr><td>Africa     </td><td>Aggregates         </td></tr>\n",
       "\t<tr><td>Angola     </td><td>Lower middle income</td></tr>\n",
       "\t<tr><td>Albania    </td><td>Upper middle income</td></tr>\n",
       "\t<tr><td>Andorra    </td><td>High income        </td></tr>\n",
       "</tbody>\n",
       "</table>\n"
      ],
      "text/latex": [
       "A tibble: 6 × 2\n",
       "\\begin{tabular}{ll}\n",
       " country & income\\_level\\\\\n",
       " <chr> & <chr>\\\\\n",
       "\\hline\n",
       "\t Aruba       & High income        \\\\\n",
       "\t Afghanistan & Low income         \\\\\n",
       "\t Africa      & Aggregates         \\\\\n",
       "\t Angola      & Lower middle income\\\\\n",
       "\t Albania     & Upper middle income\\\\\n",
       "\t Andorra     & High income        \\\\\n",
       "\\end{tabular}\n"
      ],
      "text/markdown": [
       "\n",
       "A tibble: 6 × 2\n",
       "\n",
       "| country &lt;chr&gt; | income_level &lt;chr&gt; |\n",
       "|---|---|\n",
       "| Aruba       | High income         |\n",
       "| Afghanistan | Low income          |\n",
       "| Africa      | Aggregates          |\n",
       "| Angola      | Lower middle income |\n",
       "| Albania     | Upper middle income |\n",
       "| Andorra     | High income         |\n",
       "\n"
      ],
      "text/plain": [
       "  country     income_level       \n",
       "1 Aruba       High income        \n",
       "2 Afghanistan Low income         \n",
       "3 Africa      Aggregates         \n",
       "4 Angola      Lower middle income\n",
       "5 Albania     Upper middle income\n",
       "6 Andorra     High income        "
      ]
     },
     "metadata": {},
     "output_type": "display_data"
    }
   ],
   "source": [
    "income <- tibble(country = new_cache$countries$country, \n",
    "                 income_level = new_cache$countries$income_level)\n",
    "head(income)"
   ]
  },
  {
   "cell_type": "markdown",
   "metadata": {},
   "source": [
    "Next, merge the population and income level data using the `country` column as the key variable that is common to both datasets. You should obtain a merged data table containing names of country, 3-letter country code, GDP, population, and income level."
   ]
  },
  {
   "cell_type": "code",
   "execution_count": 25,
   "metadata": {},
   "outputs": [
    {
     "data": {
      "text/html": [
       "<table>\n",
       "<caption>A tibble: 6 × 5</caption>\n",
       "<thead>\n",
       "\t<tr><th scope=col>country</th><th scope=col>iso3c</th><th scope=col>gdp</th><th scope=col>population</th><th scope=col>income_level</th></tr>\n",
       "\t<tr><th scope=col>&lt;chr&gt;</th><th scope=col>&lt;chr&gt;</th><th scope=col>&lt;dbl&gt;</th><th scope=col>&lt;dbl&gt;</th><th scope=col>&lt;chr&gt;</th></tr>\n",
       "</thead>\n",
       "<tbody>\n",
       "\t<tr><td>Afghanistan   </td><td>AFG</td><td> 19291104008</td><td>38041754</td><td>Low income         </td></tr>\n",
       "\t<tr><td>Albania       </td><td>ALB</td><td> 15279183290</td><td> 2854191</td><td>Upper middle income</td></tr>\n",
       "\t<tr><td>Algeria       </td><td>DZA</td><td>171091289782</td><td>43053054</td><td>Lower middle income</td></tr>\n",
       "\t<tr><td>American Samoa</td><td>ASM</td><td>   636000000</td><td>   55312</td><td>Upper middle income</td></tr>\n",
       "\t<tr><td>Andorra       </td><td>AND</td><td>  3154057987</td><td>   77142</td><td>High income        </td></tr>\n",
       "\t<tr><td>Angola        </td><td>AGO</td><td> 88815697793</td><td>31825295</td><td>Lower middle income</td></tr>\n",
       "</tbody>\n",
       "</table>\n"
      ],
      "text/latex": [
       "A tibble: 6 × 5\n",
       "\\begin{tabular}{lllll}\n",
       " country & iso3c & gdp & population & income\\_level\\\\\n",
       " <chr> & <chr> & <dbl> & <dbl> & <chr>\\\\\n",
       "\\hline\n",
       "\t Afghanistan    & AFG &  19291104008 & 38041754 & Low income         \\\\\n",
       "\t Albania        & ALB &  15279183290 &  2854191 & Upper middle income\\\\\n",
       "\t Algeria        & DZA & 171091289782 & 43053054 & Lower middle income\\\\\n",
       "\t American Samoa & ASM &    636000000 &    55312 & Upper middle income\\\\\n",
       "\t Andorra        & AND &   3154057987 &    77142 & High income        \\\\\n",
       "\t Angola         & AGO &  88815697793 & 31825295 & Lower middle income\\\\\n",
       "\\end{tabular}\n"
      ],
      "text/markdown": [
       "\n",
       "A tibble: 6 × 5\n",
       "\n",
       "| country &lt;chr&gt; | iso3c &lt;chr&gt; | gdp &lt;dbl&gt; | population &lt;dbl&gt; | income_level &lt;chr&gt; |\n",
       "|---|---|---|---|---|\n",
       "| Afghanistan    | AFG |  19291104008 | 38041754 | Low income          |\n",
       "| Albania        | ALB |  15279183290 |  2854191 | Upper middle income |\n",
       "| Algeria        | DZA | 171091289782 | 43053054 | Lower middle income |\n",
       "| American Samoa | ASM |    636000000 |    55312 | Upper middle income |\n",
       "| Andorra        | AND |   3154057987 |    77142 | High income         |\n",
       "| Angola         | AGO |  88815697793 | 31825295 | Lower middle income |\n",
       "\n"
      ],
      "text/plain": [
       "  country        iso3c gdp          population income_level       \n",
       "1 Afghanistan    AFG    19291104008 38041754   Low income         \n",
       "2 Albania        ALB    15279183290  2854191   Upper middle income\n",
       "3 Algeria        DZA   171091289782 43053054   Lower middle income\n",
       "4 American Samoa ASM      636000000    55312   Upper middle income\n",
       "5 Andorra        AND     3154057987    77142   High income        \n",
       "6 Angola         AGO    88815697793 31825295   Lower middle income"
      ]
     },
     "metadata": {},
     "output_type": "display_data"
    }
   ],
   "source": [
    "population <- population %>%\n",
    "    left_join(income, by = \"country\")\n",
    "head(population)"
   ]
  },
  {
   "cell_type": "markdown",
   "metadata": {},
   "source": [
    "## Ordering by frequency"
   ]
  },
  {
   "cell_type": "markdown",
   "metadata": {},
   "source": [
    "**Factors** are useful when you want to display character vectors in non-alphabetical order. For example, when plotting the top 10 countries in terms of GDP, the default order is alphabetical order. "
   ]
  },
  {
   "cell_type": "code",
   "execution_count": 29,
   "metadata": {},
   "outputs": [
    {
     "data": {
      "image/png": "[encoded data removed]",
      "text/plain": [
       "plot without title"
      ]
     },
     "metadata": {
      "image/png": {
       "height": 420,
       "width": 420
      }
     },
     "output_type": "display_data"
    }
   ],
   "source": [
    "# Bar plot of top 10 countries by GDP\n",
    "population %>% \n",
    "  arrange(desc(gdp)) %>%\n",
    "  slice(1:10) %>%\n",
    "  ggplot(aes(x=country, y=gdp)) +\n",
    "  geom_col()"
   ]
  },
  {
   "cell_type": "markdown",
   "metadata": {},
   "source": [
    "However, you can change the order of countries by GDP using the **`as_factor( )`** function. "
   ]
  },
  {
   "cell_type": "code",
   "execution_count": 30,
   "metadata": {},
   "outputs": [
    {
     "data": {
      "image/png": "[encoded data removed]",
      "text/plain": [
       "plot without title"
      ]
     },
     "metadata": {
      "image/png": {
       "height": 420,
       "width": 420
      }
     },
     "output_type": "display_data"
    }
   ],
   "source": [
    "# Bar plot of top 10 countries sorted by GDP\n",
    "population %>% \n",
    "  arrange(desc(gdp)) %>%\n",
    "  slice(1:10) %>%\n",
    "  ggplot(aes(x=as_factor(country), y=gdp)) +\n",
    "  geom_col()"
   ]
  },
  {
   "cell_type": "markdown",
   "metadata": {},
   "source": [
    "## Ordering by variable"
   ]
  },
  {
   "cell_type": "markdown",
   "metadata": {},
   "source": [
    "Here, you want to ask the question, what is the distribution of values of GDP for countries that belong to low, middle, high income group."
   ]
  },
  {
   "cell_type": "code",
   "execution_count": 33,
   "metadata": {},
   "outputs": [
    {
     "data": {
      "image/png": "[encoded data removed]",
      "text/plain": [
       "plot without title"
      ]
     },
     "metadata": {
      "image/png": {
       "height": 420,
       "width": 420
      }
     },
     "output_type": "display_data"
    }
   ],
   "source": [
    "# Boxplot of GDP by income level\n",
    "ggplot(population, aes(x=income_level, y=log10(gdp))) + \n",
    "    geom_boxplot(alpha=0.3) "
   ]
  },
  {
   "cell_type": "markdown",
   "metadata": {},
   "source": [
    "However, the income level category in the x-axis is unordered. To solve this issue, change this variable as a factor."
   ]
  },
  {
   "cell_type": "code",
   "execution_count": 34,
   "metadata": {},
   "outputs": [],
   "source": [
    "population$income_level <- factor(population$income_level,\n",
    "                                 levels = c(\"High income\", \"Upper middle income\", \"Lower middle income\", \"Low income\"))"
   ]
  },
  {
   "cell_type": "code",
   "execution_count": 35,
   "metadata": {},
   "outputs": [
    {
     "data": {
      "image/png": "[encoded data removed]",
      "text/plain": [
       "plot without title"
      ]
     },
     "metadata": {
      "image/png": {
       "height": 420,
       "width": 420
      }
     },
     "output_type": "display_data"
    }
   ],
   "source": [
    "# Boxplot of GDP arranged by income level\n",
    "ggplot(population, aes(x=income_level, y=log10(gdp))) + \n",
    "    geom_boxplot(alpha=0.3) "
   ]
  },
  {
   "cell_type": "markdown",
   "metadata": {},
   "source": [
    "## **lubridate** package"
   ]
  },
  {
   "cell_type": "markdown",
   "metadata": {},
   "source": [
    "The **lubridate** package contains functions for working with dates and times. Check out the [cheatsheet for **lubridate**](https://raw.githubusercontent.com/rstudio/cheatsheets/master/lubridate.pdf) to familiarize yourself with its functions."
   ]
  },
  {
   "cell_type": "code",
   "execution_count": 36,
   "metadata": {},
   "outputs": [
    {
     "name": "stderr",
     "output_type": "stream",
     "text": [
      "\n",
      "Attaching package: ‘lubridate’\n",
      "\n",
      "\n",
      "The following objects are masked from ‘package:base’:\n",
      "\n",
      "    date, intersect, setdiff, union\n",
      "\n",
      "\n"
     ]
    }
   ],
   "source": [
    "# Load the 'lubridate' package\n",
    "library(lubridate)"
   ]
  },
  {
   "cell_type": "code",
   "execution_count": 37,
   "metadata": {},
   "outputs": [
    {
     "data": {
      "text/html": [
       "\n",
       "<table width=\"100%\" summary=\"page for lubridate-package {lubridate}\"><tr><td>lubridate-package {lubridate}</td><td style=\"text-align: right;\">R Documentation</td></tr></table>\n",
       "\n",
       "<h2>Dates and times made easy with lubridate</h2>\n",
       "\n",
       "<h3>Description</h3>\n",
       "\n",
       "<p>Lubridate provides tools that make it easier to parse and\n",
       "manipulate dates. These tools are grouped below by common\n",
       "purpose. More information about each function can be found in\n",
       "its help documentation.\n",
       "</p>\n",
       "\n",
       "\n",
       "<h3>Parsing dates</h3>\n",
       "\n",
       "<p>Lubridate's parsing functions read strings into R as POSIXct\n",
       "date-time objects. Users should choose the function whose name\n",
       "models the order in which the year ('y'), month ('m') and day\n",
       "('d') elements appear the string to be parsed:\n",
       "<code>dmy()</code>, <code>myd()</code>, <code>ymd()</code>,\n",
       "<code>ydm()</code>, <code>dym()</code>, <code>mdy()</code>,\n",
       "<code>ymd_hms()</code>). A very flexible and user friendly parser\n",
       "is provided by <code>parse_date_time()</code>.\n",
       "</p>\n",
       "<p>Lubridate can also parse partial dates from strings into\n",
       "Period objects with the functions\n",
       "<code>hm()</code>, <code>hms()</code> and <code>ms()</code>.\n",
       "</p>\n",
       "<p>Lubridate has an inbuilt very fast POSIX parser. Most of the <code>strptime()</code>\n",
       "formats and various extensions are supported for English locales. See\n",
       "<code>parse_date_time()</code> for more details.\n",
       "</p>\n",
       "\n",
       "\n",
       "<h3>Manipulating dates</h3>\n",
       "\n",
       "<p>Lubridate distinguishes between moments in time (known as\n",
       "<code>instants()</code>) and spans of time (known as time spans, see\n",
       "Timespan). Time spans are further separated into\n",
       "Duration, Period and\n",
       "Interval objects.\n",
       "</p>\n",
       "\n",
       "\n",
       "<h3>Instants</h3>\n",
       "\n",
       "<p>Instants are specific moments of time. Date, POSIXct, and\n",
       "POSIXlt are the three object classes Base R recognizes as\n",
       "instants. <code>is.Date()</code> tests whether an object\n",
       "inherits from the Date class. <code>is.POSIXt()</code> tests\n",
       "whether an object inherits from the POSIXlt or POSIXct classes.\n",
       "<code>is.instant()</code> tests whether an object inherits from\n",
       "any of the three classes.\n",
       "</p>\n",
       "<p><code>now()</code> returns the current system time as a POSIXct\n",
       "object. <code>today()</code> returns the current system date.\n",
       "For convenience, 1970-01-01 00:00:00 is saved to\n",
       "origin. This is the instant from which POSIXct\n",
       "times are calculated. Try <code>unclass(now())</code> to see the numeric structure that\n",
       "underlies POSIXct objects. Each POSIXct object is saved as the number of seconds\n",
       "it occurred after 1970-01-01 00:00:00.\n",
       "</p>\n",
       "<p>Conceptually, instants are a combination of measurements on different units\n",
       "(i.e, years, months, days, etc.). The individual values for\n",
       "these units can be extracted from an instant and set with the\n",
       "accessor functions <code>second()</code>, <code>minute()</code>,\n",
       "<code>hour()</code>, <code>day()</code>, <code>yday()</code>,\n",
       "<code>mday()</code>, <code>wday()</code>, <code>week()</code>,\n",
       "<code>month()</code>, <code>year()</code>, <code>tz()</code>,\n",
       "and <code>dst()</code>.\n",
       "Note: the accessor functions are named after the singular form\n",
       "of an element. They shouldn't be confused with the period\n",
       "helper functions that have the plural form of the units as a\n",
       "name (e.g, <code>seconds()</code>).\n",
       "</p>\n",
       "\n",
       "\n",
       "<h3>Rounding dates</h3>\n",
       "\n",
       "<p>Instants can be rounded to a convenient unit using the\n",
       "functions <code>ceiling_date()</code>, <code>floor_date()</code>\n",
       "and <code>round_date()</code>.\n",
       "</p>\n",
       "\n",
       "\n",
       "<h3>Time zones</h3>\n",
       "\n",
       "<p>Lubridate provides two helper functions for working with time\n",
       "zones. <code>with_tz()</code> changes the time zone in which an\n",
       "instant is displayed. The clock time displayed for the instant\n",
       "changes, but the moment of time described remains the same.\n",
       "<code>force_tz()</code> changes only the time zone element of an\n",
       "instant. The clock time displayed remains the same, but the\n",
       "resulting instant describes a new moment of time.\n",
       "</p>\n",
       "\n",
       "\n",
       "<h3>Timespans</h3>\n",
       "\n",
       "<p>A timespan is a length of time that may or may not be connected to\n",
       "a particular instant. For example, three months is a timespan. So is an hour and\n",
       "a half. Base R uses difftime class objects to record timespans.\n",
       "However, people are not always consistent in how they expect time to behave.\n",
       "Sometimes the passage of time is a monotone progression of instants that should\n",
       "be as mathematically reliable as the number line. On other occasions time must\n",
       "follow complex conventions and rules so that the clock times we see reflect what\n",
       "we expect to observe in terms of daylight, season, and congruence with the\n",
       "atomic clock. To better navigate the nuances of time, <span class=\"pkg\">lubridate</span> creates three\n",
       "additional timespan classes, each with its own specific and consistent behavior:\n",
       "Interval, Period and\n",
       "Duration.\n",
       "</p>\n",
       "<p><code>is.difftime()</code> tests whether an object\n",
       "inherits from the difftime class. <code>is.timespan()</code>\n",
       "tests whether an object inherits from any of the four timespan\n",
       "classes.\n",
       "</p>\n",
       "\n",
       "\n",
       "<h3>Durations</h3>\n",
       "\n",
       "<p>Durations measure the exact amount of time that occurs between two\n",
       "instants. This can create unexpected results in relation to clock times if a\n",
       "leap second, leap year, or change in daylight savings time (DST) occurs in\n",
       "the interval.\n",
       "</p>\n",
       "<p>Functions for working with durations include <code>is.duration()</code>,\n",
       "<code>as.duration()</code> and <code>duration()</code>. <code>dseconds()</code>,\n",
       "<code>dminutes()</code>, <code>dhours()</code>,  <code>ddays()</code>,\n",
       "<code>dweeks()</code> and <code>dyears()</code> convenient lengths.\n",
       "</p>\n",
       "\n",
       "\n",
       "<h3>Periods</h3>\n",
       "\n",
       "<p>Periods measure the change in clock time that occurs between two\n",
       "instants. Periods provide robust predictions of clock time in the presence of\n",
       "leap seconds, leap years, and changes in DST.\n",
       "</p>\n",
       "<p>Functions for working with periods include\n",
       "<code>is.period()</code>, <code>as.period()</code> and\n",
       "<code>period()</code>. <code>seconds()</code>,\n",
       "<code>minutes()</code>, <code>hours()</code>, <code>days()</code>,\n",
       "<code>weeks()</code>, <code>months()</code> and\n",
       "<code>years()</code> quickly create periods of convenient\n",
       "lengths.\n",
       "</p>\n",
       "\n",
       "\n",
       "<h3>Intervals</h3>\n",
       "\n",
       "<p>Intervals are timespans that begin at a specific instant and\n",
       "end at a specific instant. Intervals retain complete information about a\n",
       "timespan. They provide the only reliable way to convert between\n",
       "periods and durations.\n",
       "</p>\n",
       "<p>Functions for working with intervals include\n",
       "<code>is.interval()</code>, <code>as.interval()</code>,\n",
       "<code>interval()</code>, <code>int_shift()</code>,\n",
       "<code>int_flip()</code>, <code>int_aligns()</code>,\n",
       "<code>int_overlaps()</code>, and\n",
       "<code>%within%</code>. Intervals can also be manipulated with\n",
       "intersect, union, and setdiff().\n",
       "</p>\n",
       "\n",
       "\n",
       "<h3>Miscellaneous</h3>\n",
       "\n",
       "<p><code>decimal_date()</code> converts an instant to a decimal of\n",
       "its year.\n",
       "<code>leap_year()</code> tests whether an instant occurs during\n",
       "a leap year.\n",
       "<code>pretty_dates()</code> provides a method of making pretty\n",
       "breaks for date-times.\n",
       "lakers is a data set that contains information\n",
       "about the Los Angeles Lakers 2008-2009 basketball season.\n",
       "</p>\n",
       "\n",
       "\n",
       "<h3>Author(s)</h3>\n",
       "\n",
       "<p><strong>Maintainer</strong>: Vitalie Spinu <a href=\"mailto:spinuvit@gmail.com\">spinuvit@gmail.com</a>\n",
       "</p>\n",
       "<p>Authors:\n",
       "</p>\n",
       "\n",
       "<ul>\n",
       "<li><p> Garrett Grolemund\n",
       "</p>\n",
       "</li>\n",
       "<li><p> Hadley Wickham\n",
       "</p>\n",
       "</li></ul>\n",
       "\n",
       "<p>Other contributors:\n",
       "</p>\n",
       "\n",
       "<ul>\n",
       "<li><p> Ian Lyttle [contributor]\n",
       "</p>\n",
       "</li>\n",
       "<li><p> Imanuel Costigan [contributor]\n",
       "</p>\n",
       "</li>\n",
       "<li><p> Jason Law [contributor]\n",
       "</p>\n",
       "</li>\n",
       "<li><p> Doug Mitarotonda [contributor]\n",
       "</p>\n",
       "</li>\n",
       "<li><p> Joseph Larmarange [contributor]\n",
       "</p>\n",
       "</li>\n",
       "<li><p> Jonathan Boiser [contributor]\n",
       "</p>\n",
       "</li>\n",
       "<li><p> Chel Hee Lee [contributor]\n",
       "</p>\n",
       "</li>\n",
       "<li><p> Google Inc. [contributor, copyright holder]\n",
       "</p>\n",
       "</li></ul>\n",
       "\n",
       "\n",
       "\n",
       "<h3>References</h3>\n",
       "\n",
       "<p>Garrett Grolemund, Hadley Wickham (2011). Dates and Times Made\n",
       "Easy with lubridate. Journal of Statistical Software, 40(3), 1-25.\n",
       "<a href=\"https://www.jstatsoft.org/v40/i03/\">https://www.jstatsoft.org/v40/i03/</a>.\n",
       "</p>\n",
       "\n",
       "\n",
       "<h3>See Also</h3>\n",
       "\n",
       "<p>Useful links:\n",
       "</p>\n",
       "\n",
       "<ul>\n",
       "<li> <p><a href=\"https://lubridate.tidyverse.org\">https://lubridate.tidyverse.org</a>\n",
       "</p>\n",
       "</li>\n",
       "<li> <p><a href=\"https://github.com/tidyverse/lubridate\">https://github.com/tidyverse/lubridate</a>\n",
       "</p>\n",
       "</li>\n",
       "<li><p> Report bugs at <a href=\"https://github.com/tidyverse/lubridate/issues\">https://github.com/tidyverse/lubridate/issues</a>\n",
       "</p>\n",
       "</li></ul>\n",
       "\n",
       "\n",
       "<hr /><div style=\"text-align: center;\">[Package <em>lubridate</em> version 1.7.9.2 ]</div>"
      ],
      "text/latex": [
       "\\inputencoding{utf8}\n",
       "\\HeaderA{lubridate-package}{Dates and times made easy with lubridate}{lubridate.Rdash.package}\n",
       "\\aliasA{lubridate}{lubridate-package}{lubridate}\n",
       "\\keyword{internal}{lubridate-package}\n",
       "%\n",
       "\\begin{Description}\\relax\n",
       "Lubridate provides tools that make it easier to parse and\n",
       "manipulate dates. These tools are grouped below by common\n",
       "purpose. More information about each function can be found in\n",
       "its help documentation.\n",
       "\\end{Description}\n",
       "%\n",
       "\\begin{Section}{Parsing dates}\n",
       "\n",
       "\n",
       "Lubridate's parsing functions read strings into R as POSIXct\n",
       "date-time objects. Users should choose the function whose name\n",
       "models the order in which the year ('y'), month ('m') and day\n",
       "('d') elements appear the string to be parsed:\n",
       "\\code{\\LinkA{dmy()}{dmy}}, \\code{\\LinkA{myd()}{myd}}, \\code{\\LinkA{ymd()}{ymd}},\n",
       "\\code{\\LinkA{ydm()}{ydm}}, \\code{\\LinkA{dym()}{dym}}, \\code{\\LinkA{mdy()}{mdy}},\n",
       "\\code{\\LinkA{ymd\\_hms()}{ymd.Rul.hms}}). A very flexible and user friendly parser\n",
       "is provided by \\code{\\LinkA{parse\\_date\\_time()}{parse.Rul.date.Rul.time}}.\n",
       "\n",
       "Lubridate can also parse partial dates from strings into\n",
       "\\LinkA{Period}{Period.Rdash.class} objects with the functions\n",
       "\\code{\\LinkA{hm()}{hm}}, \\code{\\LinkA{hms()}{hms}} and \\code{\\LinkA{ms()}{ms}}.\n",
       "\n",
       "Lubridate has an inbuilt very fast POSIX parser. Most of the \\code{\\LinkA{strptime()}{strptime}}\n",
       "formats and various extensions are supported for English locales. See\n",
       "\\code{\\LinkA{parse\\_date\\_time()}{parse.Rul.date.Rul.time}} for more details.\n",
       "\\end{Section}\n",
       "%\n",
       "\\begin{Section}{Manipulating dates}\n",
       "\n",
       "\n",
       "Lubridate distinguishes between moments in time (known as\n",
       "\\code{\\LinkA{instants()}{instants}}) and spans of time (known as time spans, see\n",
       "\\LinkA{Timespan}{Timespan.Rdash.class}). Time spans are further separated into\n",
       "\\LinkA{Duration}{Duration.Rdash.class}, \\LinkA{Period}{Period.Rdash.class} and\n",
       "\\LinkA{Interval}{Interval.Rdash.class} objects.\n",
       "\\end{Section}\n",
       "%\n",
       "\\begin{Section}{Instants}\n",
       "\n",
       "\n",
       "Instants are specific moments of time. Date, POSIXct, and\n",
       "POSIXlt are the three object classes Base R recognizes as\n",
       "instants. \\code{\\LinkA{is.Date()}{is.Date}} tests whether an object\n",
       "inherits from the Date class. \\code{\\LinkA{is.POSIXt()}{is.POSIXt}} tests\n",
       "whether an object inherits from the POSIXlt or POSIXct classes.\n",
       "\\code{\\LinkA{is.instant()}{is.instant}} tests whether an object inherits from\n",
       "any of the three classes.\n",
       "\n",
       "\\code{\\LinkA{now()}{now}} returns the current system time as a POSIXct\n",
       "object. \\code{\\LinkA{today()}{today}} returns the current system date.\n",
       "For convenience, 1970-01-01 00:00:00 is saved to\n",
       "\\LinkA{origin}{origin}. This is the instant from which POSIXct\n",
       "times are calculated. Try \\code{unclass(now())} to see the numeric structure that\n",
       "underlies POSIXct objects. Each POSIXct object is saved as the number of seconds\n",
       "it occurred after 1970-01-01 00:00:00.\n",
       "\n",
       "Conceptually, instants are a combination of measurements on different units\n",
       "(i.e, years, months, days, etc.). The individual values for\n",
       "these units can be extracted from an instant and set with the\n",
       "accessor functions \\code{\\LinkA{second()}{second}}, \\code{\\LinkA{minute()}{minute}},\n",
       "\\code{\\LinkA{hour()}{hour}}, \\code{\\LinkA{day()}{day}}, \\code{\\LinkA{yday()}{yday}},\n",
       "\\code{\\LinkA{mday()}{mday}}, \\code{\\LinkA{wday()}{wday}}, \\code{\\LinkA{week()}{week}},\n",
       "\\code{\\LinkA{month()}{month}}, \\code{\\LinkA{year()}{year}}, \\code{\\LinkA{tz()}{tz}},\n",
       "and \\code{\\LinkA{dst()}{dst}}.\n",
       "Note: the accessor functions are named after the singular form\n",
       "of an element. They shouldn't be confused with the period\n",
       "helper functions that have the plural form of the units as a\n",
       "name (e.g, \\code{\\LinkA{seconds()}{seconds}}).\n",
       "\\end{Section}\n",
       "%\n",
       "\\begin{Section}{Rounding dates}\n",
       "\n",
       "\n",
       "Instants can be rounded to a convenient unit using the\n",
       "functions \\code{\\LinkA{ceiling\\_date()}{ceiling.Rul.date}}, \\code{\\LinkA{floor\\_date()}{floor.Rul.date}}\n",
       "and \\code{\\LinkA{round\\_date()}{round.Rul.date}}.\n",
       "\\end{Section}\n",
       "%\n",
       "\\begin{Section}{Time zones}\n",
       "\n",
       "\n",
       "Lubridate provides two helper functions for working with time\n",
       "zones. \\code{\\LinkA{with\\_tz()}{with.Rul.tz}} changes the time zone in which an\n",
       "instant is displayed. The clock time displayed for the instant\n",
       "changes, but the moment of time described remains the same.\n",
       "\\code{\\LinkA{force\\_tz()}{force.Rul.tz}} changes only the time zone element of an\n",
       "instant. The clock time displayed remains the same, but the\n",
       "resulting instant describes a new moment of time.\n",
       "\\end{Section}\n",
       "%\n",
       "\\begin{Section}{Timespans}\n",
       "\n",
       "\n",
       "A timespan is a length of time that may or may not be connected to\n",
       "a particular instant. For example, three months is a timespan. So is an hour and\n",
       "a half. Base R uses difftime class objects to record timespans.\n",
       "However, people are not always consistent in how they expect time to behave.\n",
       "Sometimes the passage of time is a monotone progression of instants that should\n",
       "be as mathematically reliable as the number line. On other occasions time must\n",
       "follow complex conventions and rules so that the clock times we see reflect what\n",
       "we expect to observe in terms of daylight, season, and congruence with the\n",
       "atomic clock. To better navigate the nuances of time, \\pkg{lubridate} creates three\n",
       "additional timespan classes, each with its own specific and consistent behavior:\n",
       "\\LinkA{Interval}{Interval.Rdash.class}, \\LinkA{Period}{Period.Rdash.class} and\n",
       "\\LinkA{Duration}{Duration.Rdash.class}.\n",
       "\n",
       "\\code{\\LinkA{is.difftime()}{is.difftime}} tests whether an object\n",
       "inherits from the difftime class. \\code{\\LinkA{is.timespan()}{is.timespan}}\n",
       "tests whether an object inherits from any of the four timespan\n",
       "classes.\n",
       "\\end{Section}\n",
       "%\n",
       "\\begin{Section}{Durations}\n",
       "\n",
       "\n",
       "Durations measure the exact amount of time that occurs between two\n",
       "instants. This can create unexpected results in relation to clock times if a\n",
       "leap second, leap year, or change in daylight savings time (DST) occurs in\n",
       "the interval.\n",
       "\n",
       "Functions for working with durations include \\code{\\LinkA{is.duration()}{is.duration}},\n",
       "\\code{\\LinkA{as.duration()}{as.duration}} and \\code{\\LinkA{duration()}{duration}}. \\code{\\LinkA{dseconds()}{dseconds}},\n",
       "\\code{\\LinkA{dminutes()}{dminutes}}, \\code{\\LinkA{dhours()}{dhours}},  \\code{\\LinkA{ddays()}{ddays}},\n",
       "\\code{\\LinkA{dweeks()}{dweeks}} and \\code{\\LinkA{dyears()}{dyears}} convenient lengths.\n",
       "\\end{Section}\n",
       "%\n",
       "\\begin{Section}{Periods}\n",
       "\n",
       "\n",
       "Periods measure the change in clock time that occurs between two\n",
       "instants. Periods provide robust predictions of clock time in the presence of\n",
       "leap seconds, leap years, and changes in DST.\n",
       "\n",
       "Functions for working with periods include\n",
       "\\code{\\LinkA{is.period()}{is.period}}, \\code{\\LinkA{as.period()}{as.period}} and\n",
       "\\code{\\LinkA{period()}{period}}. \\code{\\LinkA{seconds()}{seconds}},\n",
       "\\code{\\LinkA{minutes()}{minutes}}, \\code{\\LinkA{hours()}{hours}}, \\code{\\LinkA{days()}{days}},\n",
       "\\code{\\LinkA{weeks()}{weeks}}, \\code{\\LinkA{months()}{months}} and\n",
       "\\code{\\LinkA{years()}{years}} quickly create periods of convenient\n",
       "lengths.\n",
       "\\end{Section}\n",
       "%\n",
       "\\begin{Section}{Intervals}\n",
       "\n",
       "\n",
       "Intervals are timespans that begin at a specific instant and\n",
       "end at a specific instant. Intervals retain complete information about a\n",
       "timespan. They provide the only reliable way to convert between\n",
       "periods and durations.\n",
       "\n",
       "Functions for working with intervals include\n",
       "\\code{\\LinkA{is.interval()}{is.interval}}, \\code{\\LinkA{as.interval()}{as.interval}},\n",
       "\\code{\\LinkA{interval()}{interval}}, \\code{\\LinkA{int\\_shift()}{int.Rul.shift}},\n",
       "\\code{\\LinkA{int\\_flip()}{int.Rul.flip}}, \\code{\\LinkA{int\\_aligns()}{int.Rul.aligns}},\n",
       "\\code{\\LinkA{int\\_overlaps()}{int.Rul.overlaps}}, and\n",
       "\\code{\\LinkA{\\Rpercent{}within\\Rpercent{}}{.Rpcent.within.Rpcent.}}. Intervals can also be manipulated with\n",
       "intersect, union, and setdiff().\n",
       "\\end{Section}\n",
       "%\n",
       "\\begin{Section}{Miscellaneous}\n",
       "\n",
       "\n",
       "\\code{\\LinkA{decimal\\_date()}{decimal.Rul.date}} converts an instant to a decimal of\n",
       "its year.\n",
       "\\code{\\LinkA{leap\\_year()}{leap.Rul.year}} tests whether an instant occurs during\n",
       "a leap year.\n",
       "\\code{\\LinkA{pretty\\_dates()}{pretty.Rul.dates}} provides a method of making pretty\n",
       "breaks for date-times.\n",
       "\\LinkA{lakers}{lakers} is a data set that contains information\n",
       "about the Los Angeles Lakers 2008-2009 basketball season.\n",
       "\\end{Section}\n",
       "%\n",
       "\\begin{Author}\\relax\n",
       "\\strong{Maintainer}: Vitalie Spinu \\email{spinuvit@gmail.com}\n",
       "\n",
       "Authors:\n",
       "\\begin{itemize}\n",
       "\n",
       "\\item{} Garrett Grolemund\n",
       "\\item{} Hadley Wickham\n",
       "\n",
       "\\end{itemize}\n",
       "\n",
       "\n",
       "Other contributors:\n",
       "\\begin{itemize}\n",
       "\n",
       "\\item{} Ian Lyttle [contributor]\n",
       "\\item{} Imanuel Costigan [contributor]\n",
       "\\item{} Jason Law [contributor]\n",
       "\\item{} Doug Mitarotonda [contributor]\n",
       "\\item{} Joseph Larmarange [contributor]\n",
       "\\item{} Jonathan Boiser [contributor]\n",
       "\\item{} Chel Hee Lee [contributor]\n",
       "\\item{} Google Inc. [contributor, copyright holder]\n",
       "\n",
       "\\end{itemize}\n",
       "\n",
       "\n",
       "\\end{Author}\n",
       "%\n",
       "\\begin{References}\\relax\n",
       "Garrett Grolemund, Hadley Wickham (2011). Dates and Times Made\n",
       "Easy with lubridate. Journal of Statistical Software, 40(3), 1-25.\n",
       "\\url{https://www.jstatsoft.org/v40/i03/}.\n",
       "\\end{References}\n",
       "%\n",
       "\\begin{SeeAlso}\\relax\n",
       "Useful links:\n",
       "\\begin{itemize}\n",
       "\n",
       "\\item{} \\url{https://lubridate.tidyverse.org}\n",
       "\\item{} \\url{https://github.com/tidyverse/lubridate}\n",
       "\\item{} Report bugs at \\url{https://github.com/tidyverse/lubridate/issues}\n",
       "\n",
       "\\end{itemize}\n",
       "\n",
       "\n",
       "\\end{SeeAlso}"
      ],
      "text/plain": [
       "lubridate-package          package:lubridate           R Documentation\n",
       "\n",
       "_\bD_\ba_\bt_\be_\bs _\ba_\bn_\bd _\bt_\bi_\bm_\be_\bs _\bm_\ba_\bd_\be _\be_\ba_\bs_\by _\bw_\bi_\bt_\bh _\bl_\bu_\bb_\br_\bi_\bd_\ba_\bt_\be\n",
       "\n",
       "_\bD_\be_\bs_\bc_\br_\bi_\bp_\bt_\bi_\bo_\bn:\n",
       "\n",
       "     Lubridate provides tools that make it easier to parse and\n",
       "     manipulate dates. These tools are grouped below by common purpose.\n",
       "     More information about each function can be found in its help\n",
       "     documentation.\n",
       "\n",
       "_\bP_\ba_\br_\bs_\bi_\bn_\bg _\bd_\ba_\bt_\be_\bs:\n",
       "\n",
       "     Lubridate's parsing functions read strings into R as POSIXct\n",
       "     date-time objects. Users should choose the function whose name\n",
       "     models the order in which the year ('y'), month ('m') and day\n",
       "     ('d') elements appear the string to be parsed: ‘dmy()’, ‘myd()’,\n",
       "     ‘ymd()’, ‘ydm()’, ‘dym()’, ‘mdy()’, ‘ymd_hms()’). A very flexible\n",
       "     and user friendly parser is provided by ‘parse_date_time()’.\n",
       "\n",
       "     Lubridate can also parse partial dates from strings into Period\n",
       "     objects with the functions ‘hm()’, ‘hms()’ and ‘ms()’.\n",
       "\n",
       "     Lubridate has an inbuilt very fast POSIX parser. Most of the\n",
       "     ‘strptime()’ formats and various extensions are supported for\n",
       "     English locales. See ‘parse_date_time()’ for more details.\n",
       "\n",
       "_\bM_\ba_\bn_\bi_\bp_\bu_\bl_\ba_\bt_\bi_\bn_\bg _\bd_\ba_\bt_\be_\bs:\n",
       "\n",
       "     Lubridate distinguishes between moments in time (known as\n",
       "     ‘instants()’) and spans of time (known as time spans, see\n",
       "     Timespan). Time spans are further separated into Duration, Period\n",
       "     and Interval objects.\n",
       "\n",
       "_\bI_\bn_\bs_\bt_\ba_\bn_\bt_\bs:\n",
       "\n",
       "     Instants are specific moments of time. Date, POSIXct, and POSIXlt\n",
       "     are the three object classes Base R recognizes as instants.\n",
       "     ‘is.Date()’ tests whether an object inherits from the Date class.\n",
       "     ‘is.POSIXt()’ tests whether an object inherits from the POSIXlt or\n",
       "     POSIXct classes. ‘is.instant()’ tests whether an object inherits\n",
       "     from any of the three classes.\n",
       "\n",
       "     ‘now()’ returns the current system time as a POSIXct object.\n",
       "     ‘today()’ returns the current system date. For convenience,\n",
       "     1970-01-01 00:00:00 is saved to origin. This is the instant from\n",
       "     which POSIXct times are calculated. Try ‘unclass(now())’ to see\n",
       "     the numeric structure that underlies POSIXct objects. Each POSIXct\n",
       "     object is saved as the number of seconds it occurred after\n",
       "     1970-01-01 00:00:00.\n",
       "\n",
       "     Conceptually, instants are a combination of measurements on\n",
       "     different units (i.e, years, months, days, etc.). The individual\n",
       "     values for these units can be extracted from an instant and set\n",
       "     with the accessor functions ‘second()’, ‘minute()’, ‘hour()’,\n",
       "     ‘day()’, ‘yday()’, ‘mday()’, ‘wday()’, ‘week()’, ‘month()’,\n",
       "     ‘year()’, ‘tz()’, and ‘dst()’. Note: the accessor functions are\n",
       "     named after the singular form of an element. They shouldn't be\n",
       "     confused with the period helper functions that have the plural\n",
       "     form of the units as a name (e.g, ‘seconds()’).\n",
       "\n",
       "_\bR_\bo_\bu_\bn_\bd_\bi_\bn_\bg _\bd_\ba_\bt_\be_\bs:\n",
       "\n",
       "     Instants can be rounded to a convenient unit using the functions\n",
       "     ‘ceiling_date()’, ‘floor_date()’ and ‘round_date()’.\n",
       "\n",
       "_\bT_\bi_\bm_\be _\bz_\bo_\bn_\be_\bs:\n",
       "\n",
       "     Lubridate provides two helper functions for working with time\n",
       "     zones. ‘with_tz()’ changes the time zone in which an instant is\n",
       "     displayed. The clock time displayed for the instant changes, but\n",
       "     the moment of time described remains the same. ‘force_tz()’\n",
       "     changes only the time zone element of an instant. The clock time\n",
       "     displayed remains the same, but the resulting instant describes a\n",
       "     new moment of time.\n",
       "\n",
       "_\bT_\bi_\bm_\be_\bs_\bp_\ba_\bn_\bs:\n",
       "\n",
       "     A timespan is a length of time that may or may not be connected to\n",
       "     a particular instant. For example, three months is a timespan. So\n",
       "     is an hour and a half. Base R uses difftime class objects to\n",
       "     record timespans. However, people are not always consistent in how\n",
       "     they expect time to behave. Sometimes the passage of time is a\n",
       "     monotone progression of instants that should be as mathematically\n",
       "     reliable as the number line. On other occasions time must follow\n",
       "     complex conventions and rules so that the clock times we see\n",
       "     reflect what we expect to observe in terms of daylight, season,\n",
       "     and congruence with the atomic clock. To better navigate the\n",
       "     nuances of time, ‘lubridate’ creates three additional timespan\n",
       "     classes, each with its own specific and consistent behavior:\n",
       "     Interval, Period and Duration.\n",
       "\n",
       "     ‘is.difftime()’ tests whether an object inherits from the difftime\n",
       "     class. ‘is.timespan()’ tests whether an object inherits from any\n",
       "     of the four timespan classes.\n",
       "\n",
       "_\bD_\bu_\br_\ba_\bt_\bi_\bo_\bn_\bs:\n",
       "\n",
       "     Durations measure the exact amount of time that occurs between two\n",
       "     instants. This can create unexpected results in relation to clock\n",
       "     times if a leap second, leap year, or change in daylight savings\n",
       "     time (DST) occurs in the interval.\n",
       "\n",
       "     Functions for working with durations include ‘is.duration()’,\n",
       "     ‘as.duration()’ and ‘duration()’. ‘dseconds()’, ‘dminutes()’,\n",
       "     ‘dhours()’, ‘ddays()’, ‘dweeks()’ and ‘dyears()’ convenient\n",
       "     lengths.\n",
       "\n",
       "_\bP_\be_\br_\bi_\bo_\bd_\bs:\n",
       "\n",
       "     Periods measure the change in clock time that occurs between two\n",
       "     instants. Periods provide robust predictions of clock time in the\n",
       "     presence of leap seconds, leap years, and changes in DST.\n",
       "\n",
       "     Functions for working with periods include ‘is.period()’,\n",
       "     ‘as.period()’ and ‘period()’. ‘seconds()’, ‘minutes()’, ‘hours()’,\n",
       "     ‘days()’, ‘weeks()’, ‘months()’ and ‘years()’ quickly create\n",
       "     periods of convenient lengths.\n",
       "\n",
       "_\bI_\bn_\bt_\be_\br_\bv_\ba_\bl_\bs:\n",
       "\n",
       "     Intervals are timespans that begin at a specific instant and end\n",
       "     at a specific instant. Intervals retain complete information about\n",
       "     a timespan. They provide the only reliable way to convert between\n",
       "     periods and durations.\n",
       "\n",
       "     Functions for working with intervals include ‘is.interval()’,\n",
       "     ‘as.interval()’, ‘interval()’, ‘int_shift()’, ‘int_flip()’,\n",
       "     ‘int_aligns()’, ‘int_overlaps()’, and ‘%within%’. Intervals can\n",
       "     also be manipulated with intersect, union, and setdiff().\n",
       "\n",
       "_\bM_\bi_\bs_\bc_\be_\bl_\bl_\ba_\bn_\be_\bo_\bu_\bs:\n",
       "\n",
       "     ‘decimal_date()’ converts an instant to a decimal of its year.\n",
       "     ‘leap_year()’ tests whether an instant occurs during a leap year.\n",
       "     ‘pretty_dates()’ provides a method of making pretty breaks for\n",
       "     date-times. lakers is a data set that contains information about\n",
       "     the Los Angeles Lakers 2008-2009 basketball season.\n",
       "\n",
       "_\bA_\bu_\bt_\bh_\bo_\br(_\bs):\n",
       "\n",
       "     *Maintainer*: Vitalie Spinu <email: spinuvit@gmail.com>\n",
       "\n",
       "     Authors:\n",
       "\n",
       "        • Garrett Grolemund\n",
       "\n",
       "        • Hadley Wickham\n",
       "\n",
       "     Other contributors:\n",
       "\n",
       "        • Ian Lyttle [contributor]\n",
       "\n",
       "        • Imanuel Costigan [contributor]\n",
       "\n",
       "        • Jason Law [contributor]\n",
       "\n",
       "        • Doug Mitarotonda [contributor]\n",
       "\n",
       "        • Joseph Larmarange [contributor]\n",
       "\n",
       "        • Jonathan Boiser [contributor]\n",
       "\n",
       "        • Chel Hee Lee [contributor]\n",
       "\n",
       "        • Google Inc. [contributor, copyright holder]\n",
       "\n",
       "_\bR_\be_\bf_\be_\br_\be_\bn_\bc_\be_\bs:\n",
       "\n",
       "     Garrett Grolemund, Hadley Wickham (2011). Dates and Times Made\n",
       "     Easy with lubridate. Journal of Statistical Software, 40(3), 1-25.\n",
       "     <URL: https://www.jstatsoft.org/v40/i03/>.\n",
       "\n",
       "_\bS_\be_\be _\bA_\bl_\bs_\bo:\n",
       "\n",
       "     Useful links:\n",
       "\n",
       "        • <URL: https://lubridate.tidyverse.org>\n",
       "\n",
       "        • <URL: https://github.com/tidyverse/lubridate>\n",
       "\n",
       "        • Report bugs at <URL:\n",
       "          https://github.com/tidyverse/lubridate/issues>\n"
      ]
     },
     "metadata": {},
     "output_type": "display_data"
    }
   ],
   "source": [
    "# Read the documentation for 'lubridate'\n",
    "help(\"lubridate\")"
   ]
  },
  {
   "cell_type": "markdown",
   "metadata": {},
   "source": [
    "In the remaining exercise, you will answer the question, how is the COVID-19 vaccination in your country and around the world. The COVID-19 vaccination data is available from the [Our World in Data](https://ourworldindata.org/) website, which contains a rich collection of global data and figures from the University of Oxford. Import the vaccination data from their [GitHub site](https://raw.githubusercontent.com/owid/covid-19-data/master/public/data/vaccinations/vaccinations.csv)."
   ]
  },
  {
   "cell_type": "code",
   "execution_count": 39,
   "metadata": {},
   "outputs": [
    {
     "name": "stderr",
     "output_type": "stream",
     "text": [
      "\n",
      "\u001b[36m──\u001b[39m \u001b[1m\u001b[1mColumn specification\u001b[1m\u001b[22m \u001b[36m────────────────────────────────────────────────────────\u001b[39m\n",
      "cols(\n",
      "  location = \u001b[31mcol_character()\u001b[39m,\n",
      "  iso_code = \u001b[31mcol_character()\u001b[39m,\n",
      "  date = \u001b[34mcol_date(format = \"\")\u001b[39m,\n",
      "  total_vaccinations = \u001b[32mcol_double()\u001b[39m,\n",
      "  people_vaccinated = \u001b[32mcol_double()\u001b[39m,\n",
      "  people_fully_vaccinated = \u001b[32mcol_double()\u001b[39m,\n",
      "  daily_vaccinations_raw = \u001b[32mcol_double()\u001b[39m,\n",
      "  daily_vaccinations = \u001b[32mcol_double()\u001b[39m,\n",
      "  total_vaccinations_per_hundred = \u001b[32mcol_double()\u001b[39m,\n",
      "  people_vaccinated_per_hundred = \u001b[32mcol_double()\u001b[39m,\n",
      "  people_fully_vaccinated_per_hundred = \u001b[32mcol_double()\u001b[39m,\n",
      "  daily_vaccinations_per_million = \u001b[32mcol_double()\u001b[39m\n",
      ")\n",
      "\n",
      "\n"
     ]
    },
    {
     "data": {
      "text/html": [
       "<table>\n",
       "<caption>A tibble: 6 × 12</caption>\n",
       "<thead>\n",
       "\t<tr><th scope=col>location</th><th scope=col>iso_code</th><th scope=col>date</th><th scope=col>total_vaccinations</th><th scope=col>people_vaccinated</th><th scope=col>people_fully_vaccinated</th><th scope=col>daily_vaccinations_raw</th><th scope=col>daily_vaccinations</th><th scope=col>total_vaccinations_per_hundred</th><th scope=col>people_vaccinated_per_hundred</th><th scope=col>people_fully_vaccinated_per_hundred</th><th scope=col>daily_vaccinations_per_million</th></tr>\n",
       "\t<tr><th scope=col>&lt;chr&gt;</th><th scope=col>&lt;chr&gt;</th><th scope=col>&lt;date&gt;</th><th scope=col>&lt;dbl&gt;</th><th scope=col>&lt;dbl&gt;</th><th scope=col>&lt;dbl&gt;</th><th scope=col>&lt;dbl&gt;</th><th scope=col>&lt;dbl&gt;</th><th scope=col>&lt;dbl&gt;</th><th scope=col>&lt;dbl&gt;</th><th scope=col>&lt;dbl&gt;</th><th scope=col>&lt;dbl&gt;</th></tr>\n",
       "</thead>\n",
       "<tbody>\n",
       "\t<tr><td>Albania</td><td>ALB</td><td>2021-01-10</td><td>  0</td><td>  0</td><td>NA</td><td>NA</td><td>NA</td><td>0.00</td><td>0.00</td><td>NA</td><td>NA</td></tr>\n",
       "\t<tr><td>Albania</td><td>ALB</td><td>2021-01-11</td><td> NA</td><td> NA</td><td>NA</td><td>NA</td><td>64</td><td>  NA</td><td>  NA</td><td>NA</td><td>22</td></tr>\n",
       "\t<tr><td>Albania</td><td>ALB</td><td>2021-01-12</td><td>128</td><td>128</td><td>NA</td><td>NA</td><td>64</td><td>0.00</td><td>0.00</td><td>NA</td><td>22</td></tr>\n",
       "\t<tr><td>Albania</td><td>ALB</td><td>2021-01-13</td><td>188</td><td>188</td><td>NA</td><td>60</td><td>63</td><td>0.01</td><td>0.01</td><td>NA</td><td>22</td></tr>\n",
       "\t<tr><td>Albania</td><td>ALB</td><td>2021-01-14</td><td>266</td><td>266</td><td>NA</td><td>78</td><td>66</td><td>0.01</td><td>0.01</td><td>NA</td><td>23</td></tr>\n",
       "\t<tr><td>Albania</td><td>ALB</td><td>2021-01-15</td><td>308</td><td>308</td><td>NA</td><td>42</td><td>62</td><td>0.01</td><td>0.01</td><td>NA</td><td>22</td></tr>\n",
       "</tbody>\n",
       "</table>\n"
      ],
      "text/latex": [
       "A tibble: 6 × 12\n",
       "\\begin{tabular}{llllllllllll}\n",
       " location & iso\\_code & date & total\\_vaccinations & people\\_vaccinated & people\\_fully\\_vaccinated & daily\\_vaccinations\\_raw & daily\\_vaccinations & total\\_vaccinations\\_per\\_hundred & people\\_vaccinated\\_per\\_hundred & people\\_fully\\_vaccinated\\_per\\_hundred & daily\\_vaccinations\\_per\\_million\\\\\n",
       " <chr> & <chr> & <date> & <dbl> & <dbl> & <dbl> & <dbl> & <dbl> & <dbl> & <dbl> & <dbl> & <dbl>\\\\\n",
       "\\hline\n",
       "\t Albania & ALB & 2021-01-10 &   0 &   0 & NA & NA & NA & 0.00 & 0.00 & NA & NA\\\\\n",
       "\t Albania & ALB & 2021-01-11 &  NA &  NA & NA & NA & 64 &   NA &   NA & NA & 22\\\\\n",
       "\t Albania & ALB & 2021-01-12 & 128 & 128 & NA & NA & 64 & 0.00 & 0.00 & NA & 22\\\\\n",
       "\t Albania & ALB & 2021-01-13 & 188 & 188 & NA & 60 & 63 & 0.01 & 0.01 & NA & 22\\\\\n",
       "\t Albania & ALB & 2021-01-14 & 266 & 266 & NA & 78 & 66 & 0.01 & 0.01 & NA & 23\\\\\n",
       "\t Albania & ALB & 2021-01-15 & 308 & 308 & NA & 42 & 62 & 0.01 & 0.01 & NA & 22\\\\\n",
       "\\end{tabular}\n"
      ],
      "text/markdown": [
       "\n",
       "A tibble: 6 × 12\n",
       "\n",
       "| location &lt;chr&gt; | iso_code &lt;chr&gt; | date &lt;date&gt; | total_vaccinations &lt;dbl&gt; | people_vaccinated &lt;dbl&gt; | people_fully_vaccinated &lt;dbl&gt; | daily_vaccinations_raw &lt;dbl&gt; | daily_vaccinations &lt;dbl&gt; | total_vaccinations_per_hundred &lt;dbl&gt; | people_vaccinated_per_hundred &lt;dbl&gt; | people_fully_vaccinated_per_hundred &lt;dbl&gt; | daily_vaccinations_per_million &lt;dbl&gt; |\n",
       "|---|---|---|---|---|---|---|---|---|---|---|---|\n",
       "| Albania | ALB | 2021-01-10 |   0 |   0 | NA | NA | NA | 0.00 | 0.00 | NA | NA |\n",
       "| Albania | ALB | 2021-01-11 |  NA |  NA | NA | NA | 64 |   NA |   NA | NA | 22 |\n",
       "| Albania | ALB | 2021-01-12 | 128 | 128 | NA | NA | 64 | 0.00 | 0.00 | NA | 22 |\n",
       "| Albania | ALB | 2021-01-13 | 188 | 188 | NA | 60 | 63 | 0.01 | 0.01 | NA | 22 |\n",
       "| Albania | ALB | 2021-01-14 | 266 | 266 | NA | 78 | 66 | 0.01 | 0.01 | NA | 23 |\n",
       "| Albania | ALB | 2021-01-15 | 308 | 308 | NA | 42 | 62 | 0.01 | 0.01 | NA | 22 |\n",
       "\n"
      ],
      "text/plain": [
       "  location iso_code date       total_vaccinations people_vaccinated\n",
       "1 Albania  ALB      2021-01-10   0                  0              \n",
       "2 Albania  ALB      2021-01-11  NA                 NA              \n",
       "3 Albania  ALB      2021-01-12 128                128              \n",
       "4 Albania  ALB      2021-01-13 188                188              \n",
       "5 Albania  ALB      2021-01-14 266                266              \n",
       "6 Albania  ALB      2021-01-15 308                308              \n",
       "  people_fully_vaccinated daily_vaccinations_raw daily_vaccinations\n",
       "1 NA                      NA                     NA                \n",
       "2 NA                      NA                     64                \n",
       "3 NA                      NA                     64                \n",
       "4 NA                      60                     63                \n",
       "5 NA                      78                     66                \n",
       "6 NA                      42                     62                \n",
       "  total_vaccinations_per_hundred people_vaccinated_per_hundred\n",
       "1 0.00                           0.00                         \n",
       "2   NA                             NA                         \n",
       "3 0.00                           0.00                         \n",
       "4 0.01                           0.01                         \n",
       "5 0.01                           0.01                         \n",
       "6 0.01                           0.01                         \n",
       "  people_fully_vaccinated_per_hundred daily_vaccinations_per_million\n",
       "1 NA                                  NA                            \n",
       "2 NA                                  22                            \n",
       "3 NA                                  22                            \n",
       "4 NA                                  22                            \n",
       "5 NA                                  23                            \n",
       "6 NA                                  22                            "
      ]
     },
     "metadata": {},
     "output_type": "display_data"
    }
   ],
   "source": [
    "# Import the COVID-19 vaccination data\n",
    "link <- \"https://raw.githubusercontent.com/owid/covid-19-data/master/public/data/vaccinations/vaccinations.csv\"\n",
    "vaccine  <- read_csv(link)\n",
    "head(vaccine)"
   ]
  },
  {
   "cell_type": "markdown",
   "metadata": {},
   "source": [
    "Notice that the **'date'** column was automatically parsed for you using the **`col_date( )`** function during data importation.  The data dictionary describing each column is available [here](https://github.com/owid/covid-19-data/tree/master/public/data/vaccinations)."
   ]
  },
  {
   "cell_type": "code",
   "execution_count": null,
   "metadata": {},
   "outputs": [],
   "source": [
    "# Is the vaccination data in tidy format? Yes or No. \n",
    "# Answer:"
   ]
  },
  {
   "cell_type": "markdown",
   "metadata": {},
   "source": [
    "Plot the number of people vaccinated per 100 individuals since the start of the vaccination campaign. Modify the code below to add your country. Feel free to add up more countries as long as it will not clutter the graph."
   ]
  },
  {
   "cell_type": "code",
   "execution_count": 66,
   "metadata": {},
   "outputs": [
    {
     "name": "stderr",
     "output_type": "stream",
     "text": [
      "Warning message:\n",
      "“Removed 39 rows containing missing values (geom_point).”\n"
     ]
    },
    {
     "data": {
      "image/png": "[encoded data removed]",
      "text/plain": [
       "plot without title"
      ]
     },
     "metadata": {
      "image/png": {
       "height": 420,
       "width": 420
      }
     },
     "output_type": "display_data"
    }
   ],
   "source": [
    "vaccine  %>% \n",
    "    filter(location %in% c(\"United Kingdom\", \"United States\", \"Israel\", \"Italy\")) %>% \n",
    "    ggplot(aes(date, people_vaccinated_per_hundred, color = location)) +\n",
    "    geom_point()"
   ]
  },
  {
   "cell_type": "markdown",
   "metadata": {},
   "source": [
    "In the figure, Israel is leading in the COVID-19 vaccination campaign. "
   ]
  },
  {
   "cell_type": "code",
   "execution_count": null,
   "metadata": {},
   "outputs": [],
   "source": [
    "# What is the vaccination rate for COVID-19, so far in your country?\n",
    "# Answer:"
   ]
  },
  {
   "cell_type": "markdown",
   "metadata": {},
   "source": [
    "## Parsing dates"
   ]
  },
  {
   "cell_type": "markdown",
   "metadata": {},
   "source": [
    "When parsing dates, you need to identify the order in which the year **`y`**, month **`m`**, and day **`d`** appears in your dates. Use the accessor functions **`year( )`**, **`month( )`**, **`mday( )`** (day of the month), **`yday( )`** (day of the year), **`wday( )`** (day of the week) to extract date information."
   ]
  },
  {
   "cell_type": "code",
   "execution_count": 84,
   "metadata": {},
   "outputs": [
    {
     "name": "stdout",
     "output_type": "stream",
     "text": [
      "[1] \"2020-12-13\"\n"
     ]
    }
   ],
   "source": [
    "# UK was the first country to roll out the COVID-19 vaccine. \n",
    "# What is the date of the first row in this dataset?\n",
    "start <- vaccine %>% \n",
    "    filter(location %in% \"United Kingdom\") %>%\n",
    "    slice(1) %>%\n",
    "    .$date\n",
    "print(start)"
   ]
  },
  {
   "cell_type": "code",
   "execution_count": 78,
   "metadata": {},
   "outputs": [
    {
     "data": {
      "text/html": [
       "Sun\n",
       "<details>\n",
       "\t<summary style=display:list-item;cursor:pointer>\n",
       "\t\t<strong>Levels</strong>:\n",
       "\t</summary>\n",
       "\t<style>\n",
       "\t.list-inline {list-style: none; margin:0; padding: 0}\n",
       "\t.list-inline>li {display: inline-block}\n",
       "\t.list-inline>li:not(:last-child)::after {content: \"\\00b7\"; padding: 0 .5ex}\n",
       "\t</style>\n",
       "\t<ol class=list-inline><li>'Sun'</li><li>'Mon'</li><li>'Tue'</li><li>'Wed'</li><li>'Thu'</li><li>'Fri'</li><li>'Sat'</li></ol>\n",
       "</details>"
      ],
      "text/latex": [
       "Sun\n",
       "\\emph{Levels}: \\begin{enumerate*}\n",
       "\\item 'Sun'\n",
       "\\item 'Mon'\n",
       "\\item 'Tue'\n",
       "\\item 'Wed'\n",
       "\\item 'Thu'\n",
       "\\item 'Fri'\n",
       "\\item 'Sat'\n",
       "\\end{enumerate*}\n"
      ],
      "text/markdown": [
       "Sun\n",
       "**Levels**: 1. 'Sun'\n",
       "2. 'Mon'\n",
       "3. 'Tue'\n",
       "4. 'Wed'\n",
       "5. 'Thu'\n",
       "6. 'Fri'\n",
       "7. 'Sat'\n",
       "\n",
       "\n"
      ],
      "text/plain": [
       "[1] Sun\n",
       "Levels: Sun < Mon < Tue < Wed < Thu < Fri < Sat"
      ]
     },
     "metadata": {},
     "output_type": "display_data"
    }
   ],
   "source": [
    "# What day of the week was this?\n",
    "wday(start, label = TRUE)"
   ]
  },
  {
   "cell_type": "markdown",
   "metadata": {},
   "source": [
    "## Time intervals"
   ]
  },
  {
   "cell_type": "markdown",
   "metadata": {},
   "source": [
    "Using the **`interval( )`** function, you can save an interval of time as an interval class object. "
   ]
  },
  {
   "cell_type": "code",
   "execution_count": 90,
   "metadata": {},
   "outputs": [
    {
     "name": "stdout",
     "output_type": "stream",
     "text": [
      "[1] \"2021-02-18\"\n"
     ]
    }
   ],
   "source": [
    "# What is the date of the last row in this dataset?\n",
    "current <- vaccine %>% \n",
    "    filter(location %in% \"United Kingdom\") %>%\n",
    "    slice(nrow(.)) %>%\n",
    "    .$date\n",
    "print(current)"
   ]
  },
  {
   "cell_type": "code",
   "execution_count": 91,
   "metadata": {},
   "outputs": [
    {
     "name": "stdout",
     "output_type": "stream",
     "text": [
      "[1] 2020-12-13 UTC--2021-02-18 UTC\n"
     ]
    }
   ],
   "source": [
    "# Create a time interval for COVID-19 vaccination\n",
    "vaccine_interval <- interval(start, current)\n",
    "print(vaccine_interval)"
   ]
  },
  {
   "cell_type": "markdown",
   "metadata": {},
   "source": [
    "## Duration "
   ]
  },
  {
   "cell_type": "markdown",
   "metadata": {},
   "source": [
    "The duration class in lubridate represents a time span in number of seconds. Use the **`dyears( )`**, **`dmonths( )`**, **`ddays( )`** functions to evaluate the duration of an object. The duration class will always supply mathematically precise results. When you subtract two dates in lubridate, a difftime object is returned."
   ]
  },
  {
   "cell_type": "code",
   "execution_count": 92,
   "metadata": {},
   "outputs": [
    {
     "data": {
      "text/plain": [
       "Time difference of 67 days"
      ]
     },
     "metadata": {},
     "output_type": "display_data"
    }
   ],
   "source": [
    "# How many days since the start of COVID-19 vaccination in the UK?\n",
    "current - start"
   ]
  },
  {
   "cell_type": "code",
   "execution_count": 94,
   "metadata": {},
   "outputs": [
    {
     "name": "stdout",
     "output_type": "stream",
     "text": [
      "[1] \"5788800s (~9.57 weeks)\"\n"
     ]
    }
   ],
   "source": [
    "# What is duration of COVID-19 vaccination so far?\n",
    "vaccine_duration <- as.duration(current - start)\n",
    "print(vaccine_duration)"
   ]
  },
  {
   "cell_type": "code",
   "execution_count": 97,
   "metadata": {},
   "outputs": [
    {
     "data": {
      "text/html": [
       "67"
      ],
      "text/latex": [
       "67"
      ],
      "text/markdown": [
       "67"
      ],
      "text/plain": [
       "[1] 67"
      ]
     },
     "metadata": {},
     "output_type": "display_data"
    }
   ],
   "source": [
    "# What is the duration in terms of days?\n",
    "vaccine_duration/ddays(1)"
   ]
  },
  {
   "cell_type": "code",
   "execution_count": 99,
   "metadata": {},
   "outputs": [
    {
     "data": {
      "text/html": [
       "2.20123203285421"
      ],
      "text/latex": [
       "2.20123203285421"
      ],
      "text/markdown": [
       "2.20123203285421"
      ],
      "text/plain": [
       "[1] 2.201232"
      ]
     },
     "metadata": {},
     "output_type": "display_data"
    }
   ],
   "source": [
    "# What is the duration in terms of months?\n",
    "vaccine_duration/dmonths(1)"
   ]
  },
  {
   "cell_type": "markdown",
   "metadata": {},
   "source": [
    "## Period"
   ]
  },
  {
   "cell_type": "markdown",
   "metadata": {},
   "source": [
    "The period class in lubridate represents a time span that is friendly to humans since it is not based in seconds and it is usually express in days and months. Use the **`years( )`**, **`months( )`**, **`days( )`** functions to evaluate the period of an object."
   ]
  },
  {
   "cell_type": "code",
   "execution_count": 102,
   "metadata": {},
   "outputs": [
    {
     "name": "stdout",
     "output_type": "stream",
     "text": [
      "[1] \"67d 0H 0M 0S\"\n"
     ]
    }
   ],
   "source": [
    "vaccine_period <- as.period(current - start)\n",
    "print(vaccine_period)"
   ]
  },
  {
   "cell_type": "markdown",
   "metadata": {},
   "source": [
    "You just scratched the surface of analyzing time-series data. To learn more about lubridate, read the [original article](https://www.jstatsoft.org/article/view/v040i03) about it."
   ]
  }
 ],
 "metadata": {
  "kernelspec": {
   "display_name": "R",
   "language": "R",
   "name": "ir"
  },
  "language_info": {
   "codemirror_mode": "r",
   "file_extension": ".r",
   "mimetype": "text/x-r-source",
   "name": "R",
   "pygments_lexer": "r",
   "version": "4.0.3"
  }
 },
 "nbformat": 4,
 "nbformat_minor": 5
}
