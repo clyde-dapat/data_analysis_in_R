{
 "cells": [
  {
   "cell_type": "markdown",
   "metadata": {},
   "source": [
    "# Exercise: Strings"
   ]
  },
  {
   "cell_type": "markdown",
   "metadata": {},
   "source": [
    "When merging your data from several data frames, sometimes the names of variables do not match or the row entries of your key variable are different, making it is necessary for you to finesse out of these character vectors. "
   ]
  },
  {
   "cell_type": "markdown",
   "metadata": {},
   "source": [
    "When you finish this exercise, you will learn how to:\n",
    "1. handle characters and strings\n",
    "2. use the tools in the **stringr** package\n",
    "3. perform regular expression manipulation"
   ]
  },
  {
   "cell_type": "markdown",
   "metadata": {},
   "source": [
    "Load packages in tidyverse."
   ]
  },
  {
   "cell_type": "code",
   "execution_count": 1,
   "metadata": {},
   "outputs": [
    {
     "name": "stderr",
     "output_type": "stream",
     "text": [
      "── \u001b[1mAttaching packages\u001b[22m ─────────────────────────────────────── tidyverse 1.3.0 ──\n",
      "\n",
      "\u001b[32m✔\u001b[39m \u001b[34mggplot2\u001b[39m 3.3.2     \u001b[32m✔\u001b[39m \u001b[34mpurrr  \u001b[39m 0.3.4\n",
      "\u001b[32m✔\u001b[39m \u001b[34mtibble \u001b[39m 3.0.4     \u001b[32m✔\u001b[39m \u001b[34mdplyr  \u001b[39m 1.0.2\n",
      "\u001b[32m✔\u001b[39m \u001b[34mtidyr  \u001b[39m 1.1.2     \u001b[32m✔\u001b[39m \u001b[34mstringr\u001b[39m 1.4.0\n",
      "\u001b[32m✔\u001b[39m \u001b[34mreadr  \u001b[39m 1.4.0     \u001b[32m✔\u001b[39m \u001b[34mforcats\u001b[39m 0.5.0\n",
      "\n",
      "── \u001b[1mConflicts\u001b[22m ────────────────────────────────────────── tidyverse_conflicts() ──\n",
      "\u001b[31m✖\u001b[39m \u001b[34mdplyr\u001b[39m::\u001b[32mfilter()\u001b[39m masks \u001b[34mstats\u001b[39m::filter()\n",
      "\u001b[31m✖\u001b[39m \u001b[34mdplyr\u001b[39m::\u001b[32mlag()\u001b[39m    masks \u001b[34mstats\u001b[39m::lag()\n",
      "\n"
     ]
    }
   ],
   "source": [
    "# Load tidyverse\n",
    "library(tidyverse)"
   ]
  },
  {
   "cell_type": "markdown",
   "metadata": {},
   "source": [
    "## **stringr** package"
   ]
  },
  {
   "cell_type": "markdown",
   "metadata": {},
   "source": [
    "In this exercise, you will be using the functions in the **stringr** package to handle and manipulate character vectors. To help you familiarize with these function, check out the [cheatsheet for **stringr**](https://raw.githubusercontent.com/rstudio/cheatsheets/master/strings.pdf)."
   ]
  },
  {
   "cell_type": "code",
   "execution_count": 2,
   "metadata": {},
   "outputs": [
    {
     "data": {
      "text/plain": [
       "Documentation for package ‘stringr’\n",
       "\n",
       "\n",
       "\t\tInformation on package ‘stringr’\n",
       "\n",
       "Description:\n",
       "\n",
       "Package:            stringr\n",
       "Title:              Simple, Consistent Wrappers for Common String\n",
       "                    Operations\n",
       "Version:            1.4.0\n",
       "Authors@R:          c(person(given = \"Hadley\", family = \"Wickham\", role\n",
       "                    = c(\"aut\", \"cre\", \"cph\"), email =\n",
       "                    \"hadley@rstudio.com\"), person(given = \"RStudio\",\n",
       "                    role = c(\"cph\", \"fnd\")))\n",
       "Description:        A consistent, simple and easy to use set of\n",
       "                    wrappers around the fantastic 'stringi' package.\n",
       "                    All function and argument names (and positions) are\n",
       "                    consistent, all functions deal with \"NA\"'s and zero\n",
       "                    length vectors in the same way, and the output from\n",
       "                    one function is easy to feed into the input of\n",
       "                    another.\n",
       "License:            GPL-2 | file LICENSE\n",
       "URL:                http://stringr.tidyverse.org,\n",
       "                    https://github.com/tidyverse/stringr\n",
       "BugReports:         https://github.com/tidyverse/stringr/issues\n",
       "Depends:            R (>= 3.1)\n",
       "Imports:            glue (>= 1.2.0), magrittr, stringi (>= 1.1.7)\n",
       "Suggests:           covr, htmltools, htmlwidgets, knitr, rmarkdown,\n",
       "                    testthat\n",
       "VignetteBuilder:    knitr\n",
       "Encoding:           UTF-8\n",
       "LazyData:           true\n",
       "RoxygenNote:        6.1.1\n",
       "NeedsCompilation:   no\n",
       "Packaged:           2019-02-09 16:03:19 UTC; hadley\n",
       "Author:             Hadley Wickham [aut, cre, cph], RStudio [cph, fnd]\n",
       "Maintainer:         Hadley Wickham <hadley@rstudio.com>\n",
       "Repository:         CRAN\n",
       "Date/Publication:   2019-02-10 03:40:03 UTC\n",
       "Built:              R 4.0.2; ; 2020-07-15 21:47:39 UTC; unix\n",
       "\n",
       "Index:\n",
       "\n",
       "case                    Convert case of a string.\n",
       "invert_match            Switch location of matches to location of\n",
       "                        non-matches.\n",
       "modifiers               Control matching behaviour with modifier\n",
       "                        functions.\n",
       "str_c                   Join multiple strings into a single string.\n",
       "str_conv                Specify the encoding of a string.\n",
       "str_count               Count the number of matches in a string.\n",
       "str_detect              Detect the presence or absence of a pattern in\n",
       "                        a string.\n",
       "str_dup                 Duplicate and concatenate strings within a\n",
       "                        character vector.\n",
       "str_extract             Extract matching patterns from a string.\n",
       "str_flatten             Flatten a string\n",
       "str_glue                Format and interpolate a string with glue\n",
       "str_length              The length of a string.\n",
       "str_locate              Locate the position of patterns in a string.\n",
       "str_match               Extract matched groups from a string.\n",
       "str_order               Order or sort a character vector.\n",
       "str_pad                 Pad a string.\n",
       "str_remove              Remove matched patterns in a string.\n",
       "str_replace             Replace matched patterns in a string.\n",
       "str_replace_na          Turn NA into \"NA\"\n",
       "str_split               Split up a string into pieces.\n",
       "str_starts              Detect the presence or absence of a pattern at\n",
       "                        the beginning or end of a string.\n",
       "str_sub                 Extract and replace substrings from a character\n",
       "                        vector.\n",
       "str_subset              Keep strings matching a pattern, or find\n",
       "                        positions.\n",
       "str_trim                Trim whitespace from a string\n",
       "str_trunc               Truncate a character string.\n",
       "str_view                View HTML rendering of regular expression\n",
       "                        match.\n",
       "str_wrap                Wrap strings into nicely formatted paragraphs.\n",
       "stringr-data            Sample character vectors for practicing string\n",
       "                        manipulations.\n",
       "word                    Extract words from a sentence.\n",
       "\n",
       "Further information is available in the following vignettes in\n",
       "directory ‘/Users/claudius/Rlibs/stringr/doc’:\n",
       "\n",
       "regular-expressions: Regular expressions (source, pdf)\n",
       "stringr: Introduction to stringr (source, pdf)"
      ]
     },
     "metadata": {},
     "output_type": "display_data"
    }
   ],
   "source": [
    "# Read the documentation of stringr package\n",
    "help(package = \"stringr\")"
   ]
  },
  {
   "cell_type": "markdown",
   "metadata": {},
   "source": [
    "## String basics"
   ]
  },
  {
   "cell_type": "markdown",
   "metadata": {},
   "source": [
    "You can create strings using either single quotes or double quotes. "
   ]
  },
  {
   "cell_type": "code",
   "execution_count": 3,
   "metadata": {},
   "outputs": [
    {
     "data": {
      "text/html": [
       "'This is a sentence inside double quotes.'"
      ],
      "text/latex": [
       "'This is a sentence inside double quotes.'"
      ],
      "text/markdown": [
       "'This is a sentence inside double quotes.'"
      ],
      "text/plain": [
       "[1] \"This is a sentence inside double quotes.\""
      ]
     },
     "metadata": {},
     "output_type": "display_data"
    }
   ],
   "source": [
    "sentence_1 <- \"This is a sentence inside double quotes.\"\n",
    "sentence_1"
   ]
  },
  {
   "cell_type": "code",
   "execution_count": 4,
   "metadata": {},
   "outputs": [
    {
     "data": {
      "text/html": [
       "'This is a also sentence inside single quotes.'"
      ],
      "text/latex": [
       "'This is a also sentence inside single quotes.'"
      ],
      "text/markdown": [
       "'This is a also sentence inside single quotes.'"
      ],
      "text/plain": [
       "[1] \"This is a also sentence inside single quotes.\""
      ]
     },
     "metadata": {},
     "output_type": "display_data"
    }
   ],
   "source": [
    "sentence_2 <- 'This is a also sentence inside single quotes.'\n",
    "sentence_2"
   ]
  },
  {
   "cell_type": "markdown",
   "metadata": {},
   "source": [
    "Check the type of vector."
   ]
  },
  {
   "cell_type": "code",
   "execution_count": 5,
   "metadata": {},
   "outputs": [
    {
     "data": {
      "text/html": [
       "'character'"
      ],
      "text/latex": [
       "'character'"
      ],
      "text/markdown": [
       "'character'"
      ],
      "text/plain": [
       "[1] \"character\""
      ]
     },
     "metadata": {},
     "output_type": "display_data"
    }
   ],
   "source": [
    "# What type of vector is \"sentence_1\" ?\n",
    "typeof(sentence_1)"
   ]
  },
  {
   "cell_type": "markdown",
   "metadata": {},
   "source": [
    "## Accessing individual characters "
   ]
  },
  {
   "cell_type": "markdown",
   "metadata": {},
   "source": [
    "Use the **`str_sub()`** function to access individual character. The **`str_sub()`** function takes in three arguments: (1) character vector, (2) start position, and (3) end position. The values of positions can either be a positive integer, which counts from the left, or a negative integer which counts from the right."
   ]
  },
  {
   "cell_type": "code",
   "execution_count": 7,
   "metadata": {},
   "outputs": [
    {
     "data": {
      "text/html": [
       "'i'"
      ],
      "text/latex": [
       "'i'"
      ],
      "text/markdown": [
       "'i'"
      ],
      "text/plain": [
       "[1] \"i\""
      ]
     },
     "metadata": {},
     "output_type": "display_data"
    }
   ],
   "source": [
    "# Access the third letter of the first word in sentence_1\n",
    "str_sub(sentence_1, start = 3, end = 3)"
   ]
  },
  {
   "cell_type": "code",
   "execution_count": 8,
   "metadata": {},
   "outputs": [
    {
     "data": {
      "text/html": [
       "'sentence'"
      ],
      "text/latex": [
       "'sentence'"
      ],
      "text/markdown": [
       "'sentence'"
      ],
      "text/plain": [
       "[1] \"sentence\""
      ]
     },
     "metadata": {},
     "output_type": "display_data"
    }
   ],
   "source": [
    "# Access the word \"sentence\" in sentence_2\n",
    "str_sub(sentence_2, start = 16, end = 23)"
   ]
  },
  {
   "cell_type": "markdown",
   "metadata": {},
   "source": [
    "You can also use **`str_sub()`** function to modify strings by assigning a character to it."
   ]
  },
  {
   "cell_type": "code",
   "execution_count": 9,
   "metadata": {},
   "outputs": [
    {
     "data": {
      "text/html": [
       "'That is a sentence inside double quotes.'"
      ],
      "text/latex": [
       "'That is a sentence inside double quotes.'"
      ],
      "text/markdown": [
       "'That is a sentence inside double quotes.'"
      ],
      "text/plain": [
       "[1] \"That is a sentence inside double quotes.\""
      ]
     },
     "metadata": {},
     "output_type": "display_data"
    }
   ],
   "source": [
    "# Change tbe third and fourth letter of the first word in sentence_1 to \"a\" and \"t\", respectively.\n",
    "str_sub(sentence_1, start = 3, end = 4) <- \"at\"\n",
    "sentence_1"
   ]
  },
  {
   "cell_type": "markdown",
   "metadata": {},
   "source": [
    "In the following codes below, you will play around with the **`words`** dataset in the **stringr** package. The **`words`** dataset contains commonly used words in the English language, which come from the **`rcorpora`** package written by Gabor Csardi and the data was collected by Darius Kazemi that is available at https://github.com/dariusk/corpora."
   ]
  },
  {
   "cell_type": "code",
   "execution_count": 10,
   "metadata": {},
   "outputs": [],
   "source": [
    "# Assign the \"words\" dataset to an object: words\n",
    "words <- stringr::words"
   ]
  },
  {
   "cell_type": "code",
   "execution_count": 11,
   "metadata": {},
   "outputs": [
    {
     "data": {
      "text/html": [
       "980"
      ],
      "text/latex": [
       "980"
      ],
      "text/markdown": [
       "980"
      ],
      "text/plain": [
       "[1] 980"
      ]
     },
     "metadata": {},
     "output_type": "display_data"
    }
   ],
   "source": [
    "# How many words are included in the dataset?\n",
    "length(words)"
   ]
  },
  {
   "cell_type": "code",
   "execution_count": 12,
   "metadata": {},
   "outputs": [
    {
     "name": "stdout",
     "output_type": "stream",
     "text": [
      "[1] \"a\"        \"able\"     \"about\"    \"absolute\" \"accept\"  \n"
     ]
    }
   ],
   "source": [
    "# Check the first 5 words\n",
    "print(words[1:5])"
   ]
  },
  {
   "cell_type": "code",
   "execution_count": 13,
   "metadata": {},
   "outputs": [
    {
     "data": {
      "text/html": [
       "<style>\n",
       ".list-inline {list-style: none; margin:0; padding: 0}\n",
       ".list-inline>li {display: inline-block}\n",
       ".list-inline>li:not(:last-child)::after {content: \"\\00b7\"; padding: 0 .5ex}\n",
       "</style>\n",
       "<ol class=list-inline><li>'fine'</li><li>'closes'</li><li>'situate'</li><li>'suggest'</li><li>'inside'</li><li>'strong'</li><li>'moment'</li><li>'against'</li><li>'bottom'</li><li>'grow'</li></ol>\n"
      ],
      "text/latex": [
       "\\begin{enumerate*}\n",
       "\\item 'fine'\n",
       "\\item 'closes'\n",
       "\\item 'situate'\n",
       "\\item 'suggest'\n",
       "\\item 'inside'\n",
       "\\item 'strong'\n",
       "\\item 'moment'\n",
       "\\item 'against'\n",
       "\\item 'bottom'\n",
       "\\item 'grow'\n",
       "\\end{enumerate*}\n"
      ],
      "text/markdown": [
       "1. 'fine'\n",
       "2. 'closes'\n",
       "3. 'situate'\n",
       "4. 'suggest'\n",
       "5. 'inside'\n",
       "6. 'strong'\n",
       "7. 'moment'\n",
       "8. 'against'\n",
       "9. 'bottom'\n",
       "10. 'grow'\n",
       "\n",
       "\n"
      ],
      "text/plain": [
       " [1] \"fine\"    \"closes\"  \"situate\" \"suggest\" \"inside\"  \"strong\"  \"moment\" \n",
       " [8] \"against\" \"bottom\"  \"grow\"   "
      ]
     },
     "metadata": {},
     "output_type": "display_data"
    }
   ],
   "source": [
    "# Subset randomly 10 items from the list using the sample() function\n",
    "set.seed(21) # random number generator\n",
    "some_words <- sample(words, 10)\n",
    "some_words"
   ]
  },
  {
   "cell_type": "markdown",
   "metadata": {},
   "source": [
    "Note that you are randomly sampling 10 words from the dataset, thus, your 10 words will change every time you run the cell above. If you do not want your word list to change each time you run the cell, you can use the **`set.seed( )`** function to generate a random number. The values are integers, so you can change the number, e.g. your favorite or lucky number and see the word list that you obtain. "
   ]
  },
  {
   "cell_type": "markdown",
   "metadata": {},
   "source": [
    "## Changing cases"
   ]
  },
  {
   "cell_type": "markdown",
   "metadata": {},
   "source": [
    "Use the **`str_to_upper( )`** function to change all letters to uppercase. Conversely, use the **`str_to_lower( )`** function to change all letters to lowercase. If you want to capitalize the first character in a word, then use the **`str_to_title( )`** function."
   ]
  },
  {
   "cell_type": "code",
   "execution_count": 14,
   "metadata": {},
   "outputs": [
    {
     "data": {
      "text/html": [
       "<style>\n",
       ".list-inline {list-style: none; margin:0; padding: 0}\n",
       ".list-inline>li {display: inline-block}\n",
       ".list-inline>li:not(:last-child)::after {content: \"\\00b7\"; padding: 0 .5ex}\n",
       "</style>\n",
       "<ol class=list-inline><li>'FINE'</li><li>'CLOSES'</li><li>'SITUATE'</li><li>'SUGGEST'</li><li>'INSIDE'</li><li>'STRONG'</li><li>'MOMENT'</li><li>'AGAINST'</li><li>'BOTTOM'</li><li>'GROW'</li></ol>\n"
      ],
      "text/latex": [
       "\\begin{enumerate*}\n",
       "\\item 'FINE'\n",
       "\\item 'CLOSES'\n",
       "\\item 'SITUATE'\n",
       "\\item 'SUGGEST'\n",
       "\\item 'INSIDE'\n",
       "\\item 'STRONG'\n",
       "\\item 'MOMENT'\n",
       "\\item 'AGAINST'\n",
       "\\item 'BOTTOM'\n",
       "\\item 'GROW'\n",
       "\\end{enumerate*}\n"
      ],
      "text/markdown": [
       "1. 'FINE'\n",
       "2. 'CLOSES'\n",
       "3. 'SITUATE'\n",
       "4. 'SUGGEST'\n",
       "5. 'INSIDE'\n",
       "6. 'STRONG'\n",
       "7. 'MOMENT'\n",
       "8. 'AGAINST'\n",
       "9. 'BOTTOM'\n",
       "10. 'GROW'\n",
       "\n",
       "\n"
      ],
      "text/plain": [
       " [1] \"FINE\"    \"CLOSES\"  \"SITUATE\" \"SUGGEST\" \"INSIDE\"  \"STRONG\"  \"MOMENT\" \n",
       " [8] \"AGAINST\" \"BOTTOM\"  \"GROW\"   "
      ]
     },
     "metadata": {},
     "output_type": "display_data"
    }
   ],
   "source": [
    "# Change to big letters\n",
    "str_to_upper(some_words)"
   ]
  },
  {
   "cell_type": "code",
   "execution_count": 15,
   "metadata": {},
   "outputs": [
    {
     "data": {
      "text/html": [
       "<style>\n",
       ".list-inline {list-style: none; margin:0; padding: 0}\n",
       ".list-inline>li {display: inline-block}\n",
       ".list-inline>li:not(:last-child)::after {content: \"\\00b7\"; padding: 0 .5ex}\n",
       "</style>\n",
       "<ol class=list-inline><li>'Fine'</li><li>'Closes'</li><li>'Situate'</li><li>'Suggest'</li><li>'Inside'</li><li>'Strong'</li><li>'Moment'</li><li>'Against'</li><li>'Bottom'</li><li>'Grow'</li></ol>\n"
      ],
      "text/latex": [
       "\\begin{enumerate*}\n",
       "\\item 'Fine'\n",
       "\\item 'Closes'\n",
       "\\item 'Situate'\n",
       "\\item 'Suggest'\n",
       "\\item 'Inside'\n",
       "\\item 'Strong'\n",
       "\\item 'Moment'\n",
       "\\item 'Against'\n",
       "\\item 'Bottom'\n",
       "\\item 'Grow'\n",
       "\\end{enumerate*}\n"
      ],
      "text/markdown": [
       "1. 'Fine'\n",
       "2. 'Closes'\n",
       "3. 'Situate'\n",
       "4. 'Suggest'\n",
       "5. 'Inside'\n",
       "6. 'Strong'\n",
       "7. 'Moment'\n",
       "8. 'Against'\n",
       "9. 'Bottom'\n",
       "10. 'Grow'\n",
       "\n",
       "\n"
      ],
      "text/plain": [
       " [1] \"Fine\"    \"Closes\"  \"Situate\" \"Suggest\" \"Inside\"  \"Strong\"  \"Moment\" \n",
       " [8] \"Against\" \"Bottom\"  \"Grow\"   "
      ]
     },
     "metadata": {},
     "output_type": "display_data"
    }
   ],
   "source": [
    "# Capitalize the first letter only\n",
    "str_to_title(some_words)"
   ]
  },
  {
   "cell_type": "markdown",
   "metadata": {},
   "source": [
    "## String ordering and sorting"
   ]
  },
  {
   "cell_type": "markdown",
   "metadata": {},
   "source": [
    "Use the **`str_order( )`** function to return a series of integers indicating the alphabetical order of elements in the character vector."
   ]
  },
  {
   "cell_type": "code",
   "execution_count": 16,
   "metadata": {},
   "outputs": [
    {
     "data": {
      "text/html": [
       "<style>\n",
       ".list-inline {list-style: none; margin:0; padding: 0}\n",
       ".list-inline>li {display: inline-block}\n",
       ".list-inline>li:not(:last-child)::after {content: \"\\00b7\"; padding: 0 .5ex}\n",
       "</style>\n",
       "<ol class=list-inline><li>8</li><li>9</li><li>2</li><li>1</li><li>10</li><li>5</li><li>7</li><li>3</li><li>6</li><li>4</li></ol>\n"
      ],
      "text/latex": [
       "\\begin{enumerate*}\n",
       "\\item 8\n",
       "\\item 9\n",
       "\\item 2\n",
       "\\item 1\n",
       "\\item 10\n",
       "\\item 5\n",
       "\\item 7\n",
       "\\item 3\n",
       "\\item 6\n",
       "\\item 4\n",
       "\\end{enumerate*}\n"
      ],
      "text/markdown": [
       "1. 8\n",
       "2. 9\n",
       "3. 2\n",
       "4. 1\n",
       "5. 10\n",
       "6. 5\n",
       "7. 7\n",
       "8. 3\n",
       "9. 6\n",
       "10. 4\n",
       "\n",
       "\n"
      ],
      "text/plain": [
       " [1]  8  9  2  1 10  5  7  3  6  4"
      ]
     },
     "metadata": {},
     "output_type": "display_data"
    }
   ],
   "source": [
    "# Determine the alphabetical order \n",
    "str_order(some_words)"
   ]
  },
  {
   "cell_type": "markdown",
   "metadata": {},
   "source": [
    "Use the **`str_sort( )`** function to rearrange the words in alphabetical order."
   ]
  },
  {
   "cell_type": "code",
   "execution_count": 17,
   "metadata": {},
   "outputs": [
    {
     "data": {
      "text/html": [
       "<style>\n",
       ".list-inline {list-style: none; margin:0; padding: 0}\n",
       ".list-inline>li {display: inline-block}\n",
       ".list-inline>li:not(:last-child)::after {content: \"\\00b7\"; padding: 0 .5ex}\n",
       "</style>\n",
       "<ol class=list-inline><li>'against'</li><li>'bottom'</li><li>'closes'</li><li>'fine'</li><li>'grow'</li><li>'inside'</li><li>'moment'</li><li>'situate'</li><li>'strong'</li><li>'suggest'</li></ol>\n"
      ],
      "text/latex": [
       "\\begin{enumerate*}\n",
       "\\item 'against'\n",
       "\\item 'bottom'\n",
       "\\item 'closes'\n",
       "\\item 'fine'\n",
       "\\item 'grow'\n",
       "\\item 'inside'\n",
       "\\item 'moment'\n",
       "\\item 'situate'\n",
       "\\item 'strong'\n",
       "\\item 'suggest'\n",
       "\\end{enumerate*}\n"
      ],
      "text/markdown": [
       "1. 'against'\n",
       "2. 'bottom'\n",
       "3. 'closes'\n",
       "4. 'fine'\n",
       "5. 'grow'\n",
       "6. 'inside'\n",
       "7. 'moment'\n",
       "8. 'situate'\n",
       "9. 'strong'\n",
       "10. 'suggest'\n",
       "\n",
       "\n"
      ],
      "text/plain": [
       " [1] \"against\" \"bottom\"  \"closes\"  \"fine\"    \"grow\"    \"inside\"  \"moment\" \n",
       " [8] \"situate\" \"strong\"  \"suggest\""
      ]
     },
     "metadata": {},
     "output_type": "display_data"
    }
   ],
   "source": [
    "# Sort the words alphabetically\n",
    "str_sort(some_words)"
   ]
  },
  {
   "cell_type": "markdown",
   "metadata": {},
   "source": [
    "## Pattern matching"
   ]
  },
  {
   "cell_type": "markdown",
   "metadata": {},
   "source": [
    "Most functions in the **`stringr`** package deal with patterns. It could be a string of letters that start with a capital letter for names of person or a series of numbers separated by hyphens or dashes **`-`** in between such as a telephone numbers. The pattern matching functions in the **`stringr`** package have the first two arguments: (1) character vector of strings to process and (2) a single pattern to match. "
   ]
  },
  {
   "cell_type": "markdown",
   "metadata": {},
   "source": [
    "Use the **`str_detect( )`** function to determine if a character vector matches a pattern. It will return a logical vector with `TRUE` if a match is found or `FALSE` if a match is not found."
   ]
  },
  {
   "cell_type": "code",
   "execution_count": 24,
   "metadata": {},
   "outputs": [
    {
     "data": {
      "text/html": [
       "<style>\n",
       ".list-inline {list-style: none; margin:0; padding: 0}\n",
       ".list-inline>li {display: inline-block}\n",
       ".list-inline>li:not(:last-child)::after {content: \"\\00b7\"; padding: 0 .5ex}\n",
       "</style>\n",
       "<ol class=list-inline><li>'fine'</li><li>'closes'</li><li>'situate'</li><li>'suggest'</li><li>'inside'</li><li>'strong'</li><li>'moment'</li><li>'against'</li><li>'bottom'</li><li>'grow'</li></ol>\n"
      ],
      "text/latex": [
       "\\begin{enumerate*}\n",
       "\\item 'fine'\n",
       "\\item 'closes'\n",
       "\\item 'situate'\n",
       "\\item 'suggest'\n",
       "\\item 'inside'\n",
       "\\item 'strong'\n",
       "\\item 'moment'\n",
       "\\item 'against'\n",
       "\\item 'bottom'\n",
       "\\item 'grow'\n",
       "\\end{enumerate*}\n"
      ],
      "text/markdown": [
       "1. 'fine'\n",
       "2. 'closes'\n",
       "3. 'situate'\n",
       "4. 'suggest'\n",
       "5. 'inside'\n",
       "6. 'strong'\n",
       "7. 'moment'\n",
       "8. 'against'\n",
       "9. 'bottom'\n",
       "10. 'grow'\n",
       "\n",
       "\n"
      ],
      "text/plain": [
       " [1] \"fine\"    \"closes\"  \"situate\" \"suggest\" \"inside\"  \"strong\"  \"moment\" \n",
       " [8] \"against\" \"bottom\"  \"grow\"   "
      ]
     },
     "metadata": {},
     "output_type": "display_data"
    },
    {
     "data": {
      "text/html": [
       "<style>\n",
       ".list-inline {list-style: none; margin:0; padding: 0}\n",
       ".list-inline>li {display: inline-block}\n",
       ".list-inline>li:not(:last-child)::after {content: \"\\00b7\"; padding: 0 .5ex}\n",
       "</style>\n",
       "<ol class=list-inline><li>TRUE</li><li>TRUE</li><li>TRUE</li><li>TRUE</li><li>TRUE</li><li>FALSE</li><li>TRUE</li><li>FALSE</li><li>FALSE</li><li>FALSE</li></ol>\n"
      ],
      "text/latex": [
       "\\begin{enumerate*}\n",
       "\\item TRUE\n",
       "\\item TRUE\n",
       "\\item TRUE\n",
       "\\item TRUE\n",
       "\\item TRUE\n",
       "\\item FALSE\n",
       "\\item TRUE\n",
       "\\item FALSE\n",
       "\\item FALSE\n",
       "\\item FALSE\n",
       "\\end{enumerate*}\n"
      ],
      "text/markdown": [
       "1. TRUE\n",
       "2. TRUE\n",
       "3. TRUE\n",
       "4. TRUE\n",
       "5. TRUE\n",
       "6. FALSE\n",
       "7. TRUE\n",
       "8. FALSE\n",
       "9. FALSE\n",
       "10. FALSE\n",
       "\n",
       "\n"
      ],
      "text/plain": [
       " [1]  TRUE  TRUE  TRUE  TRUE  TRUE FALSE  TRUE FALSE FALSE FALSE"
      ]
     },
     "metadata": {},
     "output_type": "display_data"
    }
   ],
   "source": [
    "# Are there words in my list that contain a letter \"e\"?\n",
    "some_words\n",
    "str_detect(some_words, \"e\")"
   ]
  },
  {
   "cell_type": "markdown",
   "metadata": {},
   "source": [
    "The **`str_count( )`** function wil return the number of matches. "
   ]
  },
  {
   "cell_type": "code",
   "execution_count": 25,
   "metadata": {},
   "outputs": [
    {
     "data": {
      "text/html": [
       "<style>\n",
       ".list-inline {list-style: none; margin:0; padding: 0}\n",
       ".list-inline>li {display: inline-block}\n",
       ".list-inline>li:not(:last-child)::after {content: \"\\00b7\"; padding: 0 .5ex}\n",
       "</style>\n",
       "<ol class=list-inline><li>0</li><li>1</li><li>0</li><li>0</li><li>0</li><li>1</li><li>1</li><li>0</li><li>2</li><li>1</li></ol>\n"
      ],
      "text/latex": [
       "\\begin{enumerate*}\n",
       "\\item 0\n",
       "\\item 1\n",
       "\\item 0\n",
       "\\item 0\n",
       "\\item 0\n",
       "\\item 1\n",
       "\\item 1\n",
       "\\item 0\n",
       "\\item 2\n",
       "\\item 1\n",
       "\\end{enumerate*}\n"
      ],
      "text/markdown": [
       "1. 0\n",
       "2. 1\n",
       "3. 0\n",
       "4. 0\n",
       "5. 0\n",
       "6. 1\n",
       "7. 1\n",
       "8. 0\n",
       "9. 2\n",
       "10. 1\n",
       "\n",
       "\n"
      ],
      "text/plain": [
       " [1] 0 1 0 0 0 1 1 0 2 1"
      ]
     },
     "metadata": {},
     "output_type": "display_data"
    }
   ],
   "source": [
    "# Count the number of times the letter \"o\" appear in each word\n",
    "str_count(some_words, \"o\")"
   ]
  },
  {
   "cell_type": "markdown",
   "metadata": {},
   "source": [
    "Use the **`str_subset( )`** to return the elements of a character vector that match a regular expression."
   ]
  },
  {
   "cell_type": "code",
   "execution_count": 27,
   "metadata": {},
   "outputs": [
    {
     "data": {
      "text/html": [
       "<style>\n",
       ".list-inline {list-style: none; margin:0; padding: 0}\n",
       ".list-inline>li {display: inline-block}\n",
       ".list-inline>li:not(:last-child)::after {content: \"\\00b7\"; padding: 0 .5ex}\n",
       "</style>\n",
       "<ol class=list-inline><li>'fine'</li><li>'closes'</li><li>'situate'</li><li>'suggest'</li><li>'inside'</li><li>'moment'</li></ol>\n"
      ],
      "text/latex": [
       "\\begin{enumerate*}\n",
       "\\item 'fine'\n",
       "\\item 'closes'\n",
       "\\item 'situate'\n",
       "\\item 'suggest'\n",
       "\\item 'inside'\n",
       "\\item 'moment'\n",
       "\\end{enumerate*}\n"
      ],
      "text/markdown": [
       "1. 'fine'\n",
       "2. 'closes'\n",
       "3. 'situate'\n",
       "4. 'suggest'\n",
       "5. 'inside'\n",
       "6. 'moment'\n",
       "\n",
       "\n"
      ],
      "text/plain": [
       "[1] \"fine\"    \"closes\"  \"situate\" \"suggest\" \"inside\"  \"moment\" "
      ]
     },
     "metadata": {},
     "output_type": "display_data"
    }
   ],
   "source": [
    "# Subset words containing letter \"e\"\n",
    "str_subset(some_words, \"e\")"
   ]
  },
  {
   "cell_type": "markdown",
   "metadata": {},
   "source": [
    "The **`str_locate( )`** function identifies the first position of a pattern and returns a numeric matrix with columns start and end. The **`str_locate_all( )`** function identifies all matches and returns a list of numeric matrices."
   ]
  },
  {
   "cell_type": "code",
   "execution_count": 28,
   "metadata": {},
   "outputs": [
    {
     "data": {
      "text/html": [
       "<table>\n",
       "<caption>A matrix: 10 × 2 of type int</caption>\n",
       "<thead>\n",
       "\t<tr><th scope=col>start</th><th scope=col>end</th></tr>\n",
       "</thead>\n",
       "<tbody>\n",
       "\t<tr><td> 4</td><td> 4</td></tr>\n",
       "\t<tr><td> 5</td><td> 5</td></tr>\n",
       "\t<tr><td> 7</td><td> 7</td></tr>\n",
       "\t<tr><td> 5</td><td> 5</td></tr>\n",
       "\t<tr><td> 6</td><td> 6</td></tr>\n",
       "\t<tr><td>NA</td><td>NA</td></tr>\n",
       "\t<tr><td> 4</td><td> 4</td></tr>\n",
       "\t<tr><td>NA</td><td>NA</td></tr>\n",
       "\t<tr><td>NA</td><td>NA</td></tr>\n",
       "\t<tr><td>NA</td><td>NA</td></tr>\n",
       "</tbody>\n",
       "</table>\n"
      ],
      "text/latex": [
       "A matrix: 10 × 2 of type int\n",
       "\\begin{tabular}{ll}\n",
       " start & end\\\\\n",
       "\\hline\n",
       "\t  4 &  4\\\\\n",
       "\t  5 &  5\\\\\n",
       "\t  7 &  7\\\\\n",
       "\t  5 &  5\\\\\n",
       "\t  6 &  6\\\\\n",
       "\t NA & NA\\\\\n",
       "\t  4 &  4\\\\\n",
       "\t NA & NA\\\\\n",
       "\t NA & NA\\\\\n",
       "\t NA & NA\\\\\n",
       "\\end{tabular}\n"
      ],
      "text/markdown": [
       "\n",
       "A matrix: 10 × 2 of type int\n",
       "\n",
       "| start | end |\n",
       "|---|---|\n",
       "|  4 |  4 |\n",
       "|  5 |  5 |\n",
       "|  7 |  7 |\n",
       "|  5 |  5 |\n",
       "|  6 |  6 |\n",
       "| NA | NA |\n",
       "|  4 |  4 |\n",
       "| NA | NA |\n",
       "| NA | NA |\n",
       "| NA | NA |\n",
       "\n"
      ],
      "text/plain": [
       "      start end\n",
       " [1,]  4     4 \n",
       " [2,]  5     5 \n",
       " [3,]  7     7 \n",
       " [4,]  5     5 \n",
       " [5,]  6     6 \n",
       " [6,] NA    NA \n",
       " [7,]  4     4 \n",
       " [8,] NA    NA \n",
       " [9,] NA    NA \n",
       "[10,] NA    NA "
      ]
     },
     "metadata": {},
     "output_type": "display_data"
    }
   ],
   "source": [
    "str_locate(some_words, \"e\")"
   ]
  },
  {
   "cell_type": "code",
   "execution_count": 29,
   "metadata": {},
   "outputs": [
    {
     "data": {
      "text/html": [
       "<ol>\n",
       "\t<li><table>\n",
       "<caption>A matrix: 1 × 2 of type int</caption>\n",
       "<thead>\n",
       "\t<tr><th scope=col>start</th><th scope=col>end</th></tr>\n",
       "</thead>\n",
       "<tbody>\n",
       "\t<tr><td>4</td><td>4</td></tr>\n",
       "</tbody>\n",
       "</table>\n",
       "</li>\n",
       "\t<li><table>\n",
       "<caption>A matrix: 1 × 2 of type int</caption>\n",
       "<thead>\n",
       "\t<tr><th scope=col>start</th><th scope=col>end</th></tr>\n",
       "</thead>\n",
       "<tbody>\n",
       "\t<tr><td>5</td><td>5</td></tr>\n",
       "</tbody>\n",
       "</table>\n",
       "</li>\n",
       "\t<li><table>\n",
       "<caption>A matrix: 1 × 2 of type int</caption>\n",
       "<thead>\n",
       "\t<tr><th scope=col>start</th><th scope=col>end</th></tr>\n",
       "</thead>\n",
       "<tbody>\n",
       "\t<tr><td>7</td><td>7</td></tr>\n",
       "</tbody>\n",
       "</table>\n",
       "</li>\n",
       "\t<li><table>\n",
       "<caption>A matrix: 1 × 2 of type int</caption>\n",
       "<thead>\n",
       "\t<tr><th scope=col>start</th><th scope=col>end</th></tr>\n",
       "</thead>\n",
       "<tbody>\n",
       "\t<tr><td>5</td><td>5</td></tr>\n",
       "</tbody>\n",
       "</table>\n",
       "</li>\n",
       "\t<li><table>\n",
       "<caption>A matrix: 1 × 2 of type int</caption>\n",
       "<thead>\n",
       "\t<tr><th scope=col>start</th><th scope=col>end</th></tr>\n",
       "</thead>\n",
       "<tbody>\n",
       "\t<tr><td>6</td><td>6</td></tr>\n",
       "</tbody>\n",
       "</table>\n",
       "</li>\n",
       "\t<li><table>\n",
       "<caption>A matrix: 0 × 2 of type int</caption>\n",
       "<thead>\n",
       "\t<tr><th scope=col>start</th><th scope=col>end</th></tr>\n",
       "</thead>\n",
       "<tbody>\n",
       "</tbody>\n",
       "</table>\n",
       "</li>\n",
       "\t<li><table>\n",
       "<caption>A matrix: 1 × 2 of type int</caption>\n",
       "<thead>\n",
       "\t<tr><th scope=col>start</th><th scope=col>end</th></tr>\n",
       "</thead>\n",
       "<tbody>\n",
       "\t<tr><td>4</td><td>4</td></tr>\n",
       "</tbody>\n",
       "</table>\n",
       "</li>\n",
       "\t<li><table>\n",
       "<caption>A matrix: 0 × 2 of type int</caption>\n",
       "<thead>\n",
       "\t<tr><th scope=col>start</th><th scope=col>end</th></tr>\n",
       "</thead>\n",
       "<tbody>\n",
       "</tbody>\n",
       "</table>\n",
       "</li>\n",
       "\t<li><table>\n",
       "<caption>A matrix: 0 × 2 of type int</caption>\n",
       "<thead>\n",
       "\t<tr><th scope=col>start</th><th scope=col>end</th></tr>\n",
       "</thead>\n",
       "<tbody>\n",
       "</tbody>\n",
       "</table>\n",
       "</li>\n",
       "\t<li><table>\n",
       "<caption>A matrix: 0 × 2 of type int</caption>\n",
       "<thead>\n",
       "\t<tr><th scope=col>start</th><th scope=col>end</th></tr>\n",
       "</thead>\n",
       "<tbody>\n",
       "</tbody>\n",
       "</table>\n",
       "</li>\n",
       "</ol>\n"
      ],
      "text/latex": [
       "\\begin{enumerate}\n",
       "\\item A matrix: 1 × 2 of type int\n",
       "\\begin{tabular}{ll}\n",
       " start & end\\\\\n",
       "\\hline\n",
       "\t 4 & 4\\\\\n",
       "\\end{tabular}\n",
       "\n",
       "\\item A matrix: 1 × 2 of type int\n",
       "\\begin{tabular}{ll}\n",
       " start & end\\\\\n",
       "\\hline\n",
       "\t 5 & 5\\\\\n",
       "\\end{tabular}\n",
       "\n",
       "\\item A matrix: 1 × 2 of type int\n",
       "\\begin{tabular}{ll}\n",
       " start & end\\\\\n",
       "\\hline\n",
       "\t 7 & 7\\\\\n",
       "\\end{tabular}\n",
       "\n",
       "\\item A matrix: 1 × 2 of type int\n",
       "\\begin{tabular}{ll}\n",
       " start & end\\\\\n",
       "\\hline\n",
       "\t 5 & 5\\\\\n",
       "\\end{tabular}\n",
       "\n",
       "\\item A matrix: 1 × 2 of type int\n",
       "\\begin{tabular}{ll}\n",
       " start & end\\\\\n",
       "\\hline\n",
       "\t 6 & 6\\\\\n",
       "\\end{tabular}\n",
       "\n",
       "\\item A matrix: 0 × 2 of type int\n",
       "\\begin{tabular}{ll}\n",
       " start & end\\\\\n",
       "\\hline\n",
       "\\end{tabular}\n",
       "\n",
       "\\item A matrix: 1 × 2 of type int\n",
       "\\begin{tabular}{ll}\n",
       " start & end\\\\\n",
       "\\hline\n",
       "\t 4 & 4\\\\\n",
       "\\end{tabular}\n",
       "\n",
       "\\item A matrix: 0 × 2 of type int\n",
       "\\begin{tabular}{ll}\n",
       " start & end\\\\\n",
       "\\hline\n",
       "\\end{tabular}\n",
       "\n",
       "\\item A matrix: 0 × 2 of type int\n",
       "\\begin{tabular}{ll}\n",
       " start & end\\\\\n",
       "\\hline\n",
       "\\end{tabular}\n",
       "\n",
       "\\item A matrix: 0 × 2 of type int\n",
       "\\begin{tabular}{ll}\n",
       " start & end\\\\\n",
       "\\hline\n",
       "\\end{tabular}\n",
       "\n",
       "\\end{enumerate}\n"
      ],
      "text/markdown": [
       "1. \n",
       "A matrix: 1 × 2 of type int\n",
       "\n",
       "| start | end |\n",
       "|---|---|\n",
       "| 4 | 4 |\n",
       "\n",
       "\n",
       "2. \n",
       "A matrix: 1 × 2 of type int\n",
       "\n",
       "| start | end |\n",
       "|---|---|\n",
       "| 5 | 5 |\n",
       "\n",
       "\n",
       "3. \n",
       "A matrix: 1 × 2 of type int\n",
       "\n",
       "| start | end |\n",
       "|---|---|\n",
       "| 7 | 7 |\n",
       "\n",
       "\n",
       "4. \n",
       "A matrix: 1 × 2 of type int\n",
       "\n",
       "| start | end |\n",
       "|---|---|\n",
       "| 5 | 5 |\n",
       "\n",
       "\n",
       "5. \n",
       "A matrix: 1 × 2 of type int\n",
       "\n",
       "| start | end |\n",
       "|---|---|\n",
       "| 6 | 6 |\n",
       "\n",
       "\n",
       "6. \n",
       "A matrix: 0 × 2 of type int\n",
       "\n",
       "| start | end |\n",
       "|---|---|\n",
       "\n",
       "\n",
       "7. \n",
       "A matrix: 1 × 2 of type int\n",
       "\n",
       "| start | end |\n",
       "|---|---|\n",
       "| 4 | 4 |\n",
       "\n",
       "\n",
       "8. \n",
       "A matrix: 0 × 2 of type int\n",
       "\n",
       "| start | end |\n",
       "|---|---|\n",
       "\n",
       "\n",
       "9. \n",
       "A matrix: 0 × 2 of type int\n",
       "\n",
       "| start | end |\n",
       "|---|---|\n",
       "\n",
       "\n",
       "10. \n",
       "A matrix: 0 × 2 of type int\n",
       "\n",
       "| start | end |\n",
       "|---|---|\n",
       "\n",
       "\n",
       "\n",
       "\n"
      ],
      "text/plain": [
       "[[1]]\n",
       "     start end\n",
       "[1,]     4   4\n",
       "\n",
       "[[2]]\n",
       "     start end\n",
       "[1,]     5   5\n",
       "\n",
       "[[3]]\n",
       "     start end\n",
       "[1,]     7   7\n",
       "\n",
       "[[4]]\n",
       "     start end\n",
       "[1,]     5   5\n",
       "\n",
       "[[5]]\n",
       "     start end\n",
       "[1,]     6   6\n",
       "\n",
       "[[6]]\n",
       "     start end\n",
       "\n",
       "[[7]]\n",
       "     start end\n",
       "[1,]     4   4\n",
       "\n",
       "[[8]]\n",
       "     start end\n",
       "\n",
       "[[9]]\n",
       "     start end\n",
       "\n",
       "[[10]]\n",
       "     start end\n"
      ]
     },
     "metadata": {},
     "output_type": "display_data"
    }
   ],
   "source": [
    "str_locate_all(some_words, \"e\")"
   ]
  },
  {
   "cell_type": "markdown",
   "metadata": {},
   "source": [
    "Use the **`str_extract( )`** function to parse characters corresponding to the first match, which will return a character vector for the pattern and `NA` if a match is not found. Use the **`str_extract_all( )`** function to parse all matches and return a list of character vectors."
   ]
  },
  {
   "cell_type": "code",
   "execution_count": 32,
   "metadata": {},
   "outputs": [
    {
     "data": {
      "text/html": [
       "<style>\n",
       ".list-inline {list-style: none; margin:0; padding: 0}\n",
       ".list-inline>li {display: inline-block}\n",
       ".list-inline>li:not(:last-child)::after {content: \"\\00b7\"; padding: 0 .5ex}\n",
       "</style>\n",
       "<ol class=list-inline><li>'fine'</li><li>'closes'</li><li>'situate'</li><li>'suggest'</li><li>'inside'</li><li>'strong'</li><li>'moment'</li><li>'against'</li><li>'bottom'</li><li>'grow'</li></ol>\n"
      ],
      "text/latex": [
       "\\begin{enumerate*}\n",
       "\\item 'fine'\n",
       "\\item 'closes'\n",
       "\\item 'situate'\n",
       "\\item 'suggest'\n",
       "\\item 'inside'\n",
       "\\item 'strong'\n",
       "\\item 'moment'\n",
       "\\item 'against'\n",
       "\\item 'bottom'\n",
       "\\item 'grow'\n",
       "\\end{enumerate*}\n"
      ],
      "text/markdown": [
       "1. 'fine'\n",
       "2. 'closes'\n",
       "3. 'situate'\n",
       "4. 'suggest'\n",
       "5. 'inside'\n",
       "6. 'strong'\n",
       "7. 'moment'\n",
       "8. 'against'\n",
       "9. 'bottom'\n",
       "10. 'grow'\n",
       "\n",
       "\n"
      ],
      "text/plain": [
       " [1] \"fine\"    \"closes\"  \"situate\" \"suggest\" \"inside\"  \"strong\"  \"moment\" \n",
       " [8] \"against\" \"bottom\"  \"grow\"   "
      ]
     },
     "metadata": {},
     "output_type": "display_data"
    },
    {
     "data": {
      "text/html": [
       "<style>\n",
       ".list-inline {list-style: none; margin:0; padding: 0}\n",
       ".list-inline>li {display: inline-block}\n",
       ".list-inline>li:not(:last-child)::after {content: \"\\00b7\"; padding: 0 .5ex}\n",
       "</style>\n",
       "<ol class=list-inline><li>'in'</li><li>NA</li><li>NA</li><li>NA</li><li>'in'</li><li>NA</li><li>NA</li><li>'in'</li><li>NA</li><li>NA</li></ol>\n"
      ],
      "text/latex": [
       "\\begin{enumerate*}\n",
       "\\item 'in'\n",
       "\\item NA\n",
       "\\item NA\n",
       "\\item NA\n",
       "\\item 'in'\n",
       "\\item NA\n",
       "\\item NA\n",
       "\\item 'in'\n",
       "\\item NA\n",
       "\\item NA\n",
       "\\end{enumerate*}\n"
      ],
      "text/markdown": [
       "1. 'in'\n",
       "2. NA\n",
       "3. NA\n",
       "4. NA\n",
       "5. 'in'\n",
       "6. NA\n",
       "7. NA\n",
       "8. 'in'\n",
       "9. NA\n",
       "10. NA\n",
       "\n",
       "\n"
      ],
      "text/plain": [
       " [1] \"in\" NA   NA   NA   \"in\" NA   NA   \"in\" NA   NA  "
      ]
     },
     "metadata": {},
     "output_type": "display_data"
    }
   ],
   "source": [
    "some_words\n",
    "str_extract(some_words, \"in\")"
   ]
  },
  {
   "cell_type": "code",
   "execution_count": 33,
   "metadata": {},
   "outputs": [
    {
     "data": {
      "text/html": [
       "<ol>\n",
       "\t<li>'in'</li>\n",
       "\t<li></li>\n",
       "\t<li></li>\n",
       "\t<li></li>\n",
       "\t<li>'in'</li>\n",
       "\t<li></li>\n",
       "\t<li></li>\n",
       "\t<li>'in'</li>\n",
       "\t<li></li>\n",
       "\t<li></li>\n",
       "</ol>\n"
      ],
      "text/latex": [
       "\\begin{enumerate}\n",
       "\\item 'in'\n",
       "\\item \n",
       "\\item \n",
       "\\item \n",
       "\\item 'in'\n",
       "\\item \n",
       "\\item \n",
       "\\item 'in'\n",
       "\\item \n",
       "\\item \n",
       "\\end{enumerate}\n"
      ],
      "text/markdown": [
       "1. 'in'\n",
       "2. \n",
       "3. \n",
       "4. \n",
       "5. 'in'\n",
       "6. \n",
       "7. \n",
       "8. 'in'\n",
       "9. \n",
       "10. \n",
       "\n",
       "\n"
      ],
      "text/plain": [
       "[[1]]\n",
       "[1] \"in\"\n",
       "\n",
       "[[2]]\n",
       "character(0)\n",
       "\n",
       "[[3]]\n",
       "character(0)\n",
       "\n",
       "[[4]]\n",
       "character(0)\n",
       "\n",
       "[[5]]\n",
       "[1] \"in\"\n",
       "\n",
       "[[6]]\n",
       "character(0)\n",
       "\n",
       "[[7]]\n",
       "character(0)\n",
       "\n",
       "[[8]]\n",
       "[1] \"in\"\n",
       "\n",
       "[[9]]\n",
       "character(0)\n",
       "\n",
       "[[10]]\n",
       "character(0)\n"
      ]
     },
     "metadata": {},
     "output_type": "display_data"
    }
   ],
   "source": [
    "str_extract_all(some_words, \"in\")"
   ]
  },
  {
   "cell_type": "markdown",
   "metadata": {},
   "source": [
    "Use the **`str_replace( )`** function to replace the first matched pattern, which returns a character vector. Use the **`str_replace_all( )`** to replace all matches."
   ]
  },
  {
   "cell_type": "code",
   "execution_count": 36,
   "metadata": {},
   "outputs": [
    {
     "data": {
      "text/html": [
       "<style>\n",
       ".list-inline {list-style: none; margin:0; padding: 0}\n",
       ".list-inline>li {display: inline-block}\n",
       ".list-inline>li:not(:last-child)::after {content: \"\\00b7\"; padding: 0 .5ex}\n",
       "</style>\n",
       "<ol class=list-inline><li>'fine'</li><li>'closes'</li><li>'situate'</li><li>'suggest'</li><li>'inside'</li><li>'strong'</li><li>'moment'</li><li>'against'</li><li>'bottom'</li><li>'grow'</li></ol>\n"
      ],
      "text/latex": [
       "\\begin{enumerate*}\n",
       "\\item 'fine'\n",
       "\\item 'closes'\n",
       "\\item 'situate'\n",
       "\\item 'suggest'\n",
       "\\item 'inside'\n",
       "\\item 'strong'\n",
       "\\item 'moment'\n",
       "\\item 'against'\n",
       "\\item 'bottom'\n",
       "\\item 'grow'\n",
       "\\end{enumerate*}\n"
      ],
      "text/markdown": [
       "1. 'fine'\n",
       "2. 'closes'\n",
       "3. 'situate'\n",
       "4. 'suggest'\n",
       "5. 'inside'\n",
       "6. 'strong'\n",
       "7. 'moment'\n",
       "8. 'against'\n",
       "9. 'bottom'\n",
       "10. 'grow'\n",
       "\n",
       "\n"
      ],
      "text/plain": [
       " [1] \"fine\"    \"closes\"  \"situate\" \"suggest\" \"inside\"  \"strong\"  \"moment\" \n",
       " [8] \"against\" \"bottom\"  \"grow\"   "
      ]
     },
     "metadata": {},
     "output_type": "display_data"
    },
    {
     "data": {
      "text/html": [
       "<style>\n",
       ".list-inline {list-style: none; margin:0; padding: 0}\n",
       ".list-inline>li {display: inline-block}\n",
       ".list-inline>li:not(:last-child)::after {content: \"\\00b7\"; padding: 0 .5ex}\n",
       "</style>\n",
       "<ol class=list-inline><li>'fine'</li><li>'clOses'</li><li>'situate'</li><li>'suggest'</li><li>'inside'</li><li>'strOng'</li><li>'mOment'</li><li>'against'</li><li>'bOttom'</li><li>'grOw'</li></ol>\n"
      ],
      "text/latex": [
       "\\begin{enumerate*}\n",
       "\\item 'fine'\n",
       "\\item 'clOses'\n",
       "\\item 'situate'\n",
       "\\item 'suggest'\n",
       "\\item 'inside'\n",
       "\\item 'strOng'\n",
       "\\item 'mOment'\n",
       "\\item 'against'\n",
       "\\item 'bOttom'\n",
       "\\item 'grOw'\n",
       "\\end{enumerate*}\n"
      ],
      "text/markdown": [
       "1. 'fine'\n",
       "2. 'clOses'\n",
       "3. 'situate'\n",
       "4. 'suggest'\n",
       "5. 'inside'\n",
       "6. 'strOng'\n",
       "7. 'mOment'\n",
       "8. 'against'\n",
       "9. 'bOttom'\n",
       "10. 'grOw'\n",
       "\n",
       "\n"
      ],
      "text/plain": [
       " [1] \"fine\"    \"clOses\"  \"situate\" \"suggest\" \"inside\"  \"strOng\"  \"mOment\" \n",
       " [8] \"against\" \"bOttom\"  \"grOw\"   "
      ]
     },
     "metadata": {},
     "output_type": "display_data"
    }
   ],
   "source": [
    "# Change small \"o\" to big \"O\"\n",
    "some_words\n",
    "str_replace(some_words, \"o\", \"O\")"
   ]
  },
  {
   "cell_type": "code",
   "execution_count": 37,
   "metadata": {},
   "outputs": [
    {
     "data": {
      "text/html": [
       "<style>\n",
       ".list-inline {list-style: none; margin:0; padding: 0}\n",
       ".list-inline>li {display: inline-block}\n",
       ".list-inline>li:not(:last-child)::after {content: \"\\00b7\"; padding: 0 .5ex}\n",
       "</style>\n",
       "<ol class=list-inline><li>'fine'</li><li>'clOses'</li><li>'situate'</li><li>'suggest'</li><li>'inside'</li><li>'strOng'</li><li>'mOment'</li><li>'against'</li><li>'bOttOm'</li><li>'grOw'</li></ol>\n"
      ],
      "text/latex": [
       "\\begin{enumerate*}\n",
       "\\item 'fine'\n",
       "\\item 'clOses'\n",
       "\\item 'situate'\n",
       "\\item 'suggest'\n",
       "\\item 'inside'\n",
       "\\item 'strOng'\n",
       "\\item 'mOment'\n",
       "\\item 'against'\n",
       "\\item 'bOttOm'\n",
       "\\item 'grOw'\n",
       "\\end{enumerate*}\n"
      ],
      "text/markdown": [
       "1. 'fine'\n",
       "2. 'clOses'\n",
       "3. 'situate'\n",
       "4. 'suggest'\n",
       "5. 'inside'\n",
       "6. 'strOng'\n",
       "7. 'mOment'\n",
       "8. 'against'\n",
       "9. 'bOttOm'\n",
       "10. 'grOw'\n",
       "\n",
       "\n"
      ],
      "text/plain": [
       " [1] \"fine\"    \"clOses\"  \"situate\" \"suggest\" \"inside\"  \"strOng\"  \"mOment\" \n",
       " [8] \"against\" \"bOttOm\"  \"grOw\"   "
      ]
     },
     "metadata": {},
     "output_type": "display_data"
    }
   ],
   "source": [
    "str_replace_all(some_words, \"o\", \"O\")"
   ]
  },
  {
   "cell_type": "markdown",
   "metadata": {},
   "source": [
    "Note that the **`str_replace_all( )`** function changes all matched characters in every word in the list while the **`str_replace( )`** function changes only the first character that matched in each word."
   ]
  },
  {
   "cell_type": "markdown",
   "metadata": {},
   "source": [
    "Use the **`str_c( )`** function to combine two or more strings. The collapse argument is used as a separator between strings."
   ]
  },
  {
   "cell_type": "code",
   "execution_count": 38,
   "metadata": {},
   "outputs": [
    {
     "data": {
      "text/html": [
       "'fine-closes-situate-suggest-inside-strong-moment-against-bottom-grow'"
      ],
      "text/latex": [
       "'fine-closes-situate-suggest-inside-strong-moment-against-bottom-grow'"
      ],
      "text/markdown": [
       "'fine-closes-situate-suggest-inside-strong-moment-against-bottom-grow'"
      ],
      "text/plain": [
       "[1] \"fine-closes-situate-suggest-inside-strong-moment-against-bottom-grow\""
      ]
     },
     "metadata": {},
     "output_type": "display_data"
    }
   ],
   "source": [
    "str_c(some_words, collapse = \"-\")"
   ]
  },
  {
   "cell_type": "markdown",
   "metadata": {},
   "source": [
    "Use the **`str_split( )`** function to split a string into a variable number of pieces, which returns a list of character vectors."
   ]
  },
  {
   "cell_type": "code",
   "execution_count": 40,
   "metadata": {},
   "outputs": [
    {
     "data": {
      "text/html": [
       "<ol>\n",
       "\t<li><style>\n",
       ".list-inline {list-style: none; margin:0; padding: 0}\n",
       ".list-inline>li {display: inline-block}\n",
       ".list-inline>li:not(:last-child)::after {content: \"\\00b7\"; padding: 0 .5ex}\n",
       "</style>\n",
       "<ol class=list-inline><li>'fine'</li><li>'closes'</li><li>'situate'</li><li>'suggest'</li><li>'inside'</li><li>'strong'</li><li>'moment'</li><li>'against'</li><li>'bottom'</li><li>'grow'</li></ol>\n",
       "</li>\n",
       "</ol>\n"
      ],
      "text/latex": [
       "\\begin{enumerate}\n",
       "\\item \\begin{enumerate*}\n",
       "\\item 'fine'\n",
       "\\item 'closes'\n",
       "\\item 'situate'\n",
       "\\item 'suggest'\n",
       "\\item 'inside'\n",
       "\\item 'strong'\n",
       "\\item 'moment'\n",
       "\\item 'against'\n",
       "\\item 'bottom'\n",
       "\\item 'grow'\n",
       "\\end{enumerate*}\n",
       "\n",
       "\\end{enumerate}\n"
      ],
      "text/markdown": [
       "1. 1. 'fine'\n",
       "2. 'closes'\n",
       "3. 'situate'\n",
       "4. 'suggest'\n",
       "5. 'inside'\n",
       "6. 'strong'\n",
       "7. 'moment'\n",
       "8. 'against'\n",
       "9. 'bottom'\n",
       "10. 'grow'\n",
       "\n",
       "\n",
       "\n",
       "\n",
       "\n"
      ],
      "text/plain": [
       "[[1]]\n",
       " [1] \"fine\"    \"closes\"  \"situate\" \"suggest\" \"inside\"  \"strong\"  \"moment\" \n",
       " [8] \"against\" \"bottom\"  \"grow\"   \n"
      ]
     },
     "metadata": {},
     "output_type": "display_data"
    }
   ],
   "source": [
    "str_c(some_words, collapse = \"-\") %>%\n",
    "    str_split(\"-\")"
   ]
  },
  {
   "cell_type": "markdown",
   "metadata": {},
   "source": [
    "## Regular expression (REGEX)"
   ]
  },
  {
   "cell_type": "markdown",
   "metadata": {},
   "source": [
    "Regular expressions allow flexible syntax when describing patterns in strings. Regular expressions are the default pattern engine in **`stringr`**. Each time you use a pattern matching function, it is actually wrapping it inside the **`regex( )`** function."
   ]
  },
  {
   "cell_type": "code",
   "execution_count": 42,
   "metadata": {},
   "outputs": [
    {
     "data": {
      "text/html": [
       "<style>\n",
       ".list-inline {list-style: none; margin:0; padding: 0}\n",
       ".list-inline>li {display: inline-block}\n",
       ".list-inline>li:not(:last-child)::after {content: \"\\00b7\"; padding: 0 .5ex}\n",
       "</style>\n",
       "<ol class=list-inline><li>'fine'</li><li>'closes'</li><li>'situate'</li><li>'suggest'</li><li>'inside'</li><li>'strong'</li><li>'moment'</li><li>'against'</li><li>'bottom'</li><li>'grow'</li></ol>\n"
      ],
      "text/latex": [
       "\\begin{enumerate*}\n",
       "\\item 'fine'\n",
       "\\item 'closes'\n",
       "\\item 'situate'\n",
       "\\item 'suggest'\n",
       "\\item 'inside'\n",
       "\\item 'strong'\n",
       "\\item 'moment'\n",
       "\\item 'against'\n",
       "\\item 'bottom'\n",
       "\\item 'grow'\n",
       "\\end{enumerate*}\n"
      ],
      "text/markdown": [
       "1. 'fine'\n",
       "2. 'closes'\n",
       "3. 'situate'\n",
       "4. 'suggest'\n",
       "5. 'inside'\n",
       "6. 'strong'\n",
       "7. 'moment'\n",
       "8. 'against'\n",
       "9. 'bottom'\n",
       "10. 'grow'\n",
       "\n",
       "\n"
      ],
      "text/plain": [
       " [1] \"fine\"    \"closes\"  \"situate\" \"suggest\" \"inside\"  \"strong\"  \"moment\" \n",
       " [8] \"against\" \"bottom\"  \"grow\"   "
      ]
     },
     "metadata": {},
     "output_type": "display_data"
    },
    {
     "data": {
      "text/html": [
       "<style>\n",
       ".list-inline {list-style: none; margin:0; padding: 0}\n",
       ".list-inline>li {display: inline-block}\n",
       ".list-inline>li:not(:last-child)::after {content: \"\\00b7\"; padding: 0 .5ex}\n",
       "</style>\n",
       "<ol class=list-inline><li>'in'</li><li>NA</li><li>NA</li><li>NA</li><li>'in'</li><li>NA</li><li>NA</li><li>'in'</li><li>NA</li><li>NA</li></ol>\n"
      ],
      "text/latex": [
       "\\begin{enumerate*}\n",
       "\\item 'in'\n",
       "\\item NA\n",
       "\\item NA\n",
       "\\item NA\n",
       "\\item 'in'\n",
       "\\item NA\n",
       "\\item NA\n",
       "\\item 'in'\n",
       "\\item NA\n",
       "\\item NA\n",
       "\\end{enumerate*}\n"
      ],
      "text/markdown": [
       "1. 'in'\n",
       "2. NA\n",
       "3. NA\n",
       "4. NA\n",
       "5. 'in'\n",
       "6. NA\n",
       "7. NA\n",
       "8. 'in'\n",
       "9. NA\n",
       "10. NA\n",
       "\n",
       "\n"
      ],
      "text/plain": [
       " [1] \"in\" NA   NA   NA   \"in\" NA   NA   \"in\" NA   NA  "
      ]
     },
     "metadata": {},
     "output_type": "display_data"
    },
    {
     "data": {
      "text/html": [
       "<style>\n",
       ".list-inline {list-style: none; margin:0; padding: 0}\n",
       ".list-inline>li {display: inline-block}\n",
       ".list-inline>li:not(:last-child)::after {content: \"\\00b7\"; padding: 0 .5ex}\n",
       "</style>\n",
       "<ol class=list-inline><li>'in'</li><li>NA</li><li>NA</li><li>NA</li><li>'in'</li><li>NA</li><li>NA</li><li>'in'</li><li>NA</li><li>NA</li></ol>\n"
      ],
      "text/latex": [
       "\\begin{enumerate*}\n",
       "\\item 'in'\n",
       "\\item NA\n",
       "\\item NA\n",
       "\\item NA\n",
       "\\item 'in'\n",
       "\\item NA\n",
       "\\item NA\n",
       "\\item 'in'\n",
       "\\item NA\n",
       "\\item NA\n",
       "\\end{enumerate*}\n"
      ],
      "text/markdown": [
       "1. 'in'\n",
       "2. NA\n",
       "3. NA\n",
       "4. NA\n",
       "5. 'in'\n",
       "6. NA\n",
       "7. NA\n",
       "8. 'in'\n",
       "9. NA\n",
       "10. NA\n",
       "\n",
       "\n"
      ],
      "text/plain": [
       " [1] \"in\" NA   NA   NA   \"in\" NA   NA   \"in\" NA   NA  "
      ]
     },
     "metadata": {},
     "output_type": "display_data"
    }
   ],
   "source": [
    "some_words\n",
    "# The two lines of code below are the same \n",
    "str_extract(some_words, \"in\")\n",
    "str_extract(some_words, regex(\"in\"))"
   ]
  },
  {
   "cell_type": "markdown",
   "metadata": {},
   "source": [
    "Regular expression use values symbols to represent a number, letter, etc. These different symbols are described below. Here, you will be playing around with the **`sentences`** dataset in the **`stringr`** package, which is a collection of \"Harvard sentences\" used for standardized testing of voice."
   ]
  },
  {
   "cell_type": "code",
   "execution_count": 46,
   "metadata": {},
   "outputs": [],
   "source": [
    "# Assign the sentences dataset to an object named, \"sentences\"\n",
    "sentences <- stringr::sentences"
   ]
  },
  {
   "cell_type": "code",
   "execution_count": 49,
   "metadata": {},
   "outputs": [
    {
     "data": {
      "text/html": [
       "720"
      ],
      "text/latex": [
       "720"
      ],
      "text/markdown": [
       "720"
      ],
      "text/plain": [
       "[1] 720"
      ]
     },
     "metadata": {},
     "output_type": "display_data"
    }
   ],
   "source": [
    "# How many sentences are there in the sentence dataset\n",
    "length(sentences)"
   ]
  },
  {
   "cell_type": "code",
   "execution_count": 48,
   "metadata": {},
   "outputs": [
    {
     "name": "stdout",
     "output_type": "stream",
     "text": [
      "[1] \"The birch canoe slid on the smooth planks.\" \n",
      "[2] \"Glue the sheet to the dark blue background.\"\n",
      "[3] \"It's easy to tell the depth of a well.\"     \n",
      "[4] \"These days a chicken leg is a rare dish.\"   \n",
      "[5] \"Rice is often served in round bowls.\"       \n"
     ]
    }
   ],
   "source": [
    "# Check the first 5 sentences\n",
    "print(sentences[1:5])"
   ]
  },
  {
   "cell_type": "code",
   "execution_count": 51,
   "metadata": {},
   "outputs": [
    {
     "name": "stdout",
     "output_type": "stream",
     "text": [
      " [1] \"The wide road shimmered in the hot sun.\"           \n",
      " [2] \"The heap of fallen leaves was set on fire.\"        \n",
      " [3] \"He sent the boy on a short errand.\"                \n",
      " [4] \"Mud was spattered on the front of his white shirt.\"\n",
      " [5] \"Cars and busses stalled in snow drifts.\"           \n",
      " [6] \"We need an end of all such matter.\"                \n",
      " [7] \"The marsh will freeze when cold enough.\"           \n",
      " [8] \"The box was thrown beside the parked truck.\"       \n",
      " [9] \"The office paint was a dull sad tan.\"              \n",
      "[10] \"Dimes showered down from all sides.\"               \n"
     ]
    }
   ],
   "source": [
    "# Subset randomly 10 sentences using the sample() function\n",
    "set.seed(43) # random number generator\n",
    "some_sentences <- sample(sentences, 10)\n",
    "print(some_sentences)"
   ]
  },
  {
   "cell_type": "markdown",
   "metadata": {},
   "source": [
    "### Match everything with a period **`.`**"
   ]
  },
  {
   "cell_type": "markdown",
   "metadata": {},
   "source": [
    "Use the period **`.`** to match any character except a newline."
   ]
  },
  {
   "cell_type": "code",
   "execution_count": 53,
   "metadata": {},
   "outputs": [
    {
     "data": {
      "text/html": [
       "<style>\n",
       ".list-inline {list-style: none; margin:0; padding: 0}\n",
       ".list-inline>li {display: inline-block}\n",
       ".list-inline>li:not(:last-child)::after {content: \"\\00b7\"; padding: 0 .5ex}\n",
       "</style>\n",
       "<ol class=list-inline><li>' in '</li><li>NA</li><li>NA</li><li>NA</li><li>' in '</li><li>NA</li><li>NA</li><li>NA</li><li>'aint'</li><li>NA</li></ol>\n"
      ],
      "text/latex": [
       "\\begin{enumerate*}\n",
       "\\item ' in '\n",
       "\\item NA\n",
       "\\item NA\n",
       "\\item NA\n",
       "\\item ' in '\n",
       "\\item NA\n",
       "\\item NA\n",
       "\\item NA\n",
       "\\item 'aint'\n",
       "\\item NA\n",
       "\\end{enumerate*}\n"
      ],
      "text/markdown": [
       "1. ' in '\n",
       "2. NA\n",
       "3. NA\n",
       "4. NA\n",
       "5. ' in '\n",
       "6. NA\n",
       "7. NA\n",
       "8. NA\n",
       "9. 'aint'\n",
       "10. NA\n",
       "\n",
       "\n"
      ],
      "text/plain": [
       " [1] \" in \" NA     NA     NA     \" in \" NA     NA     NA     \"aint\" NA    "
      ]
     },
     "metadata": {},
     "output_type": "display_data"
    }
   ],
   "source": [
    "# Search for the pattern: \"any letter\" + \"in\" + \"any letter\"\n",
    "str_extract(some_sentences, \".in.\")"
   ]
  },
  {
   "cell_type": "markdown",
   "metadata": {},
   "source": [
    "### Escaping characters"
   ]
  },
  {
   "cell_type": "markdown",
   "metadata": {},
   "source": [
    "Metacharacters, such as period **`.`** asterisk **`*`** plus sign **`+`**, can be used as literal characters by escaping them using two backslashes **`\\\\`**. "
   ]
  },
  {
   "cell_type": "code",
   "execution_count": 54,
   "metadata": {},
   "outputs": [
    {
     "data": {
      "text/html": [
       "<style>\n",
       ".list-inline {list-style: none; margin:0; padding: 0}\n",
       ".list-inline>li {display: inline-block}\n",
       ".list-inline>li:not(:last-child)::after {content: \"\\00b7\"; padding: 0 .5ex}\n",
       "</style>\n",
       "<ol class=list-inline><li>TRUE</li><li>TRUE</li><li>TRUE</li><li>TRUE</li><li>TRUE</li><li>TRUE</li><li>TRUE</li><li>TRUE</li><li>TRUE</li><li>TRUE</li></ol>\n"
      ],
      "text/latex": [
       "\\begin{enumerate*}\n",
       "\\item TRUE\n",
       "\\item TRUE\n",
       "\\item TRUE\n",
       "\\item TRUE\n",
       "\\item TRUE\n",
       "\\item TRUE\n",
       "\\item TRUE\n",
       "\\item TRUE\n",
       "\\item TRUE\n",
       "\\item TRUE\n",
       "\\end{enumerate*}\n"
      ],
      "text/markdown": [
       "1. TRUE\n",
       "2. TRUE\n",
       "3. TRUE\n",
       "4. TRUE\n",
       "5. TRUE\n",
       "6. TRUE\n",
       "7. TRUE\n",
       "8. TRUE\n",
       "9. TRUE\n",
       "10. TRUE\n",
       "\n",
       "\n"
      ],
      "text/plain": [
       " [1] TRUE TRUE TRUE TRUE TRUE TRUE TRUE TRUE TRUE TRUE"
      ]
     },
     "metadata": {},
     "output_type": "display_data"
    }
   ],
   "source": [
    "# Check if sentences end with a period.\n",
    "str_detect(some_sentences, \"\\\\.\")"
   ]
  },
  {
   "cell_type": "markdown",
   "metadata": {},
   "source": [
    "### Matching Multiple characters"
   ]
  },
  {
   "cell_type": "markdown",
   "metadata": {},
   "source": [
    "There are a number of patterns that match more than one character. There are five escaped operators that match specific classes of characters."
   ]
  },
  {
   "cell_type": "markdown",
   "metadata": {},
   "source": [
    "The **`\\d`** operator matches any digit. The complement, **`\\D`**, matches any character that is not a decimal digit."
   ]
  },
  {
   "cell_type": "code",
   "execution_count": 61,
   "metadata": {},
   "outputs": [
    {
     "data": {
      "text/html": [
       "<style>\n",
       ".list-inline {list-style: none; margin:0; padding: 0}\n",
       ".list-inline>li {display: inline-block}\n",
       ".list-inline>li:not(:last-child)::after {content: \"\\00b7\"; padding: 0 .5ex}\n",
       "</style>\n",
       "<ol class=list-inline><li>'4'</li><li>'5'</li></ol>\n"
      ],
      "text/latex": [
       "\\begin{enumerate*}\n",
       "\\item '4'\n",
       "\\item '5'\n",
       "\\end{enumerate*}\n"
      ],
      "text/markdown": [
       "1. '4'\n",
       "2. '5'\n",
       "\n",
       "\n"
      ],
      "text/plain": [
       "[1] \"4\" \"5\""
      ]
     },
     "metadata": {},
     "output_type": "display_data"
    }
   ],
   "source": [
    "# Extract the age and month\n",
    "str_extract_all(\"4y5m\", \"\\\\d\")[[1]]"
   ]
  },
  {
   "cell_type": "markdown",
   "metadata": {},
   "source": [
    "The **`\\s`** operator matches any whitespace. This includes tabs, newlines, and form feeds."
   ]
  },
  {
   "cell_type": "code",
   "execution_count": 64,
   "metadata": {},
   "outputs": [
    {
     "data": {
      "text/html": [
       "<style>\n",
       ".list-inline {list-style: none; margin:0; padding: 0}\n",
       ".list-inline>li {display: inline-block}\n",
       ".list-inline>li:not(:last-child)::after {content: \"\\00b7\"; padding: 0 .5ex}\n",
       "</style>\n",
       "<ol class=list-inline><li>'The_wide_road_shimmered_in_the_hot_sun.'</li><li>'The_heap_of_fallen_leaves_was_set_on_fire.'</li><li>'He_sent_the_boy_on_a_short_errand.'</li><li>'Mud_was_spattered_on_the_front_of_his_white_shirt.'</li><li>'Cars_and_busses_stalled_in_snow_drifts.'</li><li>'We_need_an_end_of_all_such_matter.'</li><li>'The_marsh_will_freeze_when_cold_enough.'</li><li>'The_box_was_thrown_beside_the_parked_truck.'</li><li>'The_office_paint_was_a_dull_sad_tan.'</li><li>'Dimes_showered_down_from_all_sides.'</li></ol>\n"
      ],
      "text/latex": [
       "\\begin{enumerate*}\n",
       "\\item 'The\\_wide\\_road\\_shimmered\\_in\\_the\\_hot\\_sun.'\n",
       "\\item 'The\\_heap\\_of\\_fallen\\_leaves\\_was\\_set\\_on\\_fire.'\n",
       "\\item 'He\\_sent\\_the\\_boy\\_on\\_a\\_short\\_errand.'\n",
       "\\item 'Mud\\_was\\_spattered\\_on\\_the\\_front\\_of\\_his\\_white\\_shirt.'\n",
       "\\item 'Cars\\_and\\_busses\\_stalled\\_in\\_snow\\_drifts.'\n",
       "\\item 'We\\_need\\_an\\_end\\_of\\_all\\_such\\_matter.'\n",
       "\\item 'The\\_marsh\\_will\\_freeze\\_when\\_cold\\_enough.'\n",
       "\\item 'The\\_box\\_was\\_thrown\\_beside\\_the\\_parked\\_truck.'\n",
       "\\item 'The\\_office\\_paint\\_was\\_a\\_dull\\_sad\\_tan.'\n",
       "\\item 'Dimes\\_showered\\_down\\_from\\_all\\_sides.'\n",
       "\\end{enumerate*}\n"
      ],
      "text/markdown": [
       "1. 'The_wide_road_shimmered_in_the_hot_sun.'\n",
       "2. 'The_heap_of_fallen_leaves_was_set_on_fire.'\n",
       "3. 'He_sent_the_boy_on_a_short_errand.'\n",
       "4. 'Mud_was_spattered_on_the_front_of_his_white_shirt.'\n",
       "5. 'Cars_and_busses_stalled_in_snow_drifts.'\n",
       "6. 'We_need_an_end_of_all_such_matter.'\n",
       "7. 'The_marsh_will_freeze_when_cold_enough.'\n",
       "8. 'The_box_was_thrown_beside_the_parked_truck.'\n",
       "9. 'The_office_paint_was_a_dull_sad_tan.'\n",
       "10. 'Dimes_showered_down_from_all_sides.'\n",
       "\n",
       "\n"
      ],
      "text/plain": [
       " [1] \"The_wide_road_shimmered_in_the_hot_sun.\"           \n",
       " [2] \"The_heap_of_fallen_leaves_was_set_on_fire.\"        \n",
       " [3] \"He_sent_the_boy_on_a_short_errand.\"                \n",
       " [4] \"Mud_was_spattered_on_the_front_of_his_white_shirt.\"\n",
       " [5] \"Cars_and_busses_stalled_in_snow_drifts.\"           \n",
       " [6] \"We_need_an_end_of_all_such_matter.\"                \n",
       " [7] \"The_marsh_will_freeze_when_cold_enough.\"           \n",
       " [8] \"The_box_was_thrown_beside_the_parked_truck.\"       \n",
       " [9] \"The_office_paint_was_a_dull_sad_tan.\"              \n",
       "[10] \"Dimes_showered_down_from_all_sides.\"               "
      ]
     },
     "metadata": {},
     "output_type": "display_data"
    }
   ],
   "source": [
    "# Replace all whitespaces with \"_\"\n",
    "str_replace_all(some_sentences, \"\\\\s\", \"_\")"
   ]
  },
  {
   "cell_type": "markdown",
   "metadata": {},
   "source": [
    "The **`\\w`** matches any “word” character, which includes alphabetic characters, marks and decimal numbers."
   ]
  },
  {
   "cell_type": "code",
   "execution_count": 73,
   "metadata": {},
   "outputs": [
    {
     "data": {
      "text/html": [
       "<ol>\n",
       "\t<li><style>\n",
       ".list-inline {list-style: none; margin:0; padding: 0}\n",
       ".list-inline>li {display: inline-block}\n",
       ".list-inline>li:not(:last-child)::after {content: \"\\00b7\"; padding: 0 .5ex}\n",
       "</style>\n",
       "<ol class=list-inline><li>'T'</li><li>'h'</li><li>'e'</li><li>'w'</li><li>'i'</li><li>'d'</li><li>'e'</li><li>'r'</li><li>'o'</li><li>'a'</li><li>'d'</li><li>'s'</li><li>'h'</li><li>'i'</li><li>'m'</li><li>'m'</li><li>'e'</li><li>'r'</li><li>'e'</li><li>'d'</li><li>'i'</li><li>'n'</li><li>'t'</li><li>'h'</li><li>'e'</li><li>'h'</li><li>'o'</li><li>'t'</li><li>'s'</li><li>'u'</li><li>'n'</li></ol>\n",
       "</li>\n",
       "\t<li><style>\n",
       ".list-inline {list-style: none; margin:0; padding: 0}\n",
       ".list-inline>li {display: inline-block}\n",
       ".list-inline>li:not(:last-child)::after {content: \"\\00b7\"; padding: 0 .5ex}\n",
       "</style>\n",
       "<ol class=list-inline><li>'T'</li><li>'h'</li><li>'e'</li><li>'h'</li><li>'e'</li><li>'a'</li><li>'p'</li><li>'o'</li><li>'f'</li><li>'f'</li><li>'a'</li><li>'l'</li><li>'l'</li><li>'e'</li><li>'n'</li><li>'l'</li><li>'e'</li><li>'a'</li><li>'v'</li><li>'e'</li><li>'s'</li><li>'w'</li><li>'a'</li><li>'s'</li><li>'s'</li><li>'e'</li><li>'t'</li><li>'o'</li><li>'n'</li><li>'f'</li><li>'i'</li><li>'r'</li><li>'e'</li></ol>\n",
       "</li>\n",
       "\t<li><style>\n",
       ".list-inline {list-style: none; margin:0; padding: 0}\n",
       ".list-inline>li {display: inline-block}\n",
       ".list-inline>li:not(:last-child)::after {content: \"\\00b7\"; padding: 0 .5ex}\n",
       "</style>\n",
       "<ol class=list-inline><li>'H'</li><li>'e'</li><li>'s'</li><li>'e'</li><li>'n'</li><li>'t'</li><li>'t'</li><li>'h'</li><li>'e'</li><li>'b'</li><li>'o'</li><li>'y'</li><li>'o'</li><li>'n'</li><li>'a'</li><li>'s'</li><li>'h'</li><li>'o'</li><li>'r'</li><li>'t'</li><li>'e'</li><li>'r'</li><li>'r'</li><li>'a'</li><li>'n'</li><li>'d'</li></ol>\n",
       "</li>\n",
       "\t<li><style>\n",
       ".list-inline {list-style: none; margin:0; padding: 0}\n",
       ".list-inline>li {display: inline-block}\n",
       ".list-inline>li:not(:last-child)::after {content: \"\\00b7\"; padding: 0 .5ex}\n",
       "</style>\n",
       "<ol class=list-inline><li>'M'</li><li>'u'</li><li>'d'</li><li>'w'</li><li>'a'</li><li>'s'</li><li>'s'</li><li>'p'</li><li>'a'</li><li>'t'</li><li>'t'</li><li>'e'</li><li>'r'</li><li>'e'</li><li>'d'</li><li>'o'</li><li>'n'</li><li>'t'</li><li>'h'</li><li>'e'</li><li>'f'</li><li>'r'</li><li>'o'</li><li>'n'</li><li>'t'</li><li>'o'</li><li>'f'</li><li>'h'</li><li>'i'</li><li>'s'</li><li>'w'</li><li>'h'</li><li>'i'</li><li>'t'</li><li>'e'</li><li>'s'</li><li>'h'</li><li>'i'</li><li>'r'</li><li>'t'</li></ol>\n",
       "</li>\n",
       "\t<li><style>\n",
       ".list-inline {list-style: none; margin:0; padding: 0}\n",
       ".list-inline>li {display: inline-block}\n",
       ".list-inline>li:not(:last-child)::after {content: \"\\00b7\"; padding: 0 .5ex}\n",
       "</style>\n",
       "<ol class=list-inline><li>'C'</li><li>'a'</li><li>'r'</li><li>'s'</li><li>'a'</li><li>'n'</li><li>'d'</li><li>'b'</li><li>'u'</li><li>'s'</li><li>'s'</li><li>'e'</li><li>'s'</li><li>'s'</li><li>'t'</li><li>'a'</li><li>'l'</li><li>'l'</li><li>'e'</li><li>'d'</li><li>'i'</li><li>'n'</li><li>'s'</li><li>'n'</li><li>'o'</li><li>'w'</li><li>'d'</li><li>'r'</li><li>'i'</li><li>'f'</li><li>'t'</li><li>'s'</li></ol>\n",
       "</li>\n",
       "\t<li><style>\n",
       ".list-inline {list-style: none; margin:0; padding: 0}\n",
       ".list-inline>li {display: inline-block}\n",
       ".list-inline>li:not(:last-child)::after {content: \"\\00b7\"; padding: 0 .5ex}\n",
       "</style>\n",
       "<ol class=list-inline><li>'W'</li><li>'e'</li><li>'n'</li><li>'e'</li><li>'e'</li><li>'d'</li><li>'a'</li><li>'n'</li><li>'e'</li><li>'n'</li><li>'d'</li><li>'o'</li><li>'f'</li><li>'a'</li><li>'l'</li><li>'l'</li><li>'s'</li><li>'u'</li><li>'c'</li><li>'h'</li><li>'m'</li><li>'a'</li><li>'t'</li><li>'t'</li><li>'e'</li><li>'r'</li></ol>\n",
       "</li>\n",
       "\t<li><style>\n",
       ".list-inline {list-style: none; margin:0; padding: 0}\n",
       ".list-inline>li {display: inline-block}\n",
       ".list-inline>li:not(:last-child)::after {content: \"\\00b7\"; padding: 0 .5ex}\n",
       "</style>\n",
       "<ol class=list-inline><li>'T'</li><li>'h'</li><li>'e'</li><li>'m'</li><li>'a'</li><li>'r'</li><li>'s'</li><li>'h'</li><li>'w'</li><li>'i'</li><li>'l'</li><li>'l'</li><li>'f'</li><li>'r'</li><li>'e'</li><li>'e'</li><li>'z'</li><li>'e'</li><li>'w'</li><li>'h'</li><li>'e'</li><li>'n'</li><li>'c'</li><li>'o'</li><li>'l'</li><li>'d'</li><li>'e'</li><li>'n'</li><li>'o'</li><li>'u'</li><li>'g'</li><li>'h'</li></ol>\n",
       "</li>\n",
       "\t<li><style>\n",
       ".list-inline {list-style: none; margin:0; padding: 0}\n",
       ".list-inline>li {display: inline-block}\n",
       ".list-inline>li:not(:last-child)::after {content: \"\\00b7\"; padding: 0 .5ex}\n",
       "</style>\n",
       "<ol class=list-inline><li>'T'</li><li>'h'</li><li>'e'</li><li>'b'</li><li>'o'</li><li>'x'</li><li>'w'</li><li>'a'</li><li>'s'</li><li>'t'</li><li>'h'</li><li>'r'</li><li>'o'</li><li>'w'</li><li>'n'</li><li>'b'</li><li>'e'</li><li>'s'</li><li>'i'</li><li>'d'</li><li>'e'</li><li>'t'</li><li>'h'</li><li>'e'</li><li>'p'</li><li>'a'</li><li>'r'</li><li>'k'</li><li>'e'</li><li>'d'</li><li>'t'</li><li>'r'</li><li>'u'</li><li>'c'</li><li>'k'</li></ol>\n",
       "</li>\n",
       "\t<li><style>\n",
       ".list-inline {list-style: none; margin:0; padding: 0}\n",
       ".list-inline>li {display: inline-block}\n",
       ".list-inline>li:not(:last-child)::after {content: \"\\00b7\"; padding: 0 .5ex}\n",
       "</style>\n",
       "<ol class=list-inline><li>'T'</li><li>'h'</li><li>'e'</li><li>'o'</li><li>'f'</li><li>'f'</li><li>'i'</li><li>'c'</li><li>'e'</li><li>'p'</li><li>'a'</li><li>'i'</li><li>'n'</li><li>'t'</li><li>'w'</li><li>'a'</li><li>'s'</li><li>'a'</li><li>'d'</li><li>'u'</li><li>'l'</li><li>'l'</li><li>'s'</li><li>'a'</li><li>'d'</li><li>'t'</li><li>'a'</li><li>'n'</li></ol>\n",
       "</li>\n",
       "\t<li><style>\n",
       ".list-inline {list-style: none; margin:0; padding: 0}\n",
       ".list-inline>li {display: inline-block}\n",
       ".list-inline>li:not(:last-child)::after {content: \"\\00b7\"; padding: 0 .5ex}\n",
       "</style>\n",
       "<ol class=list-inline><li>'D'</li><li>'i'</li><li>'m'</li><li>'e'</li><li>'s'</li><li>'s'</li><li>'h'</li><li>'o'</li><li>'w'</li><li>'e'</li><li>'r'</li><li>'e'</li><li>'d'</li><li>'d'</li><li>'o'</li><li>'w'</li><li>'n'</li><li>'f'</li><li>'r'</li><li>'o'</li><li>'m'</li><li>'a'</li><li>'l'</li><li>'l'</li><li>'s'</li><li>'i'</li><li>'d'</li><li>'e'</li><li>'s'</li></ol>\n",
       "</li>\n",
       "</ol>\n"
      ],
      "text/latex": [
       "\\begin{enumerate}\n",
       "\\item \\begin{enumerate*}\n",
       "\\item 'T'\n",
       "\\item 'h'\n",
       "\\item 'e'\n",
       "\\item 'w'\n",
       "\\item 'i'\n",
       "\\item 'd'\n",
       "\\item 'e'\n",
       "\\item 'r'\n",
       "\\item 'o'\n",
       "\\item 'a'\n",
       "\\item 'd'\n",
       "\\item 's'\n",
       "\\item 'h'\n",
       "\\item 'i'\n",
       "\\item 'm'\n",
       "\\item 'm'\n",
       "\\item 'e'\n",
       "\\item 'r'\n",
       "\\item 'e'\n",
       "\\item 'd'\n",
       "\\item 'i'\n",
       "\\item 'n'\n",
       "\\item 't'\n",
       "\\item 'h'\n",
       "\\item 'e'\n",
       "\\item 'h'\n",
       "\\item 'o'\n",
       "\\item 't'\n",
       "\\item 's'\n",
       "\\item 'u'\n",
       "\\item 'n'\n",
       "\\end{enumerate*}\n",
       "\n",
       "\\item \\begin{enumerate*}\n",
       "\\item 'T'\n",
       "\\item 'h'\n",
       "\\item 'e'\n",
       "\\item 'h'\n",
       "\\item 'e'\n",
       "\\item 'a'\n",
       "\\item 'p'\n",
       "\\item 'o'\n",
       "\\item 'f'\n",
       "\\item 'f'\n",
       "\\item 'a'\n",
       "\\item 'l'\n",
       "\\item 'l'\n",
       "\\item 'e'\n",
       "\\item 'n'\n",
       "\\item 'l'\n",
       "\\item 'e'\n",
       "\\item 'a'\n",
       "\\item 'v'\n",
       "\\item 'e'\n",
       "\\item 's'\n",
       "\\item 'w'\n",
       "\\item 'a'\n",
       "\\item 's'\n",
       "\\item 's'\n",
       "\\item 'e'\n",
       "\\item 't'\n",
       "\\item 'o'\n",
       "\\item 'n'\n",
       "\\item 'f'\n",
       "\\item 'i'\n",
       "\\item 'r'\n",
       "\\item 'e'\n",
       "\\end{enumerate*}\n",
       "\n",
       "\\item \\begin{enumerate*}\n",
       "\\item 'H'\n",
       "\\item 'e'\n",
       "\\item 's'\n",
       "\\item 'e'\n",
       "\\item 'n'\n",
       "\\item 't'\n",
       "\\item 't'\n",
       "\\item 'h'\n",
       "\\item 'e'\n",
       "\\item 'b'\n",
       "\\item 'o'\n",
       "\\item 'y'\n",
       "\\item 'o'\n",
       "\\item 'n'\n",
       "\\item 'a'\n",
       "\\item 's'\n",
       "\\item 'h'\n",
       "\\item 'o'\n",
       "\\item 'r'\n",
       "\\item 't'\n",
       "\\item 'e'\n",
       "\\item 'r'\n",
       "\\item 'r'\n",
       "\\item 'a'\n",
       "\\item 'n'\n",
       "\\item 'd'\n",
       "\\end{enumerate*}\n",
       "\n",
       "\\item \\begin{enumerate*}\n",
       "\\item 'M'\n",
       "\\item 'u'\n",
       "\\item 'd'\n",
       "\\item 'w'\n",
       "\\item 'a'\n",
       "\\item 's'\n",
       "\\item 's'\n",
       "\\item 'p'\n",
       "\\item 'a'\n",
       "\\item 't'\n",
       "\\item 't'\n",
       "\\item 'e'\n",
       "\\item 'r'\n",
       "\\item 'e'\n",
       "\\item 'd'\n",
       "\\item 'o'\n",
       "\\item 'n'\n",
       "\\item 't'\n",
       "\\item 'h'\n",
       "\\item 'e'\n",
       "\\item 'f'\n",
       "\\item 'r'\n",
       "\\item 'o'\n",
       "\\item 'n'\n",
       "\\item 't'\n",
       "\\item 'o'\n",
       "\\item 'f'\n",
       "\\item 'h'\n",
       "\\item 'i'\n",
       "\\item 's'\n",
       "\\item 'w'\n",
       "\\item 'h'\n",
       "\\item 'i'\n",
       "\\item 't'\n",
       "\\item 'e'\n",
       "\\item 's'\n",
       "\\item 'h'\n",
       "\\item 'i'\n",
       "\\item 'r'\n",
       "\\item 't'\n",
       "\\end{enumerate*}\n",
       "\n",
       "\\item \\begin{enumerate*}\n",
       "\\item 'C'\n",
       "\\item 'a'\n",
       "\\item 'r'\n",
       "\\item 's'\n",
       "\\item 'a'\n",
       "\\item 'n'\n",
       "\\item 'd'\n",
       "\\item 'b'\n",
       "\\item 'u'\n",
       "\\item 's'\n",
       "\\item 's'\n",
       "\\item 'e'\n",
       "\\item 's'\n",
       "\\item 's'\n",
       "\\item 't'\n",
       "\\item 'a'\n",
       "\\item 'l'\n",
       "\\item 'l'\n",
       "\\item 'e'\n",
       "\\item 'd'\n",
       "\\item 'i'\n",
       "\\item 'n'\n",
       "\\item 's'\n",
       "\\item 'n'\n",
       "\\item 'o'\n",
       "\\item 'w'\n",
       "\\item 'd'\n",
       "\\item 'r'\n",
       "\\item 'i'\n",
       "\\item 'f'\n",
       "\\item 't'\n",
       "\\item 's'\n",
       "\\end{enumerate*}\n",
       "\n",
       "\\item \\begin{enumerate*}\n",
       "\\item 'W'\n",
       "\\item 'e'\n",
       "\\item 'n'\n",
       "\\item 'e'\n",
       "\\item 'e'\n",
       "\\item 'd'\n",
       "\\item 'a'\n",
       "\\item 'n'\n",
       "\\item 'e'\n",
       "\\item 'n'\n",
       "\\item 'd'\n",
       "\\item 'o'\n",
       "\\item 'f'\n",
       "\\item 'a'\n",
       "\\item 'l'\n",
       "\\item 'l'\n",
       "\\item 's'\n",
       "\\item 'u'\n",
       "\\item 'c'\n",
       "\\item 'h'\n",
       "\\item 'm'\n",
       "\\item 'a'\n",
       "\\item 't'\n",
       "\\item 't'\n",
       "\\item 'e'\n",
       "\\item 'r'\n",
       "\\end{enumerate*}\n",
       "\n",
       "\\item \\begin{enumerate*}\n",
       "\\item 'T'\n",
       "\\item 'h'\n",
       "\\item 'e'\n",
       "\\item 'm'\n",
       "\\item 'a'\n",
       "\\item 'r'\n",
       "\\item 's'\n",
       "\\item 'h'\n",
       "\\item 'w'\n",
       "\\item 'i'\n",
       "\\item 'l'\n",
       "\\item 'l'\n",
       "\\item 'f'\n",
       "\\item 'r'\n",
       "\\item 'e'\n",
       "\\item 'e'\n",
       "\\item 'z'\n",
       "\\item 'e'\n",
       "\\item 'w'\n",
       "\\item 'h'\n",
       "\\item 'e'\n",
       "\\item 'n'\n",
       "\\item 'c'\n",
       "\\item 'o'\n",
       "\\item 'l'\n",
       "\\item 'd'\n",
       "\\item 'e'\n",
       "\\item 'n'\n",
       "\\item 'o'\n",
       "\\item 'u'\n",
       "\\item 'g'\n",
       "\\item 'h'\n",
       "\\end{enumerate*}\n",
       "\n",
       "\\item \\begin{enumerate*}\n",
       "\\item 'T'\n",
       "\\item 'h'\n",
       "\\item 'e'\n",
       "\\item 'b'\n",
       "\\item 'o'\n",
       "\\item 'x'\n",
       "\\item 'w'\n",
       "\\item 'a'\n",
       "\\item 's'\n",
       "\\item 't'\n",
       "\\item 'h'\n",
       "\\item 'r'\n",
       "\\item 'o'\n",
       "\\item 'w'\n",
       "\\item 'n'\n",
       "\\item 'b'\n",
       "\\item 'e'\n",
       "\\item 's'\n",
       "\\item 'i'\n",
       "\\item 'd'\n",
       "\\item 'e'\n",
       "\\item 't'\n",
       "\\item 'h'\n",
       "\\item 'e'\n",
       "\\item 'p'\n",
       "\\item 'a'\n",
       "\\item 'r'\n",
       "\\item 'k'\n",
       "\\item 'e'\n",
       "\\item 'd'\n",
       "\\item 't'\n",
       "\\item 'r'\n",
       "\\item 'u'\n",
       "\\item 'c'\n",
       "\\item 'k'\n",
       "\\end{enumerate*}\n",
       "\n",
       "\\item \\begin{enumerate*}\n",
       "\\item 'T'\n",
       "\\item 'h'\n",
       "\\item 'e'\n",
       "\\item 'o'\n",
       "\\item 'f'\n",
       "\\item 'f'\n",
       "\\item 'i'\n",
       "\\item 'c'\n",
       "\\item 'e'\n",
       "\\item 'p'\n",
       "\\item 'a'\n",
       "\\item 'i'\n",
       "\\item 'n'\n",
       "\\item 't'\n",
       "\\item 'w'\n",
       "\\item 'a'\n",
       "\\item 's'\n",
       "\\item 'a'\n",
       "\\item 'd'\n",
       "\\item 'u'\n",
       "\\item 'l'\n",
       "\\item 'l'\n",
       "\\item 's'\n",
       "\\item 'a'\n",
       "\\item 'd'\n",
       "\\item 't'\n",
       "\\item 'a'\n",
       "\\item 'n'\n",
       "\\end{enumerate*}\n",
       "\n",
       "\\item \\begin{enumerate*}\n",
       "\\item 'D'\n",
       "\\item 'i'\n",
       "\\item 'm'\n",
       "\\item 'e'\n",
       "\\item 's'\n",
       "\\item 's'\n",
       "\\item 'h'\n",
       "\\item 'o'\n",
       "\\item 'w'\n",
       "\\item 'e'\n",
       "\\item 'r'\n",
       "\\item 'e'\n",
       "\\item 'd'\n",
       "\\item 'd'\n",
       "\\item 'o'\n",
       "\\item 'w'\n",
       "\\item 'n'\n",
       "\\item 'f'\n",
       "\\item 'r'\n",
       "\\item 'o'\n",
       "\\item 'm'\n",
       "\\item 'a'\n",
       "\\item 'l'\n",
       "\\item 'l'\n",
       "\\item 's'\n",
       "\\item 'i'\n",
       "\\item 'd'\n",
       "\\item 'e'\n",
       "\\item 's'\n",
       "\\end{enumerate*}\n",
       "\n",
       "\\end{enumerate}\n"
      ],
      "text/markdown": [
       "1. 1. 'T'\n",
       "2. 'h'\n",
       "3. 'e'\n",
       "4. 'w'\n",
       "5. 'i'\n",
       "6. 'd'\n",
       "7. 'e'\n",
       "8. 'r'\n",
       "9. 'o'\n",
       "10. 'a'\n",
       "11. 'd'\n",
       "12. 's'\n",
       "13. 'h'\n",
       "14. 'i'\n",
       "15. 'm'\n",
       "16. 'm'\n",
       "17. 'e'\n",
       "18. 'r'\n",
       "19. 'e'\n",
       "20. 'd'\n",
       "21. 'i'\n",
       "22. 'n'\n",
       "23. 't'\n",
       "24. 'h'\n",
       "25. 'e'\n",
       "26. 'h'\n",
       "27. 'o'\n",
       "28. 't'\n",
       "29. 's'\n",
       "30. 'u'\n",
       "31. 'n'\n",
       "\n",
       "\n",
       "\n",
       "2. 1. 'T'\n",
       "2. 'h'\n",
       "3. 'e'\n",
       "4. 'h'\n",
       "5. 'e'\n",
       "6. 'a'\n",
       "7. 'p'\n",
       "8. 'o'\n",
       "9. 'f'\n",
       "10. 'f'\n",
       "11. 'a'\n",
       "12. 'l'\n",
       "13. 'l'\n",
       "14. 'e'\n",
       "15. 'n'\n",
       "16. 'l'\n",
       "17. 'e'\n",
       "18. 'a'\n",
       "19. 'v'\n",
       "20. 'e'\n",
       "21. 's'\n",
       "22. 'w'\n",
       "23. 'a'\n",
       "24. 's'\n",
       "25. 's'\n",
       "26. 'e'\n",
       "27. 't'\n",
       "28. 'o'\n",
       "29. 'n'\n",
       "30. 'f'\n",
       "31. 'i'\n",
       "32. 'r'\n",
       "33. 'e'\n",
       "\n",
       "\n",
       "\n",
       "3. 1. 'H'\n",
       "2. 'e'\n",
       "3. 's'\n",
       "4. 'e'\n",
       "5. 'n'\n",
       "6. 't'\n",
       "7. 't'\n",
       "8. 'h'\n",
       "9. 'e'\n",
       "10. 'b'\n",
       "11. 'o'\n",
       "12. 'y'\n",
       "13. 'o'\n",
       "14. 'n'\n",
       "15. 'a'\n",
       "16. 's'\n",
       "17. 'h'\n",
       "18. 'o'\n",
       "19. 'r'\n",
       "20. 't'\n",
       "21. 'e'\n",
       "22. 'r'\n",
       "23. 'r'\n",
       "24. 'a'\n",
       "25. 'n'\n",
       "26. 'd'\n",
       "\n",
       "\n",
       "\n",
       "4. 1. 'M'\n",
       "2. 'u'\n",
       "3. 'd'\n",
       "4. 'w'\n",
       "5. 'a'\n",
       "6. 's'\n",
       "7. 's'\n",
       "8. 'p'\n",
       "9. 'a'\n",
       "10. 't'\n",
       "11. 't'\n",
       "12. 'e'\n",
       "13. 'r'\n",
       "14. 'e'\n",
       "15. 'd'\n",
       "16. 'o'\n",
       "17. 'n'\n",
       "18. 't'\n",
       "19. 'h'\n",
       "20. 'e'\n",
       "21. 'f'\n",
       "22. 'r'\n",
       "23. 'o'\n",
       "24. 'n'\n",
       "25. 't'\n",
       "26. 'o'\n",
       "27. 'f'\n",
       "28. 'h'\n",
       "29. 'i'\n",
       "30. 's'\n",
       "31. 'w'\n",
       "32. 'h'\n",
       "33. 'i'\n",
       "34. 't'\n",
       "35. 'e'\n",
       "36. 's'\n",
       "37. 'h'\n",
       "38. 'i'\n",
       "39. 'r'\n",
       "40. 't'\n",
       "\n",
       "\n",
       "\n",
       "5. 1. 'C'\n",
       "2. 'a'\n",
       "3. 'r'\n",
       "4. 's'\n",
       "5. 'a'\n",
       "6. 'n'\n",
       "7. 'd'\n",
       "8. 'b'\n",
       "9. 'u'\n",
       "10. 's'\n",
       "11. 's'\n",
       "12. 'e'\n",
       "13. 's'\n",
       "14. 's'\n",
       "15. 't'\n",
       "16. 'a'\n",
       "17. 'l'\n",
       "18. 'l'\n",
       "19. 'e'\n",
       "20. 'd'\n",
       "21. 'i'\n",
       "22. 'n'\n",
       "23. 's'\n",
       "24. 'n'\n",
       "25. 'o'\n",
       "26. 'w'\n",
       "27. 'd'\n",
       "28. 'r'\n",
       "29. 'i'\n",
       "30. 'f'\n",
       "31. 't'\n",
       "32. 's'\n",
       "\n",
       "\n",
       "\n",
       "6. 1. 'W'\n",
       "2. 'e'\n",
       "3. 'n'\n",
       "4. 'e'\n",
       "5. 'e'\n",
       "6. 'd'\n",
       "7. 'a'\n",
       "8. 'n'\n",
       "9. 'e'\n",
       "10. 'n'\n",
       "11. 'd'\n",
       "12. 'o'\n",
       "13. 'f'\n",
       "14. 'a'\n",
       "15. 'l'\n",
       "16. 'l'\n",
       "17. 's'\n",
       "18. 'u'\n",
       "19. 'c'\n",
       "20. 'h'\n",
       "21. 'm'\n",
       "22. 'a'\n",
       "23. 't'\n",
       "24. 't'\n",
       "25. 'e'\n",
       "26. 'r'\n",
       "\n",
       "\n",
       "\n",
       "7. 1. 'T'\n",
       "2. 'h'\n",
       "3. 'e'\n",
       "4. 'm'\n",
       "5. 'a'\n",
       "6. 'r'\n",
       "7. 's'\n",
       "8. 'h'\n",
       "9. 'w'\n",
       "10. 'i'\n",
       "11. 'l'\n",
       "12. 'l'\n",
       "13. 'f'\n",
       "14. 'r'\n",
       "15. 'e'\n",
       "16. 'e'\n",
       "17. 'z'\n",
       "18. 'e'\n",
       "19. 'w'\n",
       "20. 'h'\n",
       "21. 'e'\n",
       "22. 'n'\n",
       "23. 'c'\n",
       "24. 'o'\n",
       "25. 'l'\n",
       "26. 'd'\n",
       "27. 'e'\n",
       "28. 'n'\n",
       "29. 'o'\n",
       "30. 'u'\n",
       "31. 'g'\n",
       "32. 'h'\n",
       "\n",
       "\n",
       "\n",
       "8. 1. 'T'\n",
       "2. 'h'\n",
       "3. 'e'\n",
       "4. 'b'\n",
       "5. 'o'\n",
       "6. 'x'\n",
       "7. 'w'\n",
       "8. 'a'\n",
       "9. 's'\n",
       "10. 't'\n",
       "11. 'h'\n",
       "12. 'r'\n",
       "13. 'o'\n",
       "14. 'w'\n",
       "15. 'n'\n",
       "16. 'b'\n",
       "17. 'e'\n",
       "18. 's'\n",
       "19. 'i'\n",
       "20. 'd'\n",
       "21. 'e'\n",
       "22. 't'\n",
       "23. 'h'\n",
       "24. 'e'\n",
       "25. 'p'\n",
       "26. 'a'\n",
       "27. 'r'\n",
       "28. 'k'\n",
       "29. 'e'\n",
       "30. 'd'\n",
       "31. 't'\n",
       "32. 'r'\n",
       "33. 'u'\n",
       "34. 'c'\n",
       "35. 'k'\n",
       "\n",
       "\n",
       "\n",
       "9. 1. 'T'\n",
       "2. 'h'\n",
       "3. 'e'\n",
       "4. 'o'\n",
       "5. 'f'\n",
       "6. 'f'\n",
       "7. 'i'\n",
       "8. 'c'\n",
       "9. 'e'\n",
       "10. 'p'\n",
       "11. 'a'\n",
       "12. 'i'\n",
       "13. 'n'\n",
       "14. 't'\n",
       "15. 'w'\n",
       "16. 'a'\n",
       "17. 's'\n",
       "18. 'a'\n",
       "19. 'd'\n",
       "20. 'u'\n",
       "21. 'l'\n",
       "22. 'l'\n",
       "23. 's'\n",
       "24. 'a'\n",
       "25. 'd'\n",
       "26. 't'\n",
       "27. 'a'\n",
       "28. 'n'\n",
       "\n",
       "\n",
       "\n",
       "10. 1. 'D'\n",
       "2. 'i'\n",
       "3. 'm'\n",
       "4. 'e'\n",
       "5. 's'\n",
       "6. 's'\n",
       "7. 'h'\n",
       "8. 'o'\n",
       "9. 'w'\n",
       "10. 'e'\n",
       "11. 'r'\n",
       "12. 'e'\n",
       "13. 'd'\n",
       "14. 'd'\n",
       "15. 'o'\n",
       "16. 'w'\n",
       "17. 'n'\n",
       "18. 'f'\n",
       "19. 'r'\n",
       "20. 'o'\n",
       "21. 'm'\n",
       "22. 'a'\n",
       "23. 'l'\n",
       "24. 'l'\n",
       "25. 's'\n",
       "26. 'i'\n",
       "27. 'd'\n",
       "28. 'e'\n",
       "29. 's'\n",
       "\n",
       "\n",
       "\n",
       "\n",
       "\n"
      ],
      "text/plain": [
       "[[1]]\n",
       " [1] \"T\" \"h\" \"e\" \"w\" \"i\" \"d\" \"e\" \"r\" \"o\" \"a\" \"d\" \"s\" \"h\" \"i\" \"m\" \"m\" \"e\" \"r\" \"e\"\n",
       "[20] \"d\" \"i\" \"n\" \"t\" \"h\" \"e\" \"h\" \"o\" \"t\" \"s\" \"u\" \"n\"\n",
       "\n",
       "[[2]]\n",
       " [1] \"T\" \"h\" \"e\" \"h\" \"e\" \"a\" \"p\" \"o\" \"f\" \"f\" \"a\" \"l\" \"l\" \"e\" \"n\" \"l\" \"e\" \"a\" \"v\"\n",
       "[20] \"e\" \"s\" \"w\" \"a\" \"s\" \"s\" \"e\" \"t\" \"o\" \"n\" \"f\" \"i\" \"r\" \"e\"\n",
       "\n",
       "[[3]]\n",
       " [1] \"H\" \"e\" \"s\" \"e\" \"n\" \"t\" \"t\" \"h\" \"e\" \"b\" \"o\" \"y\" \"o\" \"n\" \"a\" \"s\" \"h\" \"o\" \"r\"\n",
       "[20] \"t\" \"e\" \"r\" \"r\" \"a\" \"n\" \"d\"\n",
       "\n",
       "[[4]]\n",
       " [1] \"M\" \"u\" \"d\" \"w\" \"a\" \"s\" \"s\" \"p\" \"a\" \"t\" \"t\" \"e\" \"r\" \"e\" \"d\" \"o\" \"n\" \"t\" \"h\"\n",
       "[20] \"e\" \"f\" \"r\" \"o\" \"n\" \"t\" \"o\" \"f\" \"h\" \"i\" \"s\" \"w\" \"h\" \"i\" \"t\" \"e\" \"s\" \"h\" \"i\"\n",
       "[39] \"r\" \"t\"\n",
       "\n",
       "[[5]]\n",
       " [1] \"C\" \"a\" \"r\" \"s\" \"a\" \"n\" \"d\" \"b\" \"u\" \"s\" \"s\" \"e\" \"s\" \"s\" \"t\" \"a\" \"l\" \"l\" \"e\"\n",
       "[20] \"d\" \"i\" \"n\" \"s\" \"n\" \"o\" \"w\" \"d\" \"r\" \"i\" \"f\" \"t\" \"s\"\n",
       "\n",
       "[[6]]\n",
       " [1] \"W\" \"e\" \"n\" \"e\" \"e\" \"d\" \"a\" \"n\" \"e\" \"n\" \"d\" \"o\" \"f\" \"a\" \"l\" \"l\" \"s\" \"u\" \"c\"\n",
       "[20] \"h\" \"m\" \"a\" \"t\" \"t\" \"e\" \"r\"\n",
       "\n",
       "[[7]]\n",
       " [1] \"T\" \"h\" \"e\" \"m\" \"a\" \"r\" \"s\" \"h\" \"w\" \"i\" \"l\" \"l\" \"f\" \"r\" \"e\" \"e\" \"z\" \"e\" \"w\"\n",
       "[20] \"h\" \"e\" \"n\" \"c\" \"o\" \"l\" \"d\" \"e\" \"n\" \"o\" \"u\" \"g\" \"h\"\n",
       "\n",
       "[[8]]\n",
       " [1] \"T\" \"h\" \"e\" \"b\" \"o\" \"x\" \"w\" \"a\" \"s\" \"t\" \"h\" \"r\" \"o\" \"w\" \"n\" \"b\" \"e\" \"s\" \"i\"\n",
       "[20] \"d\" \"e\" \"t\" \"h\" \"e\" \"p\" \"a\" \"r\" \"k\" \"e\" \"d\" \"t\" \"r\" \"u\" \"c\" \"k\"\n",
       "\n",
       "[[9]]\n",
       " [1] \"T\" \"h\" \"e\" \"o\" \"f\" \"f\" \"i\" \"c\" \"e\" \"p\" \"a\" \"i\" \"n\" \"t\" \"w\" \"a\" \"s\" \"a\" \"d\"\n",
       "[20] \"u\" \"l\" \"l\" \"s\" \"a\" \"d\" \"t\" \"a\" \"n\"\n",
       "\n",
       "[[10]]\n",
       " [1] \"D\" \"i\" \"m\" \"e\" \"s\" \"s\" \"h\" \"o\" \"w\" \"e\" \"r\" \"e\" \"d\" \"d\" \"o\" \"w\" \"n\" \"f\" \"r\"\n",
       "[20] \"o\" \"m\" \"a\" \"l\" \"l\" \"s\" \"i\" \"d\" \"e\" \"s\"\n"
      ]
     },
     "metadata": {},
     "output_type": "display_data"
    }
   ],
   "source": [
    "# Extract all letters in each sentence\n",
    "str_extract_all(some_sentences, \"\\\\w\")"
   ]
  },
  {
   "cell_type": "markdown",
   "metadata": {},
   "source": [
    "### Character classes"
   ]
  },
  {
   "cell_type": "markdown",
   "metadata": {},
   "source": [
    "Use **`[ ]`** to create your own character classes."
   ]
  },
  {
   "cell_type": "markdown",
   "metadata": {},
   "source": [
    "**`[abc]`** matches a, b, or c.\\\n",
    "**`[a-z]`** matches every character between a and z.\\\n",
    "**`[^abc]`** matches anything except a, b, or c.\\\n",
    "**`[\\$\\+]`** matches $ or +"
   ]
  },
  {
   "cell_type": "markdown",
   "metadata": {},
   "source": [
    "You can also use the pre-built character classes for pattern matching."
   ]
  },
  {
   "cell_type": "markdown",
   "metadata": {},
   "source": [
    "**`[:alpha:]`** matches letters.\\\n",
    "**`[:lower:]`** matches lowercase letters.\\\n",
    "**`[:upper:]`** matches upperclass letters.\\\n",
    "**`[:digit:]`** matches digits.\\\n",
    "**`[:alnum:]`** matches letters and numbers.\\\n",
    "**`[:punct:]`** matches punctuation.\\\n",
    "**`[:graph:]`** matches letters, numbers, and punctuation.\\\n",
    "**`[:print:]`** matches letters, numbers, punctuation, and whitespace.\\\n",
    "**`[:space:]`** matches space characters (equivalent to \\s).\\\n",
    "**`[:blank:]`** matches space and tab."
   ]
  },
  {
   "cell_type": "markdown",
   "metadata": {},
   "source": [
    "Use the alternation operator **`|`**  to select between one or more possible matches. For example, `abc|def` will match `abc` or `def`."
   ]
  },
  {
   "cell_type": "code",
   "execution_count": 79,
   "metadata": {},
   "outputs": [
    {
     "name": "stdout",
     "output_type": "stream",
     "text": [
      " [1] \"The wide road shimmered in the hot sun.\"           \n",
      " [2] \"The heap of fallen leaves was set on fire.\"        \n",
      " [3] \"He sent the boy on a short errand.\"                \n",
      " [4] \"Mud was spattered on the front of his white shirt.\"\n",
      " [5] \"Cars and busses stalled in snow drifts.\"           \n",
      " [6] \"We need an end of all such matter.\"                \n",
      " [7] \"The marsh will freeze when cold enough.\"           \n",
      " [8] \"The box was thrown beside the parked truck.\"       \n",
      " [9] \"The office paint was a dull sad tan.\"              \n",
      "[10] \"Dimes showered down from all sides.\"               \n"
     ]
    },
    {
     "data": {
      "text/html": [
       "<style>\n",
       ".list-inline {list-style: none; margin:0; padding: 0}\n",
       ".list-inline>li {display: inline-block}\n",
       ".list-inline>li:not(:last-child)::after {content: \"\\00b7\"; padding: 0 .5ex}\n",
       "</style>\n",
       "<ol class=list-inline><li>FALSE</li><li>FALSE</li><li>TRUE</li><li>FALSE</li><li>FALSE</li><li>TRUE</li><li>FALSE</li><li>FALSE</li><li>TRUE</li><li>FALSE</li></ol>\n"
      ],
      "text/latex": [
       "\\begin{enumerate*}\n",
       "\\item FALSE\n",
       "\\item FALSE\n",
       "\\item TRUE\n",
       "\\item FALSE\n",
       "\\item FALSE\n",
       "\\item TRUE\n",
       "\\item FALSE\n",
       "\\item FALSE\n",
       "\\item TRUE\n",
       "\\item FALSE\n",
       "\\end{enumerate*}\n"
      ],
      "text/markdown": [
       "1. FALSE\n",
       "2. FALSE\n",
       "3. TRUE\n",
       "4. FALSE\n",
       "5. FALSE\n",
       "6. TRUE\n",
       "7. FALSE\n",
       "8. FALSE\n",
       "9. TRUE\n",
       "10. FALSE\n",
       "\n",
       "\n"
      ],
      "text/plain": [
       " [1] FALSE FALSE  TRUE FALSE FALSE  TRUE FALSE FALSE  TRUE FALSE"
      ]
     },
     "metadata": {},
     "output_type": "display_data"
    }
   ],
   "source": [
    "# Check which sentences contain indefinite articles: \"a\" or \"an\".\n",
    "print(some_sentences)\n",
    "str_detect(some_sentences, \"\\\\sa\\\\s|\\\\san\\\\s\")"
   ]
  },
  {
   "cell_type": "markdown",
   "metadata": {},
   "source": [
    "### Grouping"
   ]
  },
  {
   "cell_type": "markdown",
   "metadata": {},
   "source": [
    "Use the parenthesis **`( )`** to define “groups” in your regular expression. Grouping allows parsing of values within the defined group."
   ]
  },
  {
   "cell_type": "code",
   "execution_count": 86,
   "metadata": {},
   "outputs": [
    {
     "data": {
      "text/html": [
       "<ol>\n",
       "\t<li><style>\n",
       ".list-inline {list-style: none; margin:0; padding: 0}\n",
       ".list-inline>li {display: inline-block}\n",
       ".list-inline>li:not(:last-child)::after {content: \"\\00b7\"; padding: 0 .5ex}\n",
       "</style>\n",
       "<ol class=list-inline><li>'The'</li><li>'the'</li></ol>\n",
       "</li>\n",
       "\t<li>'The'</li>\n",
       "\t<li>'the'</li>\n",
       "\t<li>'the'</li>\n",
       "\t<li></li>\n",
       "\t<li></li>\n",
       "\t<li>'The'</li>\n",
       "\t<li><style>\n",
       ".list-inline {list-style: none; margin:0; padding: 0}\n",
       ".list-inline>li {display: inline-block}\n",
       ".list-inline>li:not(:last-child)::after {content: \"\\00b7\"; padding: 0 .5ex}\n",
       "</style>\n",
       "<ol class=list-inline><li>'The'</li><li>'the'</li></ol>\n",
       "</li>\n",
       "\t<li>'The'</li>\n",
       "\t<li></li>\n",
       "</ol>\n"
      ],
      "text/latex": [
       "\\begin{enumerate}\n",
       "\\item \\begin{enumerate*}\n",
       "\\item 'The'\n",
       "\\item 'the'\n",
       "\\end{enumerate*}\n",
       "\n",
       "\\item 'The'\n",
       "\\item 'the'\n",
       "\\item 'the'\n",
       "\\item \n",
       "\\item \n",
       "\\item 'The'\n",
       "\\item \\begin{enumerate*}\n",
       "\\item 'The'\n",
       "\\item 'the'\n",
       "\\end{enumerate*}\n",
       "\n",
       "\\item 'The'\n",
       "\\item \n",
       "\\end{enumerate}\n"
      ],
      "text/markdown": [
       "1. 1. 'The'\n",
       "2. 'the'\n",
       "\n",
       "\n",
       "\n",
       "2. 'The'\n",
       "3. 'the'\n",
       "4. 'the'\n",
       "5. \n",
       "6. \n",
       "7. 'The'\n",
       "8. 1. 'The'\n",
       "2. 'the'\n",
       "\n",
       "\n",
       "\n",
       "9. 'The'\n",
       "10. \n",
       "\n",
       "\n"
      ],
      "text/plain": [
       "[[1]]\n",
       "[1] \"The\" \"the\"\n",
       "\n",
       "[[2]]\n",
       "[1] \"The\"\n",
       "\n",
       "[[3]]\n",
       "[1] \"the\"\n",
       "\n",
       "[[4]]\n",
       "[1] \"the\"\n",
       "\n",
       "[[5]]\n",
       "character(0)\n",
       "\n",
       "[[6]]\n",
       "character(0)\n",
       "\n",
       "[[7]]\n",
       "[1] \"The\"\n",
       "\n",
       "[[8]]\n",
       "[1] \"The\" \"the\"\n",
       "\n",
       "[[9]]\n",
       "[1] \"The\"\n",
       "\n",
       "[[10]]\n",
       "character(0)\n"
      ]
     },
     "metadata": {},
     "output_type": "display_data"
    }
   ],
   "source": [
    "# Extract all the definite articles, \"the\" in each sentence including at the beginning of the sentence, \"The\".\n",
    "str_extract_all(some_sentences, \"(T|t)he\")"
   ]
  },
  {
   "cell_type": "markdown",
   "metadata": {},
   "source": [
    "### Anchors"
   ]
  },
  {
   "cell_type": "markdown",
   "metadata": {},
   "source": [
    "Use anchors to matche from the start or end of the string."
   ]
  },
  {
   "cell_type": "markdown",
   "metadata": {},
   "source": [
    "**`^`** matches the start of string.\\\n",
    "**`$`** matches the end of the string."
   ]
  },
  {
   "cell_type": "code",
   "execution_count": 103,
   "metadata": {},
   "outputs": [
    {
     "data": {
      "text/html": [
       "<ol>\n",
       "\t<li>'The'</li>\n",
       "\t<li>'The'</li>\n",
       "\t<li></li>\n",
       "\t<li></li>\n",
       "\t<li></li>\n",
       "\t<li></li>\n",
       "\t<li>'The'</li>\n",
       "\t<li>'The'</li>\n",
       "\t<li>'The'</li>\n",
       "\t<li></li>\n",
       "</ol>\n"
      ],
      "text/latex": [
       "\\begin{enumerate}\n",
       "\\item 'The'\n",
       "\\item 'The'\n",
       "\\item \n",
       "\\item \n",
       "\\item \n",
       "\\item \n",
       "\\item 'The'\n",
       "\\item 'The'\n",
       "\\item 'The'\n",
       "\\item \n",
       "\\end{enumerate}\n"
      ],
      "text/markdown": [
       "1. 'The'\n",
       "2. 'The'\n",
       "3. \n",
       "4. \n",
       "5. \n",
       "6. \n",
       "7. 'The'\n",
       "8. 'The'\n",
       "9. 'The'\n",
       "10. \n",
       "\n",
       "\n"
      ],
      "text/plain": [
       "[[1]]\n",
       "[1] \"The\"\n",
       "\n",
       "[[2]]\n",
       "[1] \"The\"\n",
       "\n",
       "[[3]]\n",
       "character(0)\n",
       "\n",
       "[[4]]\n",
       "character(0)\n",
       "\n",
       "[[5]]\n",
       "character(0)\n",
       "\n",
       "[[6]]\n",
       "character(0)\n",
       "\n",
       "[[7]]\n",
       "[1] \"The\"\n",
       "\n",
       "[[8]]\n",
       "[1] \"The\"\n",
       "\n",
       "[[9]]\n",
       "[1] \"The\"\n",
       "\n",
       "[[10]]\n",
       "character(0)\n"
      ]
     },
     "metadata": {},
     "output_type": "display_data"
    }
   ],
   "source": [
    "# Extract sentences that begin with \"The\"\n",
    "str_extract_all(some_sentences, \"^The\")"
   ]
  },
  {
   "cell_type": "code",
   "execution_count": 104,
   "metadata": {},
   "outputs": [
    {
     "data": {
      "text/html": [
       "<ol>\n",
       "\t<li></li>\n",
       "\t<li></li>\n",
       "\t<li></li>\n",
       "\t<li></li>\n",
       "\t<li>'s.'</li>\n",
       "\t<li></li>\n",
       "\t<li></li>\n",
       "\t<li></li>\n",
       "\t<li></li>\n",
       "\t<li>'s.'</li>\n",
       "</ol>\n"
      ],
      "text/latex": [
       "\\begin{enumerate}\n",
       "\\item \n",
       "\\item \n",
       "\\item \n",
       "\\item \n",
       "\\item 's.'\n",
       "\\item \n",
       "\\item \n",
       "\\item \n",
       "\\item \n",
       "\\item 's.'\n",
       "\\end{enumerate}\n"
      ],
      "text/markdown": [
       "1. \n",
       "2. \n",
       "3. \n",
       "4. \n",
       "5. 's.'\n",
       "6. \n",
       "7. \n",
       "8. \n",
       "9. \n",
       "10. 's.'\n",
       "\n",
       "\n"
      ],
      "text/plain": [
       "[[1]]\n",
       "character(0)\n",
       "\n",
       "[[2]]\n",
       "character(0)\n",
       "\n",
       "[[3]]\n",
       "character(0)\n",
       "\n",
       "[[4]]\n",
       "character(0)\n",
       "\n",
       "[[5]]\n",
       "[1] \"s.\"\n",
       "\n",
       "[[6]]\n",
       "character(0)\n",
       "\n",
       "[[7]]\n",
       "character(0)\n",
       "\n",
       "[[8]]\n",
       "character(0)\n",
       "\n",
       "[[9]]\n",
       "character(0)\n",
       "\n",
       "[[10]]\n",
       "[1] \"s.\"\n"
      ]
     },
     "metadata": {},
     "output_type": "display_data"
    }
   ],
   "source": [
    "# Extract sentences that end with letter \"s\".\n",
    "# Do not forger to escape the period, \".\"\n",
    "str_extract_all(some_sentences, \"s\\\\.$\")"
   ]
  },
  {
   "cell_type": "markdown",
   "metadata": {},
   "source": [
    "### Repetition"
   ]
  },
  {
   "cell_type": "markdown",
   "metadata": {},
   "source": [
    "You can control how many times a pattern matches with the repetition operators.\\\n",
    "**`?`** matches 0 or 1.\\\n",
    "**`+`** matches  1 or more.\\\n",
    "**`*`** matches 0 or more."
   ]
  },
  {
   "cell_type": "markdown",
   "metadata": {},
   "source": [
    "You can also specify the number of matches precisely using the curly braces **`{ }`**:\\\n",
    "**`{n}`** matches exactly n.\\\n",
    "**`{n,}`** matches n or more.\\\n",
    "**`{n,m}`** between n and m."
   ]
  },
  {
   "cell_type": "markdown",
   "metadata": {},
   "source": [
    "## Revisiting the data merging exercise"
   ]
  },
  {
   "cell_type": "markdown",
   "metadata": {},
   "source": [
    "You will perform again data merging of the population data and the cumulative number of confirmed COVID-19 cases. Using the **`stringr`** functions, you will:\n",
    "1. Modify the names of the variables so that the columns names will match in both datasets.\n",
    "2. Modify the names of the countries so that they will match during merging.\n",
    "3. Merge the two datasets.\n",
    "4. Generate a graph of the number of population vs. the cumulative number of confirmed COVID-19 cases."
   ]
  },
  {
   "cell_type": "code",
   "execution_count": null,
   "metadata": {},
   "outputs": [],
   "source": [
    "# Write your code below\n"
   ]
  }
 ],
 "metadata": {
  "kernelspec": {
   "display_name": "R",
   "language": "R",
   "name": "ir"
  },
  "language_info": {
   "codemirror_mode": "r",
   "file_extension": ".r",
   "mimetype": "text/x-r-source",
   "name": "R",
   "pygments_lexer": "r",
   "version": "4.0.3"
  }
 },
 "nbformat": 4,
 "nbformat_minor": 5
}
